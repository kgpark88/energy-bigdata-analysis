{
  "cells": [
    {
      "cell_type": "markdown",
      "metadata": {
        "id": "view-in-github",
        "colab_type": "text"
      },
      "source": [
        "<a href=\"https://colab.research.google.com/github/kgpark88/energy-bigdata-analysis/blob/main/energy_data_interactive_browser.ipynb\" target=\"_parent\"><img src=\"https://colab.research.google.com/assets/colab-badge.svg\" alt=\"Open In Colab\"/></a>"
      ]
    },
    {
      "cell_type": "markdown",
      "metadata": {
        "id": "vpe7fsMA-3vT"
      },
      "source": [
        "# Interactive Energy Browser\n",
        "- Source : https://www.kaggle.com/code/juanmah/ashrae-interactive-building-energy-browser\n",
        "- Jupyter Nodebook 에서 실행\n",
        "\n",
        "The aim of this notebook is to view the data of a single building, faceted by the four energy aspects: electricity, hot water, chilled water and steam. Also the number of zeros and NaNs are displayed in a table under the graph.\n",
        "\n",
        "First select the desired building in the input 'Building', and then click on the '🔄Refresh' button\n",
        "\n",
        "**It seems to work only in edit mode**. I leave here an screenshot:\n",
        "\n",
        "![](https://www.googleapis.com/download/storage/v1/b/kaggle-user-content/o/inbox%2F645169%2F852d4ff6ea0032a393c18172c98ca8eb%2FCaptura%20de%20pantalla%20de%202019-11-01%2019-04-13.png?generation=1572631492191478&alt=media)"
      ]
    },
    {
      "cell_type": "code",
      "execution_count": null,
      "metadata": {
        "_cell_guid": "79c7e3d0-c299-4dcb-8224-4455121ee9b0",
        "_kg_hide-input": true,
        "_uuid": "d629ff2d2480ee46fbb7e2d37f6b5fab8052498a",
        "id": "Kgx4IF8V-3vW"
      },
      "outputs": [],
      "source": [
        "import numpy as np\n",
        "import pandas as pd\n",
        "import pickle\n",
        "\n",
        "import plotly.graph_objects as go\n",
        "from ipywidgets import widgets"
      ]
    },
    {
      "cell_type": "code",
      "execution_count": null,
      "metadata": {
        "_kg_hide-input": true,
        "id": "Mh0gnvys-3vX"
      },
      "outputs": [],
      "source": [
        "# pandads 버전이 같아야 함 \n",
        "# !pip freeze\n",
        "# !pip install pandas==1.2.3\n",
        "with open('X_train.pickle', 'rb') as f:\n",
        "    X_train = pickle.load(f)"
      ]
    },
    {
      "cell_type": "code",
      "execution_count": null,
      "metadata": {
        "_kg_hide-input": true,
        "id": "U88E2Tob-3vY",
        "outputId": "0d9e4cbc-4c7a-4e66-f6e1-6f8626d6dce8",
        "colab": {
          "referenced_widgets": [
            "3afbc28b51ab45e09f6cda65466ea60a"
          ]
        }
      },
      "outputs": [
        {
          "data": {
            "application/vnd.jupyter.widget-view+json": {
              "model_id": "3afbc28b51ab45e09f6cda65466ea60a",
              "version_major": 2,
              "version_minor": 0
            },
            "text/plain": [
              "VBox(children=(HBox(children=(IntText(value=1249, description='Building:'), Button(button_style='info', descri…"
            ]
          },
          "metadata": {},
          "output_type": "display_data"
        }
      ],
      "source": [
        "def get_data(building_id, meter, xy):\n",
        "    return X_train[(X_train['building_id']==str(building_id)) &\\\n",
        "                   (X_train['meter']==meter)][xy]\n",
        "\n",
        "building = widgets.IntText(\n",
        "    value=1249,\n",
        "    min=1,\n",
        "    max=1448,\n",
        "    step=1,\n",
        "    description='Building:',\n",
        "    disabled=False\n",
        ")\n",
        "\n",
        "refresh = widgets.Button(\n",
        "    description='Refresh',\n",
        "    disabled=False,\n",
        "    button_style='info',\n",
        "    tooltip='Refresh',\n",
        "    icon='refresh'\n",
        ")\n",
        "\n",
        "results = widgets.HTML(\n",
        "    value=''\n",
        ")\n",
        "\n",
        "electricity = go.Scatter(x=[],\n",
        "                         y=[],\n",
        "                         name='Electricity')\n",
        "\n",
        "hotwater = go.Scatter(x=[],\n",
        "                      y=[],\n",
        "                      name='Hot water')\n",
        "\n",
        "chilledwater = go.Scatter(x=[],\n",
        "                          y=[],\n",
        "                          name='Chilled water')\n",
        "\n",
        "steam = go.Scatter(x=[],\n",
        "                   y=[],\n",
        "                   name='Steam')\n",
        "\n",
        "g = go.FigureWidget(data=[electricity, hotwater, chilledwater, steam],\n",
        "                    layout=go.Layout(\n",
        "                        title=dict(\n",
        "                            text=f'Energy for building {building.value}'\n",
        "                        ),\n",
        "                        xaxis=go.layout.XAxis(\n",
        "                                rangeselector=dict(\n",
        "                                    buttons=list([\n",
        "                                        dict(count=7,\n",
        "                                             label=\"1w\",\n",
        "                                             step=\"day\",\n",
        "                                             stepmode=\"backward\"),\n",
        "                                        dict(count=1,\n",
        "                                             label=\"1m\",\n",
        "                                             step=\"month\",\n",
        "                                             stepmode=\"backward\"),\n",
        "                                        dict(count=3,\n",
        "                                             label=\"3m\",\n",
        "                                             step=\"month\",\n",
        "                                             stepmode=\"backward\"),\n",
        "                                        dict(count=6,\n",
        "                                             label=\"6m\",\n",
        "                                             step=\"month\",\n",
        "                                             stepmode=\"backward\"),\n",
        "                                        dict(step=\"all\")\n",
        "                                    ])\n",
        "                                ),\n",
        "                                rangeslider=dict(\n",
        "                                    visible=True\n",
        "                                ),\n",
        "                                type=\"date\"\n",
        "                            ),\n",
        "                        height=800\n",
        "                    )\n",
        "                   )\n",
        "\n",
        "def validate():\n",
        "    if 0 <= building.value <= 1448:\n",
        "        return True\n",
        "    else:\n",
        "        return False\n",
        "\n",
        "    \n",
        "def response(change):\n",
        "    if validate():\n",
        "        \n",
        "        refresh.button_style = 'warning'\n",
        "        electricity_ts = get_data(building.value, 'electricity', 'timestamp')\n",
        "        electricity_reading = get_data(building.value, 'electricity', 'meter_reading')\n",
        "        hotwater_ts = get_data(building.value, 'hotwater', 'timestamp')\n",
        "        hotwater_reading = get_data(building.value, 'hotwater', 'meter_reading')\n",
        "        chilledwater_ts = get_data(building.value, 'chilledwater', 'timestamp')\n",
        "        chilledwater_reading = get_data(building.value, 'chilledwater', 'meter_reading')\n",
        "        steam_ts = get_data(building.value, 'steam', 'timestamp')\n",
        "        steam_reading = get_data(building.value, 'steam', 'meter_reading')\n",
        "        with g.batch_update():\n",
        "            g.layout.title.text = f'Energy for building {building.value}'\n",
        "            g.data[0].x = electricity_ts\n",
        "            g.data[0].y = electricity_reading\n",
        "            g.data[1].x = hotwater_ts\n",
        "            g.data[1].y = hotwater_reading\n",
        "            g.data[2].x = chilledwater_ts\n",
        "            g.data[2].y = chilledwater_reading\n",
        "            g.data[3].x = steam_ts\n",
        "            g.data[3].y = steam_reading\n",
        "        zero_nan = pd.DataFrame(columns=['Energy aspect', 'Zero count', 'NaN count'])\n",
        "        if len(electricity_ts) > 0:\n",
        "            zero_nan = zero_nan.append({'Energy aspect': 'Electricity',\n",
        "                                        'Zero count': (electricity_reading == 0).sum(),\n",
        "                                        'NaN count': 366 * 24 - len(electricity_ts)},\n",
        "                                       ignore_index=True)\n",
        "        if len(hotwater_ts) > 0:\n",
        "            zero_nan = zero_nan.append({'Energy aspect': 'Hot water',\n",
        "                                        'Zero count': (hotwater_reading == 0).sum(),\n",
        "                                        'NaN count': 366 * 24 - len(hotwater_ts)},\n",
        "                                       ignore_index=True)\n",
        "        if len(chilledwater_ts) > 0:\n",
        "            zero_nan = zero_nan.append({'Energy aspect': 'Chilled water ',\n",
        "                                        'Zero count': (chilledwater_reading == 0).sum(),\n",
        "                                        'NaN count': 366 * 24 - len(chilledwater_ts)},\n",
        "                                       ignore_index=True)\n",
        "        if len(steam_ts) > 0:\n",
        "            zero_nan = zero_nan.append({'Energy aspect': 'Steam ',\n",
        "                                        'Zero count': (steam_reading == 0).sum(),\n",
        "                                        'NaN count': 366 * 24 - len(steam_ts)},\n",
        "                                       ignore_index=True)\n",
        "        results.value = f\"{zero_nan.style.hide_index().set_table_attributes('class=''table''').render()}\"            \n",
        "        refresh.button_style = 'info'\n",
        "\n",
        "building.observe(response, names='value')\n",
        "refresh.observe(response, names='value')\n",
        "\n",
        "response('refresh')\n",
        "\n",
        "control = widgets.HBox([building, refresh])\n",
        "widgets.VBox([control,\n",
        "             g,\n",
        "             results])"
      ]
    },
    {
      "cell_type": "markdown",
      "metadata": {
        "id": "3lqqRQJ2-3vc"
      },
      "source": [
        "I hope you liked this notebook, and I recommend you to visit and vote my other ASHRAE notebooks:\n",
        "\n",
        "- [ASHRAE - Outliers](https://www.kaggle.com/juanmah/ashrae-outliers)\n",
        "- [ASHRAE - Zeros](https://www.kaggle.com/juanmah/ashrae-zeros)\n",
        "- [ASHRAE - NaNs & gaps](https://www.kaggle.com/juanmah/ashrae-nans-gaps)"
      ]
    }
  ],
  "metadata": {
    "kernelspec": {
      "display_name": "Python 3",
      "language": "python",
      "name": "python3"
    },
    "language_info": {
      "codemirror_mode": {
        "name": "ipython",
        "version": 3
      },
      "file_extension": ".py",
      "mimetype": "text/x-python",
      "name": "python",
      "nbconvert_exporter": "python",
      "pygments_lexer": "ipython3",
      "version": "3.8.7"
    },
    "colab": {
      "name": "energy_data_interactive_browser.ipynb",
      "provenance": [],
      "include_colab_link": true
    }
  },
  "nbformat": 4,
  "nbformat_minor": 0
}