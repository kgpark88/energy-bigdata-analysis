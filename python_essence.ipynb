{
  "cells": [
    {
      "cell_type": "markdown",
      "metadata": {
        "id": "view-in-github",
        "colab_type": "text"
      },
      "source": [
        "<a href=\"https://colab.research.google.com/github/kgpark88/energy-bigdata-analysis/blob/main/python_essence.ipynb\" target=\"_parent\"><img src=\"https://colab.research.google.com/assets/colab-badge.svg\" alt=\"Open In Colab\"/></a>"
      ]
    },
    {
      "cell_type": "markdown",
      "metadata": {
        "id": "qob5Rv66I5fw"
      },
      "source": [
        "# 파이썬 기본\n",
        "____\n",
        "### 1. 들여쓰기(Indent)\n",
        "### 2. 변수와 연산 \n",
        "\n",
        "### 3. 데이터 타입\n",
        "- 숫자(Number)  \n",
        "- 문자열(String)  \n",
        "- 리스트(List)  \n",
        "- 딕셔너리(Dictionary)  \n",
        "- 불린(Boolean)  \n",
        "- 튜플(Tuple)   \n",
        "- 셋(Set)    \n",
        "\n",
        "### 4. 비교 연산자  \n",
        "- 비교 연산자  \n",
        "- 논리 연산자        \n",
        "\n",
        "### 5. 제어문\n",
        "- for 루프  \n",
        "- while 루프  \n",
        "- range()   \n",
        "\n",
        "### 6. 컴프리헨션(Comprehension)    \n",
        "\n",
        "### 7. 함수(functions)    \n",
        "- 함수\n",
        "- 람다 식(lambda expressions)  \n",
        "- 맵과 필터(map and filter)  \n",
        "- 내장 메서드(methods)    \n",
        "\n",
        "### 8. 클래스    \n",
        "\n",
        "### 9. 파일 핸들링  "
      ]
    },
    {
      "cell_type": "markdown",
      "metadata": {
        "id": "kEgBg2JGI5f1"
      },
      "source": [
        "## 1. 들여쓰기(Indent)\n",
        "코딩을 할 때, 가독성을 위해 들여쓰기(Indent)를 하며,  인덴트(Indent) 사용하여 영역을 지정합니다.(강제사항)  \n",
        "코드 블럭을 구성하기 위해 if, for, def, class 등 을 작성하면서 나오는 : (colone) 다음줄은 반드시 들여쓰기를 해야합니다.   \n",
        "인덴트(Inden) 방법은 2칸, 4칸, 탭(Tab) 등 여러가지 방식이 있으며, Space를 사용한 Tab Size 4를 인덴트로 사용하세요."
      ]
    },
    {
      "cell_type": "markdown",
      "metadata": {
        "id": "valssifxI5f1"
      },
      "source": [
        "### <span style=\"color:blue\">실습 : 들여쓰기(Indent)를 하세요.</span>"
      ]
    },
    {
      "cell_type": "code",
      "execution_count": 47,
      "metadata": {
        "colab": {
          "base_uri": "https://localhost:8080/"
        },
        "id": "BdiePoErI5f1",
        "outputId": "42ebdf20-d44f-4b49-fa49-f0fbeb7f3bda"
      },
      "outputs": [
        {
          "output_type": "stream",
          "name": "stdout",
          "text": [
            "0\n",
            "1\n",
            "2\n",
            "3\n",
            "4\n",
            "5\n",
            "6\n",
            "7\n",
            "8\n",
            "9\n"
          ]
        }
      ],
      "source": [
        "for i in range(10):\n",
        "    print(i)"
      ]
    },
    {
      "cell_type": "markdown",
      "metadata": {
        "id": "C3_y__YpI5f2"
      },
      "source": [
        "## 2. 변수와 연산\n",
        "\n",
        "변수(Variable)는 숫자나 문자열 등의 값을 담아두는 상자라고 생각하면 된다."
      ]
    },
    {
      "cell_type": "markdown",
      "metadata": {
        "id": "k7d2fyWfI5f3"
      },
      "source": [
        "### 변수 할당(Variable Assignment)"
      ]
    },
    {
      "cell_type": "code",
      "execution_count": 48,
      "metadata": {
        "id": "73ttup4FI5f3"
      },
      "outputs": [],
      "source": [
        "# 변수를 정의하고 값을 할당\n",
        "x = 2\n",
        "y = 3\n",
        "z = x + y"
      ]
    },
    {
      "cell_type": "code",
      "execution_count": 49,
      "metadata": {
        "id": "G9fqpVItI5f3"
      },
      "outputs": [],
      "source": [
        "msg = 'Welcome to Python'"
      ]
    },
    {
      "cell_type": "markdown",
      "metadata": {
        "id": "iA9mUqb0I5f3"
      },
      "source": [
        "### 변수의 값을 출력"
      ]
    },
    {
      "cell_type": "code",
      "execution_count": 50,
      "metadata": {
        "colab": {
          "base_uri": "https://localhost:8080/"
        },
        "id": "IrfR36UjI5f4",
        "outputId": "def523bc-971f-4695-d03a-cd51a1fc866a"
      },
      "outputs": [
        {
          "output_type": "stream",
          "name": "stdout",
          "text": [
            "2\n"
          ]
        }
      ],
      "source": [
        "# 변수의 값을 출력\n",
        "print(x)"
      ]
    },
    {
      "cell_type": "code",
      "execution_count": 51,
      "metadata": {
        "colab": {
          "base_uri": "https://localhost:8080/"
        },
        "id": "3shLMCejI5f4",
        "outputId": "35f74d62-f2d1-4ac7-eb43-b4c98227f066"
      },
      "outputs": [
        {
          "output_type": "execute_result",
          "data": {
            "text/plain": [
              "2"
            ]
          },
          "metadata": {},
          "execution_count": 51
        }
      ],
      "source": [
        "x"
      ]
    },
    {
      "cell_type": "code",
      "execution_count": 52,
      "metadata": {
        "colab": {
          "base_uri": "https://localhost:8080/"
        },
        "id": "MeWW1inMI5f4",
        "outputId": "1c1f4abb-1404-4b18-b74f-6ae6658c84e4"
      },
      "outputs": [
        {
          "output_type": "stream",
          "name": "stdout",
          "text": [
            "Welcome to Python\n"
          ]
        }
      ],
      "source": [
        "print(msg)"
      ]
    },
    {
      "cell_type": "markdown",
      "metadata": {
        "id": "V_5yFmd4I5f5"
      },
      "source": [
        "### 변수의 데이터 타입 확인"
      ]
    },
    {
      "cell_type": "code",
      "execution_count": 53,
      "metadata": {
        "colab": {
          "base_uri": "https://localhost:8080/"
        },
        "id": "GxBXCQL7I5f5",
        "outputId": "28ff234d-7fea-40ec-87d3-ac69a8917ab2"
      },
      "outputs": [
        {
          "output_type": "stream",
          "name": "stdout",
          "text": [
            "<class 'int'>\n",
            "<class 'str'>\n"
          ]
        }
      ],
      "source": [
        "print(type(x))\n",
        "print(type(msg))"
      ]
    },
    {
      "cell_type": "markdown",
      "metadata": {
        "id": "WMPLPw1vI5f5"
      },
      "source": [
        "## 3. 데이터 타입\n",
        "\n",
        "### 숫자(Number)"
      ]
    },
    {
      "cell_type": "code",
      "execution_count": 54,
      "metadata": {
        "colab": {
          "base_uri": "https://localhost:8080/"
        },
        "id": "-CGaL4vaI5f5",
        "outputId": "efc77c85-d199-467a-9f90-d26fbea13f02"
      },
      "outputs": [
        {
          "output_type": "execute_result",
          "data": {
            "text/plain": [
              "2"
            ]
          },
          "metadata": {},
          "execution_count": 54
        }
      ],
      "source": [
        "1 + 1"
      ]
    },
    {
      "cell_type": "code",
      "execution_count": 55,
      "metadata": {
        "colab": {
          "base_uri": "https://localhost:8080/"
        },
        "id": "EG6zUZYWI5f6",
        "outputId": "13b5876e-06ce-4f1c-8001-e8db5d61e6da"
      },
      "outputs": [
        {
          "output_type": "execute_result",
          "data": {
            "text/plain": [
              "3"
            ]
          },
          "metadata": {},
          "execution_count": 55
        }
      ],
      "source": [
        "1 * 3"
      ]
    },
    {
      "cell_type": "code",
      "execution_count": 56,
      "metadata": {
        "colab": {
          "base_uri": "https://localhost:8080/"
        },
        "id": "y9m4Eh-FI5f6",
        "outputId": "a1f1c4e4-5d12-42ce-c9c5-0966e8f78991"
      },
      "outputs": [
        {
          "output_type": "execute_result",
          "data": {
            "text/plain": [
              "0.5"
            ]
          },
          "metadata": {},
          "execution_count": 56
        }
      ],
      "source": [
        "1 / 2"
      ]
    },
    {
      "cell_type": "code",
      "execution_count": 57,
      "metadata": {
        "colab": {
          "base_uri": "https://localhost:8080/"
        },
        "id": "iM7vhL8OI5f6",
        "outputId": "73a15427-6924-437c-a7f6-e4b85dfc8abe"
      },
      "outputs": [
        {
          "output_type": "execute_result",
          "data": {
            "text/plain": [
              "16"
            ]
          },
          "metadata": {},
          "execution_count": 57
        }
      ],
      "source": [
        "2 ** 4"
      ]
    },
    {
      "cell_type": "code",
      "execution_count": 58,
      "metadata": {
        "colab": {
          "base_uri": "https://localhost:8080/"
        },
        "id": "DLPDQ4xyI5f6",
        "outputId": "b1e1db95-5ded-466a-a893-d135741e3630"
      },
      "outputs": [
        {
          "output_type": "execute_result",
          "data": {
            "text/plain": [
              "0"
            ]
          },
          "metadata": {},
          "execution_count": 58
        }
      ],
      "source": [
        "4 % 2"
      ]
    },
    {
      "cell_type": "code",
      "execution_count": 59,
      "metadata": {
        "colab": {
          "base_uri": "https://localhost:8080/"
        },
        "id": "MJjYVp_DI5f6",
        "outputId": "d7bbca8d-a6c7-4769-b86a-74ee9ba8d93d"
      },
      "outputs": [
        {
          "output_type": "execute_result",
          "data": {
            "text/plain": [
              "1"
            ]
          },
          "metadata": {},
          "execution_count": 59
        }
      ],
      "source": [
        "5 % 2"
      ]
    },
    {
      "cell_type": "code",
      "execution_count": 60,
      "metadata": {
        "colab": {
          "base_uri": "https://localhost:8080/"
        },
        "id": "45zbio7SI5f7",
        "outputId": "8e26cb6f-983f-4279-afd6-8290652a8725"
      },
      "outputs": [
        {
          "output_type": "execute_result",
          "data": {
            "text/plain": [
              "50"
            ]
          },
          "metadata": {},
          "execution_count": 60
        }
      ],
      "source": [
        "(2 + 3) * (5 + 5)"
      ]
    },
    {
      "cell_type": "markdown",
      "metadata": {
        "id": "z6bNgLEMI5f7"
      },
      "source": [
        "### 문자열(String)"
      ]
    },
    {
      "cell_type": "code",
      "execution_count": 61,
      "metadata": {
        "colab": {
          "base_uri": "https://localhost:8080/",
          "height": 35
        },
        "id": "f9wlygCiI5f7",
        "outputId": "6de9a9fb-671c-438f-dcad-b503ec826824"
      },
      "outputs": [
        {
          "output_type": "execute_result",
          "data": {
            "text/plain": [
              "'single quotes'"
            ],
            "application/vnd.google.colaboratory.intrinsic+json": {
              "type": "string"
            }
          },
          "metadata": {},
          "execution_count": 61
        }
      ],
      "source": [
        "'single quotes'"
      ]
    },
    {
      "cell_type": "code",
      "execution_count": 62,
      "metadata": {
        "colab": {
          "base_uri": "https://localhost:8080/",
          "height": 35
        },
        "id": "3YP8CZltI5f7",
        "outputId": "5a4b1a34-2c55-4a37-f726-6707c5555e0c"
      },
      "outputs": [
        {
          "output_type": "execute_result",
          "data": {
            "text/plain": [
              "'double quotes'"
            ],
            "application/vnd.google.colaboratory.intrinsic+json": {
              "type": "string"
            }
          },
          "metadata": {},
          "execution_count": 62
        }
      ],
      "source": [
        "\"double quotes\""
      ]
    },
    {
      "cell_type": "markdown",
      "metadata": {
        "id": "dea9RrWZI5f8"
      },
      "source": [
        "### 출력(Printing)"
      ]
    },
    {
      "cell_type": "code",
      "execution_count": 63,
      "metadata": {
        "id": "rA9mrUKFI5f8"
      },
      "outputs": [],
      "source": [
        "x = 'hello'"
      ]
    },
    {
      "cell_type": "code",
      "execution_count": 64,
      "metadata": {
        "colab": {
          "base_uri": "https://localhost:8080/"
        },
        "id": "jyLNIjSZI5f8",
        "outputId": "794f707c-bfb9-44d5-915d-1091674b3458"
      },
      "outputs": [
        {
          "output_type": "stream",
          "name": "stdout",
          "text": [
            "hello\n"
          ]
        }
      ],
      "source": [
        "print(x)"
      ]
    },
    {
      "cell_type": "code",
      "execution_count": 65,
      "metadata": {
        "id": "zeu6qGKsI5f8"
      },
      "outputs": [],
      "source": [
        "num = 12\n",
        "name = 'Danny'"
      ]
    },
    {
      "cell_type": "code",
      "execution_count": 66,
      "metadata": {
        "colab": {
          "base_uri": "https://localhost:8080/"
        },
        "id": "U_zrY5AwJuzU",
        "outputId": "103d57a0-bf03-47c1-9fb4-f2b7933f78bf"
      },
      "outputs": [
        {
          "output_type": "stream",
          "name": "stdout",
          "text": [
            "My number is 12\n"
          ]
        }
      ],
      "source": [
        "print('My number is', num)"
      ]
    },
    {
      "cell_type": "code",
      "execution_count": 67,
      "metadata": {
        "colab": {
          "base_uri": "https://localhost:8080/"
        },
        "id": "Su1SWW-KJzip",
        "outputId": "6d81a07e-48ea-4ea4-d820-a8a503730ad0"
      },
      "outputs": [
        {
          "output_type": "stream",
          "name": "stdout",
          "text": [
            "My number is %d 12\n"
          ]
        }
      ],
      "source": [
        "print('My number is %d', num)"
      ]
    },
    {
      "cell_type": "code",
      "execution_count": 68,
      "metadata": {
        "colab": {
          "base_uri": "https://localhost:8080/"
        },
        "id": "hCjD3EexI5f9",
        "outputId": "b950a600-2906-4fd9-e0ac-ef008665dedf"
      },
      "outputs": [
        {
          "output_type": "stream",
          "name": "stdout",
          "text": [
            "My number is: 12, and my name is: Danny\n"
          ]
        }
      ],
      "source": [
        "print('My number is: {}, and my name is: {}'.format(num,name))"
      ]
    },
    {
      "cell_type": "code",
      "execution_count": 69,
      "metadata": {
        "colab": {
          "base_uri": "https://localhost:8080/"
        },
        "id": "OfvX-X63JlH4",
        "outputId": "7fab5b42-eb45-46e4-eea6-4d443519d767"
      },
      "outputs": [
        {
          "output_type": "stream",
          "name": "stdout",
          "text": [
            "My number is: 12, and my name is: Danny\n"
          ]
        }
      ],
      "source": [
        "# 권장\n",
        "print(f'My number is: {num}, and my name is: {name}')"
      ]
    },
    {
      "cell_type": "markdown",
      "metadata": {
        "id": "Uv0BPjdMI5f9"
      },
      "source": [
        "### 리스트(List)\n",
        "어떤 데이터 타입이라도 요소를 가질 수 있으면 수정이 가능한 가변형이다."
      ]
    },
    {
      "cell_type": "code",
      "execution_count": 70,
      "metadata": {
        "colab": {
          "base_uri": "https://localhost:8080/"
        },
        "id": "LcpPjXJoI5f9",
        "outputId": "af37376e-e7bc-46fd-8fd1-6f05dedf77ed"
      },
      "outputs": [
        {
          "output_type": "execute_result",
          "data": {
            "text/plain": [
              "[1, 2, 3]"
            ]
          },
          "metadata": {},
          "execution_count": 70
        }
      ],
      "source": [
        "my_list = [1, 2, 3]\n",
        "my_list"
      ]
    },
    {
      "cell_type": "code",
      "execution_count": 71,
      "metadata": {
        "colab": {
          "base_uri": "https://localhost:8080/"
        },
        "id": "Jy-DLO25I5f9",
        "outputId": "2b4904f1-a506-45b3-f12d-19cacc48edc4"
      },
      "outputs": [
        {
          "output_type": "execute_result",
          "data": {
            "text/plain": [
              "['hi', 1, [1, 2]]"
            ]
          },
          "metadata": {},
          "execution_count": 71
        }
      ],
      "source": [
        "my_list = ['hi', 1, [1, 2]]\n",
        "my_list"
      ]
    },
    {
      "cell_type": "code",
      "execution_count": 72,
      "metadata": {
        "id": "sEG9I1p-I5f9"
      },
      "outputs": [],
      "source": [
        "my_list = ['a', 'b', 'c']"
      ]
    },
    {
      "cell_type": "code",
      "execution_count": 73,
      "metadata": {
        "id": "zmi0w_Y2I5f-"
      },
      "outputs": [],
      "source": [
        "my_list.append('d')"
      ]
    },
    {
      "cell_type": "code",
      "execution_count": 74,
      "metadata": {
        "colab": {
          "base_uri": "https://localhost:8080/"
        },
        "id": "xNhDQZ6UI5f-",
        "outputId": "c43c61ad-231a-4fca-ac94-ca16173c5b80"
      },
      "outputs": [
        {
          "output_type": "execute_result",
          "data": {
            "text/plain": [
              "['a', 'b', 'c', 'd']"
            ]
          },
          "metadata": {},
          "execution_count": 74
        }
      ],
      "source": [
        "my_list"
      ]
    },
    {
      "cell_type": "code",
      "execution_count": 75,
      "metadata": {
        "colab": {
          "base_uri": "https://localhost:8080/",
          "height": 35
        },
        "id": "c02afWZyI5f-",
        "outputId": "d7cced51-a0ea-4ed2-9679-5a62286d3ba4"
      },
      "outputs": [
        {
          "output_type": "execute_result",
          "data": {
            "text/plain": [
              "'a'"
            ],
            "application/vnd.google.colaboratory.intrinsic+json": {
              "type": "string"
            }
          },
          "metadata": {},
          "execution_count": 75
        }
      ],
      "source": [
        "my_list[0]"
      ]
    },
    {
      "cell_type": "code",
      "execution_count": 76,
      "metadata": {
        "colab": {
          "base_uri": "https://localhost:8080/",
          "height": 35
        },
        "id": "DmMwMnd6I5f-",
        "outputId": "08450b10-7047-42a7-f728-4f1e577a287f"
      },
      "outputs": [
        {
          "output_type": "execute_result",
          "data": {
            "text/plain": [
              "'b'"
            ],
            "application/vnd.google.colaboratory.intrinsic+json": {
              "type": "string"
            }
          },
          "metadata": {},
          "execution_count": 76
        }
      ],
      "source": [
        "my_list[1]"
      ]
    },
    {
      "cell_type": "code",
      "execution_count": 77,
      "metadata": {
        "colab": {
          "base_uri": "https://localhost:8080/"
        },
        "id": "JYm-u9IaI5f-",
        "outputId": "2753ba10-0577-4625-f033-0970b7c80f83"
      },
      "outputs": [
        {
          "output_type": "execute_result",
          "data": {
            "text/plain": [
              "['b', 'c', 'd']"
            ]
          },
          "metadata": {},
          "execution_count": 77
        }
      ],
      "source": [
        "my_list[1:]"
      ]
    },
    {
      "cell_type": "code",
      "execution_count": 78,
      "metadata": {
        "colab": {
          "base_uri": "https://localhost:8080/"
        },
        "id": "VS7p6wpMI5f-",
        "outputId": "3d7d0828-32f0-43c1-b4e3-176aa4ec4afa"
      },
      "outputs": [
        {
          "output_type": "execute_result",
          "data": {
            "text/plain": [
              "['a']"
            ]
          },
          "metadata": {},
          "execution_count": 78
        }
      ],
      "source": [
        "my_list[:1]"
      ]
    },
    {
      "cell_type": "code",
      "execution_count": 79,
      "metadata": {
        "id": "JjK2U6jAI5f_"
      },
      "outputs": [],
      "source": [
        "my_list[0] = 'NEW'"
      ]
    },
    {
      "cell_type": "code",
      "execution_count": 80,
      "metadata": {
        "colab": {
          "base_uri": "https://localhost:8080/"
        },
        "id": "VscKGwOGI5f_",
        "outputId": "ab8e1311-9125-4bf3-dfc2-855a46aa8dcc"
      },
      "outputs": [
        {
          "output_type": "execute_result",
          "data": {
            "text/plain": [
              "['NEW', 'b', 'c', 'd']"
            ]
          },
          "metadata": {},
          "execution_count": 80
        }
      ],
      "source": [
        "my_list"
      ]
    },
    {
      "cell_type": "code",
      "execution_count": 81,
      "metadata": {
        "id": "uILyO4VhI5f_"
      },
      "outputs": [],
      "source": [
        "nest = [1,2,3,[4,5,['target']]]"
      ]
    },
    {
      "cell_type": "code",
      "execution_count": 82,
      "metadata": {
        "colab": {
          "base_uri": "https://localhost:8080/"
        },
        "id": "axbi4HJKI5f_",
        "outputId": "0785014d-e86c-4f02-a27e-435f6e9bab48"
      },
      "outputs": [
        {
          "output_type": "execute_result",
          "data": {
            "text/plain": [
              "[4, 5, ['target']]"
            ]
          },
          "metadata": {},
          "execution_count": 82
        }
      ],
      "source": [
        "nest[3]"
      ]
    },
    {
      "cell_type": "code",
      "execution_count": 83,
      "metadata": {
        "colab": {
          "base_uri": "https://localhost:8080/"
        },
        "id": "HuGfWvs0I5f_",
        "outputId": "bc9e459e-044c-4bd3-8544-111d2f9b8f49"
      },
      "outputs": [
        {
          "output_type": "execute_result",
          "data": {
            "text/plain": [
              "['target']"
            ]
          },
          "metadata": {},
          "execution_count": 83
        }
      ],
      "source": [
        "nest[3][2]"
      ]
    },
    {
      "cell_type": "code",
      "execution_count": 84,
      "metadata": {
        "colab": {
          "base_uri": "https://localhost:8080/",
          "height": 35
        },
        "id": "pO8f4DMFI5gA",
        "outputId": "584af60a-f773-4f43-fc39-36422d684dee"
      },
      "outputs": [
        {
          "output_type": "execute_result",
          "data": {
            "text/plain": [
              "'target'"
            ],
            "application/vnd.google.colaboratory.intrinsic+json": {
              "type": "string"
            }
          },
          "metadata": {},
          "execution_count": 84
        }
      ],
      "source": [
        "nest[3][2][0]"
      ]
    },
    {
      "cell_type": "markdown",
      "metadata": {
        "id": "IPo94BssI5gA"
      },
      "source": [
        "### 딕셔너리(Dictionary)\n",
        "key-value 쌍을 요소로 갖는다. 수정이 가능한 가변형이다."
      ]
    },
    {
      "cell_type": "code",
      "execution_count": 85,
      "metadata": {
        "id": "8W-9mkmnI5gA"
      },
      "outputs": [],
      "source": [
        "d = {'key1':'item1','key2':'item2'}"
      ]
    },
    {
      "cell_type": "code",
      "execution_count": 86,
      "metadata": {
        "colab": {
          "base_uri": "https://localhost:8080/"
        },
        "id": "2zEENEcWI5gA",
        "outputId": "2fb32157-2e94-427a-89a7-02ed35613983"
      },
      "outputs": [
        {
          "output_type": "execute_result",
          "data": {
            "text/plain": [
              "{'key1': 'item1', 'key2': 'item2'}"
            ]
          },
          "metadata": {},
          "execution_count": 86
        }
      ],
      "source": [
        "d"
      ]
    },
    {
      "cell_type": "code",
      "execution_count": 87,
      "metadata": {
        "colab": {
          "base_uri": "https://localhost:8080/",
          "height": 35
        },
        "id": "P1kGT4B-I5gA",
        "outputId": "c732c4c6-80dd-4ed5-ac18-a4e6f4098bbe"
      },
      "outputs": [
        {
          "output_type": "execute_result",
          "data": {
            "text/plain": [
              "'item1'"
            ],
            "application/vnd.google.colaboratory.intrinsic+json": {
              "type": "string"
            }
          },
          "metadata": {},
          "execution_count": 87
        }
      ],
      "source": [
        "d['key1']"
      ]
    },
    {
      "cell_type": "markdown",
      "metadata": {
        "id": "tJSECFMYI5gA"
      },
      "source": [
        "### 불린(Boolean)"
      ]
    },
    {
      "cell_type": "code",
      "execution_count": 88,
      "metadata": {
        "colab": {
          "base_uri": "https://localhost:8080/"
        },
        "id": "4R8g2X-kI5gB",
        "outputId": "9e302163-977e-4ca8-bc7e-7998f7bd18e0"
      },
      "outputs": [
        {
          "output_type": "execute_result",
          "data": {
            "text/plain": [
              "True"
            ]
          },
          "metadata": {},
          "execution_count": 88
        }
      ],
      "source": [
        "True"
      ]
    },
    {
      "cell_type": "code",
      "execution_count": 89,
      "metadata": {
        "colab": {
          "base_uri": "https://localhost:8080/"
        },
        "id": "RZN9PKLaI5gB",
        "outputId": "72c70f27-8438-4b76-c7e7-3804b36f4ebe"
      },
      "outputs": [
        {
          "output_type": "execute_result",
          "data": {
            "text/plain": [
              "False"
            ]
          },
          "metadata": {},
          "execution_count": 89
        }
      ],
      "source": [
        "False"
      ]
    },
    {
      "cell_type": "markdown",
      "metadata": {
        "id": "m57JicXZI5gB"
      },
      "source": [
        "### 튜플(Tuple)\n",
        "리스트는 그 값의 생성, 삭제, 수정이 가능하지만 튜플은 그 값을 바꿀 수 없는 불변형이다."
      ]
    },
    {
      "cell_type": "code",
      "execution_count": 90,
      "metadata": {
        "id": "yMEBkWeXI5gB"
      },
      "outputs": [],
      "source": [
        "t = (1,2,3)"
      ]
    },
    {
      "cell_type": "code",
      "execution_count": 91,
      "metadata": {
        "colab": {
          "base_uri": "https://localhost:8080/"
        },
        "id": "uzHtuzbbI5gB",
        "outputId": "a89dae29-e16a-44af-b96c-23d05788318d"
      },
      "outputs": [
        {
          "output_type": "execute_result",
          "data": {
            "text/plain": [
              "1"
            ]
          },
          "metadata": {},
          "execution_count": 91
        }
      ],
      "source": [
        "t[0]"
      ]
    },
    {
      "cell_type": "code",
      "execution_count": 92,
      "metadata": {
        "id": "HsaACSnhI5gC"
      },
      "outputs": [],
      "source": [
        "# t[0] = 'NEW'"
      ]
    },
    {
      "cell_type": "markdown",
      "metadata": {
        "id": "V4-0S113I5gC"
      },
      "source": [
        "### 셋(Set)\n",
        "집합에 관련된 것을 쉽게 처리하기 위해 만든 자료형이다."
      ]
    },
    {
      "cell_type": "code",
      "execution_count": 93,
      "metadata": {
        "colab": {
          "base_uri": "https://localhost:8080/"
        },
        "id": "9hptgj3SI5gC",
        "outputId": "d1429298-fa15-4157-b01b-b223142f63f5"
      },
      "outputs": [
        {
          "output_type": "execute_result",
          "data": {
            "text/plain": [
              "{1, 2, 3}"
            ]
          },
          "metadata": {},
          "execution_count": 93
        }
      ],
      "source": [
        "s = {1,2,3}\n",
        "s"
      ]
    },
    {
      "cell_type": "code",
      "execution_count": 94,
      "metadata": {
        "colab": {
          "base_uri": "https://localhost:8080/"
        },
        "id": "XNmziimxI5gC",
        "outputId": "6f011ca7-792a-4b65-9333-42657e5195e4"
      },
      "outputs": [
        {
          "output_type": "execute_result",
          "data": {
            "text/plain": [
              "{1, 2, 3}"
            ]
          },
          "metadata": {},
          "execution_count": 94
        }
      ],
      "source": [
        "s = {1,2,3,1,2,1,2,3,3,3,3,2,2,2,1,1,2}\n",
        "s"
      ]
    },
    {
      "cell_type": "code",
      "execution_count": 95,
      "metadata": {
        "colab": {
          "base_uri": "https://localhost:8080/"
        },
        "id": "G85kFRaXI5gC",
        "outputId": "26b6209a-3c9e-47fd-8b64-52a16e34084f"
      },
      "outputs": [
        {
          "output_type": "execute_result",
          "data": {
            "text/plain": [
              "{1, 2, 3}"
            ]
          },
          "metadata": {},
          "execution_count": 95
        }
      ],
      "source": [
        "s = set([1,2,3])\n",
        "s"
      ]
    },
    {
      "cell_type": "markdown",
      "metadata": {
        "id": "1LYRVGOZI5gC"
      },
      "source": [
        "## 4. 연산자\n",
        "### 비교 연산자(Comparison Operator)"
      ]
    },
    {
      "cell_type": "code",
      "execution_count": 96,
      "metadata": {
        "colab": {
          "base_uri": "https://localhost:8080/"
        },
        "id": "dDzlFqUMI5gD",
        "outputId": "5206f99c-0021-4860-9375-d0e2e3c45098"
      },
      "outputs": [
        {
          "output_type": "execute_result",
          "data": {
            "text/plain": [
              "False"
            ]
          },
          "metadata": {},
          "execution_count": 96
        }
      ],
      "source": [
        "1 > 2"
      ]
    },
    {
      "cell_type": "code",
      "execution_count": 97,
      "metadata": {
        "colab": {
          "base_uri": "https://localhost:8080/"
        },
        "id": "CS97paO0I5gD",
        "outputId": "b2511739-f21e-4d29-ebfc-fd41baa14442"
      },
      "outputs": [
        {
          "output_type": "execute_result",
          "data": {
            "text/plain": [
              "True"
            ]
          },
          "metadata": {},
          "execution_count": 97
        }
      ],
      "source": [
        "1 < 2"
      ]
    },
    {
      "cell_type": "code",
      "execution_count": 98,
      "metadata": {
        "colab": {
          "base_uri": "https://localhost:8080/"
        },
        "id": "YKW2vu1KI5gD",
        "outputId": "c7b80d62-4846-4b74-d978-51b7d4d10f87"
      },
      "outputs": [
        {
          "output_type": "execute_result",
          "data": {
            "text/plain": [
              "True"
            ]
          },
          "metadata": {},
          "execution_count": 98
        }
      ],
      "source": [
        "1 >= 1"
      ]
    },
    {
      "cell_type": "code",
      "execution_count": 99,
      "metadata": {
        "colab": {
          "base_uri": "https://localhost:8080/"
        },
        "id": "EiNaiuz6I5gD",
        "outputId": "9ac8a232-1893-4065-84cf-e89a4d874d3b"
      },
      "outputs": [
        {
          "output_type": "execute_result",
          "data": {
            "text/plain": [
              "True"
            ]
          },
          "metadata": {},
          "execution_count": 99
        }
      ],
      "source": [
        "1 <= 4"
      ]
    },
    {
      "cell_type": "code",
      "execution_count": 100,
      "metadata": {
        "colab": {
          "base_uri": "https://localhost:8080/"
        },
        "id": "H2A3g-frI5gD",
        "outputId": "200abbc8-2fb6-4f17-edb7-ce9098377a0b"
      },
      "outputs": [
        {
          "output_type": "execute_result",
          "data": {
            "text/plain": [
              "True"
            ]
          },
          "metadata": {},
          "execution_count": 100
        }
      ],
      "source": [
        "1 == 1"
      ]
    },
    {
      "cell_type": "code",
      "execution_count": 101,
      "metadata": {
        "colab": {
          "base_uri": "https://localhost:8080/"
        },
        "id": "8My0qSrCI5gE",
        "outputId": "4f9274c8-d3b1-466f-cb14-c06cda26450c"
      },
      "outputs": [
        {
          "output_type": "execute_result",
          "data": {
            "text/plain": [
              "False"
            ]
          },
          "metadata": {},
          "execution_count": 101
        }
      ],
      "source": [
        "'hi' == 'bye'"
      ]
    },
    {
      "cell_type": "markdown",
      "metadata": {
        "id": "U8FKdioDI5gE"
      },
      "source": [
        "### 논리 연산자(Logic Operator)"
      ]
    },
    {
      "cell_type": "code",
      "execution_count": 102,
      "metadata": {
        "colab": {
          "base_uri": "https://localhost:8080/"
        },
        "id": "hR7ZdokRI5gE",
        "outputId": "9d5554d7-c177-4d75-a143-487218527bf7"
      },
      "outputs": [
        {
          "output_type": "execute_result",
          "data": {
            "text/plain": [
              "False"
            ]
          },
          "metadata": {},
          "execution_count": 102
        }
      ],
      "source": [
        "(1 > 2) and (2 < 3)"
      ]
    },
    {
      "cell_type": "code",
      "execution_count": 103,
      "metadata": {
        "colab": {
          "base_uri": "https://localhost:8080/"
        },
        "id": "i-XjKXq_I5gE",
        "outputId": "ce9130dc-6921-459e-a554-5091a7c16d69"
      },
      "outputs": [
        {
          "output_type": "execute_result",
          "data": {
            "text/plain": [
              "True"
            ]
          },
          "metadata": {},
          "execution_count": 103
        }
      ],
      "source": [
        "(1 > 2) or (2 < 3)"
      ]
    },
    {
      "cell_type": "code",
      "execution_count": 104,
      "metadata": {
        "colab": {
          "base_uri": "https://localhost:8080/"
        },
        "id": "O5LzkWmqI5gE",
        "outputId": "697e73ae-a886-4c46-c619-81693cb95975"
      },
      "outputs": [
        {
          "output_type": "execute_result",
          "data": {
            "text/plain": [
              "True"
            ]
          },
          "metadata": {},
          "execution_count": 104
        }
      ],
      "source": [
        "(1 == 2) or (2 == 3) or (4 == 4)"
      ]
    },
    {
      "cell_type": "markdown",
      "metadata": {
        "id": "pQgqhAy2I5gE"
      },
      "source": [
        "## 5. 제어문\n",
        "### if,elif, else 제어문(Statement)"
      ]
    },
    {
      "cell_type": "code",
      "execution_count": 105,
      "metadata": {
        "colab": {
          "base_uri": "https://localhost:8080/"
        },
        "id": "pxUgwKODI5gF",
        "outputId": "6515a290-88c0-43f7-b8a8-8c03bf8b6b90"
      },
      "outputs": [
        {
          "output_type": "stream",
          "name": "stdout",
          "text": [
            "Yep!\n"
          ]
        }
      ],
      "source": [
        "if 1 < 2:\n",
        "    print('Yep!')"
      ]
    },
    {
      "cell_type": "code",
      "execution_count": 106,
      "metadata": {
        "colab": {
          "base_uri": "https://localhost:8080/"
        },
        "id": "doJBuhHNI5gF",
        "outputId": "9028a839-eabd-4a0e-d348-eefafe78fece"
      },
      "outputs": [
        {
          "output_type": "stream",
          "name": "stdout",
          "text": [
            "yep!\n"
          ]
        }
      ],
      "source": [
        "if 1 < 2:\n",
        "    print('yep!')"
      ]
    },
    {
      "cell_type": "code",
      "execution_count": 107,
      "metadata": {
        "colab": {
          "base_uri": "https://localhost:8080/"
        },
        "id": "_wIueP5nI5gF",
        "outputId": "a89dcb51-635e-4d87-eedb-1329e82a750f"
      },
      "outputs": [
        {
          "output_type": "stream",
          "name": "stdout",
          "text": [
            "first\n"
          ]
        }
      ],
      "source": [
        "if 1 < 2:\n",
        "    print('first')\n",
        "else:\n",
        "    print('last')"
      ]
    },
    {
      "cell_type": "code",
      "execution_count": 108,
      "metadata": {
        "colab": {
          "base_uri": "https://localhost:8080/"
        },
        "id": "XYyfUFMRI5gF",
        "outputId": "28b3f9b5-d95c-4c7b-d162-d7b5cead6eca"
      },
      "outputs": [
        {
          "output_type": "stream",
          "name": "stdout",
          "text": [
            "last\n"
          ]
        }
      ],
      "source": [
        "if 1 > 2:\n",
        "    print('first')\n",
        "else:\n",
        "    print('last')"
      ]
    },
    {
      "cell_type": "code",
      "execution_count": 109,
      "metadata": {
        "colab": {
          "base_uri": "https://localhost:8080/"
        },
        "id": "ZOiOBbTdI5gF",
        "outputId": "3b5d73d8-fd64-49b4-d41f-0c8a72a316b6"
      },
      "outputs": [
        {
          "output_type": "stream",
          "name": "stdout",
          "text": [
            "middle\n"
          ]
        }
      ],
      "source": [
        "if 1 == 2:\n",
        "    print('first')\n",
        "elif 3 == 3:\n",
        "    print('middle')\n",
        "else:\n",
        "    print('Last')"
      ]
    },
    {
      "cell_type": "markdown",
      "metadata": {
        "id": "qmRzCcZbI5gG"
      },
      "source": [
        "## for 루프(Loop)"
      ]
    },
    {
      "cell_type": "code",
      "execution_count": 110,
      "metadata": {
        "id": "65f_w6r2I5gG"
      },
      "outputs": [],
      "source": [
        "seq = [1,2,3,4,5]"
      ]
    },
    {
      "cell_type": "code",
      "execution_count": 111,
      "metadata": {
        "colab": {
          "base_uri": "https://localhost:8080/"
        },
        "id": "GLxHroGRI5gG",
        "outputId": "591212b9-4f10-4341-c6d1-711c7ea6bbfe",
        "scrolled": true
      },
      "outputs": [
        {
          "output_type": "stream",
          "name": "stdout",
          "text": [
            "1\n",
            "2\n",
            "3\n",
            "4\n",
            "5\n"
          ]
        }
      ],
      "source": [
        "for item in seq:\n",
        "    print(item)"
      ]
    },
    {
      "cell_type": "code",
      "execution_count": 112,
      "metadata": {
        "colab": {
          "base_uri": "https://localhost:8080/"
        },
        "id": "R2EUpH92I5gG",
        "outputId": "943b82c2-1c74-404e-d1fb-c8bf46eb101d"
      },
      "outputs": [
        {
          "output_type": "stream",
          "name": "stdout",
          "text": [
            "2\n",
            "4\n",
            "6\n",
            "8\n",
            "10\n"
          ]
        }
      ],
      "source": [
        "for item in seq:\n",
        "    print(item+item)"
      ]
    },
    {
      "cell_type": "markdown",
      "metadata": {
        "id": "BELPo0YfI5gG"
      },
      "source": [
        "## while 루프(Loop)"
      ]
    },
    {
      "cell_type": "code",
      "execution_count": 113,
      "metadata": {
        "colab": {
          "base_uri": "https://localhost:8080/"
        },
        "id": "KVyVfEsoI5gH",
        "outputId": "43e073b8-b692-433e-e554-82740546fa8a",
        "scrolled": true
      },
      "outputs": [
        {
          "output_type": "stream",
          "name": "stdout",
          "text": [
            "i is: 1\n",
            "i is: 2\n",
            "i is: 3\n",
            "i is: 4\n"
          ]
        }
      ],
      "source": [
        "i = 1\n",
        "while i < 5:\n",
        "    print('i is: {}'.format(i))\n",
        "    i = i+1"
      ]
    },
    {
      "cell_type": "markdown",
      "metadata": {
        "id": "gMiIKGL4I5gH"
      },
      "source": [
        "## range()"
      ]
    },
    {
      "cell_type": "code",
      "execution_count": 114,
      "metadata": {
        "colab": {
          "base_uri": "https://localhost:8080/"
        },
        "id": "WkEYRoEBI5gH",
        "outputId": "8f7f0c07-86d5-4a9c-b19b-c0eb5c1911f2"
      },
      "outputs": [
        {
          "output_type": "execute_result",
          "data": {
            "text/plain": [
              "range(0, 5)"
            ]
          },
          "metadata": {},
          "execution_count": 114
        }
      ],
      "source": [
        "range(5)"
      ]
    },
    {
      "cell_type": "code",
      "execution_count": 115,
      "metadata": {
        "colab": {
          "base_uri": "https://localhost:8080/"
        },
        "id": "HL3KVTh8I5gI",
        "outputId": "6c61d211-fbf6-4e08-b711-a73cb1e01be0"
      },
      "outputs": [
        {
          "output_type": "stream",
          "name": "stdout",
          "text": [
            "0\n",
            "1\n",
            "2\n",
            "3\n",
            "4\n"
          ]
        }
      ],
      "source": [
        "for i in range(5):\n",
        "    print(i)"
      ]
    },
    {
      "cell_type": "code",
      "execution_count": 116,
      "metadata": {
        "colab": {
          "base_uri": "https://localhost:8080/"
        },
        "id": "Is_MsOVUI5gI",
        "outputId": "b96dbb11-803e-49ba-c133-0dd89e7496a1"
      },
      "outputs": [
        {
          "output_type": "execute_result",
          "data": {
            "text/plain": [
              "[0, 1, 2, 3, 4]"
            ]
          },
          "metadata": {},
          "execution_count": 116
        }
      ],
      "source": [
        "list(range(5))"
      ]
    },
    {
      "cell_type": "markdown",
      "metadata": {
        "id": "wz1z7qxdI5gI"
      },
      "source": [
        "## 6. 컴프리헨션(Comprehension)\n",
        "입력 Sequence로부터 새로운 데이터를 만드는 방법으로 제어문보다 간결하게 코드를 작성할 수 있게 한다. "
      ]
    },
    {
      "cell_type": "code",
      "execution_count": 117,
      "metadata": {
        "id": "zxSULvCxI5gI"
      },
      "outputs": [],
      "source": [
        "x = [1,2,3,4]"
      ]
    },
    {
      "cell_type": "code",
      "execution_count": 118,
      "metadata": {
        "colab": {
          "base_uri": "https://localhost:8080/"
        },
        "id": "cVWqybd6I5gJ",
        "outputId": "d0e8ad76-8851-45e7-beec-293a32765d4e",
        "scrolled": true
      },
      "outputs": [
        {
          "output_type": "stream",
          "name": "stdout",
          "text": [
            "[1, 4, 9, 16]\n"
          ]
        }
      ],
      "source": [
        "out = []\n",
        "for item in x:\n",
        "    out.append(item**2)\n",
        "print(out)"
      ]
    },
    {
      "cell_type": "markdown",
      "metadata": {
        "id": "4G8yaH5wI5gJ"
      },
      "source": [
        "### List comprehension\n",
        "입력 Sequence로부터 지정된 표현식에 따라 새로운 리스트를 만드는 것으로, 아래와 같은 문법을 갖는다.   \n",
        "```python\n",
        "[ 출력표현식 for 요소 in 입력Sequence [if 조건식] ]\n",
        "```"
      ]
    },
    {
      "cell_type": "code",
      "execution_count": 119,
      "metadata": {
        "colab": {
          "base_uri": "https://localhost:8080/"
        },
        "id": "1F5iH2qkI5gJ",
        "outputId": "cd77d1d5-808b-494f-eb19-97d64a1d8a14"
      },
      "outputs": [
        {
          "output_type": "execute_result",
          "data": {
            "text/plain": [
              "[1, 4, 9, 16]"
            ]
          },
          "metadata": {},
          "execution_count": 119
        }
      ],
      "source": [
        "[ item**2 for item in x ]"
      ]
    },
    {
      "cell_type": "markdown",
      "metadata": {
        "id": "2otZ0dF-I5gJ"
      },
      "source": [
        "### Dictionary Comprehension\n",
        "입력 Sequence로부터 지정된 표현식에 따라 새로운 Dictionary를 만드는 것으로, 아래와 같은 문법을 갖는다.  \n",
        "```python\n",
        "{ Key:Value for 요소 in 입력Sequence [if 조건식] }\n",
        "```"
      ]
    },
    {
      "cell_type": "code",
      "execution_count": 120,
      "metadata": {
        "colab": {
          "base_uri": "https://localhost:8080/"
        },
        "id": "gWCexqSgI5gK",
        "outputId": "80a8d8f7-6862-42b0-fa1f-cc34127ed7a3"
      },
      "outputs": [
        {
          "output_type": "stream",
          "name": "stdout",
          "text": [
            "{'사과': 'Apple', '바나나': 'Banana', '오렌지': 'Orange'}\n"
          ]
        }
      ],
      "source": [
        "fruit = {'Apple': '사과', 'Banana': '바나나', 'Orange': '오렌지'}\n",
        "c = { v:k for k,v in fruit.items() } \n",
        "print(c)"
      ]
    },
    {
      "cell_type": "markdown",
      "metadata": {
        "id": "BmvLRsa5I5gK"
      },
      "source": [
        "## 7. 함수"
      ]
    },
    {
      "cell_type": "markdown",
      "metadata": {
        "id": "AOPoyjqII5gK"
      },
      "source": [
        "### 함수(function)\n",
        "자주 실행되는 코드를 함수로 작성해두고 이 함수를 호출하는 형태로 사용하면 편리하다."
      ]
    },
    {
      "cell_type": "code",
      "execution_count": 121,
      "metadata": {
        "id": "D8R_IceFI5gK"
      },
      "outputs": [],
      "source": [
        "def my_func(param1='default'):\n",
        "    print(param1)"
      ]
    },
    {
      "cell_type": "code",
      "execution_count": 122,
      "metadata": {
        "colab": {
          "base_uri": "https://localhost:8080/"
        },
        "id": "T6vyOYRqI5gK",
        "outputId": "a6fdf94f-9bc1-4b7d-b70f-aa04fbaa2369"
      },
      "outputs": [
        {
          "output_type": "execute_result",
          "data": {
            "text/plain": [
              "<function __main__.my_func>"
            ]
          },
          "metadata": {},
          "execution_count": 122
        }
      ],
      "source": [
        "my_func"
      ]
    },
    {
      "cell_type": "code",
      "execution_count": 123,
      "metadata": {
        "colab": {
          "base_uri": "https://localhost:8080/"
        },
        "id": "aVFYpJCBI5gL",
        "outputId": "bf37687b-4c83-4827-e38d-850420f0abd4"
      },
      "outputs": [
        {
          "output_type": "stream",
          "name": "stdout",
          "text": [
            "default\n"
          ]
        }
      ],
      "source": [
        "my_func()"
      ]
    },
    {
      "cell_type": "code",
      "execution_count": 124,
      "metadata": {
        "colab": {
          "base_uri": "https://localhost:8080/"
        },
        "id": "LUIKo3HII5gL",
        "outputId": "d20efedb-f1ff-4f4d-ef58-16b2f5b52376"
      },
      "outputs": [
        {
          "output_type": "stream",
          "name": "stdout",
          "text": [
            "new param\n"
          ]
        }
      ],
      "source": [
        "my_func('new param')"
      ]
    },
    {
      "cell_type": "code",
      "execution_count": 125,
      "metadata": {
        "colab": {
          "base_uri": "https://localhost:8080/"
        },
        "id": "rCCB51vEI5gL",
        "outputId": "83414fd0-1776-4de3-f237-ae8a41df25ef",
        "scrolled": true
      },
      "outputs": [
        {
          "output_type": "stream",
          "name": "stdout",
          "text": [
            "new param\n"
          ]
        }
      ],
      "source": [
        "my_func(param1='new param')"
      ]
    },
    {
      "cell_type": "code",
      "execution_count": 126,
      "metadata": {
        "id": "QDeT_DggI5gL"
      },
      "outputs": [],
      "source": [
        "def square(x):\n",
        "    return x**2"
      ]
    },
    {
      "cell_type": "code",
      "execution_count": 127,
      "metadata": {
        "id": "ycZeWnXgI5gL"
      },
      "outputs": [],
      "source": [
        "out = square(2)"
      ]
    },
    {
      "cell_type": "code",
      "execution_count": 128,
      "metadata": {
        "colab": {
          "base_uri": "https://localhost:8080/"
        },
        "id": "eH4FcjtbI5gL",
        "outputId": "f7f7e4a0-a670-424b-8d81-98156210db20",
        "scrolled": true
      },
      "outputs": [
        {
          "output_type": "stream",
          "name": "stdout",
          "text": [
            "4\n"
          ]
        }
      ],
      "source": [
        "print(out)"
      ]
    },
    {
      "cell_type": "markdown",
      "metadata": {
        "id": "7_V2L636I5gM"
      },
      "source": [
        "### 람다 식(lambda expression)으로 함수 만들기"
      ]
    },
    {
      "cell_type": "code",
      "execution_count": 129,
      "metadata": {
        "id": "_3Lj6tEcI5gM"
      },
      "outputs": [],
      "source": [
        "def times2(var):\n",
        "    return var*2"
      ]
    },
    {
      "cell_type": "code",
      "execution_count": 130,
      "metadata": {
        "colab": {
          "base_uri": "https://localhost:8080/"
        },
        "id": "_lN7sEHGI5gM",
        "outputId": "d76890e1-f3b8-4d26-a95b-bf228caabc8e"
      },
      "outputs": [
        {
          "output_type": "execute_result",
          "data": {
            "text/plain": [
              "4"
            ]
          },
          "metadata": {},
          "execution_count": 130
        }
      ],
      "source": [
        "times2(2)"
      ]
    },
    {
      "cell_type": "code",
      "execution_count": 131,
      "metadata": {
        "id": "koBBGAiII5gM"
      },
      "outputs": [],
      "source": [
        "t2 = lambda var: var*2"
      ]
    },
    {
      "cell_type": "code",
      "execution_count": 132,
      "metadata": {
        "colab": {
          "base_uri": "https://localhost:8080/"
        },
        "id": "-gngj6c2I5gM",
        "outputId": "74f13db0-c082-45bd-bba7-e93591e242d7"
      },
      "outputs": [
        {
          "output_type": "execute_result",
          "data": {
            "text/plain": [
              "6"
            ]
          },
          "metadata": {},
          "execution_count": 132
        }
      ],
      "source": [
        "t2(3)"
      ]
    },
    {
      "cell_type": "markdown",
      "metadata": {
        "id": "mqGf4FEuI5gM"
      },
      "source": [
        "### 맵, 필터(map and filter)"
      ]
    },
    {
      "cell_type": "code",
      "execution_count": 133,
      "metadata": {
        "id": "FmO-nKadI5gN"
      },
      "outputs": [],
      "source": [
        "seq = [1, 2, 3, 4, 5]"
      ]
    },
    {
      "cell_type": "code",
      "execution_count": 134,
      "metadata": {
        "colab": {
          "base_uri": "https://localhost:8080/"
        },
        "id": "C9psNZp9I5gN",
        "outputId": "19412314-2a04-4d74-ebeb-afa2515900e4"
      },
      "outputs": [
        {
          "output_type": "execute_result",
          "data": {
            "text/plain": [
              "<map at 0x7f54e27ae990>"
            ]
          },
          "metadata": {},
          "execution_count": 134
        }
      ],
      "source": [
        "map(times2, seq)"
      ]
    },
    {
      "cell_type": "code",
      "execution_count": 135,
      "metadata": {
        "colab": {
          "base_uri": "https://localhost:8080/"
        },
        "id": "gaB3UORSI5gN",
        "outputId": "5eb144dc-946d-4867-8513-447b68f6d7df"
      },
      "outputs": [
        {
          "output_type": "execute_result",
          "data": {
            "text/plain": [
              "[2, 4, 6, 8, 10]"
            ]
          },
          "metadata": {},
          "execution_count": 135
        }
      ],
      "source": [
        "list(map(times2, seq))"
      ]
    },
    {
      "cell_type": "code",
      "execution_count": 136,
      "metadata": {
        "colab": {
          "base_uri": "https://localhost:8080/"
        },
        "id": "amoQqti0I5gN",
        "outputId": "3619de96-0260-43b6-c8b5-682d24e9107d"
      },
      "outputs": [
        {
          "output_type": "execute_result",
          "data": {
            "text/plain": [
              "[2, 4, 6, 8, 10]"
            ]
          },
          "metadata": {},
          "execution_count": 136
        }
      ],
      "source": [
        "list(map(lambda var: var*2, seq))"
      ]
    },
    {
      "cell_type": "code",
      "execution_count": 137,
      "metadata": {
        "colab": {
          "base_uri": "https://localhost:8080/"
        },
        "id": "NclfKQr5I5gN",
        "outputId": "554c2af4-f975-46c9-c472-39dbcf20c4e2"
      },
      "outputs": [
        {
          "output_type": "execute_result",
          "data": {
            "text/plain": [
              "<filter at 0x7f54e2793450>"
            ]
          },
          "metadata": {},
          "execution_count": 137
        }
      ],
      "source": [
        "filter(lambda item: item%2 == 0, seq)"
      ]
    },
    {
      "cell_type": "code",
      "execution_count": 138,
      "metadata": {
        "colab": {
          "base_uri": "https://localhost:8080/"
        },
        "id": "nX0Fl2h6I5gO",
        "outputId": "47cf61b7-fd31-4e38-814a-dff708bce84f"
      },
      "outputs": [
        {
          "output_type": "execute_result",
          "data": {
            "text/plain": [
              "[2, 4]"
            ]
          },
          "metadata": {},
          "execution_count": 138
        }
      ],
      "source": [
        "list(filter(lambda item: item%2 == 0, seq))"
      ]
    },
    {
      "cell_type": "markdown",
      "metadata": {
        "id": "S4n9ew_3I5gO"
      },
      "source": [
        "### 내장 메서드(methods)"
      ]
    },
    {
      "cell_type": "code",
      "execution_count": 139,
      "metadata": {
        "id": "5R6OxHC0I5gO"
      },
      "outputs": [],
      "source": [
        "st = 'Hello my name is Danny'"
      ]
    },
    {
      "cell_type": "code",
      "execution_count": 140,
      "metadata": {
        "colab": {
          "base_uri": "https://localhost:8080/",
          "height": 35
        },
        "id": "-JAp8MgfI5gO",
        "outputId": "42439d60-e08d-41a8-b065-90bed511f3ea"
      },
      "outputs": [
        {
          "output_type": "execute_result",
          "data": {
            "text/plain": [
              "'hello my name is danny'"
            ],
            "application/vnd.google.colaboratory.intrinsic+json": {
              "type": "string"
            }
          },
          "metadata": {},
          "execution_count": 140
        }
      ],
      "source": [
        "st.lower()"
      ]
    },
    {
      "cell_type": "code",
      "execution_count": 141,
      "metadata": {
        "colab": {
          "base_uri": "https://localhost:8080/",
          "height": 35
        },
        "id": "ku_yz_tKI5gO",
        "outputId": "624748a9-910c-437f-cc73-9371e46655cd"
      },
      "outputs": [
        {
          "output_type": "execute_result",
          "data": {
            "text/plain": [
              "'HELLO MY NAME IS DANNY'"
            ],
            "application/vnd.google.colaboratory.intrinsic+json": {
              "type": "string"
            }
          },
          "metadata": {},
          "execution_count": 141
        }
      ],
      "source": [
        "st.upper()"
      ]
    },
    {
      "cell_type": "code",
      "execution_count": 142,
      "metadata": {
        "colab": {
          "base_uri": "https://localhost:8080/"
        },
        "id": "o9EyNJMBI5gO",
        "outputId": "a5c6a1fd-0338-4b70-f2a2-af28f8ebaca4"
      },
      "outputs": [
        {
          "output_type": "execute_result",
          "data": {
            "text/plain": [
              "['Hello', 'my', 'name', 'is', 'Danny']"
            ]
          },
          "metadata": {},
          "execution_count": 142
        }
      ],
      "source": [
        "st.split()"
      ]
    },
    {
      "cell_type": "code",
      "execution_count": 143,
      "metadata": {
        "id": "IqxmTSPCI5gP"
      },
      "outputs": [],
      "source": [
        "message = 'Python the Best programming language in #AI'"
      ]
    },
    {
      "cell_type": "code",
      "execution_count": 144,
      "metadata": {
        "colab": {
          "base_uri": "https://localhost:8080/"
        },
        "id": "lQxVIKx7I5gP",
        "outputId": "5cc56eac-b766-45b5-8a14-ff9b0eb6c909"
      },
      "outputs": [
        {
          "output_type": "execute_result",
          "data": {
            "text/plain": [
              "['Python the Best programming language in ', 'AI']"
            ]
          },
          "metadata": {},
          "execution_count": 144
        }
      ],
      "source": [
        "message.split('#')"
      ]
    },
    {
      "cell_type": "code",
      "execution_count": 145,
      "metadata": {
        "colab": {
          "base_uri": "https://localhost:8080/",
          "height": 35
        },
        "id": "ZW0Svrp0I5gP",
        "outputId": "2c77fb5e-d0fb-436a-b709-5caf814302af"
      },
      "outputs": [
        {
          "output_type": "execute_result",
          "data": {
            "text/plain": [
              "'AI'"
            ],
            "application/vnd.google.colaboratory.intrinsic+json": {
              "type": "string"
            }
          },
          "metadata": {},
          "execution_count": 145
        }
      ],
      "source": [
        "message.split('#')[1]"
      ]
    },
    {
      "cell_type": "code",
      "execution_count": 146,
      "metadata": {
        "colab": {
          "base_uri": "https://localhost:8080/"
        },
        "id": "8tkTrN7iI5gP",
        "outputId": "58977069-3e78-4b56-ed69-7ccffb75b6dc"
      },
      "outputs": [
        {
          "output_type": "execute_result",
          "data": {
            "text/plain": [
              "{'key1': 'item1', 'key2': 'item2'}"
            ]
          },
          "metadata": {},
          "execution_count": 146
        }
      ],
      "source": [
        "d"
      ]
    },
    {
      "cell_type": "code",
      "execution_count": 147,
      "metadata": {
        "colab": {
          "base_uri": "https://localhost:8080/"
        },
        "id": "T_czBKEMI5gP",
        "outputId": "4130e22b-b167-4bc6-a1c0-f2609d7b3df3"
      },
      "outputs": [
        {
          "output_type": "execute_result",
          "data": {
            "text/plain": [
              "dict_keys(['key1', 'key2'])"
            ]
          },
          "metadata": {},
          "execution_count": 147
        }
      ],
      "source": [
        "d.keys()"
      ]
    },
    {
      "cell_type": "code",
      "execution_count": 148,
      "metadata": {
        "colab": {
          "base_uri": "https://localhost:8080/"
        },
        "id": "A6MySXivI5gP",
        "outputId": "99fee1f3-7f21-4b99-ffa6-de53ca03acda"
      },
      "outputs": [
        {
          "output_type": "execute_result",
          "data": {
            "text/plain": [
              "dict_items([('key1', 'item1'), ('key2', 'item2')])"
            ]
          },
          "metadata": {},
          "execution_count": 148
        }
      ],
      "source": [
        "d.items()"
      ]
    },
    {
      "cell_type": "code",
      "execution_count": 149,
      "metadata": {
        "id": "-VxYiR2RI5gQ"
      },
      "outputs": [],
      "source": [
        "lst = [1,2,3]"
      ]
    },
    {
      "cell_type": "code",
      "execution_count": 150,
      "metadata": {
        "colab": {
          "base_uri": "https://localhost:8080/"
        },
        "id": "YcfTbp8JI5gQ",
        "outputId": "92376c59-ade2-4cdb-f801-4f262f7a92f7"
      },
      "outputs": [
        {
          "output_type": "execute_result",
          "data": {
            "text/plain": [
              "3"
            ]
          },
          "metadata": {},
          "execution_count": 150
        }
      ],
      "source": [
        "lst.pop()"
      ]
    },
    {
      "cell_type": "code",
      "execution_count": 151,
      "metadata": {
        "colab": {
          "base_uri": "https://localhost:8080/"
        },
        "id": "89upngDlI5gQ",
        "outputId": "396cb6c6-bbdb-4ac4-d33b-9bff4ab219da"
      },
      "outputs": [
        {
          "output_type": "execute_result",
          "data": {
            "text/plain": [
              "[1, 2]"
            ]
          },
          "metadata": {},
          "execution_count": 151
        }
      ],
      "source": [
        "lst"
      ]
    },
    {
      "cell_type": "code",
      "execution_count": 152,
      "metadata": {
        "colab": {
          "base_uri": "https://localhost:8080/"
        },
        "id": "9n01d4JUI5gQ",
        "outputId": "d6887d9f-5acd-46f3-dbd6-902328231104"
      },
      "outputs": [
        {
          "output_type": "execute_result",
          "data": {
            "text/plain": [
              "False"
            ]
          },
          "metadata": {},
          "execution_count": 152
        }
      ],
      "source": [
        "'x' in [1,2,3]"
      ]
    },
    {
      "cell_type": "code",
      "execution_count": 153,
      "metadata": {
        "colab": {
          "base_uri": "https://localhost:8080/"
        },
        "id": "fEvaqAhdI5gQ",
        "outputId": "60047273-bd98-4fc0-98bc-8350a7b41524"
      },
      "outputs": [
        {
          "output_type": "execute_result",
          "data": {
            "text/plain": [
              "True"
            ]
          },
          "metadata": {},
          "execution_count": 153
        }
      ],
      "source": [
        "'x' in ['x','y','z']"
      ]
    },
    {
      "cell_type": "markdown",
      "metadata": {
        "id": "dr7Yc6lnI5gR"
      },
      "source": [
        "### 8. 클래스(Class)"
      ]
    },
    {
      "cell_type": "code",
      "execution_count": 154,
      "metadata": {
        "id": "F4eH77jdI5gR"
      },
      "outputs": [],
      "source": [
        "class calc:\n",
        "    # 인스턴스 초기화\n",
        "    def __init__(self, x, y):\n",
        "        self.x = x\n",
        "        self.y = y\n",
        "        \n",
        "    def add(self):\n",
        "        z = self.x + self.y\n",
        "        print(z)\n",
        "    \n",
        "    def sub(self):\n",
        "        pass\n",
        "    \n",
        "    def mul(self):\n",
        "        pass\n",
        "    \n",
        "    def div(self):\n",
        "        pass\n",
        "        "
      ]
    },
    {
      "cell_type": "code",
      "execution_count": 155,
      "metadata": {
        "colab": {
          "base_uri": "https://localhost:8080/"
        },
        "id": "3ou0SPM0I5gR",
        "outputId": "53cee859-9a6e-47cc-a368-2622a89ce010"
      },
      "outputs": [
        {
          "output_type": "stream",
          "name": "stdout",
          "text": [
            "10\n"
          ]
        }
      ],
      "source": [
        "f = calc(3, 7)\n",
        "f.add()"
      ]
    },
    {
      "cell_type": "markdown",
      "metadata": {
        "id": "8umTpljgI5gR"
      },
      "source": [
        "### <span style=\"color:blue\">실습 : 사칙계산기 클래스 작성을 완성하세요.</span>"
      ]
    },
    {
      "cell_type": "code",
      "execution_count": 155,
      "metadata": {
        "id": "V7pXoVoqI5gR"
      },
      "outputs": [],
      "source": [
        ""
      ]
    },
    {
      "cell_type": "code",
      "execution_count": 155,
      "metadata": {
        "id": "wkt_zEyCI5gR"
      },
      "outputs": [],
      "source": [
        ""
      ]
    },
    {
      "cell_type": "code",
      "execution_count": 155,
      "metadata": {
        "id": "WX8OyVbfI5gS"
      },
      "outputs": [],
      "source": [
        ""
      ]
    }
  ],
  "metadata": {
    "colab": {
      "name": "01_Python.ipynb",
      "provenance": [],
      "include_colab_link": true
    },
    "kernelspec": {
      "display_name": "Python 3",
      "language": "python",
      "name": "python3"
    },
    "language_info": {
      "codemirror_mode": {
        "name": "ipython",
        "version": 3
      },
      "file_extension": ".py",
      "mimetype": "text/x-python",
      "name": "python",
      "nbconvert_exporter": "python",
      "pygments_lexer": "ipython3",
      "version": "3.8.7"
    },
    "toc": {
      "base_numbering": 1,
      "nav_menu": {},
      "number_sections": true,
      "sideBar": true,
      "skip_h1_title": false,
      "title_cell": "Table of Contents",
      "title_sidebar": "Contents",
      "toc_cell": false,
      "toc_position": {},
      "toc_section_display": true,
      "toc_window_display": false
    }
  },
  "nbformat": 4,
  "nbformat_minor": 0
}