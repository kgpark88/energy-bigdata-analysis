{
  "nbformat": 4,
  "nbformat_minor": 0,
  "metadata": {
    "colab": {
      "name": "python_tutorial .ipynb",
      "provenance": [],
      "collapsed_sections": [],
      "include_colab_link": true
    },
    "kernelspec": {
      "name": "python3",
      "display_name": "Python 3"
    },
    "language_info": {
      "name": "python"
    }
  },
  "cells": [
    {
      "cell_type": "markdown",
      "metadata": {
        "id": "view-in-github",
        "colab_type": "text"
      },
      "source": [
        "<a href=\"https://colab.research.google.com/github/kgpark88/energy-bigdata-analysis/blob/main/python_tutorial.ipynb\" target=\"_parent\"><img src=\"https://colab.research.google.com/assets/colab-badge.svg\" alt=\"Open In Colab\"/></a>"
      ]
    },
    {
      "cell_type": "markdown",
      "metadata": {
        "id": "I_cRQkqmEZyK"
      },
      "source": [
        "# Python 3 Tutorial - Learn Python in 30 Minutes  \n",
        "출처 : https://www.programiz.com/python-programming/tutorial"
      ]
    },
    {
      "cell_type": "markdown",
      "metadata": {
        "id": "MEbeKrybE-8-"
      },
      "source": [
        "## \"Hello, World!\" Program"
      ]
    },
    {
      "cell_type": "code",
      "metadata": {
        "colab": {
          "base_uri": "https://localhost:8080/"
        },
        "id": "-5vgqfUHEY_h",
        "outputId": "38bd1a58-0685-4ee6-da8c-8614f1738f1a"
      },
      "source": [
        "print(\"Hello, World!\")"
      ],
      "execution_count": null,
      "outputs": [
        {
          "output_type": "stream",
          "name": "stdout",
          "text": [
            "Hello, World!\n"
          ]
        }
      ]
    },
    {
      "cell_type": "markdown",
      "metadata": {
        "id": "Mf2yVrURFL6F"
      },
      "source": [
        "## Variables and Literals\n",
        "- A variable is a named location used to store data in the memory. Here's an example:  \n",
        "- We do not need to define variable type in Python. You can do something like this:"
      ]
    },
    {
      "cell_type": "code",
      "metadata": {
        "colab": {
          "base_uri": "https://localhost:8080/"
        },
        "id": "8QQ81nFhES0t",
        "outputId": "0974adfa-3032-4752-97b0-3aad26823f51"
      },
      "source": [
        "a = 5\n",
        "print(\"a =\", 5)\n",
        "a = \"High five\"\n",
        "print(\"a =\", a)"
      ],
      "execution_count": null,
      "outputs": [
        {
          "output_type": "stream",
          "name": "stdout",
          "text": [
            "a = 5\n",
            "a = High five\n"
          ]
        }
      ]
    },
    {
      "cell_type": "markdown",
      "metadata": {
        "id": "ZuBxjhgtFksh"
      },
      "source": [
        "## Operators"
      ]
    },
    {
      "cell_type": "code",
      "metadata": {
        "colab": {
          "base_uri": "https://localhost:8080/"
        },
        "id": "ukKnp-olFV3W",
        "outputId": "ba303cfc-3bd7-4852-ea5c-9f3544991a89"
      },
      "source": [
        "x = 14\n",
        "y = 4\n",
        "\n",
        "# Add two operands\n",
        "print('x + y =', x+y) # Output: x + y = 18\n",
        "\n",
        "# Subtract right operand from the left\n",
        "print('x - y =', x-y) # Output: x - y = 10\n",
        "\n",
        "# Multiply two operands\n",
        "print('x * y =', x*y) # Output: x * y = 56\n",
        "\n",
        "# Divide left operand by the right one \n",
        "print('x / y =', x/y) # Output: x / y = 3.5\n",
        "\n",
        "# Floor division (quotient)\n",
        "print('x // y =', x//y) # Output: x // y = 3\n",
        "\n",
        "# Remainder of the division of left operand by the right\n",
        "print('x % y =', x%y) # Output: x % y = 2\n",
        "\n",
        "# Left operand raised to the power of right (x^y)\n",
        "print('x ** y =', x**y) # Output: x ** y = 38416"
      ],
      "execution_count": null,
      "outputs": [
        {
          "output_type": "stream",
          "name": "stdout",
          "text": [
            "x + y = 18\n",
            "x - y = 10\n",
            "x * y = 56\n",
            "x / y = 3.5\n",
            "x // y = 3\n",
            "x % y = 2\n",
            "x ** y = 38416\n"
          ]
        }
      ]
    },
    {
      "cell_type": "markdown",
      "metadata": {
        "id": "QFBTgPrkF9pD"
      },
      "source": [
        "## Get Input from User"
      ]
    },
    {
      "cell_type": "code",
      "metadata": {
        "colab": {
          "base_uri": "https://localhost:8080/"
        },
        "id": "K1pGj0q4FpeE",
        "outputId": "ba7ebb66-6632-4667-e1d8-e5e3c644caf2"
      },
      "source": [
        "inputString = input('Enter a sentence:')\n",
        "print('The inputted string is:', inputString)"
      ],
      "execution_count": null,
      "outputs": [
        {
          "output_type": "stream",
          "name": "stdout",
          "text": [
            "Enter a sentence:hi\n",
            "The inputted string is: hi\n"
          ]
        }
      ]
    },
    {
      "cell_type": "markdown",
      "metadata": {
        "id": "UC46y7PRGE_E"
      },
      "source": [
        "## Python Comments"
      ]
    },
    {
      "cell_type": "code",
      "metadata": {
        "id": "-pQcFlObF_l0"
      },
      "source": [
        "# This is a comment"
      ],
      "execution_count": null,
      "outputs": []
    },
    {
      "cell_type": "code",
      "metadata": {
        "colab": {
          "base_uri": "https://localhost:8080/",
          "height": 35
        },
        "id": "OZJ5nqH7GGpN",
        "outputId": "4d844136-e24d-45ae-f112-6c438816504b"
      },
      "source": [
        "  \"\"\"This is a \n",
        "    multiline\n",
        "    comment.\"\"\""
      ],
      "execution_count": null,
      "outputs": [
        {
          "output_type": "execute_result",
          "data": {
            "text/plain": [
              "'This is a \\n  multiline\\n  comment.'"
            ],
            "application/vnd.google.colaboratory.intrinsic+json": {
              "type": "string"
            }
          },
          "metadata": {},
          "execution_count": 33
        }
      ]
    },
    {
      "cell_type": "code",
      "metadata": {
        "colab": {
          "base_uri": "https://localhost:8080/",
          "height": 35
        },
        "id": "MCOzRdXIGIJM",
        "outputId": "fbdf2757-c78b-41c2-e8ff-9afd088c3f09"
      },
      "source": [
        "  '''This is also a\n",
        "     multiline\n",
        "     comment.'''"
      ],
      "execution_count": null,
      "outputs": [
        {
          "output_type": "execute_result",
          "data": {
            "text/plain": [
              "'This is also a\\n   multiline\\n   comment.'"
            ],
            "application/vnd.google.colaboratory.intrinsic+json": {
              "type": "string"
            }
          },
          "metadata": {},
          "execution_count": 34
        }
      ]
    },
    {
      "cell_type": "markdown",
      "metadata": {
        "id": "u9nKvPihGKrG"
      },
      "source": [
        "## Type Conversion\n",
        "### Implicit Type Conversion"
      ]
    },
    {
      "cell_type": "code",
      "metadata": {
        "colab": {
          "base_uri": "https://localhost:8080/"
        },
        "id": "VUIYYWOwGJKN",
        "outputId": "45d10c5e-d6fa-4343-8ea2-75e2a7e23d5a"
      },
      "source": [
        "num_int = 123  # integer type\n",
        "num_flo = 1.23 # float type\n",
        "\n",
        "num_new = num_int + num_flo\n",
        "\n",
        "print(\"Value of num_new:\",num_new)\n",
        "print(\"datatype of num_new:\",type(num_new))"
      ],
      "execution_count": null,
      "outputs": [
        {
          "output_type": "stream",
          "name": "stdout",
          "text": [
            "Value of num_new: 124.23\n",
            "datatype of num_new: <class 'float'>\n"
          ]
        }
      ]
    },
    {
      "cell_type": "code",
      "metadata": {
        "colab": {
          "base_uri": "https://localhost:8080/",
          "height": 209
        },
        "id": "qFdtxK9QGSBo",
        "outputId": "1dbe2532-fe38-423f-a2a0-63aabc43012d"
      },
      "source": [
        "num_int = 123     # int type\n",
        "num_str = \"456\"   # str type\n",
        "\n",
        "print(num_int+num_str)"
      ],
      "execution_count": null,
      "outputs": [
        {
          "output_type": "error",
          "ename": "TypeError",
          "evalue": "ignored",
          "traceback": [
            "\u001b[0;31m---------------------------------------------------------------------------\u001b[0m",
            "\u001b[0;31mTypeError\u001b[0m                                 Traceback (most recent call last)",
            "\u001b[0;32m<ipython-input-37-3cacd04777e1>\u001b[0m in \u001b[0;36m<module>\u001b[0;34m()\u001b[0m\n\u001b[1;32m      2\u001b[0m \u001b[0mnum_str\u001b[0m \u001b[0;34m=\u001b[0m \u001b[0;34m\"456\"\u001b[0m   \u001b[0;31m# str type\u001b[0m\u001b[0;34m\u001b[0m\u001b[0;34m\u001b[0m\u001b[0m\n\u001b[1;32m      3\u001b[0m \u001b[0;34m\u001b[0m\u001b[0m\n\u001b[0;32m----> 4\u001b[0;31m \u001b[0mprint\u001b[0m\u001b[0;34m(\u001b[0m\u001b[0mnum_int\u001b[0m\u001b[0;34m+\u001b[0m\u001b[0mnum_str\u001b[0m\u001b[0;34m)\u001b[0m\u001b[0;34m\u001b[0m\u001b[0;34m\u001b[0m\u001b[0m\n\u001b[0m",
            "\u001b[0;31mTypeError\u001b[0m: unsupported operand type(s) for +: 'int' and 'str'"
          ]
        }
      ]
    },
    {
      "cell_type": "markdown",
      "metadata": {
        "id": "Xs7sYz5lGbOo"
      },
      "source": [
        "## Explicit Conversion"
      ]
    },
    {
      "cell_type": "code",
      "metadata": {
        "colab": {
          "base_uri": "https://localhost:8080/"
        },
        "id": "FZR1JyJNGayK",
        "outputId": "f49f9c69-3b0b-4f01-fb5b-fd26f985852d"
      },
      "source": [
        "num_int = 123  # int type\n",
        "num_str = \"456\" # str type\n",
        "\n",
        "# explicitly converted to int type\n",
        "num_str = int(num_str) \n",
        "\n",
        "print(num_int+num_str)"
      ],
      "execution_count": null,
      "outputs": [
        {
          "output_type": "stream",
          "name": "stdout",
          "text": [
            "579\n"
          ]
        }
      ]
    },
    {
      "cell_type": "markdown",
      "metadata": {
        "id": "DUkx8rpAGigH"
      },
      "source": [
        "## Python Numeric Types"
      ]
    },
    {
      "cell_type": "code",
      "metadata": {
        "colab": {
          "base_uri": "https://localhost:8080/"
        },
        "id": "PDZ_c2sTGX1l",
        "outputId": "39ff8826-5581-41bd-8187-7ed0684da8c4"
      },
      "source": [
        "# Output: <class 'int'>\n",
        "print(type(5))\n",
        "\n",
        "# Output: <class 'float'>\n",
        "print(type(5.0))\n",
        "\n",
        "c = 5 + 3j\n",
        "\n",
        "# Output: <class 'complex'>\n",
        "print(type(c))"
      ],
      "execution_count": null,
      "outputs": [
        {
          "output_type": "stream",
          "name": "stdout",
          "text": [
            "<class 'int'>\n",
            "<class 'float'>\n",
            "<class 'complex'>\n"
          ]
        }
      ]
    },
    {
      "cell_type": "markdown",
      "metadata": {
        "id": "Q-eFh1JVGrHg"
      },
      "source": [
        "# Python Data Structures"
      ]
    },
    {
      "cell_type": "markdown",
      "metadata": {
        "id": "vMaVOGvrGxgI"
      },
      "source": [
        "## Lists\n",
        "- A list is created by placing all the items (elements) inside a square bracket [] separated by commas.\n",
        "- It can have any number of items and they may be of different types (integer, float, string etc.)"
      ]
    },
    {
      "cell_type": "code",
      "metadata": {
        "id": "MNd_lDFPGqVq"
      },
      "source": [
        "# empty list\n",
        "my_list = []\n",
        "\n",
        "# list of integers\n",
        "my_list = [1, 2, 3]\n",
        "\n",
        "# list with mixed data types\n",
        "my_list = [1, \"Hello\", 3.4]"
      ],
      "execution_count": null,
      "outputs": []
    },
    {
      "cell_type": "markdown",
      "metadata": {
        "id": "0ShZH6jgHAJ6"
      },
      "source": [
        "- You use the index operator [] to access an item in a list. \n",
        "- Index starts from 0.   \n",
        "- So, a list having 10 elements will have index from 0 to 9."
      ]
    },
    {
      "cell_type": "code",
      "metadata": {
        "colab": {
          "base_uri": "https://localhost:8080/"
        },
        "id": "F3loIsNVGmX0",
        "outputId": "3f9da846-2c12-4ace-ab23-4dd3eb3c3c45"
      },
      "source": [
        "language = [\"French\", \"German\", \"English\", \"Polish\"]\n",
        "\n",
        "# Accessing first element\n",
        "print(language[0])\n",
        "\n",
        "\n",
        "# Accessing fourth element\n",
        "print(language[3])"
      ],
      "execution_count": null,
      "outputs": [
        {
          "output_type": "stream",
          "name": "stdout",
          "text": [
            "French\n",
            "Polish\n"
          ]
        }
      ]
    },
    {
      "cell_type": "markdown",
      "metadata": {
        "id": "DOu_GOOBHTBt"
      },
      "source": [
        "## Tuples\n",
        "- Tuple is similar to a list except you cannot change elements of a tuple once it is defined. Whereas in a list, items can be modified.\n",
        "\n",
        "- Basically, list is mutable whereas tuple is immutable."
      ]
    },
    {
      "cell_type": "code",
      "metadata": {
        "colab": {
          "base_uri": "https://localhost:8080/"
        },
        "id": "rAVAG1NWG9f4",
        "outputId": "4e5bfdbf-e57a-44a6-900f-3fc3d8f0a9c0"
      },
      "source": [
        "language = (\"French\", \"German\", \"English\", \"Polish\")\n",
        "print(language)"
      ],
      "execution_count": null,
      "outputs": [
        {
          "output_type": "stream",
          "name": "stdout",
          "text": [
            "('French', 'German', 'English', 'Polish')\n"
          ]
        }
      ]
    },
    {
      "cell_type": "code",
      "metadata": {
        "colab": {
          "base_uri": "https://localhost:8080/"
        },
        "id": "Q0VUfIiOHaag",
        "outputId": "9abf5960-c3d1-41dd-dc9b-ac60e0f56e9e"
      },
      "source": [
        "language = (\"French\", \"German\", \"English\", \"Polish\")\n",
        "\n",
        "print(language[1]) #Output: German\n",
        "print(language[3]) #Output: Polish\n",
        "print(language[-1]) # Output: Polish"
      ],
      "execution_count": null,
      "outputs": [
        {
          "output_type": "stream",
          "name": "stdout",
          "text": [
            "German\n",
            "Polish\n",
            "Polish\n"
          ]
        }
      ]
    },
    {
      "cell_type": "markdown",
      "metadata": {
        "id": "wstUZn8sHiv-"
      },
      "source": [
        "You cannot delete elements of a tuple, however, you can entirely delete a tuple itself using del operator."
      ]
    },
    {
      "cell_type": "code",
      "metadata": {
        "colab": {
          "base_uri": "https://localhost:8080/",
          "height": 209
        },
        "id": "HT4YnuHVHb2o",
        "outputId": "4162625f-bc58-46fc-e91c-75548be3abc5"
      },
      "source": [
        "language = (\"French\", \"German\", \"English\", \"Polish\")\n",
        "del language\n",
        "\n",
        "# NameError: name 'language' is not defined\n",
        "print(language)"
      ],
      "execution_count": null,
      "outputs": [
        {
          "output_type": "error",
          "ename": "NameError",
          "evalue": "ignored",
          "traceback": [
            "\u001b[0;31m---------------------------------------------------------------------------\u001b[0m",
            "\u001b[0;31mNameError\u001b[0m                                 Traceback (most recent call last)",
            "\u001b[0;32m<ipython-input-44-80805fc0af21>\u001b[0m in \u001b[0;36m<module>\u001b[0;34m()\u001b[0m\n\u001b[1;32m      3\u001b[0m \u001b[0;34m\u001b[0m\u001b[0m\n\u001b[1;32m      4\u001b[0m \u001b[0;31m# NameError: name 'language' is not defined\u001b[0m\u001b[0;34m\u001b[0m\u001b[0;34m\u001b[0m\u001b[0;34m\u001b[0m\u001b[0m\n\u001b[0;32m----> 5\u001b[0;31m \u001b[0mprint\u001b[0m\u001b[0;34m(\u001b[0m\u001b[0mlanguage\u001b[0m\u001b[0;34m)\u001b[0m\u001b[0;34m\u001b[0m\u001b[0;34m\u001b[0m\u001b[0m\n\u001b[0m",
            "\u001b[0;31mNameError\u001b[0m: name 'language' is not defined"
          ]
        }
      ]
    },
    {
      "cell_type": "markdown",
      "metadata": {
        "id": "_On87AYnHlla"
      },
      "source": [
        "## String\n",
        "A string is a sequence of characters. Here are different ways to create a string."
      ]
    },
    {
      "cell_type": "code",
      "metadata": {
        "colab": {
          "base_uri": "https://localhost:8080/"
        },
        "id": "8aRim-bIHfD6",
        "outputId": "56a4ca7b-37d4-4c4e-8966-90cda0063cad"
      },
      "source": [
        "# all of the following are equivalent\n",
        "my_string = 'Hello'\n",
        "print(my_string)\n",
        "\n",
        "my_string = \"Hello\"\n",
        "print(my_string)\n",
        "\n",
        "my_string = '''Hello'''\n",
        "print(my_string)\n",
        "\n",
        "# triple quotes string can extend multiple lines\n",
        "my_string = \"\"\"Hello, welcome to\n",
        "           the world of Python\"\"\"\n",
        "print(my_string)"
      ],
      "execution_count": null,
      "outputs": [
        {
          "output_type": "stream",
          "name": "stdout",
          "text": [
            "Hello\n",
            "Hello\n",
            "Hello\n",
            "Hello, welcome to\n",
            "           the world of Python\n"
          ]
        }
      ]
    },
    {
      "cell_type": "markdown",
      "metadata": {
        "id": "xUSrR7pdHvon"
      },
      "source": [
        "You can access individual characters of a string using indexing (in a similar manner like lists and tuples)."
      ]
    },
    {
      "cell_type": "code",
      "metadata": {
        "colab": {
          "base_uri": "https://localhost:8080/"
        },
        "id": "ZSDPvNv-Hs3u",
        "outputId": "08c2a763-af4a-4f94-bb68-071cd25a47ef"
      },
      "source": [
        "str = 'programiz'\n",
        "print('str = ', str)\n",
        "\n",
        "print('str[0] = ', str[0]) # Output: p\n",
        "\n",
        "print('str[-1] = ', str[-1]) # Output: z\n",
        "\n",
        "#slicing 2nd to 5th character\n",
        "print('str[1:5] = ', str[1:5]) # Output: rogr\n",
        "\n",
        "#slicing 6th to 2nd last character\n",
        "print('str[5:-2] = ', str[5:-2]) # Output: am"
      ],
      "execution_count": null,
      "outputs": [
        {
          "output_type": "stream",
          "name": "stdout",
          "text": [
            "str =  programiz\n",
            "str[0] =  p\n",
            "str[-1] =  z\n",
            "str[1:5] =  rogr\n",
            "str[5:-2] =  am\n"
          ]
        }
      ]
    },
    {
      "cell_type": "markdown",
      "metadata": {
        "id": "tuwPYrzUH7IH"
      },
      "source": [
        "- Concatenation is probably the most common string operation. To concatenate strings, you use + operator. \n",
        "- Similarly, the * operator can be used to repeat the string for a given number of times."
      ]
    },
    {
      "cell_type": "code",
      "metadata": {
        "colab": {
          "base_uri": "https://localhost:8080/"
        },
        "id": "-3bDB8-wHxME",
        "outputId": "ba175d85-5a3f-4d1a-bdc4-123e8a6e03e6"
      },
      "source": [
        "str1 = 'Hello '\n",
        "str2 ='World!'\n",
        "\n",
        "# Output: Hello World!\n",
        "print(str1 + str2)\n",
        "\n",
        "# Hello Hello Hello\n",
        "print(str1 * 3)"
      ],
      "execution_count": null,
      "outputs": [
        {
          "output_type": "stream",
          "name": "stdout",
          "text": [
            "Hello World!\n",
            "Hello Hello Hello \n"
          ]
        }
      ]
    },
    {
      "cell_type": "markdown",
      "metadata": {
        "id": "fNFRlHoZIAbB"
      },
      "source": [
        "## Sets\n",
        "A set is an unordered collection of items where every element is unique (no duplicates)."
      ]
    },
    {
      "cell_type": "code",
      "metadata": {
        "colab": {
          "base_uri": "https://localhost:8080/"
        },
        "id": "7MiTdv3AH-IA",
        "outputId": "62a03c45-000a-4272-ff60-ce9a70888444"
      },
      "source": [
        "# set of integers\n",
        "my_set = {1, 2, 3}\n",
        "print(my_set)\n",
        "\n",
        "# set of mixed datatypes\n",
        "my_set = {1.0, \"Hello\", (1, 2, 3)}\n",
        "print(my_set)"
      ],
      "execution_count": null,
      "outputs": [
        {
          "output_type": "stream",
          "name": "stdout",
          "text": [
            "{1, 2, 3}\n",
            "{'Hello', 1.0, (1, 2, 3)}\n"
          ]
        }
      ]
    },
    {
      "cell_type": "markdown",
      "metadata": {
        "id": "DFNh-S9IIRhG"
      },
      "source": [
        "Sets are mutable. You can add, remove and delete elements of a set."
      ]
    },
    {
      "cell_type": "code",
      "metadata": {
        "colab": {
          "base_uri": "https://localhost:8080/",
          "height": 136
        },
        "id": "jJPRYpnjIGKV",
        "outputId": "1255a3fb-12ef-48a9-f511-05f60e8d22f9"
      },
      "source": [
        "|# set of integers\n",
        "my_set = {1, 2, 3}\n",
        "\n",
        "my_set.add(4)\n",
        "print(my_set) # Output: {1, 2, 3, 4}\n",
        "\n",
        "my_set.add(2)\n",
        "print(my_set) # Output: {1, 2, 3, 4}\n",
        "\n",
        "my_set.update([3, 4, 5])\n",
        "print(my_set) # Output: {1, 2, 3, 4, 5}\n",
        "\n",
        "my_set.remove(4)\n",
        "print(my_set) # Output: {1, 2, 3, 5}"
      ],
      "execution_count": null,
      "outputs": [
        {
          "output_type": "error",
          "ename": "SyntaxError",
          "evalue": "ignored",
          "traceback": [
            "\u001b[0;36m  File \u001b[0;32m\"<ipython-input-49-ebef560c5e6b>\"\u001b[0;36m, line \u001b[0;32m1\u001b[0m\n\u001b[0;31m    |# set of integers\u001b[0m\n\u001b[0m    ^\u001b[0m\n\u001b[0;31mSyntaxError\u001b[0m\u001b[0;31m:\u001b[0m invalid syntax\n"
          ]
        }
      ]
    },
    {
      "cell_type": "code",
      "metadata": {
        "colab": {
          "base_uri": "https://localhost:8080/"
        },
        "id": "0OlpbsEIIMbd",
        "outputId": "cfc7d070-0075-4e6f-c2e0-ad728d21d2d9"
      },
      "source": [
        "A = {1, 2, 3}\n",
        "B = {2, 3, 4, 5}\n",
        "\n",
        "# Equivalent to A.union(B) \n",
        "# Also equivalent to B.union(A)\n",
        "print(A | B) # Output: {1, 2, 3, 4, 5}\n",
        "\n",
        "# Equivalent to A.intersection(B)\n",
        "# Also equivalent to B.intersection(A)\n",
        "print (A & B) # Output: {2, 3}\n",
        "\n",
        "# Set Difference\n",
        "print (A - B) # Output: {1}\n",
        "\n",
        "# Set Symmetric Difference\n",
        "print(A ^ B)  # Output: {1, 4,"
      ],
      "execution_count": null,
      "outputs": [
        {
          "output_type": "stream",
          "name": "stdout",
          "text": [
            "{1, 2, 3, 4, 5}\n",
            "{2, 3}\n",
            "{1}\n",
            "{1, 4, 5}\n"
          ]
        }
      ]
    },
    {
      "cell_type": "markdown",
      "metadata": {
        "id": "Etqc2ZJsIXI6"
      },
      "source": [
        "## Dictionaries\n",
        "- Dictionary is an unordered collection of items. \n",
        "- While other compound data types have only value as an element, a dictionary has a key: value pair. For example:"
      ]
    },
    {
      "cell_type": "code",
      "metadata": {
        "id": "2_msrA9KIVFi"
      },
      "source": [
        "# empty dictionary\n",
        "my_dict = {}\n",
        "\n",
        "# dictionary with integer keys\n",
        "my_dict = {1: 'apple', 2: 'ball'}\n",
        "\n",
        "# dictionary with mixed keys\n",
        "my_dict = {'name': 'John', 1: [2, 4, 3]}"
      ],
      "execution_count": null,
      "outputs": []
    },
    {
      "cell_type": "markdown",
      "metadata": {
        "id": "keSwLwMoIhXH"
      },
      "source": [
        "- You can also use dict() function to create dictionaries.\n",
        "\n",
        "- To access value from a dictionary, you use key. For example:"
      ]
    },
    {
      "cell_type": "code",
      "metadata": {
        "colab": {
          "base_uri": "https://localhost:8080/"
        },
        "id": "tiF7OcsEIZb9",
        "outputId": "e12d8c25-f4ff-497c-98c6-6d6b6f38e4ee"
      },
      "source": [
        "person = {'name':'Jack', 'age': 26, 'salary': 4534.2}\n",
        "print(person['age']) # Output: 26"
      ],
      "execution_count": null,
      "outputs": [
        {
          "output_type": "stream",
          "name": "stdout",
          "text": [
            "26\n"
          ]
        }
      ]
    },
    {
      "cell_type": "markdown",
      "metadata": {
        "id": "t1ns7rHkIvZQ"
      },
      "source": [
        "## Python range()\n",
        "range() returns an immutable sequence of numbers between the given start integer to the stop integer."
      ]
    },
    {
      "cell_type": "code",
      "metadata": {
        "colab": {
          "base_uri": "https://localhost:8080/"
        },
        "id": "4iZK3uq-IcIO",
        "outputId": "f1eb4b06-be2d-4e0b-f0e1-02cb352b540f"
      },
      "source": [
        "print(range(1, 10)) # Output: range(1, 10)"
      ],
      "execution_count": null,
      "outputs": [
        {
          "output_type": "stream",
          "name": "stdout",
          "text": [
            "range(1, 10)\n"
          ]
        }
      ]
    },
    {
      "cell_type": "code",
      "metadata": {
        "colab": {
          "base_uri": "https://localhost:8080/"
        },
        "id": "GuCRyhTgIzFw",
        "outputId": "939fc6bc-332f-42ba-e2f9-4bb7dcbbca5c"
      },
      "source": [
        "numbers = range(1, 6)\n",
        "\n",
        "print(list(numbers)) # Output: [1, 2, 3, 4, 5]\n",
        "print(tuple(numbers)) # Output: (1, 2, 3, 4, 5)\n",
        "print(set(numbers)) # Output: {1, 2, 3, 4, 5}\n",
        "\n",
        "# Output: {1: 99, 2: 99, 3: 99, 4: 99, 5: 99} \n",
        "print(dict.fromkeys(numbers, 99))"
      ],
      "execution_count": null,
      "outputs": [
        {
          "output_type": "stream",
          "name": "stdout",
          "text": [
            "[1, 2, 3, 4, 5]\n",
            "(1, 2, 3, 4, 5)\n",
            "{1, 2, 3, 4, 5}\n",
            "{1: 99, 2: 99, 3: 99, 4: 99, 5: 99}\n"
          ]
        }
      ]
    },
    {
      "cell_type": "markdown",
      "metadata": {
        "id": "Mvgu6RIjJCjf"
      },
      "source": [
        "Let's try few examples with step parameter."
      ]
    },
    {
      "cell_type": "code",
      "metadata": {
        "colab": {
          "base_uri": "https://localhost:8080/"
        },
        "id": "PlAsKNJQI5dN",
        "outputId": "14615e1f-c241-40a5-f3a1-10d9c5574f0e"
      },
      "source": [
        "# Equivalent to: numbers = range(1, 6)\n",
        "numbers1 = range(1, 6 , 1)\n",
        "print(list(numbers1)) # Output: [1, 2, 3, 4, 5]\n",
        "\n",
        "numbers2 = range(1, 6, 2)\n",
        "print(list(numbers2)) # Output: [1, 3, 5]\n",
        "\n",
        "numbers3 = range(5, 0, -1)\n",
        "print(list(numbers3)) # Output: [5, 4, "
      ],
      "execution_count": null,
      "outputs": [
        {
          "output_type": "stream",
          "name": "stdout",
          "text": [
            "[1, 2, 3, 4, 5]\n",
            "[1, 3, 5]\n",
            "[5, 4, 3, 2, 1]\n"
          ]
        }
      ]
    },
    {
      "cell_type": "markdown",
      "metadata": {
        "id": "ZjxQ0jppJHVw"
      },
      "source": [
        "# Python Control Flow"
      ]
    },
    {
      "cell_type": "markdown",
      "metadata": {
        "id": "Pfbf6b5LJKAZ"
      },
      "source": [
        "## if...else Statement"
      ]
    },
    {
      "cell_type": "code",
      "metadata": {
        "colab": {
          "base_uri": "https://localhost:8080/"
        },
        "id": "vdk89XThJJpj",
        "outputId": "10a3a33e-e698-462d-db1a-6c4c70a9fefa"
      },
      "source": [
        "num = -1\n",
        "\n",
        "if num > 0:\n",
        "    print(\"Positive number\")\n",
        "elif num == 0:\n",
        "    print(\"Zero\")\n",
        "else:\n",
        "    print(\"Negative number\")\n",
        "    \n",
        "# Output: Negative number"
      ],
      "execution_count": null,
      "outputs": [
        {
          "output_type": "stream",
          "name": "stdout",
          "text": [
            "Negative number\n"
          ]
        }
      ]
    },
    {
      "cell_type": "markdown",
      "metadata": {
        "id": "vO-Yy2_vJZL8"
      },
      "source": [
        "## while Loop"
      ]
    },
    {
      "cell_type": "code",
      "metadata": {
        "colab": {
          "base_uri": "https://localhost:8080/"
        },
        "id": "M7zLE6bIJGL_",
        "outputId": "36b42153-fbe2-48fa-b6a9-3b18427797c7"
      },
      "source": [
        "n = 100\n",
        "\n",
        "# initialize sum and counter\n",
        "sum = 0\n",
        "i = 1\n",
        "\n",
        "while i <= n:\n",
        "    sum = sum + i\n",
        "    i = i+1    # update counter\n",
        "\n",
        "print(\"The sum is\", sum)\n",
        "\n",
        "# Output: The sum is 5050"
      ],
      "execution_count": null,
      "outputs": [
        {
          "output_type": "stream",
          "name": "stdout",
          "text": [
            "The sum is 5050\n"
          ]
        }
      ]
    },
    {
      "cell_type": "markdown",
      "metadata": {
        "id": "Ez_tC4LeJgfv"
      },
      "source": [
        "## for Loop"
      ]
    },
    {
      "cell_type": "code",
      "metadata": {
        "colab": {
          "base_uri": "https://localhost:8080/"
        },
        "id": "2f-gExhmJEBR",
        "outputId": "b7720681-4168-4ac8-9480-937ff25ca0d4"
      },
      "source": [
        "numbers = [6, 5, 3, 8, 4, 2]\n",
        "\n",
        "sum = 0\n",
        "\n",
        "# iterate over the list\n",
        "for val in numbers:\n",
        "  sum = sum+val\n",
        "\n",
        "print(\"The sum is\", sum) # Output: The sum is 28"
      ],
      "execution_count": null,
      "outputs": [
        {
          "output_type": "stream",
          "name": "stdout",
          "text": [
            "The sum is 28\n"
          ]
        }
      ]
    },
    {
      "cell_type": "markdown",
      "metadata": {
        "id": "EtYooVpWJkjw"
      },
      "source": [
        "## break Statement"
      ]
    },
    {
      "cell_type": "code",
      "metadata": {
        "colab": {
          "base_uri": "https://localhost:8080/"
        },
        "id": "Yii3fQEGJivN",
        "outputId": "fc622d56-3778-4ab2-f5f1-fa1a920a1135"
      },
      "source": [
        "for val in \"string\":\n",
        "    if val == \"r\":\n",
        "        break\n",
        "    print(val)\n",
        "\n",
        "print(\"The end\")"
      ],
      "execution_count": null,
      "outputs": [
        {
          "output_type": "stream",
          "name": "stdout",
          "text": [
            "s\n",
            "t\n",
            "The end\n"
          ]
        }
      ]
    },
    {
      "cell_type": "markdown",
      "metadata": {
        "id": "mpBlLmzwJws1"
      },
      "source": [
        "## continue Statement"
      ]
    },
    {
      "cell_type": "code",
      "metadata": {
        "colab": {
          "base_uri": "https://localhost:8080/"
        },
        "id": "JC30BIMkJoDJ",
        "outputId": "48004f1c-1434-4263-cc4c-0ff65b2b923c"
      },
      "source": [
        "for val in \"string\":\n",
        "    if val == \"r\":\n",
        "        continue\n",
        "    print(val)\n",
        "\n",
        "print(\"The end\")"
      ],
      "execution_count": null,
      "outputs": [
        {
          "output_type": "stream",
          "name": "stdout",
          "text": [
            "s\n",
            "t\n",
            "i\n",
            "n\n",
            "g\n",
            "The end\n"
          ]
        }
      ]
    },
    {
      "cell_type": "markdown",
      "metadata": {
        "id": "iz7fi7XOJ3SV"
      },
      "source": [
        "## pass Statement"
      ]
    },
    {
      "cell_type": "code",
      "metadata": {
        "id": "EQW_E8cDJyjt"
      },
      "source": [
        "sequence = {'p', 'a', 's', 's'}\n",
        "for val in sequence:\n",
        "    pass"
      ],
      "execution_count": null,
      "outputs": []
    },
    {
      "cell_type": "markdown",
      "metadata": {
        "id": "4XIjYwKYJ7MV"
      },
      "source": [
        "## Python Function"
      ]
    },
    {
      "cell_type": "code",
      "metadata": {
        "id": "sT6xV64yJ8UF"
      },
      "source": [
        "def print_lines():\n",
        "  print(\"I am line1.\")\n",
        "  print(\"I am line2.\")"
      ],
      "execution_count": null,
      "outputs": []
    },
    {
      "cell_type": "code",
      "metadata": {
        "colab": {
          "base_uri": "https://localhost:8080/"
        },
        "id": "77n2j9gSKCUk",
        "outputId": "cbaba83c-cb2e-4f3b-c483-878ff031f886"
      },
      "source": [
        "# function call\n",
        "print_lines()"
      ],
      "execution_count": null,
      "outputs": [
        {
          "output_type": "stream",
          "name": "stdout",
          "text": [
            "I am line1.\n",
            "I am line2.\n"
          ]
        }
      ]
    },
    {
      "cell_type": "markdown",
      "metadata": {
        "id": "xA5JlZ97KHk0"
      },
      "source": [
        "### A function can accept arguments."
      ]
    },
    {
      "cell_type": "code",
      "metadata": {
        "colab": {
          "base_uri": "https://localhost:8080/"
        },
        "id": "tK0Bj5LHKF0s",
        "outputId": "4ec5ed4d-a2ce-4f31-bc5c-245f0d1c4cec"
      },
      "source": [
        "def add_numbers(a, b):\n",
        "  sum = a + b\n",
        "  print(sum)\n",
        "\n",
        "add_numbers(4, 5)"
      ],
      "execution_count": null,
      "outputs": [
        {
          "output_type": "stream",
          "name": "stdout",
          "text": [
            "9\n"
          ]
        }
      ]
    },
    {
      "cell_type": "markdown",
      "metadata": {
        "id": "vdy3SUm6KPuZ"
      },
      "source": [
        "### You can also return value from a function using return statement."
      ]
    },
    {
      "cell_type": "code",
      "metadata": {
        "colab": {
          "base_uri": "https://localhost:8080/"
        },
        "id": "ZaJj_35VKPk3",
        "outputId": "71987059-7d0e-43a7-9c18-30b433817988"
      },
      "source": [
        "def add_numbers(a, b):\n",
        "  sum = a + b\n",
        "  return sum\n",
        "\n",
        "result = add_numbers(4, 5)\n",
        "print(result)"
      ],
      "execution_count": null,
      "outputs": [
        {
          "output_type": "stream",
          "name": "stdout",
          "text": [
            "9\n"
          ]
        }
      ]
    },
    {
      "cell_type": "markdown",
      "metadata": {
        "id": "o8ZJV1IPKcOe"
      },
      "source": [
        "### Recursion (Recursive function)\n",
        "- A function that calls itself is known as recursive function and this process is called recursion.\n",
        "\n",
        "- Every recursive function must have a base condition that stops the recursion or else the function calls itself infinitely."
      ]
    },
    {
      "cell_type": "code",
      "metadata": {
        "id": "yHoMp1jsKPOW",
        "outputId": "d74713d5-1c64-4176-dac9-58ffc5589548",
        "colab": {
          "base_uri": "https://localhost:8080/",
          "height": 136
        }
      },
      "source": [
        "You can also return value from a function using return statement."
      ],
      "execution_count": null,
      "outputs": [
        {
          "output_type": "error",
          "ename": "SyntaxError",
          "evalue": "ignored",
          "traceback": [
            "\u001b[0;36m  File \u001b[0;32m\"<ipython-input-66-6d456132ff82>\"\u001b[0;36m, line \u001b[0;32m1\u001b[0m\n\u001b[0;31m    You can also return value from a function using return statement.\u001b[0m\n\u001b[0m          ^\u001b[0m\n\u001b[0;31mSyntaxError\u001b[0m\u001b[0;31m:\u001b[0m invalid syntax\n"
          ]
        }
      ]
    },
    {
      "cell_type": "code",
      "metadata": {
        "colab": {
          "base_uri": "https://localhost:8080/"
        },
        "id": "Xx9W5fz3KGJX",
        "outputId": "875470e3-41ff-4702-b40f-72bdae36ad6d"
      },
      "source": [
        "# Recursive function to find the factorial of a number\n",
        "\n",
        "def calc_factorial(x):\n",
        "\n",
        "    if x == 1:\n",
        "        return 1\n",
        "    else:\n",
        "        return (x * calc_factorial(x-1))\n",
        "\n",
        "num = 6\n",
        "print(\"The factorial of\", num, \"is\", calc_factorial(num)) \n"
      ],
      "execution_count": null,
      "outputs": [
        {
          "output_type": "stream",
          "name": "stdout",
          "text": [
            "The factorial of 6 is 720\n"
          ]
        }
      ]
    },
    {
      "cell_type": "markdown",
      "metadata": {
        "id": "DY36X4tmKtin"
      },
      "source": [
        "## Lambda Function\n",
        "- In Python, you can define functions without a name. \n",
        "- These functions are called lambda or anonymous function. \n",
        "- To create a lambda function, lambda keyword is used."
      ]
    },
    {
      "cell_type": "code",
      "metadata": {
        "colab": {
          "base_uri": "https://localhost:8080/"
        },
        "id": "gxOsHtpbKoWN",
        "outputId": "8e7af610-f9b2-4972-b539-5f6af0c86a8f"
      },
      "source": [
        "square = lambda x: x ** 2\n",
        "\n",
        "print(square(5))"
      ],
      "execution_count": null,
      "outputs": [
        {
          "output_type": "stream",
          "name": "stdout",
          "text": [
            "25\n"
          ]
        }
      ]
    },
    {
      "cell_type": "markdown",
      "metadata": {
        "id": "4hd3GJxcK4uJ"
      },
      "source": [
        "# Modules\n",
        "\n",
        "- Modules refer to a file containing Python statements and definitions.\n",
        "\n",
        "- A file containing Python code, for e.g.: example.py, is called a module and its module name would be example.\n",
        "\n",
        "- Let us create it and save it as example.py."
      ]
    },
    {
      "cell_type": "code",
      "metadata": {
        "id": "426zDdcbK2Mf"
      },
      "source": [
        "! echo -e  \"def add(a, b):\\\\n\\\\treturn a + b\" > example.py\n",
        "\n",
        "# def add(a, b):\n",
        "#    return a + b"
      ],
      "execution_count": null,
      "outputs": []
    },
    {
      "cell_type": "code",
      "metadata": {
        "colab": {
          "base_uri": "https://localhost:8080/"
        },
        "id": "Ra3nJ_hSLePE",
        "outputId": "7631ef73-a357-44e9-93d2-10891cbf8bc1"
      },
      "source": [
        "! cat example.py"
      ],
      "execution_count": null,
      "outputs": [
        {
          "output_type": "stream",
          "name": "stdout",
          "text": [
            "def add(a, b):\n",
            "\treturn a + b\n"
          ]
        }
      ]
    },
    {
      "cell_type": "markdown",
      "metadata": {
        "id": "9YtxuC5dMPhO"
      },
      "source": [
        "To use this module, we use import keyword."
      ]
    },
    {
      "cell_type": "code",
      "metadata": {
        "colab": {
          "base_uri": "https://localhost:8080/"
        },
        "id": "3UJyNnNeLgS2",
        "outputId": "9ad994e4-8109-417f-ff49-db736381704e"
      },
      "source": [
        "# importing example module\n",
        "import example \n",
        "\n",
        "# accessing the function inside the module using . operator\n",
        "example.add(4, 5.5) "
      ],
      "execution_count": null,
      "outputs": [
        {
          "output_type": "execute_result",
          "data": {
            "text/plain": [
              "9.5"
            ]
          },
          "metadata": {},
          "execution_count": 71
        }
      ]
    },
    {
      "cell_type": "markdown",
      "metadata": {
        "id": "1Z3f4IjOMTOX"
      },
      "source": [
        "Python has a ton of standard modules readily available for use. For example:"
      ]
    },
    {
      "cell_type": "code",
      "metadata": {
        "colab": {
          "base_uri": "https://localhost:8080/"
        },
        "id": "yuQT7w-_MTmE",
        "outputId": "d3c0a8af-6a0c-4496-efeb-804e3223499f"
      },
      "source": [
        "import math\n",
        "\n",
        "result = math.log2(5) # return the base-2 logarithm\n",
        "print(result) # Output: 2.321928094887362"
      ],
      "execution_count": null,
      "outputs": [
        {
          "output_type": "stream",
          "name": "stdout",
          "text": [
            "2.321928094887362\n"
          ]
        }
      ]
    },
    {
      "cell_type": "code",
      "metadata": {
        "colab": {
          "base_uri": "https://localhost:8080/"
        },
        "id": "rSblzeaWMUoK",
        "outputId": "e58c902b-e9f9-4562-bb32-f274cdcd02fc"
      },
      "source": [
        "from math import pi\n",
        "print(\"The value of pi is\", pi)\n",
        "\n",
        "# Output: The value of pi is 3.141592653589793"
      ],
      "execution_count": null,
      "outputs": [
        {
          "output_type": "stream",
          "name": "stdout",
          "text": [
            "The value of pi is 3.141592653589793\n"
          ]
        }
      ]
    },
    {
      "cell_type": "markdown",
      "metadata": {
        "id": "Qck9TtVNMZve"
      },
      "source": [
        ""
      ]
    },
    {
      "cell_type": "markdown",
      "metadata": {
        "id": "HRsqSnWPMYmD"
      },
      "source": [
        "# Python File I/O\n",
        "A file operation takes place in the following order.\n",
        "\n",
        "- Open a file\n",
        "- Read or write (perform operation)\n",
        "- Close the file"
      ]
    },
    {
      "cell_type": "code",
      "metadata": {
        "colab": {
          "base_uri": "https://localhost:8080/"
        },
        "id": "2-QrYM1eM0e6",
        "outputId": "41c95fea-b670-44f6-97d5-b95b295ffe7f"
      },
      "source": [
        "! echo -e  \"Hello\\nPython\" > test.txt\n",
        "!ls"
      ],
      "execution_count": null,
      "outputs": [
        {
          "output_type": "stream",
          "name": "stdout",
          "text": [
            "anscombe.json\t\t      mnist_test.csv\t     tasty\n",
            "california_housing_test.csv   mnist_train_small.csv  test.txt\n",
            "california_housing_train.csv  README.md\n"
          ]
        }
      ]
    },
    {
      "cell_type": "markdown",
      "metadata": {
        "id": "-GIdmJvINo8N"
      },
      "source": [
        "### How to open a file?"
      ]
    },
    {
      "cell_type": "code",
      "metadata": {
        "id": "wyPB0hRuMZc0"
      },
      "source": [
        "f = open(\"test.txt\")    # open file in current directory"
      ],
      "execution_count": null,
      "outputs": []
    },
    {
      "cell_type": "code",
      "metadata": {
        "id": "0hRzKFRQMuJK"
      },
      "source": [
        "f = open(\"test.txt\")      # equivalent to 'r' or 'rt'\n",
        "f = open(\"test.txt\",'w')  # write in text mode\n",
        "# f = open(\"img.bmp\",'r+b') # read and write in binary mode"
      ],
      "execution_count": null,
      "outputs": []
    },
    {
      "cell_type": "markdown",
      "metadata": {
        "id": "kUhndgtzNR29"
      },
      "source": [
        "### How to close a file?"
      ]
    },
    {
      "cell_type": "code",
      "metadata": {
        "id": "Snaqbv3JM-8c"
      },
      "source": [
        "f = open(\"test.txt\",encoding = 'utf-8')\n",
        "# perform file operations\n",
        "f.close()"
      ],
      "execution_count": null,
      "outputs": []
    },
    {
      "cell_type": "markdown",
      "metadata": {
        "id": "eXsNsHIRNTOY"
      },
      "source": [
        "### How to write to a file?"
      ]
    },
    {
      "cell_type": "code",
      "metadata": {
        "id": "BUU7hTt-NNJd"
      },
      "source": [
        "with open(\"test.txt\",'w',encoding = 'utf-8') as f:\n",
        "   f.write(\"my first file\\n\")\n",
        "   f.write(\"This file\\n\\n\")\n",
        "   f.write(\"contains three lines\\n\")"
      ],
      "execution_count": null,
      "outputs": []
    },
    {
      "cell_type": "code",
      "metadata": {
        "colab": {
          "base_uri": "https://localhost:8080/"
        },
        "id": "Rk6iyaqXOAfi",
        "outputId": "b12e635c-2efd-43fe-c65d-758bddd2c3d4"
      },
      "source": [
        "!more test.txt"
      ],
      "execution_count": null,
      "outputs": [
        {
          "output_type": "stream",
          "name": "stdout",
          "text": [
            "my first file\n",
            "This file\n",
            "\n",
            "contains three lines\n"
          ]
        }
      ]
    },
    {
      "cell_type": "markdown",
      "metadata": {
        "id": "em4nUkQEOdHu"
      },
      "source": [
        "# Python Exception Handling\n",
        "- Errors that occur at runtime are called exceptions. \n",
        "- They occur, for example, when a file we try to open does not exist FileNotFoundError, \n",
        "- dividing a number by zero ZeroDivisionError etc."
      ]
    },
    {
      "cell_type": "code",
      "metadata": {
        "colab": {
          "base_uri": "https://localhost:8080/"
        },
        "id": "cER9xDv6Nzpc",
        "outputId": "b8e6ad87-7ef8-4ef9-8522-26e58ca46592"
      },
      "source": [
        "# import module sys to get the type of exception\n",
        "import sys\n",
        "\n",
        "randomList = ['a', 0, 2]\n",
        "\n",
        "for entry in randomList:\n",
        "    try:\n",
        "        print(\"The entry is\", entry)\n",
        "        r = 1/int(entry)\n",
        "        break\n",
        "    except:\n",
        "        print(\"Oops!\",sys.exc_info()[0],\"occurred.\")\n",
        "        print(\"Next entry.\")\n",
        "        print()\n",
        "print(\"The reciprocal of\",entry,\"is\",r)"
      ],
      "execution_count": null,
      "outputs": [
        {
          "output_type": "stream",
          "name": "stdout",
          "text": [
            "The entry is a\n",
            "Oops! <class 'ValueError'> occurred.\n",
            "Next entry.\n",
            "\n",
            "The entry is 0\n",
            "Oops! <class 'ZeroDivisionError'> occurred.\n",
            "Next entry.\n",
            "\n",
            "The entry is 2\n",
            "The reciprocal of 2 is 0.5\n"
          ]
        }
      ]
    },
    {
      "cell_type": "markdown",
      "metadata": {
        "id": "gJV_9eS1PD4a"
      },
      "source": [
        "# Python OOP\n",
        "Everything in Python is an object including integers, floats, functions, classes, and None. "
      ]
    },
    {
      "cell_type": "markdown",
      "metadata": {
        "id": "FnXH-FgIPPFW"
      },
      "source": [
        "## Class and Objects\n",
        "### How to define a class?"
      ]
    },
    {
      "cell_type": "code",
      "metadata": {
        "id": "xrnQ6Q9JPEc5"
      },
      "source": [
        "class MyClass:\n",
        "    a = 10\n",
        "    def func(self):\n",
        "        print('Hello')  "
      ],
      "execution_count": null,
      "outputs": []
    },
    {
      "cell_type": "markdown",
      "metadata": {
        "id": "iau0otLMPvDh"
      },
      "source": [
        "## Creating Objects"
      ]
    },
    {
      "cell_type": "code",
      "metadata": {
        "colab": {
          "base_uri": "https://localhost:8080/"
        },
        "id": "vo19hQ5XPTry",
        "outputId": "45559345-8649-4059-ee51-e4cd3274c909"
      },
      "source": [
        "obj1 = MyClass()\n",
        "print(obj1.a)        # Output: 10\n",
        " \n",
        "obj2 = MyClass()\n",
        "print(obj1.a + 5)    # Output: 15"
      ],
      "execution_count": null,
      "outputs": [
        {
          "output_type": "stream",
          "name": "stdout",
          "text": [
            "10\n",
            "15\n"
          ]
        }
      ]
    },
    {
      "cell_type": "markdown",
      "metadata": {
        "id": "2sl7T6FxPx0f"
      },
      "source": [
        "### Python Constructors\n",
        "- In Python, a method with name __init()__ is a constructor. \n",
        "- This method is automatically called when an object is instantiated."
      ]
    },
    {
      "cell_type": "code",
      "metadata": {
        "colab": {
          "base_uri": "https://localhost:8080/"
        },
        "id": "NVt0IC2ePfSS",
        "outputId": "c08173b5-f864-4173-eb2d-47dddd5b8eb6"
      },
      "source": [
        "class ComplexNumber:\n",
        "    def __init__(self,r = 0,i = 0):  # constructor\n",
        "        self.real = r\n",
        "        self.imag = i\n",
        "\n",
        "    def getData(self):\n",
        "        print(\"{0}+{1}j\".format(self.real,self.imag))\n",
        "\n",
        "\n",
        "c1 = ComplexNumber(2,3) # Create a new ComplexNumber object\n",
        "c1.getData() # Output: 2+3j\n",
        "\n",
        "c2 = ComplexNumber() # Create a new ComplexNumber object\n",
        "c2.getData() # Output: 0+0j"
      ],
      "execution_count": null,
      "outputs": [
        {
          "output_type": "stream",
          "name": "stdout",
          "text": [
            "2+3j\n",
            "0+0j\n"
          ]
        }
      ]
    },
    {
      "cell_type": "markdown",
      "metadata": {
        "id": "_00uFyhMP85g"
      },
      "source": [
        "### Python Inheritance\n",
        "Inheritance refers to defining a new class with little or no modification to an existing class."
      ]
    },
    {
      "cell_type": "code",
      "metadata": {
        "id": "5SXNGHGnP-8U"
      },
      "source": [
        "class Mammal:\n",
        "    def displayMammalFeatures(self):\n",
        "        print('Mammal is a warm-blooded animal.')"
      ],
      "execution_count": null,
      "outputs": []
    },
    {
      "cell_type": "code",
      "metadata": {
        "id": "Gje47Jy0QACS"
      },
      "source": [
        "class Dog(Mammal):\n",
        "    def displayDogFeatures(self):\n",
        "        print('Dog has 4 legs.')"
      ],
      "execution_count": null,
      "outputs": []
    },
    {
      "cell_type": "code",
      "metadata": {
        "colab": {
          "base_uri": "https://localhost:8080/"
        },
        "id": "3ijnn90CQJfT",
        "outputId": "98002a4e-59ef-4b9a-b46a-e64dd6a9e95a"
      },
      "source": [
        "d = Dog()\n",
        "d.displayDogFeatures()\n",
        "d.displayMammalFeatures()"
      ],
      "execution_count": null,
      "outputs": [
        {
          "output_type": "stream",
          "name": "stdout",
          "text": [
            "Dog has 4 legs.\n",
            "Mammal is a warm-blooded animal.\n"
          ]
        }
      ]
    },
    {
      "cell_type": "code",
      "metadata": {
        "id": "4McPfR3BQWDs"
      },
      "source": [
        ""
      ],
      "execution_count": null,
      "outputs": []
    }
  ]
}