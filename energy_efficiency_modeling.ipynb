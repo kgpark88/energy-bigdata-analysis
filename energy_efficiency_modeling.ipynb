{
  "metadata": {
    "kernelspec": {
      "language": "python",
      "display_name": "Python 3",
      "name": "python3"
    },
    "language_info": {
      "name": "python",
      "version": "3.7.6",
      "mimetype": "text/x-python",
      "codemirror_mode": {
        "name": "ipython",
        "version": 3
      },
      "pygments_lexer": "ipython3",
      "nbconvert_exporter": "python",
      "file_extension": ".py"
    },
    "colab": {
      "name": "energy_efficiency_modeling.ipynb",
      "provenance": [],
      "collapsed_sections": [],
      "include_colab_link": true
    }
  },
  "nbformat_minor": 0,
  "nbformat": 4,
  "cells": [
    {
      "cell_type": "markdown",
      "metadata": {
        "id": "view-in-github",
        "colab_type": "text"
      },
      "source": [
        "<a href=\"https://colab.research.google.com/github/kgpark88/energy-bigdata-analysis/blob/main/energy_efficiency_modeling.ipynb\" target=\"_parent\"><img src=\"https://colab.research.google.com/assets/colab-badge.svg\" alt=\"Open In Colab\"/></a>"
      ]
    },
    {
      "cell_type": "markdown",
      "source": [
        "### 출처 : https://www.kaggle.com/datasets/winternguyen/energy-efficiency-on-buildings/code"
      ],
      "metadata": {
        "id": "0rsEGliPnB1g"
      }
    },
    {
      "cell_type": "markdown",
      "source": [
        "<a href=\"https://ibb.co/tc0YwXc\"><img src=\"https://i.ibb.co/3WxS5zW/Energy-Efficiency-Buildings.jpg\" alt=\"Energy-Efficiency-Buildings\" border=\"0\"></a>"
      ],
      "metadata": {
        "id": "yM7GT9cImb4i"
      }
    },
    {
      "cell_type": "markdown",
      "source": [
        "### 건물 에너지 소비는 전체 에너지 사용의 약 40%를 차지합니다.\n",
        "### 설계 단계에서 건물의 냉난방 부하를 예측하는 것은 에너지 효율화를 위해 매우 중요합니다.\n",
        "### 건물 에너지 성능에 대한 데이터셋을 기반으로 건물의 냉난방 부하를 예측하기 위해 다양한 모델을 적용합니다.\n",
        "\n",
        "#### Input \n",
        "- relative compactness\n",
        "- roof area\n",
        "- overall height \n",
        "- surface area\n",
        "- glazing area \n",
        "- wall area\n",
        "- glazing area distribution of a building \n",
        "- orientation.\n",
        "\n",
        "#### Output\n",
        "- 난방부하\n",
        "- 냉방부하\n"
      ],
      "metadata": {
        "id": "pMGwxYT_mb4m"
      }
    },
    {
      "cell_type": "code",
      "source": [
        "import os\n",
        "import numpy as np\n",
        "import pandas as pd\n",
        "import matplotlib.pyplot as plt\n",
        "import seaborn as sns\n",
        "import warnings\n",
        "warnings.filterwarnings('ignore')"
      ],
      "metadata": {
        "execution": {
          "iopub.status.busy": "2022-04-23T08:43:51.188675Z",
          "iopub.execute_input": "2022-04-23T08:43:51.189214Z",
          "iopub.status.idle": "2022-04-23T08:43:52.274175Z",
          "shell.execute_reply.started": "2022-04-23T08:43:51.189168Z",
          "shell.execute_reply": "2022-04-23T08:43:52.272485Z"
        },
        "trusted": true,
        "id": "2MJoXFlMmb4o"
      },
      "execution_count": 1,
      "outputs": []
    },
    {
      "cell_type": "markdown",
      "source": [
        "# 1. 소개\n",
        "- 건물에서 열에너지는 냉방부하(CL)와 난방부하(HL)의 두 가지 측정을 포함하며 이러한 측정은 난방 환기 및 공조(HVAC) 시스템에 의해 규제됩니다. \n",
        "- HVAC 시스템은 공간의 HL과 CL을 계산하여 원하는 실내 공기 상태를 제공하도록 설계되었습니다. \n",
        "- 필요한 냉·난방 용량은 주로 건물 특성, 유형, 기후 조건을 포함한 기본 요소에 따라 산정됩니다.\n",
        "- 건물에너지성능을 적절하게 검토하고 HVAC 시스템을 최적으로 설계함으로써 보다 지속 가능한 에너지 소비를 보장할 수 있습니다\n"
      ],
      "metadata": {
        "id": "UnYGB55bmb4o"
      }
    },
    {
      "cell_type": "markdown",
      "source": [
        "# 2. 데이터 준비\n",
        "\n",
        "- 원 데이터셋 : https://archive.ics.uci.edu/ml/datasets/Energy+efficiency\n",
        "- 사용 데이터셋 : https://www.kaggle.com/datasets/winternguyen/energy-efficiency-on-buildings"
      ],
      "metadata": {
        "id": "15mq1KIwmb4p"
      }
    },
    {
      "cell_type": "code",
      "source": [
        "# data = pd.read_csv('Building Energy Efficiency.csv')\n",
        "data = pd.read_csv('https://raw.githubusercontent.com/kgpark88/energy-bigdata-analysis/main/building_energy_efficiency.csv')"
      ],
      "metadata": {
        "_uuid": "d629ff2d2480ee46fbb7e2d37f6b5fab8052498a",
        "_cell_guid": "79c7e3d0-c299-4dcb-8224-4455121ee9b0",
        "execution": {
          "iopub.status.busy": "2022-04-23T08:43:58.180405Z",
          "iopub.execute_input": "2022-04-23T08:43:58.181014Z",
          "iopub.status.idle": "2022-04-23T08:43:58.199377Z",
          "shell.execute_reply.started": "2022-04-23T08:43:58.180973Z",
          "shell.execute_reply": "2022-04-23T08:43:58.198033Z"
        },
        "trusted": true,
        "id": "0LZ9bKipmb4p"
      },
      "execution_count": 2,
      "outputs": []
    },
    {
      "cell_type": "code",
      "source": [
        "data.head()"
      ],
      "metadata": {
        "execution": {
          "iopub.status.busy": "2022-04-23T08:44:00.250740Z",
          "iopub.execute_input": "2022-04-23T08:44:00.251148Z",
          "iopub.status.idle": "2022-04-23T08:44:00.289046Z",
          "shell.execute_reply.started": "2022-04-23T08:44:00.251112Z",
          "shell.execute_reply": "2022-04-23T08:44:00.287687Z"
        },
        "trusted": true,
        "colab": {
          "base_uri": "https://localhost:8080/",
          "height": 267
        },
        "id": "tJpHxw6Fmb4q",
        "outputId": "94ba1fef-5442-4a05-a706-d2a7f74eb8df"
      },
      "execution_count": 3,
      "outputs": [
        {
          "output_type": "execute_result",
          "data": {
            "text/plain": [
              "   Relative Compactness  Surface Area  Wall Area  Roof Area  Overall Height  \\\n",
              "0                0.7638         514.5      294.0     110.25             7.0   \n",
              "1                0.9800         514.5      294.0     110.25             7.0   \n",
              "2                0.9800         514.5      294.0     110.25             7.0   \n",
              "3                0.9800         514.5      294.0     110.25             7.0   \n",
              "4                0.9000         563.5      318.5     122.50             7.0   \n",
              "\n",
              "   Orientation  Glazing Area  Glazing Area Distribution  Heating Load  \\\n",
              "0            2           0.0                          0         15.55   \n",
              "1            3           0.0                          0         15.55   \n",
              "2            4           0.0                          0         15.55   \n",
              "3            5           0.0                          0         15.55   \n",
              "4            2           0.0                          0         20.84   \n",
              "\n",
              "   Cooling Load  \n",
              "0         21.33  \n",
              "1         21.33  \n",
              "2         21.33  \n",
              "3         21.33  \n",
              "4         28.28  "
            ],
            "text/html": [
              "\n",
              "  <div id=\"df-9d3223fc-32cc-49ec-88b6-bb35e2f288eb\">\n",
              "    <div class=\"colab-df-container\">\n",
              "      <div>\n",
              "<style scoped>\n",
              "    .dataframe tbody tr th:only-of-type {\n",
              "        vertical-align: middle;\n",
              "    }\n",
              "\n",
              "    .dataframe tbody tr th {\n",
              "        vertical-align: top;\n",
              "    }\n",
              "\n",
              "    .dataframe thead th {\n",
              "        text-align: right;\n",
              "    }\n",
              "</style>\n",
              "<table border=\"1\" class=\"dataframe\">\n",
              "  <thead>\n",
              "    <tr style=\"text-align: right;\">\n",
              "      <th></th>\n",
              "      <th>Relative Compactness</th>\n",
              "      <th>Surface Area</th>\n",
              "      <th>Wall Area</th>\n",
              "      <th>Roof Area</th>\n",
              "      <th>Overall Height</th>\n",
              "      <th>Orientation</th>\n",
              "      <th>Glazing Area</th>\n",
              "      <th>Glazing Area Distribution</th>\n",
              "      <th>Heating Load</th>\n",
              "      <th>Cooling Load</th>\n",
              "    </tr>\n",
              "  </thead>\n",
              "  <tbody>\n",
              "    <tr>\n",
              "      <th>0</th>\n",
              "      <td>0.7638</td>\n",
              "      <td>514.5</td>\n",
              "      <td>294.0</td>\n",
              "      <td>110.25</td>\n",
              "      <td>7.0</td>\n",
              "      <td>2</td>\n",
              "      <td>0.0</td>\n",
              "      <td>0</td>\n",
              "      <td>15.55</td>\n",
              "      <td>21.33</td>\n",
              "    </tr>\n",
              "    <tr>\n",
              "      <th>1</th>\n",
              "      <td>0.9800</td>\n",
              "      <td>514.5</td>\n",
              "      <td>294.0</td>\n",
              "      <td>110.25</td>\n",
              "      <td>7.0</td>\n",
              "      <td>3</td>\n",
              "      <td>0.0</td>\n",
              "      <td>0</td>\n",
              "      <td>15.55</td>\n",
              "      <td>21.33</td>\n",
              "    </tr>\n",
              "    <tr>\n",
              "      <th>2</th>\n",
              "      <td>0.9800</td>\n",
              "      <td>514.5</td>\n",
              "      <td>294.0</td>\n",
              "      <td>110.25</td>\n",
              "      <td>7.0</td>\n",
              "      <td>4</td>\n",
              "      <td>0.0</td>\n",
              "      <td>0</td>\n",
              "      <td>15.55</td>\n",
              "      <td>21.33</td>\n",
              "    </tr>\n",
              "    <tr>\n",
              "      <th>3</th>\n",
              "      <td>0.9800</td>\n",
              "      <td>514.5</td>\n",
              "      <td>294.0</td>\n",
              "      <td>110.25</td>\n",
              "      <td>7.0</td>\n",
              "      <td>5</td>\n",
              "      <td>0.0</td>\n",
              "      <td>0</td>\n",
              "      <td>15.55</td>\n",
              "      <td>21.33</td>\n",
              "    </tr>\n",
              "    <tr>\n",
              "      <th>4</th>\n",
              "      <td>0.9000</td>\n",
              "      <td>563.5</td>\n",
              "      <td>318.5</td>\n",
              "      <td>122.50</td>\n",
              "      <td>7.0</td>\n",
              "      <td>2</td>\n",
              "      <td>0.0</td>\n",
              "      <td>0</td>\n",
              "      <td>20.84</td>\n",
              "      <td>28.28</td>\n",
              "    </tr>\n",
              "  </tbody>\n",
              "</table>\n",
              "</div>\n",
              "      <button class=\"colab-df-convert\" onclick=\"convertToInteractive('df-9d3223fc-32cc-49ec-88b6-bb35e2f288eb')\"\n",
              "              title=\"Convert this dataframe to an interactive table.\"\n",
              "              style=\"display:none;\">\n",
              "        \n",
              "  <svg xmlns=\"http://www.w3.org/2000/svg\" height=\"24px\"viewBox=\"0 0 24 24\"\n",
              "       width=\"24px\">\n",
              "    <path d=\"M0 0h24v24H0V0z\" fill=\"none\"/>\n",
              "    <path d=\"M18.56 5.44l.94 2.06.94-2.06 2.06-.94-2.06-.94-.94-2.06-.94 2.06-2.06.94zm-11 1L8.5 8.5l.94-2.06 2.06-.94-2.06-.94L8.5 2.5l-.94 2.06-2.06.94zm10 10l.94 2.06.94-2.06 2.06-.94-2.06-.94-.94-2.06-.94 2.06-2.06.94z\"/><path d=\"M17.41 7.96l-1.37-1.37c-.4-.4-.92-.59-1.43-.59-.52 0-1.04.2-1.43.59L10.3 9.45l-7.72 7.72c-.78.78-.78 2.05 0 2.83L4 21.41c.39.39.9.59 1.41.59.51 0 1.02-.2 1.41-.59l7.78-7.78 2.81-2.81c.8-.78.8-2.07 0-2.86zM5.41 20L4 18.59l7.72-7.72 1.47 1.35L5.41 20z\"/>\n",
              "  </svg>\n",
              "      </button>\n",
              "      \n",
              "  <style>\n",
              "    .colab-df-container {\n",
              "      display:flex;\n",
              "      flex-wrap:wrap;\n",
              "      gap: 12px;\n",
              "    }\n",
              "\n",
              "    .colab-df-convert {\n",
              "      background-color: #E8F0FE;\n",
              "      border: none;\n",
              "      border-radius: 50%;\n",
              "      cursor: pointer;\n",
              "      display: none;\n",
              "      fill: #1967D2;\n",
              "      height: 32px;\n",
              "      padding: 0 0 0 0;\n",
              "      width: 32px;\n",
              "    }\n",
              "\n",
              "    .colab-df-convert:hover {\n",
              "      background-color: #E2EBFA;\n",
              "      box-shadow: 0px 1px 2px rgba(60, 64, 67, 0.3), 0px 1px 3px 1px rgba(60, 64, 67, 0.15);\n",
              "      fill: #174EA6;\n",
              "    }\n",
              "\n",
              "    [theme=dark] .colab-df-convert {\n",
              "      background-color: #3B4455;\n",
              "      fill: #D2E3FC;\n",
              "    }\n",
              "\n",
              "    [theme=dark] .colab-df-convert:hover {\n",
              "      background-color: #434B5C;\n",
              "      box-shadow: 0px 1px 3px 1px rgba(0, 0, 0, 0.15);\n",
              "      filter: drop-shadow(0px 1px 2px rgba(0, 0, 0, 0.3));\n",
              "      fill: #FFFFFF;\n",
              "    }\n",
              "  </style>\n",
              "\n",
              "      <script>\n",
              "        const buttonEl =\n",
              "          document.querySelector('#df-9d3223fc-32cc-49ec-88b6-bb35e2f288eb button.colab-df-convert');\n",
              "        buttonEl.style.display =\n",
              "          google.colab.kernel.accessAllowed ? 'block' : 'none';\n",
              "\n",
              "        async function convertToInteractive(key) {\n",
              "          const element = document.querySelector('#df-9d3223fc-32cc-49ec-88b6-bb35e2f288eb');\n",
              "          const dataTable =\n",
              "            await google.colab.kernel.invokeFunction('convertToInteractive',\n",
              "                                                     [key], {});\n",
              "          if (!dataTable) return;\n",
              "\n",
              "          const docLinkHtml = 'Like what you see? Visit the ' +\n",
              "            '<a target=\"_blank\" href=https://colab.research.google.com/notebooks/data_table.ipynb>data table notebook</a>'\n",
              "            + ' to learn more about interactive tables.';\n",
              "          element.innerHTML = '';\n",
              "          dataTable['output_type'] = 'display_data';\n",
              "          await google.colab.output.renderOutput(dataTable, element);\n",
              "          const docLink = document.createElement('div');\n",
              "          docLink.innerHTML = docLinkHtml;\n",
              "          element.appendChild(docLink);\n",
              "        }\n",
              "      </script>\n",
              "    </div>\n",
              "  </div>\n",
              "  "
            ]
          },
          "metadata": {},
          "execution_count": 3
        }
      ]
    },
    {
      "cell_type": "markdown",
      "source": [
        "# Variable(s) Information:\n",
        "\n",
        "+ Relative Compactness\n",
        "+ Surface Area - m²\n",
        "+ Wall Area - m²\n",
        "+ Roof Area - m²\n",
        "+ Overall Height - m\n",
        "+ Orientation - 2:North, 3:East, 4:South, 5:West\n",
        "+ Glazing Area - 0%, 10%, 25%, 40% (of floor area)\n",
        "+ Glazing Area Distribution (Variance) - 1:Uniform, 2:North, 3:East, 4:South, 5:West\n",
        "+ Heating Load - kWh\n",
        "+ Cooling Load - kWh"
      ],
      "metadata": {
        "id": "qvNYh9QUmb4r"
      }
    },
    {
      "cell_type": "code",
      "source": [
        "data.shape"
      ],
      "metadata": {
        "trusted": true,
        "colab": {
          "base_uri": "https://localhost:8080/"
        },
        "id": "8L8x8gO0mb4r",
        "outputId": "c7dc44dc-fb22-456b-e779-9b43143e8c4b"
      },
      "execution_count": 4,
      "outputs": [
        {
          "output_type": "execute_result",
          "data": {
            "text/plain": [
              "(768, 10)"
            ]
          },
          "metadata": {},
          "execution_count": 4
        }
      ]
    },
    {
      "cell_type": "code",
      "source": [
        "data.isnull().sum()"
      ],
      "metadata": {
        "trusted": true,
        "colab": {
          "base_uri": "https://localhost:8080/"
        },
        "id": "ThO9GxOYmb4s",
        "outputId": "f5c73e25-9fa4-4c62-f29e-390cbff589b0"
      },
      "execution_count": 5,
      "outputs": [
        {
          "output_type": "execute_result",
          "data": {
            "text/plain": [
              "Relative Compactness         0\n",
              "Surface Area                 0\n",
              "Wall Area                    0\n",
              "Roof Area                    0\n",
              "Overall Height               0\n",
              "Orientation                  0\n",
              "Glazing Area                 0\n",
              "Glazing Area Distribution    0\n",
              "Heating Load                 0\n",
              "Cooling Load                 0\n",
              "dtype: int64"
            ]
          },
          "metadata": {},
          "execution_count": 5
        }
      ]
    },
    {
      "cell_type": "markdown",
      "source": [
        "각 데이터의 분포 체크"
      ],
      "metadata": {
        "id": "4B_UUaEMmb4s"
      }
    },
    {
      "cell_type": "code",
      "source": [
        "data.hist(bins=20, figsize=(20,15))\n",
        "plt.show()"
      ],
      "metadata": {
        "trusted": true,
        "colab": {
          "base_uri": "https://localhost:8080/",
          "height": 685
        },
        "id": "XIj56Jolmb4s",
        "outputId": "bbeb8680-5d62-44c7-8b43-eeddef52b08d"
      },
      "execution_count": 6,
      "outputs": [
        {
          "output_type": "display_data",
          "data": {
            "text/plain": [
              "<Figure size 1440x1080 with 12 Axes>"
            ],
            "image/png": "[encoded data removed]"
          },
          "metadata": {
            "needs_background": "light"
          }
        }
      ]
    },
    {
      "cell_type": "markdown",
      "source": [
        "상관관계 분석"
      ],
      "metadata": {
        "id": "FFEtxpqRmb4t"
      }
    },
    {
      "cell_type": "code",
      "source": [
        "import plotly.express as px\n",
        "\n",
        "yprop = 'Surface Area'\n",
        "xprop = 'Cooling Load'\n",
        "h= None\n",
        "px.scatter(data, x=xprop, y=yprop, color=h, marginal_y=\"violin\", marginal_x=\"box\", trendline=\"ols\", template=\"simple_white\")"
      ],
      "metadata": {
        "trusted": true,
        "colab": {
          "base_uri": "https://localhost:8080/",
          "height": 542
        },
        "id": "Hvd-N_pamb4t",
        "outputId": "8d08cdd2-a316-4987-ef62-a98bea086a6a"
      },
      "execution_count": 7,
      "outputs": [
        {
          "output_type": "display_data",
          "data": {
            "text/html": [
              "<html>\n",
              "<head><meta charset=\"utf-8\" /></head>\n",
              "<body>\n",
              "    <div>            <script src=\"https://cdnjs.cloudflare.com/ajax/libs/mathjax/2.7.5/MathJax.js?config=TeX-AMS-MML_SVG\"></script><script type=\"text/javascript\">if (window.MathJax) {MathJax.Hub.Config({SVG: {font: \"STIX-Web\"}});}</script>                <script type=\"text/javascript\">window.PlotlyConfig = {MathJaxConfig: 'local'};</script>\n",
              "        <script src=\"https://cdn.plot.ly/plotly-2.8.3.min.js\"></script>                <div id=\"49419490-e618-4090-a2f0-0e3f3eb83c5e\" class=\"plotly-graph-div\" style=\"height:525px; width:100%;\"></div>            <script type=\"text/javascript\">                                    window.PLOTLYENV=window.PLOTLYENV || {};                                    if (document.getElementById(\"49419490-e618-4090-a2f0-0e3f3eb83c5e\")) {                    Plotly.newPlot(                        \"49419490-e618-4090-a2f0-0e3f3eb83c5e\",                        [{\"hovertemplate\":\"Cooling Load=%{x}<br>Surface Area=%{y}<extra></extra>\",\"legendgroup\":\"\",\"marker\":{\"color\":\"#1F77B4\",\"symbol\":\"circle\"},\"mode\":\"markers\",\"name\":\"\",\"orientation\":\"v\",\"showlegend\":false,\"x\":[21.33,21.33,21.33,21.33,28.28,25.38,25.16,29.6,27.3,21.97,23.49,27.87,23.77,21.46,21.16,24.93,37.73,31.27,30.93,39.44,29.79,29.68,29.79,29.4,10.9,11.19,10.94,11.17,11.27,11.72,11.29,11.67,11.74,12.05,11.73,11.93,12.4,12.23,12.4,12.14,16.78,16.8,16.75,16.67,12.07,12.22,12.08,12.04,26.47,26.37,26.44,26.29,32.92,29.87,29.58,34.33,30.89,25.6,27.03,31.73,27.31,24.91,24.61,28.51,41.68,35.28,34.43,43.33,33.87,34.07,34.14,33.67,13.43,13.71,13.48,13.7,13.8,14.28,13.87,14.27,14.28,14.61,14.3,14.45,13.9,13.72,13.88,13.65,19.37,19.43,19.34,19.32,14.34,14.5,14.33,14.27,25.95,25.63,26.13,25.89,32.54,29.44,29.36,34.2,30.91,25.63,27.36,31.9,27.38,25.02,24.8,28.79,41.07,34.62,33.87,42.86,33.91,34.07,34.17,33.78,13.39,13.72,13.57,13.79,13.67,14.11,13.8,14.21,13.2,13.54,13.32,13.51,14.86,14.75,15.0,14.74,19.23,19.34,19.32,19.3,14.37,14.57,14.27,14.24,25.68,26.02,25.84,26.14,34.14,32.85,30.08,29.67,31.73,31.01,25.9,27.4,28.68,27.54,25.35,24.93,43.12,41.22,35.1,34.29,33.85,34.11,34.48,34.5,13.6,13.36,13.65,13.49,14.14,13.77,14.3,13.87,14.44,14.27,14.67,14.4,13.46,13.7,13.59,13.83,19.14,19.18,19.37,19.29,14.09,14.23,14.14,13.89,25.91,25.72,26.18,25.87,29.34,33.91,32.83,29.92,27.17,31.76,31.06,25.81,24.61,28.61,27.57,25.16,34.25,43.3,41.86,35.29,34.11,33.62,33.89,34.05,13.2,13.36,13.21,13.53,13.67,14.12,13.79,14.2,14.29,14.49,14.42,14.73,14.86,14.67,15.0,14.83,19.24,19.25,19.42,19.48,14.37,14.34,14.28,14.47,25.64,25.98,25.88,26.18,29.82,29.52,34.45,33.01,25.82,27.33,32.04,31.28,25.11,24.77,28.88,27.69,34.99,34.18,43.14,41.26,34.25,34.35,33.64,33.88,13.65,13.44,13.72,13.5,14.18,13.75,14.26,13.89,14.55,14.28,14.46,14.39,14.54,14.81,14.65,14.87,19.24,19.18,19.26,19.29,14.24,13.97,13.99,14.15,29.79,29.79,29.28,29.49,36.12,33.17,32.71,37.58,33.98,28.61,30.12,34.73,30.17,27.84,27.25,31.39,43.8,37.81,36.85,45.52,36.85,37.58,37.45,36.62,15.19,15.5,15.28,15.5,15.42,15.85,15.44,15.81,15.21,15.63,15.48,15.78,16.39,16.27,16.39,16.19,21.13,21.19,21.09,21.08,15.77,15.95,15.77,15.76,29.62,29.69,30.18,30.02,35.56,32.64,32.77,37.72,33.37,27.89,29.9,34.52,28.27,26.96,26.72,29.88,43.86,37.41,36.77,45.97,36.87,37.35,37.28,36.81,14.73,15.1,15.18,15.44,14.91,15.4,14.94,15.32,15.52,15.85,15.66,15.99,15.89,15.85,16.22,15.87,20.47,20.56,20.48,20.43,15.32,15.64,15.14,15.3,29.43,29.78,30.1,30.19,36.35,35.1,32.83,32.46,33.52,32.93,28.38,29.82,28.77,27.76,26.95,26.41,45.13,43.66,37.76,36.87,36.07,36.44,37.28,37.29,14.49,13.79,14.72,14.76,14.92,14.74,15.57,14.94,14.92,14.38,15.44,15.17,15.53,15.8,16.14,16.26,19.87,20.03,20.46,20.28,14.89,14.96,14.89,14.35,29.61,29.59,30.19,30.12,32.12,37.12,36.16,33.16,29.45,34.19,33.93,28.31,26.3,29.43,28.76,27.34,36.26,45.48,44.16,37.26,37.2,36.76,37.05,37.51,14.92,15.24,15.03,15.35,14.67,15.09,15.2,15.64,15.37,15.73,15.83,16.13,15.95,15.59,16.17,16.14,19.65,19.76,20.37,19.9,15.41,15.56,15.07,15.38,29.53,29.77,30.0,30.2,32.25,32.0,37.19,35.62,28.02,29.43,34.15,33.47,26.53,26.08,29.31,28.14,37.54,36.66,45.28,43.73,36.93,37.01,35.73,36.15,14.48,14.58,14.81,14.03,15.27,14.71,15.23,14.97,15.14,14.97,15.22,14.6,15.83,16.03,15.8,16.06,20.13,20.01,20.19,20.29,15.19,14.61,14.61,14.75,33.37,33.34,32.83,33.04,39.28,36.38,35.92,40.99,35.99,30.66,31.7,36.73,31.71,29.13,28.99,33.54,45.29,39.07,38.35,46.94,39.55,40.85,40.63,39.48,16.94,17.25,17.03,17.25,17.1,17.51,17.12,17.47,16.5,17.0,16.87,17.2,18.14,18.03,18.14,17.95,22.72,22.73,22.72,22.53,17.2,17.21,17.15,17.2,32.96,33.13,33.94,33.78,38.35,35.39,34.94,40.66,35.48,30.53,32.28,36.86,30.34,27.93,28.95,32.92,45.59,39.41,38.84,48.03,39.48,40.4,40.47,39.7,16.43,16.93,16.99,17.03,16.77,17.37,17.27,17.51,16.44,17.01,17.23,17.22,17.85,17.89,18.36,18.15,21.72,22.07,22.09,21.93,17.36,17.38,16.86,16.99,32.78,33.24,33.86,34.0,37.26,35.04,33.82,33.31,35.22,34.7,30.11,31.6,32.43,30.65,29.77,29.64,46.44,44.18,38.81,38.23,38.17,38.48,39.66,40.1,16.08,15.39,16.57,16.6,16.11,15.47,16.7,16.1,16.35,15.84,16.99,17.02,17.04,17.63,18.1,18.22,20.78,20.72,21.54,21.53,16.9,17.14,16.56,16.0,32.95,33.06,33.95,33.88,33.98,39.92,39.22,36.1,31.53,36.2,36.21,31.0,28.2,32.35,31.14,28.43,38.33,47.59,46.23,39.56,40.36,39.67,39.85,40.77,16.61,16.74,16.9,17.32,16.85,17.2,17.23,17.74,16.81,16.88,16.9,17.39,17.86,17.82,18.36,18.24,21.68,21.54,22.25,22.49,17.1,16.79,16.58,16.79,32.88,33.23,33.76,34.01,33.94,33.14,38.79,37.27,29.69,31.2,36.26,35.71,29.93,29.56,33.84,32.54,38.56,37.7,47.01,44.87,39.37,39.8,37.79,38.18,16.69,16.62,16.94,16.7,15.59,14.58,15.33,15.31,16.63,15.87,16.54,16.74,17.64,17.79,17.55,18.06,20.82,20.21,20.71,21.4,16.88,17.11,16.61,16.03],\"xaxis\":\"x\",\"y\":[514.5,514.5,514.5,514.5,563.5,563.5,563.5,563.5,588.0,588.0,588.0,588.0,612.5,612.5,612.5,612.5,637.0,637.0,637.0,637.0,661.5,661.5,661.5,661.5,686.0,686.0,686.0,686.0,710.5,710.5,710.5,710.5,735.0,735.0,735.0,735.0,759.5,759.5,759.5,759.5,784.0,784.0,784.0,784.0,808.5,808.5,808.5,808.5,514.5,514.5,514.5,514.5,563.5,563.5,563.5,563.5,588.0,588.0,588.0,588.0,612.5,612.5,612.5,612.5,637.0,637.0,637.0,637.0,661.5,661.5,661.5,661.5,686.0,686.0,686.0,686.0,710.5,710.5,710.5,710.5,735.0,735.0,735.0,735.0,759.5,759.5,759.5,759.5,784.0,784.0,784.0,784.0,808.5,808.5,808.5,808.5,514.5,514.5,514.5,514.5,563.5,563.5,563.5,563.5,588.0,588.0,588.0,588.0,612.5,612.5,612.5,612.5,637.0,637.0,637.0,637.0,661.5,661.5,661.5,661.5,686.0,686.0,686.0,686.0,710.5,710.5,710.5,710.5,735.0,735.0,735.0,735.0,759.5,759.5,759.5,759.5,784.0,784.0,784.0,784.0,808.5,808.5,808.5,808.5,514.5,514.5,514.5,514.5,563.5,563.5,563.5,563.5,588.0,588.0,588.0,588.0,612.5,612.5,612.5,612.5,637.0,637.0,637.0,637.0,661.5,661.5,661.5,661.5,686.0,686.0,686.0,686.0,710.5,710.5,710.5,710.5,735.0,735.0,735.0,735.0,759.5,759.5,759.5,759.5,784.0,784.0,784.0,784.0,808.5,808.5,808.5,808.5,514.5,514.5,514.5,514.5,563.5,563.5,563.5,563.5,588.0,588.0,588.0,588.0,612.5,612.5,612.5,612.5,637.0,637.0,637.0,637.0,661.5,661.5,661.5,661.5,686.0,686.0,686.0,686.0,710.5,710.5,710.5,710.5,735.0,735.0,735.0,735.0,759.5,759.5,759.5,759.5,784.0,784.0,784.0,784.0,808.5,808.5,808.5,808.5,514.5,514.5,514.5,514.5,563.5,563.5,563.5,563.5,588.0,588.0,588.0,588.0,612.5,612.5,612.5,612.5,637.0,637.0,637.0,637.0,661.5,661.5,661.5,661.5,686.0,686.0,686.0,686.0,710.5,710.5,710.5,710.5,735.0,735.0,735.0,735.0,759.5,759.5,759.5,759.5,784.0,784.0,784.0,784.0,808.5,808.5,808.5,808.5,514.5,514.5,514.5,514.5,563.5,563.5,563.5,563.5,588.0,588.0,588.0,588.0,612.5,612.5,612.5,612.5,637.0,637.0,637.0,637.0,661.5,661.5,661.5,661.5,686.0,686.0,686.0,686.0,710.5,710.5,710.5,710.5,735.0,735.0,735.0,735.0,759.5,759.5,759.5,759.5,784.0,784.0,784.0,784.0,808.5,808.5,808.5,808.5,514.5,514.5,514.5,514.5,563.5,563.5,563.5,563.5,588.0,588.0,588.0,588.0,612.5,612.5,612.5,612.5,637.0,637.0,637.0,637.0,661.5,661.5,661.5,661.5,686.0,686.0,686.0,686.0,710.5,710.5,710.5,710.5,735.0,735.0,735.0,735.0,759.5,759.5,759.5,759.5,784.0,784.0,784.0,784.0,808.5,808.5,808.5,808.5,514.5,514.5,514.5,514.5,563.5,563.5,563.5,563.5,588.0,588.0,588.0,588.0,612.5,612.5,612.5,612.5,637.0,637.0,637.0,637.0,661.5,661.5,661.5,661.5,686.0,686.0,686.0,686.0,710.5,710.5,710.5,710.5,735.0,735.0,735.0,735.0,759.5,759.5,759.5,759.5,784.0,784.0,784.0,784.0,808.5,808.5,808.5,808.5,514.5,514.5,514.5,514.5,563.5,563.5,563.5,563.5,588.0,588.0,588.0,588.0,612.5,612.5,612.5,612.5,637.0,637.0,637.0,637.0,661.5,661.5,661.5,661.5,686.0,686.0,686.0,686.0,710.5,710.5,710.5,710.5,735.0,735.0,735.0,735.0,759.5,759.5,759.5,759.5,784.0,784.0,784.0,784.0,808.5,808.5,808.5,808.5,514.5,514.5,514.5,514.5,563.5,563.5,563.5,563.5,588.0,588.0,588.0,588.0,612.5,612.5,612.5,612.5,637.0,637.0,637.0,637.0,661.5,661.5,661.5,661.5,686.0,686.0,686.0,686.0,710.5,710.5,710.5,710.5,735.0,735.0,735.0,735.0,759.5,759.5,759.5,759.5,784.0,784.0,784.0,784.0,808.5,808.5,808.5,808.5,514.5,514.5,514.5,514.5,563.5,563.5,563.5,563.5,588.0,588.0,588.0,588.0,612.5,612.5,612.5,612.5,637.0,637.0,637.0,637.0,661.5,661.5,661.5,661.5,686.0,686.0,686.0,686.0,710.5,710.5,710.5,710.5,735.0,735.0,735.0,735.0,759.5,759.5,759.5,759.5,784.0,784.0,784.0,784.0,808.5,808.5,808.5,808.5,514.5,514.5,514.5,514.5,563.5,563.5,563.5,563.5,588.0,588.0,588.0,588.0,612.5,612.5,612.5,612.5,637.0,637.0,637.0,637.0,661.5,661.5,661.5,661.5,686.0,686.0,686.0,686.0,710.5,710.5,710.5,710.5,735.0,735.0,735.0,735.0,759.5,759.5,759.5,759.5,784.0,784.0,784.0,784.0,808.5,808.5,808.5,808.5,514.5,514.5,514.5,514.5,563.5,563.5,563.5,563.5,588.0,588.0,588.0,588.0,612.5,612.5,612.5,612.5,637.0,637.0,637.0,637.0,661.5,661.5,661.5,661.5,686.0,686.0,686.0,686.0,710.5,710.5,710.5,710.5,735.0,735.0,735.0,735.0,759.5,759.5,759.5,759.5,784.0,784.0,784.0,784.0,808.5,808.5,808.5,808.5,514.5,514.5,514.5,514.5,563.5,563.5,563.5,563.5,588.0,588.0,588.0,588.0,612.5,612.5,612.5,612.5,637.0,637.0,637.0,637.0,661.5,661.5,661.5,661.5,686.0,686.0,686.0,686.0,710.5,710.5,710.5,710.5,735.0,735.0,735.0,735.0,759.5,759.5,759.5,759.5,784.0,784.0,784.0,784.0,808.5,808.5,808.5,808.5,514.5,514.5,514.5,514.5,563.5,563.5,563.5,563.5,588.0,588.0,588.0,588.0,612.5,612.5,612.5,612.5,637.0,637.0,637.0,637.0,661.5,661.5,661.5,661.5,686.0,686.0,686.0,686.0,710.5,710.5,710.5,710.5,735.0,735.0,735.0,735.0,759.5,759.5,759.5,759.5,784.0,784.0,784.0,784.0,808.5,808.5,808.5,808.5],\"yaxis\":\"y\",\"type\":\"scatter\"},{\"alignmentgroup\":\"True\",\"hovertemplate\":\"Cooling Load=%{x}<extra></extra>\",\"legendgroup\":\"\",\"marker\":{\"color\":\"#1F77B4\",\"symbol\":\"circle\"},\"name\":\"\",\"notched\":true,\"offsetgroup\":\"\",\"showlegend\":false,\"x\":[21.33,21.33,21.33,21.33,28.28,25.38,25.16,29.6,27.3,21.97,23.49,27.87,23.77,21.46,21.16,24.93,37.73,31.27,30.93,39.44,29.79,29.68,29.79,29.4,10.9,11.19,10.94,11.17,11.27,11.72,11.29,11.67,11.74,12.05,11.73,11.93,12.4,12.23,12.4,12.14,16.78,16.8,16.75,16.67,12.07,12.22,12.08,12.04,26.47,26.37,26.44,26.29,32.92,29.87,29.58,34.33,30.89,25.6,27.03,31.73,27.31,24.91,24.61,28.51,41.68,35.28,34.43,43.33,33.87,34.07,34.14,33.67,13.43,13.71,13.48,13.7,13.8,14.28,13.87,14.27,14.28,14.61,14.3,14.45,13.9,13.72,13.88,13.65,19.37,19.43,19.34,19.32,14.34,14.5,14.33,14.27,25.95,25.63,26.13,25.89,32.54,29.44,29.36,34.2,30.91,25.63,27.36,31.9,27.38,25.02,24.8,28.79,41.07,34.62,33.87,42.86,33.91,34.07,34.17,33.78,13.39,13.72,13.57,13.79,13.67,14.11,13.8,14.21,13.2,13.54,13.32,13.51,14.86,14.75,15.0,14.74,19.23,19.34,19.32,19.3,14.37,14.57,14.27,14.24,25.68,26.02,25.84,26.14,34.14,32.85,30.08,29.67,31.73,31.01,25.9,27.4,28.68,27.54,25.35,24.93,43.12,41.22,35.1,34.29,33.85,34.11,34.48,34.5,13.6,13.36,13.65,13.49,14.14,13.77,14.3,13.87,14.44,14.27,14.67,14.4,13.46,13.7,13.59,13.83,19.14,19.18,19.37,19.29,14.09,14.23,14.14,13.89,25.91,25.72,26.18,25.87,29.34,33.91,32.83,29.92,27.17,31.76,31.06,25.81,24.61,28.61,27.57,25.16,34.25,43.3,41.86,35.29,34.11,33.62,33.89,34.05,13.2,13.36,13.21,13.53,13.67,14.12,13.79,14.2,14.29,14.49,14.42,14.73,14.86,14.67,15.0,14.83,19.24,19.25,19.42,19.48,14.37,14.34,14.28,14.47,25.64,25.98,25.88,26.18,29.82,29.52,34.45,33.01,25.82,27.33,32.04,31.28,25.11,24.77,28.88,27.69,34.99,34.18,43.14,41.26,34.25,34.35,33.64,33.88,13.65,13.44,13.72,13.5,14.18,13.75,14.26,13.89,14.55,14.28,14.46,14.39,14.54,14.81,14.65,14.87,19.24,19.18,19.26,19.29,14.24,13.97,13.99,14.15,29.79,29.79,29.28,29.49,36.12,33.17,32.71,37.58,33.98,28.61,30.12,34.73,30.17,27.84,27.25,31.39,43.8,37.81,36.85,45.52,36.85,37.58,37.45,36.62,15.19,15.5,15.28,15.5,15.42,15.85,15.44,15.81,15.21,15.63,15.48,15.78,16.39,16.27,16.39,16.19,21.13,21.19,21.09,21.08,15.77,15.95,15.77,15.76,29.62,29.69,30.18,30.02,35.56,32.64,32.77,37.72,33.37,27.89,29.9,34.52,28.27,26.96,26.72,29.88,43.86,37.41,36.77,45.97,36.87,37.35,37.28,36.81,14.73,15.1,15.18,15.44,14.91,15.4,14.94,15.32,15.52,15.85,15.66,15.99,15.89,15.85,16.22,15.87,20.47,20.56,20.48,20.43,15.32,15.64,15.14,15.3,29.43,29.78,30.1,30.19,36.35,35.1,32.83,32.46,33.52,32.93,28.38,29.82,28.77,27.76,26.95,26.41,45.13,43.66,37.76,36.87,36.07,36.44,37.28,37.29,14.49,13.79,14.72,14.76,14.92,14.74,15.57,14.94,14.92,14.38,15.44,15.17,15.53,15.8,16.14,16.26,19.87,20.03,20.46,20.28,14.89,14.96,14.89,14.35,29.61,29.59,30.19,30.12,32.12,37.12,36.16,33.16,29.45,34.19,33.93,28.31,26.3,29.43,28.76,27.34,36.26,45.48,44.16,37.26,37.2,36.76,37.05,37.51,14.92,15.24,15.03,15.35,14.67,15.09,15.2,15.64,15.37,15.73,15.83,16.13,15.95,15.59,16.17,16.14,19.65,19.76,20.37,19.9,15.41,15.56,15.07,15.38,29.53,29.77,30.0,30.2,32.25,32.0,37.19,35.62,28.02,29.43,34.15,33.47,26.53,26.08,29.31,28.14,37.54,36.66,45.28,43.73,36.93,37.01,35.73,36.15,14.48,14.58,14.81,14.03,15.27,14.71,15.23,14.97,15.14,14.97,15.22,14.6,15.83,16.03,15.8,16.06,20.13,20.01,20.19,20.29,15.19,14.61,14.61,14.75,33.37,33.34,32.83,33.04,39.28,36.38,35.92,40.99,35.99,30.66,31.7,36.73,31.71,29.13,28.99,33.54,45.29,39.07,38.35,46.94,39.55,40.85,40.63,39.48,16.94,17.25,17.03,17.25,17.1,17.51,17.12,17.47,16.5,17.0,16.87,17.2,18.14,18.03,18.14,17.95,22.72,22.73,22.72,22.53,17.2,17.21,17.15,17.2,32.96,33.13,33.94,33.78,38.35,35.39,34.94,40.66,35.48,30.53,32.28,36.86,30.34,27.93,28.95,32.92,45.59,39.41,38.84,48.03,39.48,40.4,40.47,39.7,16.43,16.93,16.99,17.03,16.77,17.37,17.27,17.51,16.44,17.01,17.23,17.22,17.85,17.89,18.36,18.15,21.72,22.07,22.09,21.93,17.36,17.38,16.86,16.99,32.78,33.24,33.86,34.0,37.26,35.04,33.82,33.31,35.22,34.7,30.11,31.6,32.43,30.65,29.77,29.64,46.44,44.18,38.81,38.23,38.17,38.48,39.66,40.1,16.08,15.39,16.57,16.6,16.11,15.47,16.7,16.1,16.35,15.84,16.99,17.02,17.04,17.63,18.1,18.22,20.78,20.72,21.54,21.53,16.9,17.14,16.56,16.0,32.95,33.06,33.95,33.88,33.98,39.92,39.22,36.1,31.53,36.2,36.21,31.0,28.2,32.35,31.14,28.43,38.33,47.59,46.23,39.56,40.36,39.67,39.85,40.77,16.61,16.74,16.9,17.32,16.85,17.2,17.23,17.74,16.81,16.88,16.9,17.39,17.86,17.82,18.36,18.24,21.68,21.54,22.25,22.49,17.1,16.79,16.58,16.79,32.88,33.23,33.76,34.01,33.94,33.14,38.79,37.27,29.69,31.2,36.26,35.71,29.93,29.56,33.84,32.54,38.56,37.7,47.01,44.87,39.37,39.8,37.79,38.18,16.69,16.62,16.94,16.7,15.59,14.58,15.33,15.31,16.63,15.87,16.54,16.74,17.64,17.79,17.55,18.06,20.82,20.21,20.71,21.4,16.88,17.11,16.61,16.03],\"xaxis\":\"x3\",\"yaxis\":\"y3\",\"type\":\"box\"},{\"alignmentgroup\":\"True\",\"hovertemplate\":\"Surface Area=%{y}<extra></extra>\",\"legendgroup\":\"\",\"marker\":{\"color\":\"#1F77B4\",\"symbol\":\"circle\"},\"name\":\"\",\"offsetgroup\":\"\",\"scalegroup\":\"y\",\"showlegend\":false,\"xaxis\":\"x2\",\"y\":[514.5,514.5,514.5,514.5,563.5,563.5,563.5,563.5,588.0,588.0,588.0,588.0,612.5,612.5,612.5,612.5,637.0,637.0,637.0,637.0,661.5,661.5,661.5,661.5,686.0,686.0,686.0,686.0,710.5,710.5,710.5,710.5,735.0,735.0,735.0,735.0,759.5,759.5,759.5,759.5,784.0,784.0,784.0,784.0,808.5,808.5,808.5,808.5,514.5,514.5,514.5,514.5,563.5,563.5,563.5,563.5,588.0,588.0,588.0,588.0,612.5,612.5,612.5,612.5,637.0,637.0,637.0,637.0,661.5,661.5,661.5,661.5,686.0,686.0,686.0,686.0,710.5,710.5,710.5,710.5,735.0,735.0,735.0,735.0,759.5,759.5,759.5,759.5,784.0,784.0,784.0,784.0,808.5,808.5,808.5,808.5,514.5,514.5,514.5,514.5,563.5,563.5,563.5,563.5,588.0,588.0,588.0,588.0,612.5,612.5,612.5,612.5,637.0,637.0,637.0,637.0,661.5,661.5,661.5,661.5,686.0,686.0,686.0,686.0,710.5,710.5,710.5,710.5,735.0,735.0,735.0,735.0,759.5,759.5,759.5,759.5,784.0,784.0,784.0,784.0,808.5,808.5,808.5,808.5,514.5,514.5,514.5,514.5,563.5,563.5,563.5,563.5,588.0,588.0,588.0,588.0,612.5,612.5,612.5,612.5,637.0,637.0,637.0,637.0,661.5,661.5,661.5,661.5,686.0,686.0,686.0,686.0,710.5,710.5,710.5,710.5,735.0,735.0,735.0,735.0,759.5,759.5,759.5,759.5,784.0,784.0,784.0,784.0,808.5,808.5,808.5,808.5,514.5,514.5,514.5,514.5,563.5,563.5,563.5,563.5,588.0,588.0,588.0,588.0,612.5,612.5,612.5,612.5,637.0,637.0,637.0,637.0,661.5,661.5,661.5,661.5,686.0,686.0,686.0,686.0,710.5,710.5,710.5,710.5,735.0,735.0,735.0,735.0,759.5,759.5,759.5,759.5,784.0,784.0,784.0,784.0,808.5,808.5,808.5,808.5,514.5,514.5,514.5,514.5,563.5,563.5,563.5,563.5,588.0,588.0,588.0,588.0,612.5,612.5,612.5,612.5,637.0,637.0,637.0,637.0,661.5,661.5,661.5,661.5,686.0,686.0,686.0,686.0,710.5,710.5,710.5,710.5,735.0,735.0,735.0,735.0,759.5,759.5,759.5,759.5,784.0,784.0,784.0,784.0,808.5,808.5,808.5,808.5,514.5,514.5,514.5,514.5,563.5,563.5,563.5,563.5,588.0,588.0,588.0,588.0,612.5,612.5,612.5,612.5,637.0,637.0,637.0,637.0,661.5,661.5,661.5,661.5,686.0,686.0,686.0,686.0,710.5,710.5,710.5,710.5,735.0,735.0,735.0,735.0,759.5,759.5,759.5,759.5,784.0,784.0,784.0,784.0,808.5,808.5,808.5,808.5,514.5,514.5,514.5,514.5,563.5,563.5,563.5,563.5,588.0,588.0,588.0,588.0,612.5,612.5,612.5,612.5,637.0,637.0,637.0,637.0,661.5,661.5,661.5,661.5,686.0,686.0,686.0,686.0,710.5,710.5,710.5,710.5,735.0,735.0,735.0,735.0,759.5,759.5,759.5,759.5,784.0,784.0,784.0,784.0,808.5,808.5,808.5,808.5,514.5,514.5,514.5,514.5,563.5,563.5,563.5,563.5,588.0,588.0,588.0,588.0,612.5,612.5,612.5,612.5,637.0,637.0,637.0,637.0,661.5,661.5,661.5,661.5,686.0,686.0,686.0,686.0,710.5,710.5,710.5,710.5,735.0,735.0,735.0,735.0,759.5,759.5,759.5,759.5,784.0,784.0,784.0,784.0,808.5,808.5,808.5,808.5,514.5,514.5,514.5,514.5,563.5,563.5,563.5,563.5,588.0,588.0,588.0,588.0,612.5,612.5,612.5,612.5,637.0,637.0,637.0,637.0,661.5,661.5,661.5,661.5,686.0,686.0,686.0,686.0,710.5,710.5,710.5,710.5,735.0,735.0,735.0,735.0,759.5,759.5,759.5,759.5,784.0,784.0,784.0,784.0,808.5,808.5,808.5,808.5,514.5,514.5,514.5,514.5,563.5,563.5,563.5,563.5,588.0,588.0,588.0,588.0,612.5,612.5,612.5,612.5,637.0,637.0,637.0,637.0,661.5,661.5,661.5,661.5,686.0,686.0,686.0,686.0,710.5,710.5,710.5,710.5,735.0,735.0,735.0,735.0,759.5,759.5,759.5,759.5,784.0,784.0,784.0,784.0,808.5,808.5,808.5,808.5,514.5,514.5,514.5,514.5,563.5,563.5,563.5,563.5,588.0,588.0,588.0,588.0,612.5,612.5,612.5,612.5,637.0,637.0,637.0,637.0,661.5,661.5,661.5,661.5,686.0,686.0,686.0,686.0,710.5,710.5,710.5,710.5,735.0,735.0,735.0,735.0,759.5,759.5,759.5,759.5,784.0,784.0,784.0,784.0,808.5,808.5,808.5,808.5,514.5,514.5,514.5,514.5,563.5,563.5,563.5,563.5,588.0,588.0,588.0,588.0,612.5,612.5,612.5,612.5,637.0,637.0,637.0,637.0,661.5,661.5,661.5,661.5,686.0,686.0,686.0,686.0,710.5,710.5,710.5,710.5,735.0,735.0,735.0,735.0,759.5,759.5,759.5,759.5,784.0,784.0,784.0,784.0,808.5,808.5,808.5,808.5,514.5,514.5,514.5,514.5,563.5,563.5,563.5,563.5,588.0,588.0,588.0,588.0,612.5,612.5,612.5,612.5,637.0,637.0,637.0,637.0,661.5,661.5,661.5,661.5,686.0,686.0,686.0,686.0,710.5,710.5,710.5,710.5,735.0,735.0,735.0,735.0,759.5,759.5,759.5,759.5,784.0,784.0,784.0,784.0,808.5,808.5,808.5,808.5,514.5,514.5,514.5,514.5,563.5,563.5,563.5,563.5,588.0,588.0,588.0,588.0,612.5,612.5,612.5,612.5,637.0,637.0,637.0,637.0,661.5,661.5,661.5,661.5,686.0,686.0,686.0,686.0,710.5,710.5,710.5,710.5,735.0,735.0,735.0,735.0,759.5,759.5,759.5,759.5,784.0,784.0,784.0,784.0,808.5,808.5,808.5,808.5,514.5,514.5,514.5,514.5,563.5,563.5,563.5,563.5,588.0,588.0,588.0,588.0,612.5,612.5,612.5,612.5,637.0,637.0,637.0,637.0,661.5,661.5,661.5,661.5,686.0,686.0,686.0,686.0,710.5,710.5,710.5,710.5,735.0,735.0,735.0,735.0,759.5,759.5,759.5,759.5,784.0,784.0,784.0,784.0,808.5,808.5,808.5,808.5],\"yaxis\":\"y2\",\"type\":\"violin\"},{\"hovertemplate\":\"<b>OLS trendline</b><br>Surface Area = -6.23147 * Cooling Load + 824.926<br>R<sup>2</sup>=0.452928<br><br>Cooling Load=%{x}<br>Surface Area=%{y} <b>(trend)</b><extra></extra>\",\"legendgroup\":\"\",\"marker\":{\"color\":\"#1F77B4\",\"symbol\":\"circle\"},\"mode\":\"lines\",\"name\":\"\",\"showlegend\":false,\"x\":[10.9,10.94,11.17,11.19,11.27,11.29,11.67,11.72,11.73,11.74,11.93,12.04,12.05,12.07,12.08,12.14,12.22,12.23,12.4,12.4,13.2,13.2,13.21,13.32,13.36,13.36,13.39,13.43,13.44,13.46,13.48,13.49,13.5,13.51,13.53,13.54,13.57,13.59,13.6,13.65,13.65,13.65,13.67,13.67,13.7,13.7,13.71,13.72,13.72,13.72,13.75,13.77,13.79,13.79,13.79,13.8,13.8,13.83,13.87,13.87,13.88,13.89,13.89,13.9,13.97,13.99,14.03,14.09,14.11,14.12,14.14,14.14,14.15,14.18,14.2,14.21,14.23,14.24,14.24,14.26,14.27,14.27,14.27,14.27,14.28,14.28,14.28,14.28,14.29,14.3,14.3,14.33,14.34,14.34,14.35,14.37,14.37,14.38,14.39,14.4,14.42,14.44,14.45,14.46,14.47,14.48,14.49,14.49,14.5,14.54,14.55,14.57,14.58,14.58,14.6,14.61,14.61,14.61,14.65,14.67,14.67,14.67,14.71,14.72,14.73,14.73,14.74,14.74,14.75,14.75,14.76,14.81,14.81,14.83,14.86,14.86,14.87,14.89,14.89,14.91,14.92,14.92,14.92,14.94,14.94,14.96,14.97,14.97,15.0,15.0,15.03,15.07,15.09,15.1,15.14,15.14,15.17,15.18,15.19,15.19,15.2,15.21,15.22,15.23,15.24,15.27,15.28,15.3,15.31,15.32,15.32,15.33,15.35,15.37,15.38,15.39,15.4,15.41,15.42,15.44,15.44,15.44,15.47,15.48,15.5,15.5,15.52,15.53,15.56,15.57,15.59,15.59,15.63,15.64,15.64,15.66,15.73,15.76,15.77,15.77,15.78,15.8,15.8,15.81,15.83,15.83,15.84,15.85,15.85,15.85,15.87,15.87,15.89,15.95,15.95,15.99,16.0,16.03,16.03,16.06,16.08,16.1,16.11,16.13,16.14,16.14,16.17,16.19,16.22,16.26,16.27,16.35,16.39,16.39,16.43,16.44,16.5,16.54,16.56,16.57,16.58,16.6,16.61,16.61,16.62,16.63,16.67,16.69,16.7,16.7,16.74,16.74,16.75,16.77,16.78,16.79,16.79,16.8,16.81,16.85,16.86,16.87,16.88,16.88,16.9,16.9,16.9,16.93,16.94,16.94,16.99,16.99,16.99,17.0,17.01,17.02,17.03,17.03,17.04,17.1,17.1,17.11,17.12,17.14,17.15,17.2,17.2,17.2,17.2,17.21,17.22,17.23,17.23,17.25,17.25,17.27,17.32,17.36,17.37,17.38,17.39,17.47,17.51,17.51,17.55,17.63,17.64,17.74,17.79,17.82,17.85,17.86,17.89,17.95,18.03,18.06,18.1,18.14,18.14,18.15,18.22,18.24,18.36,18.36,19.14,19.18,19.18,19.23,19.24,19.24,19.25,19.26,19.29,19.29,19.3,19.32,19.32,19.34,19.34,19.37,19.37,19.42,19.43,19.48,19.65,19.76,19.87,19.9,20.01,20.03,20.13,20.19,20.21,20.28,20.29,20.37,20.43,20.46,20.47,20.48,20.56,20.71,20.72,20.78,20.82,21.08,21.09,21.13,21.16,21.19,21.33,21.33,21.33,21.33,21.4,21.46,21.53,21.54,21.54,21.68,21.72,21.93,21.97,22.07,22.09,22.25,22.49,22.53,22.72,22.72,22.73,23.49,23.77,24.61,24.61,24.77,24.8,24.91,24.93,24.93,25.02,25.11,25.16,25.16,25.35,25.38,25.6,25.63,25.63,25.64,25.68,25.72,25.81,25.82,25.84,25.87,25.88,25.89,25.9,25.91,25.95,25.98,26.02,26.08,26.13,26.14,26.18,26.18,26.29,26.3,26.37,26.41,26.44,26.47,26.53,26.72,26.95,26.96,27.03,27.17,27.25,27.3,27.31,27.33,27.34,27.36,27.38,27.4,27.54,27.57,27.69,27.76,27.84,27.87,27.89,27.93,28.02,28.14,28.2,28.27,28.28,28.31,28.38,28.43,28.51,28.61,28.61,28.68,28.76,28.77,28.79,28.88,28.95,28.99,29.13,29.28,29.31,29.34,29.36,29.4,29.43,29.43,29.43,29.44,29.45,29.49,29.52,29.53,29.56,29.58,29.59,29.6,29.61,29.62,29.64,29.67,29.68,29.69,29.69,29.77,29.77,29.78,29.79,29.79,29.79,29.79,29.82,29.82,29.87,29.88,29.9,29.92,29.93,30.0,30.02,30.08,30.1,30.11,30.12,30.12,30.17,30.18,30.19,30.19,30.2,30.34,30.53,30.65,30.66,30.89,30.91,30.93,31.0,31.01,31.06,31.14,31.2,31.27,31.28,31.39,31.53,31.6,31.7,31.71,31.73,31.73,31.76,31.9,32.0,32.04,32.12,32.25,32.28,32.35,32.43,32.46,32.54,32.54,32.64,32.71,32.77,32.78,32.83,32.83,32.83,32.85,32.88,32.92,32.92,32.93,32.95,32.96,33.01,33.04,33.06,33.13,33.14,33.16,33.17,33.23,33.24,33.31,33.34,33.37,33.37,33.47,33.52,33.54,33.62,33.64,33.67,33.76,33.78,33.78,33.82,33.84,33.85,33.86,33.87,33.87,33.88,33.88,33.89,33.91,33.91,33.93,33.94,33.94,33.95,33.98,33.98,34.0,34.01,34.05,34.07,34.07,34.11,34.11,34.14,34.14,34.15,34.17,34.18,34.19,34.2,34.25,34.25,34.29,34.33,34.35,34.43,34.45,34.48,34.5,34.52,34.62,34.7,34.73,34.94,34.99,35.04,35.1,35.1,35.22,35.28,35.29,35.39,35.48,35.56,35.62,35.71,35.73,35.92,35.99,36.07,36.1,36.12,36.15,36.16,36.2,36.21,36.26,36.26,36.35,36.38,36.44,36.62,36.66,36.73,36.76,36.77,36.81,36.85,36.85,36.86,36.87,36.87,36.93,37.01,37.05,37.12,37.19,37.2,37.26,37.26,37.27,37.28,37.28,37.29,37.35,37.41,37.45,37.51,37.54,37.58,37.58,37.7,37.72,37.73,37.76,37.79,37.81,38.17,38.18,38.23,38.33,38.35,38.35,38.48,38.56,38.79,38.81,38.84,39.07,39.22,39.28,39.37,39.41,39.44,39.48,39.48,39.55,39.56,39.66,39.67,39.7,39.8,39.85,39.92,40.1,40.36,40.4,40.47,40.63,40.66,40.77,40.85,40.99,41.07,41.22,41.26,41.68,41.86,42.86,43.12,43.14,43.3,43.33,43.66,43.73,43.8,43.86,44.16,44.18,44.87,45.13,45.28,45.29,45.48,45.52,45.59,45.97,46.23,46.44,46.94,47.01,47.59,48.03],\"xaxis\":\"x\",\"y\":[757.003178624745,756.7539198922864,755.3206821806489,755.1960528144195,754.6975353495022,754.5729059832729,752.2049480249154,751.893374609342,751.8310599262273,751.7687452431127,750.584766263934,749.8993047496726,749.8369900665579,749.7123607003285,749.6500460172139,749.2761579185259,748.7776404536085,748.7153257704938,747.6559761575445,747.6559761575445,742.6708015083708,742.6708015083708,742.6084868252561,741.9230253109947,741.6737665785361,741.6737665785361,741.4868225291921,741.2375637967334,741.1752491136187,741.0506197473893,740.92599038116,740.8636756980453,740.8013610149306,740.739046331816,740.6144169655867,740.552102282472,740.365158233128,740.2405288668987,740.178214183784,739.8666407682106,739.8666407682106,739.8666407682106,739.7420114019812,739.7420114019812,739.5550673526373,739.5550673526373,739.4927526695226,739.4304379864079,739.4304379864079,739.4304379864079,739.2434939370639,739.1188645708346,738.9942352046053,738.9942352046053,738.9942352046053,738.9319205214906,738.9319205214906,738.7449764721465,738.4957177396878,738.4957177396878,738.4334030565732,738.3710883734585,738.3710883734585,738.3087736903439,737.8725709085411,737.7479415423118,737.4986828098531,737.1247947111651,737.0001653449358,736.9378506618211,736.8132212955918,736.8132212955918,736.7509066124771,736.563962563133,736.4393331969037,736.377018513789,736.2523891475597,736.190074464445,736.190074464445,736.0654450982157,736.003130415101,736.003130415101,736.003130415101,736.003130415101,735.9408157319864,735.9408157319864,735.9408157319864,735.9408157319864,735.8785010488717,735.8161863657571,735.8161863657571,735.629242316413,735.5669276332983,735.5669276332983,735.5046129501836,735.3799835839543,735.3799835839543,735.3176689008396,735.255354217725,735.1930395346103,735.068410168381,734.9437808021517,734.881466119037,734.8191514359223,734.7568367528077,734.694522069693,734.6322073865783,734.6322073865783,734.5698927034637,734.3206339710049,734.2583192878902,734.1336899216609,734.0713752385462,734.0713752385462,733.9467458723169,733.8844311892022,733.8844311892022,733.8844311892022,733.6351724567436,733.5105430905143,733.5105430905143,733.5105430905143,733.2612843580555,733.1989696749408,733.1366549918262,733.1366549918262,733.0743403087115,733.0743403087115,733.0120256255968,733.0120256255968,732.9497109424822,732.6381375269088,732.6381375269088,732.5135081606795,732.3265641113355,732.3265641113355,732.2642494282209,732.1396200619914,732.1396200619914,732.0149906957621,731.9526760126474,731.9526760126474,731.9526760126474,731.8280466464181,731.8280466464181,731.7034172801888,731.6411025970741,731.6411025970741,731.4541585477301,731.4541585477301,731.267214498386,731.0179557659274,730.893326399698,730.8310117165834,730.5817529841247,730.5817529841247,730.3948089347807,730.332494251666,730.2701795685514,730.2701795685514,730.2078648854367,730.145550202322,730.0832355192073,730.0209208360926,729.958606152978,729.771662103634,729.7093474205193,729.58471805429,729.5224033711753,729.4600886880606,729.4600886880606,729.397774004946,729.2731446387166,729.1485152724873,729.0862005893725,729.0238859062579,728.9615712231432,728.8992565400285,728.8369418569139,728.7123124906846,728.7123124906846,728.7123124906846,728.5253684413406,728.4630537582259,728.3384243919966,728.3384243919966,728.2137950257672,728.1514803426526,727.9645362933086,727.9022216101938,727.7775922439645,727.7775922439645,727.5283335115058,727.4660188283912,727.4660188283912,727.3413894621618,726.9051866803591,726.7182426310151,726.6559279479004,726.6559279479004,726.5936132647857,726.4689838985564,726.4689838985564,726.4066692154418,726.2820398492124,726.2820398492124,726.2197251660978,726.1574104829831,726.1574104829831,726.1574104829831,726.0327811167538,726.0327811167538,725.9081517505244,725.5342636518363,725.5342636518363,725.2850049193777,725.222690236263,725.035746186919,725.035746186919,724.848802137575,724.7241727713457,724.5995434051163,724.5372287220016,724.4125993557723,724.3502846726576,724.3502846726576,724.1633406233136,724.0387112570843,723.8517672077403,723.6025084752815,723.540193792167,723.0416763272495,722.7924175947909,722.7924175947909,722.5431588623322,722.4808441792175,722.1069560805295,721.8576973480708,721.7330679818415,721.6707532987268,721.6084386156122,721.4838092493828,721.4214945662682,721.4214945662682,721.3591798831534,721.2968652000388,721.0476064675801,720.9229771013507,720.8606624182361,720.8606624182361,720.6114036857774,720.6114036857774,720.5490890026628,720.4244596364334,720.3621449533186,720.299830270204,720.299830270204,720.2375155870893,720.1752009039747,719.925942171516,719.8636274884013,719.8013128052867,719.738998122172,719.738998122172,719.6143687559427,719.6143687559427,719.6143687559427,719.4274247065987,719.365110023484,719.365110023484,719.0535366079107,719.0535366079107,719.0535366079107,718.9912219247959,718.9289072416813,718.8665925585666,718.8042778754519,718.8042778754519,718.7419631923373,718.3680750936493,718.3680750936493,718.3057604105346,718.24344572742,718.1188163611905,718.0565016780758,717.7449282625025,717.7449282625025,717.7449282625025,717.7449282625025,717.6826135793879,717.6202988962732,717.5579842131585,717.5579842131585,717.4333548469292,717.4333548469292,717.3087254806999,716.9971520651266,716.7478933326678,716.6855786495531,716.6232639664385,716.5609492833238,716.0624318184065,715.8131730859477,715.8131730859477,715.563914353489,715.0653968885717,715.0030822054571,714.3799353743103,714.068361958737,713.881417909393,713.6944738600489,713.6321591769342,713.4452151275902,713.0713270289023,712.5728095639848,712.3858655146408,712.1366067821822,711.8873480497235,711.8873480497235,711.8250333666089,711.3888305848061,711.2642012185768,710.5164250212008,710.5164250212008,705.6558797382564,705.4066210057978,705.4066210057978,705.0950475902245,705.0327329071098,705.0327329071098,704.970418223995,704.9081035408803,704.7211594915364,704.7211594915364,704.6588448084217,704.5342154421924,704.5342154421924,704.409586075963,704.409586075963,704.222642026619,704.222642026619,703.9110686110457,703.848753927931,703.5371805123576,702.4778308994082,701.7923693851469,701.1069078708855,700.9199638215415,700.2345023072801,700.1098729410508,699.4867261099041,699.112838011216,698.9882086449867,698.552005863184,698.4896911800694,697.991173715152,697.617285616464,697.43034156712,697.3680268840053,697.3057122008906,696.8071947359732,695.8724744892531,695.8101598061385,695.4362717074505,695.1870129749918,693.5668312140103,693.5045165308957,693.255257798437,693.068313749093,692.881369699749,692.0089641361436,692.0089641361436,692.0089641361436,692.0089641361436,691.5727613543409,691.1988732556529,690.7626704738502,690.7003557907356,690.7003557907356,689.8279502271301,689.5786914946714,688.2700831492633,688.0208244168047,687.3976775856579,687.2730482194286,686.276013289594,684.7804608948418,684.5312021623831,683.3472231832044,683.3472231832044,683.2849085000897,678.5489925833747,676.804181456164,671.5697480745316,671.5697480745316,670.5727131446969,670.3857690953529,669.7003075810915,669.5756782148621,669.5756782148621,669.0148460668302,668.4540139187981,668.1424405032247,668.1424405032247,666.958461524046,666.771517474702,665.4005944461792,665.2136503968352,665.2136503968352,665.1513357137205,664.9020769812619,664.6528182488032,664.0919861007711,664.0296714176565,663.9050420514271,663.7180980020831,663.6557833189685,663.5934686358538,663.5311539527391,663.4688392696245,663.2195805371657,663.0326364878217,662.7833777553631,662.4094896566751,662.0979162411018,662.035601557987,661.7863428255283,661.7863428255283,661.1008813112669,661.0385666281522,660.6023638463496,660.3531051138909,660.1661610645469,659.979217015203,659.6053289165148,658.4213499373361,656.9881122256987,656.925797542584,656.4895947607813,655.617189197176,655.1186717322586,654.8070983166853,654.7447836335706,654.6201542673413,654.5578395842265,654.4332102179972,654.3085808517678,654.1839514855385,653.3115459219332,653.1246018725891,652.376825675213,651.9406228934104,651.442105428493,651.2551613791491,651.1305320129196,650.881273280461,650.320441132429,649.5726649350529,649.1987768363649,648.7625740545622,648.7002593714475,648.5133153221035,648.0771125403008,647.7655391247274,647.2670216598101,646.6438748286633,646.6438748286633,646.2076720468607,645.7091545819433,645.6468398988286,645.5222105325993,644.9613783845673,644.5251756027646,644.2759168703059,643.4035113067005,642.4687910599805,642.2818470106364,642.0949029612924,641.9702735950631,641.7210148626044,641.5340708132604,641.5340708132604,641.5340708132604,641.4717561301456,641.409441447031,641.1601827145723,640.9732386652283,640.9109239821137,640.7239799327697,640.5993505665404,640.5370358834257,640.474721200311,640.4124065171964,640.3500918340817,640.2254624678524,640.0385184185083,639.9762037353936,639.9138890522789,639.9138890522789,639.4153715873616,639.4153715873616,639.3530569042468,639.2907422211322,639.2907422211322,639.2907422211322,639.2907422211322,639.1037981717882,639.1037981717882,638.7922247562149,638.7299100731002,638.6052807068709,638.4806513406415,638.4183366575269,637.9821338757242,637.8575045094948,637.4836164108068,637.3589870445775,637.2966723614628,637.2343576783481,637.2343576783481,636.9227842627747,636.86046957966,636.7981548965454,636.7981548965454,636.7358402134307,635.8634346498254,634.6794556706466,633.9316794732706,633.8693647901559,632.4361270785184,632.3114977122891,632.1868683460598,631.7506655642571,631.6883508811425,631.3767774655691,630.8782600006517,630.5043719019636,630.068169120161,630.0058544370463,629.320392922785,628.4479873591795,628.0117845773768,627.3886377462302,627.3263230631155,627.2016936968862,627.2016936968862,627.0147496475421,626.1423440839368,625.51919725279,625.2699385203314,624.7714210554141,623.9613301749232,623.7743861255792,623.3381833437766,622.8396658788593,622.6527218295151,622.1542043645978,622.1542043645978,621.5310575334511,621.0948547516484,620.7209666529604,620.6586519698458,620.3470785542723,620.3470785542723,620.3470785542723,620.222449188043,620.035505138699,619.7862464062404,619.7862464062404,619.7239317231257,619.5993023568963,619.5369876737816,619.2254142582083,619.0384702088643,618.913840842635,618.4776380608323,618.4153233777176,618.2906940114883,618.2283793283735,617.8544912296856,617.7921765465709,617.3559737647681,617.1690297154241,616.9820856660801,616.9820856660801,616.3589388349335,616.0473654193601,615.9227360531307,615.4242185882134,615.2995892219841,615.11264517264,614.551813024608,614.4271836583787,614.4271836583787,614.17792492592,614.0532955596906,613.990980876576,613.9286661934614,613.8663515103467,613.8663515103467,613.8040368272319,613.8040368272319,613.7417221441173,613.6170927778879,613.6170927778879,613.4924634116586,613.4301487285439,613.4301487285439,613.3678340454293,613.1808899960853,613.1808899960853,613.0562606298558,612.9939459467413,612.7446872142825,612.6200578480532,612.6200578480532,612.3707991155945,612.3707991155945,612.1838550662505,612.1838550662505,612.1215403831359,611.9969110169066,611.9345963337919,611.8722816506772,611.8099669675624,611.4983935519891,611.4983935519891,611.2491348195305,610.9998760870718,610.8752467208424,610.376729255925,610.2520998896957,610.0651558403517,609.9405264741224,609.8158971078931,609.1927502767463,608.6942328118289,608.507288762485,607.198680417077,606.8871070015035,606.5755335859302,606.2016454872421,606.2016454872421,605.4538692898661,605.079981191178,605.0176665080634,604.3945196769167,603.8336875288846,603.3351700639673,602.9612819652793,602.4004498172472,602.2758204510179,601.0918414718392,600.6556386900364,600.1571212251191,599.970177175775,599.8455478095458,599.6586037602017,599.596289077087,599.3470303446284,599.2847156615137,598.9731422459404,598.9731422459404,598.4123100979083,598.2253660485643,597.8514779498763,596.7298136538122,596.4805549213536,596.0443521395508,595.8574080902068,595.7950934070922,595.5458346746334,595.2965759421747,595.2965759421747,595.2342612590601,595.1719465759454,595.1719465759454,594.7980584772574,594.2995410123401,594.0502822798815,593.6140794980787,593.1778767162759,593.1155620331613,592.7416739344733,592.7416739344733,592.6793592513586,592.617044568244,592.617044568244,592.5547298851293,592.1808417864413,591.8069536877533,591.5576949552946,591.1838068566066,590.9968628072625,590.7476040748038,590.7476040748038,589.9998278774278,589.8751985111985,589.8128838280838,589.6259397787397,589.4389957293957,589.3143663631664,587.0710377710383,587.0087230879236,586.6971496723503,586.0740028412035,585.9493734749742,585.9493734749742,585.1392825944835,584.640765129566,583.2075274179288,583.0828980516993,582.8959540023553,581.4627162907179,580.5279960439979,580.1541079453098,579.5932757972778,579.3440170648191,579.1570730154751,578.9078142830165,578.9078142830165,578.4716115012137,578.409296818099,577.7861499869523,577.7238353038376,577.5368912544936,576.913744423347,576.6021710077736,576.1659682259709,575.0443039299068,573.4241221689254,573.1748634364667,572.738660654664,571.7416257248293,571.5546816754853,570.8692201612239,570.3707026963066,569.4982971327012,568.9997796677837,568.0650594210638,567.8158006886051,565.1985839977889,564.0769197017248,557.8454513902577,556.2252696292763,556.1006402630469,555.1036053332123,554.9166612838683,552.8602767410841,552.4240739592815,551.9878711774787,551.6139830787906,549.7445425853506,549.6199132191211,545.320200084209,543.7000183232275,542.7652980765074,542.7029833933927,541.5190044142141,541.2697456817554,540.8335428999526,538.4655849415951,536.8454031806137,535.5367948352057,532.4210606794721,531.9848578976694,528.3706062770185,525.6287602199731],\"yaxis\":\"y\",\"type\":\"scatter\"}],                        {\"template\":{\"data\":{\"barpolar\":[{\"marker\":{\"line\":{\"color\":\"white\",\"width\":0.5},\"pattern\":{\"fillmode\":\"overlay\",\"size\":10,\"solidity\":0.2}},\"type\":\"barpolar\"}],\"bar\":[{\"error_x\":{\"color\":\"rgb(36,36,36)\"},\"error_y\":{\"color\":\"rgb(36,36,36)\"},\"marker\":{\"line\":{\"color\":\"white\",\"width\":0.5},\"pattern\":{\"fillmode\":\"overlay\",\"size\":10,\"solidity\":0.2}},\"type\":\"bar\"}],\"carpet\":[{\"aaxis\":{\"endlinecolor\":\"rgb(36,36,36)\",\"gridcolor\":\"white\",\"linecolor\":\"white\",\"minorgridcolor\":\"white\",\"startlinecolor\":\"rgb(36,36,36)\"},\"baxis\":{\"endlinecolor\":\"rgb(36,36,36)\",\"gridcolor\":\"white\",\"linecolor\":\"white\",\"minorgridcolor\":\"white\",\"startlinecolor\":\"rgb(36,36,36)\"},\"type\":\"carpet\"}],\"choropleth\":[{\"colorbar\":{\"outlinewidth\":1,\"tickcolor\":\"rgb(36,36,36)\",\"ticks\":\"outside\"},\"type\":\"choropleth\"}],\"contourcarpet\":[{\"colorbar\":{\"outlinewidth\":1,\"tickcolor\":\"rgb(36,36,36)\",\"ticks\":\"outside\"},\"type\":\"contourcarpet\"}],\"contour\":[{\"colorbar\":{\"outlinewidth\":1,\"tickcolor\":\"rgb(36,36,36)\",\"ticks\":\"outside\"},\"colorscale\":[[0.0,\"#440154\"],[0.1111111111111111,\"#482878\"],[0.2222222222222222,\"#3e4989\"],[0.3333333333333333,\"#31688e\"],[0.4444444444444444,\"#26828e\"],[0.5555555555555556,\"#1f9e89\"],[0.6666666666666666,\"#35b779\"],[0.7777777777777778,\"#6ece58\"],[0.8888888888888888,\"#b5de2b\"],[1.0,\"#fde725\"]],\"type\":\"contour\"}],\"heatmapgl\":[{\"colorbar\":{\"outlinewidth\":1,\"tickcolor\":\"rgb(36,36,36)\",\"ticks\":\"outside\"},\"colorscale\":[[0.0,\"#440154\"],[0.1111111111111111,\"#482878\"],[0.2222222222222222,\"#3e4989\"],[0.3333333333333333,\"#31688e\"],[0.4444444444444444,\"#26828e\"],[0.5555555555555556,\"#1f9e89\"],[0.6666666666666666,\"#35b779\"],[0.7777777777777778,\"#6ece58\"],[0.8888888888888888,\"#b5de2b\"],[1.0,\"#fde725\"]],\"type\":\"heatmapgl\"}],\"heatmap\":[{\"colorbar\":{\"outlinewidth\":1,\"tickcolor\":\"rgb(36,36,36)\",\"ticks\":\"outside\"},\"colorscale\":[[0.0,\"#440154\"],[0.1111111111111111,\"#482878\"],[0.2222222222222222,\"#3e4989\"],[0.3333333333333333,\"#31688e\"],[0.4444444444444444,\"#26828e\"],[0.5555555555555556,\"#1f9e89\"],[0.6666666666666666,\"#35b779\"],[0.7777777777777778,\"#6ece58\"],[0.8888888888888888,\"#b5de2b\"],[1.0,\"#fde725\"]],\"type\":\"heatmap\"}],\"histogram2dcontour\":[{\"colorbar\":{\"outlinewidth\":1,\"tickcolor\":\"rgb(36,36,36)\",\"ticks\":\"outside\"},\"colorscale\":[[0.0,\"#440154\"],[0.1111111111111111,\"#482878\"],[0.2222222222222222,\"#3e4989\"],[0.3333333333333333,\"#31688e\"],[0.4444444444444444,\"#26828e\"],[0.5555555555555556,\"#1f9e89\"],[0.6666666666666666,\"#35b779\"],[0.7777777777777778,\"#6ece58\"],[0.8888888888888888,\"#b5de2b\"],[1.0,\"#fde725\"]],\"type\":\"histogram2dcontour\"}],\"histogram2d\":[{\"colorbar\":{\"outlinewidth\":1,\"tickcolor\":\"rgb(36,36,36)\",\"ticks\":\"outside\"},\"colorscale\":[[0.0,\"#440154\"],[0.1111111111111111,\"#482878\"],[0.2222222222222222,\"#3e4989\"],[0.3333333333333333,\"#31688e\"],[0.4444444444444444,\"#26828e\"],[0.5555555555555556,\"#1f9e89\"],[0.6666666666666666,\"#35b779\"],[0.7777777777777778,\"#6ece58\"],[0.8888888888888888,\"#b5de2b\"],[1.0,\"#fde725\"]],\"type\":\"histogram2d\"}],\"histogram\":[{\"marker\":{\"line\":{\"color\":\"white\",\"width\":0.6}},\"type\":\"histogram\"}],\"mesh3d\":[{\"colorbar\":{\"outlinewidth\":1,\"tickcolor\":\"rgb(36,36,36)\",\"ticks\":\"outside\"},\"type\":\"mesh3d\"}],\"parcoords\":[{\"line\":{\"colorbar\":{\"outlinewidth\":1,\"tickcolor\":\"rgb(36,36,36)\",\"ticks\":\"outside\"}},\"type\":\"parcoords\"}],\"pie\":[{\"automargin\":true,\"type\":\"pie\"}],\"scatter3d\":[{\"line\":{\"colorbar\":{\"outlinewidth\":1,\"tickcolor\":\"rgb(36,36,36)\",\"ticks\":\"outside\"}},\"marker\":{\"colorbar\":{\"outlinewidth\":1,\"tickcolor\":\"rgb(36,36,36)\",\"ticks\":\"outside\"}},\"type\":\"scatter3d\"}],\"scattercarpet\":[{\"marker\":{\"colorbar\":{\"outlinewidth\":1,\"tickcolor\":\"rgb(36,36,36)\",\"ticks\":\"outside\"}},\"type\":\"scattercarpet\"}],\"scattergeo\":[{\"marker\":{\"colorbar\":{\"outlinewidth\":1,\"tickcolor\":\"rgb(36,36,36)\",\"ticks\":\"outside\"}},\"type\":\"scattergeo\"}],\"scattergl\":[{\"marker\":{\"colorbar\":{\"outlinewidth\":1,\"tickcolor\":\"rgb(36,36,36)\",\"ticks\":\"outside\"}},\"type\":\"scattergl\"}],\"scattermapbox\":[{\"marker\":{\"colorbar\":{\"outlinewidth\":1,\"tickcolor\":\"rgb(36,36,36)\",\"ticks\":\"outside\"}},\"type\":\"scattermapbox\"}],\"scatterpolargl\":[{\"marker\":{\"colorbar\":{\"outlinewidth\":1,\"tickcolor\":\"rgb(36,36,36)\",\"ticks\":\"outside\"}},\"type\":\"scatterpolargl\"}],\"scatterpolar\":[{\"marker\":{\"colorbar\":{\"outlinewidth\":1,\"tickcolor\":\"rgb(36,36,36)\",\"ticks\":\"outside\"}},\"type\":\"scatterpolar\"}],\"scatter\":[{\"marker\":{\"colorbar\":{\"outlinewidth\":1,\"tickcolor\":\"rgb(36,36,36)\",\"ticks\":\"outside\"}},\"type\":\"scatter\"}],\"scatterternary\":[{\"marker\":{\"colorbar\":{\"outlinewidth\":1,\"tickcolor\":\"rgb(36,36,36)\",\"ticks\":\"outside\"}},\"type\":\"scatterternary\"}],\"surface\":[{\"colorbar\":{\"outlinewidth\":1,\"tickcolor\":\"rgb(36,36,36)\",\"ticks\":\"outside\"},\"colorscale\":[[0.0,\"#440154\"],[0.1111111111111111,\"#482878\"],[0.2222222222222222,\"#3e4989\"],[0.3333333333333333,\"#31688e\"],[0.4444444444444444,\"#26828e\"],[0.5555555555555556,\"#1f9e89\"],[0.6666666666666666,\"#35b779\"],[0.7777777777777778,\"#6ece58\"],[0.8888888888888888,\"#b5de2b\"],[1.0,\"#fde725\"]],\"type\":\"surface\"}],\"table\":[{\"cells\":{\"fill\":{\"color\":\"rgb(237,237,237)\"},\"line\":{\"color\":\"white\"}},\"header\":{\"fill\":{\"color\":\"rgb(217,217,217)\"},\"line\":{\"color\":\"white\"}},\"type\":\"table\"}]},\"layout\":{\"annotationdefaults\":{\"arrowhead\":0,\"arrowwidth\":1},\"autotypenumbers\":\"strict\",\"coloraxis\":{\"colorbar\":{\"outlinewidth\":1,\"tickcolor\":\"rgb(36,36,36)\",\"ticks\":\"outside\"}},\"colorscale\":{\"diverging\":[[0.0,\"rgb(103,0,31)\"],[0.1,\"rgb(178,24,43)\"],[0.2,\"rgb(214,96,77)\"],[0.3,\"rgb(244,165,130)\"],[0.4,\"rgb(253,219,199)\"],[0.5,\"rgb(247,247,247)\"],[0.6,\"rgb(209,229,240)\"],[0.7,\"rgb(146,197,222)\"],[0.8,\"rgb(67,147,195)\"],[0.9,\"rgb(33,102,172)\"],[1.0,\"rgb(5,48,97)\"]],\"sequential\":[[0.0,\"#440154\"],[0.1111111111111111,\"#482878\"],[0.2222222222222222,\"#3e4989\"],[0.3333333333333333,\"#31688e\"],[0.4444444444444444,\"#26828e\"],[0.5555555555555556,\"#1f9e89\"],[0.6666666666666666,\"#35b779\"],[0.7777777777777778,\"#6ece58\"],[0.8888888888888888,\"#b5de2b\"],[1.0,\"#fde725\"]],\"sequentialminus\":[[0.0,\"#440154\"],[0.1111111111111111,\"#482878\"],[0.2222222222222222,\"#3e4989\"],[0.3333333333333333,\"#31688e\"],[0.4444444444444444,\"#26828e\"],[0.5555555555555556,\"#1f9e89\"],[0.6666666666666666,\"#35b779\"],[0.7777777777777778,\"#6ece58\"],[0.8888888888888888,\"#b5de2b\"],[1.0,\"#fde725\"]]},\"colorway\":[\"#1F77B4\",\"#FF7F0E\",\"#2CA02C\",\"#D62728\",\"#9467BD\",\"#8C564B\",\"#E377C2\",\"#7F7F7F\",\"#BCBD22\",\"#17BECF\"],\"font\":{\"color\":\"rgb(36,36,36)\"},\"geo\":{\"bgcolor\":\"white\",\"lakecolor\":\"white\",\"landcolor\":\"white\",\"showlakes\":true,\"showland\":true,\"subunitcolor\":\"white\"},\"hoverlabel\":{\"align\":\"left\"},\"hovermode\":\"closest\",\"mapbox\":{\"style\":\"light\"},\"paper_bgcolor\":\"white\",\"plot_bgcolor\":\"white\",\"polar\":{\"angularaxis\":{\"gridcolor\":\"rgb(232,232,232)\",\"linecolor\":\"rgb(36,36,36)\",\"showgrid\":false,\"showline\":true,\"ticks\":\"outside\"},\"bgcolor\":\"white\",\"radialaxis\":{\"gridcolor\":\"rgb(232,232,232)\",\"linecolor\":\"rgb(36,36,36)\",\"showgrid\":false,\"showline\":true,\"ticks\":\"outside\"}},\"scene\":{\"xaxis\":{\"backgroundcolor\":\"white\",\"gridcolor\":\"rgb(232,232,232)\",\"gridwidth\":2,\"linecolor\":\"rgb(36,36,36)\",\"showbackground\":true,\"showgrid\":false,\"showline\":true,\"ticks\":\"outside\",\"zeroline\":false,\"zerolinecolor\":\"rgb(36,36,36)\"},\"yaxis\":{\"backgroundcolor\":\"white\",\"gridcolor\":\"rgb(232,232,232)\",\"gridwidth\":2,\"linecolor\":\"rgb(36,36,36)\",\"showbackground\":true,\"showgrid\":false,\"showline\":true,\"ticks\":\"outside\",\"zeroline\":false,\"zerolinecolor\":\"rgb(36,36,36)\"},\"zaxis\":{\"backgroundcolor\":\"white\",\"gridcolor\":\"rgb(232,232,232)\",\"gridwidth\":2,\"linecolor\":\"rgb(36,36,36)\",\"showbackground\":true,\"showgrid\":false,\"showline\":true,\"ticks\":\"outside\",\"zeroline\":false,\"zerolinecolor\":\"rgb(36,36,36)\"}},\"shapedefaults\":{\"fillcolor\":\"black\",\"line\":{\"width\":0},\"opacity\":0.3},\"ternary\":{\"aaxis\":{\"gridcolor\":\"rgb(232,232,232)\",\"linecolor\":\"rgb(36,36,36)\",\"showgrid\":false,\"showline\":true,\"ticks\":\"outside\"},\"baxis\":{\"gridcolor\":\"rgb(232,232,232)\",\"linecolor\":\"rgb(36,36,36)\",\"showgrid\":false,\"showline\":true,\"ticks\":\"outside\"},\"bgcolor\":\"white\",\"caxis\":{\"gridcolor\":\"rgb(232,232,232)\",\"linecolor\":\"rgb(36,36,36)\",\"showgrid\":false,\"showline\":true,\"ticks\":\"outside\"}},\"title\":{\"x\":0.05},\"xaxis\":{\"automargin\":true,\"gridcolor\":\"rgb(232,232,232)\",\"linecolor\":\"rgb(36,36,36)\",\"showgrid\":false,\"showline\":true,\"ticks\":\"outside\",\"title\":{\"standoff\":15},\"zeroline\":false,\"zerolinecolor\":\"rgb(36,36,36)\"},\"yaxis\":{\"automargin\":true,\"gridcolor\":\"rgb(232,232,232)\",\"linecolor\":\"rgb(36,36,36)\",\"showgrid\":false,\"showline\":true,\"ticks\":\"outside\",\"title\":{\"standoff\":15},\"zeroline\":false,\"zerolinecolor\":\"rgb(36,36,36)\"}}},\"xaxis\":{\"anchor\":\"y\",\"domain\":[0.0,0.8358],\"title\":{\"text\":\"Cooling Load\"}},\"yaxis\":{\"anchor\":\"x\",\"domain\":[0.0,0.8316],\"title\":{\"text\":\"Surface Area\"}},\"xaxis2\":{\"anchor\":\"y2\",\"domain\":[0.8408,1.0],\"matches\":\"x2\",\"showticklabels\":false,\"showline\":false,\"ticks\":\"\"},\"yaxis2\":{\"anchor\":\"x2\",\"domain\":[0.0,0.8316],\"matches\":\"y\",\"showticklabels\":false},\"xaxis3\":{\"anchor\":\"y3\",\"domain\":[0.0,0.8358],\"matches\":\"x\",\"showticklabels\":false},\"yaxis3\":{\"anchor\":\"x3\",\"domain\":[0.8416,1.0],\"matches\":\"y3\",\"showticklabels\":false,\"showline\":false,\"ticks\":\"\"},\"xaxis4\":{\"anchor\":\"y4\",\"domain\":[0.8408,1.0],\"matches\":\"x2\",\"showticklabels\":false,\"showline\":false,\"ticks\":\"\"},\"yaxis4\":{\"anchor\":\"x4\",\"domain\":[0.8416,1.0],\"matches\":\"y3\",\"showticklabels\":false,\"showline\":false,\"ticks\":\"\"},\"legend\":{\"tracegroupgap\":0},\"margin\":{\"t\":60}},                        {\"responsive\": true}                    ).then(function(){\n",
              "                            \n",
              "var gd = document.getElementById('49419490-e618-4090-a2f0-0e3f3eb83c5e');\n",
              "var x = new MutationObserver(function (mutations, observer) {{\n",
              "        var display = window.getComputedStyle(gd).display;\n",
              "        if (!display || display === 'none') {{\n",
              "            console.log([gd, 'removed!']);\n",
              "            Plotly.purge(gd);\n",
              "            observer.disconnect();\n",
              "        }}\n",
              "}});\n",
              "\n",
              "// Listen for the removal of the full notebook cells\n",
              "var notebookContainer = gd.closest('#notebook-container');\n",
              "if (notebookContainer) {{\n",
              "    x.observe(notebookContainer, {childList: true});\n",
              "}}\n",
              "\n",
              "// Listen for the clearing of the current output cell\n",
              "var outputEl = gd.closest('.output');\n",
              "if (outputEl) {{\n",
              "    x.observe(outputEl, {childList: true});\n",
              "}}\n",
              "\n",
              "                        })                };                            </script>        </div>\n",
              "</body>\n",
              "</html>"
            ]
          },
          "metadata": {}
        }
      ]
    },
    {
      "cell_type": "code",
      "source": [
        "import plotly.express as px\n",
        "yprop = 'Overall Height'\n",
        "xprop = 'Heating Load'\n",
        "h= None\n",
        "px.scatter(data, x=xprop, y=yprop, color=h, marginal_y=\"violin\", marginal_x=\"box\", trendline=\"ols\", template=\"simple_white\")"
      ],
      "metadata": {
        "trusted": true,
        "colab": {
          "base_uri": "https://localhost:8080/",
          "height": 542
        },
        "id": "x76l1c2ymb4t",
        "outputId": "243c1568-7c51-4cee-8f4e-22cd1678cf0c"
      },
      "execution_count": 8,
      "outputs": [
        {
          "output_type": "display_data",
          "data": {
            "text/html": [
              "<html>\n",
              "<head><meta charset=\"utf-8\" /></head>\n",
              "<body>\n",
              "    <div>            <script src=\"https://cdnjs.cloudflare.com/ajax/libs/mathjax/2.7.5/MathJax.js?config=TeX-AMS-MML_SVG\"></script><script type=\"text/javascript\">if (window.MathJax) {MathJax.Hub.Config({SVG: {font: \"STIX-Web\"}});}</script>                <script type=\"text/javascript\">window.PlotlyConfig = {MathJaxConfig: 'local'};</script>\n",
              "        <script src=\"https://cdn.plot.ly/plotly-2.8.3.min.js\"></script>                <div id=\"d7a94b9e-feba-41b8-8738-7c04fae3a32c\" class=\"plotly-graph-div\" style=\"height:525px; width:100%;\"></div>            <script type=\"text/javascript\">                                    window.PLOTLYENV=window.PLOTLYENV || {};                                    if (document.getElementById(\"d7a94b9e-feba-41b8-8738-7c04fae3a32c\")) {                    Plotly.newPlot(                        \"d7a94b9e-feba-41b8-8738-7c04fae3a32c\",                        [{\"hovertemplate\":\"Heating Load=%{x}<br>Overall Height=%{y}<extra></extra>\",\"legendgroup\":\"\",\"marker\":{\"color\":\"#1F77B4\",\"symbol\":\"circle\"},\"mode\":\"markers\",\"name\":\"\",\"orientation\":\"v\",\"showlegend\":false,\"x\":[15.55,15.55,15.55,15.55,20.84,21.46,20.71,19.68,19.5,19.95,19.34,18.31,17.05,17.41,16.95,15.98,28.52,29.9,29.63,28.75,24.77,23.93,24.77,23.93,6.07,6.05,6.01,6.04,6.37,6.4,6.37,6.4,6.85,6.79,6.77,6.81,7.18,7.1,7.1,7.1,10.85,10.54,10.77,10.56,8.6,8.49,8.45,8.5,24.58,24.63,24.63,24.59,29.03,29.87,29.14,28.09,26.28,26.91,26.37,25.27,23.53,24.03,23.54,22.58,35.56,37.12,36.9,35.94,32.96,32.12,32.94,32.21,10.36,10.43,10.36,10.39,10.71,10.8,10.7,10.75,11.11,11.13,11.09,11.16,11.68,11.69,11.7,11.69,15.41,15.2,15.42,15.21,12.96,12.97,12.93,13.02,24.29,24.31,24.13,24.25,28.88,29.68,28.83,27.9,26.48,27.02,26.33,25.36,23.75,24.23,23.67,22.79,35.65,37.26,36.97,36.03,33.16,32.4,33.12,32.41,10.42,10.46,10.32,10.45,10.64,10.72,10.55,10.68,11.45,11.46,11.32,11.49,11.45,11.42,11.33,11.43,15.41,15.18,15.34,15.19,12.88,13.0,12.97,13.04,24.28,24.4,24.11,24.35,28.07,29.01,29.62,29.05,25.41,26.47,26.89,26.46,22.93,23.84,24.17,23.87,35.78,35.48,36.97,36.7,32.52,33.28,32.33,33.24,10.39,10.34,10.35,10.38,10.77,10.68,10.68,10.7,11.22,11.16,11.1,11.14,11.59,11.6,11.53,11.61,15.16,15.36,15.12,15.36,12.68,12.63,12.71,12.73,24.38,24.23,24.04,24.32,29.06,28.05,28.86,29.79,26.44,25.37,26.33,27.03,23.8,22.8,23.59,24.24,36.86,35.89,35.45,37.1,33.08,32.38,33.09,32.31,10.08,10.15,10.07,10.14,10.66,10.68,10.53,10.72,11.18,11.22,11.07,11.2,11.44,11.42,11.33,11.43,15.4,15.19,15.32,15.16,12.85,13.04,13.0,13.0,24.35,24.33,24.03,24.26,29.83,29.08,28.03,29.02,27.03,26.45,25.36,26.45,24.37,23.89,22.89,23.86,37.03,36.71,36.77,35.48,32.31,33.21,32.46,33.27,10.47,10.37,10.34,10.39,10.78,10.7,10.67,13.69,11.21,11.14,11.11,11.16,11.38,11.34,11.22,11.34,15.16,15.37,15.12,15.36,12.59,12.74,12.8,12.62,28.15,28.15,28.37,28.41,32.68,33.48,32.84,32.0,29.54,30.05,29.6,28.66,26.84,27.27,26.97,26.19,38.67,40.03,39.86,39.04,36.96,36.13,36.91,36.43,12.43,12.5,12.41,12.45,12.57,12.65,12.57,12.63,12.78,12.93,12.73,12.72,13.17,13.18,13.17,13.18,17.5,17.35,17.52,17.37,15.09,15.12,15.08,15.16,28.67,28.57,28.18,28.6,32.46,33.27,32.33,31.66,29.34,29.87,29.27,28.4,25.74,25.98,25.38,24.94,38.57,40.19,39.97,38.98,36.95,36.28,36.86,36.45,12.35,12.45,12.16,12.3,12.33,12.29,12.2,12.49,12.85,12.87,12.73,12.95,13.05,12.93,12.77,13.0,17.14,16.84,17.02,17.11,14.34,14.66,14.6,14.6,28.67,28.56,28.17,28.63,31.63,32.4,32.68,32.29,28.4,29.4,29.43,29.07,24.7,25.48,25.37,25.17,39.04,38.35,39.81,39.83,35.99,36.59,35.64,36.52,11.8,12.03,11.98,11.69,12.41,12.28,12.1,12.19,12.34,12.46,12.31,12.12,12.97,13.01,12.74,12.84,16.83,16.93,16.66,16.86,13.91,14.34,13.95,13.99,28.7,28.55,28.15,28.62,32.67,31.69,32.07,33.28,29.47,28.42,29.08,29.88,25.66,24.96,25.43,26.0,40.0,38.84,38.33,40.12,36.95,36.45,36.81,36.26,12.32,12.3,12.18,12.43,12.36,12.49,12.17,12.28,12.91,12.95,12.67,12.86,12.95,13.0,12.86,12.92,16.99,16.69,16.56,16.62,14.33,14.61,14.61,14.65,28.69,28.58,28.15,28.61,33.13,32.31,31.53,32.46,29.71,29.09,28.31,29.39,25.7,25.17,24.6,25.49,39.89,39.83,39.01,38.65,35.69,36.64,36.06,36.7,12.12,11.67,11.64,12.02,12.27,12.19,12.25,12.27,12.47,12.12,12.18,12.47,12.93,12.82,12.78,13.02,16.73,16.86,16.76,16.92,13.68,13.99,14.16,13.86,32.26,32.26,32.49,32.53,36.47,37.24,36.66,35.96,31.89,32.39,32.09,31.29,29.22,29.91,29.53,28.65,41.4,42.62,42.5,41.67,40.78,39.97,40.71,40.43,14.52,14.61,14.5,14.55,14.51,14.6,14.5,14.58,14.51,14.7,14.42,14.42,15.23,15.23,15.23,15.23,19.52,19.36,19.48,19.42,15.09,17.17,17.14,17.14,32.82,32.71,32.24,32.72,35.84,36.57,36.06,35.69,32.48,32.74,32.13,31.64,28.95,29.49,28.64,28.01,41.64,43.1,42.74,41.92,40.78,40.15,40.57,40.42,14.54,14.45,14.18,14.5,14.7,14.66,14.4,14.71,14.75,14.71,14.33,14.62,15.34,15.29,15.09,15.3,19.2,18.88,18.9,19.12,16.76,17.23,17.26,17.15,32.82,32.69,32.23,32.75,34.24,34.95,35.05,34.29,31.28,32.12,32.05,31.84,28.67,29.67,29.47,28.91,41.26,41.3,42.49,42.08,39.32,39.84,38.89,39.68,13.97,14.22,14.1,13.78,14.07,14.03,13.94,13.86,14.32,14.56,14.33,14.08,15.16,15.18,14.72,14.9,18.48,18.71,18.48,18.46,16.47,16.35,16.55,16.74,32.85,32.67,32.21,32.74,36.45,35.73,35.4,36.57,32.38,31.66,32.15,32.75,28.93,28.05,28.64,29.52,42.77,41.73,41.32,42.96,40.68,40.4,40.6,40.11,14.37,14.48,14.32,14.44,14.6,14.7,14.47,14.66,14.54,14.62,14.53,14.71,15.34,15.29,15.09,15.3,19.06,19.13,19.0,18.84,16.44,16.9,16.94,16.77,32.84,32.72,32.21,32.73,35.67,35.01,34.72,35.24,32.31,31.81,31.12,32.06,30.0,29.5,29.06,29.92,42.11,41.96,41.09,40.79,38.82,39.72,39.31,39.86,14.41,14.19,14.17,14.39,12.43,12.63,12.76,12.42,14.12,14.28,14.37,14.21,14.96,14.92,14.92,15.16,17.69,18.19,18.16,17.88,16.54,16.44,16.48,16.64],\"xaxis\":\"x\",\"y\":[7.0,7.0,7.0,7.0,7.0,7.0,7.0,7.0,7.0,7.0,7.0,7.0,7.0,7.0,7.0,7.0,7.0,7.0,7.0,7.0,7.0,7.0,7.0,7.0,3.5,3.5,3.5,3.5,3.5,3.5,3.5,3.5,3.5,3.5,3.5,3.5,3.5,3.5,3.5,3.5,3.5,3.5,3.5,3.5,3.5,3.5,3.5,3.5,7.0,7.0,7.0,7.0,7.0,7.0,7.0,7.0,7.0,7.0,7.0,7.0,7.0,7.0,7.0,7.0,7.0,7.0,7.0,7.0,7.0,7.0,7.0,7.0,3.5,3.5,3.5,3.5,3.5,3.5,3.5,3.5,3.5,3.5,3.5,3.5,3.5,3.5,3.5,3.5,3.5,3.5,3.5,3.5,3.5,3.5,3.5,3.5,7.0,7.0,7.0,7.0,7.0,7.0,7.0,7.0,7.0,7.0,7.0,7.0,7.0,7.0,7.0,7.0,7.0,7.0,7.0,7.0,7.0,7.0,7.0,7.0,3.5,3.5,3.5,3.5,3.5,3.5,3.5,3.5,3.5,3.5,3.5,3.5,3.5,3.5,3.5,3.5,3.5,3.5,3.5,3.5,3.5,3.5,3.5,3.5,7.0,7.0,7.0,7.0,7.0,7.0,7.0,7.0,7.0,7.0,7.0,7.0,7.0,7.0,7.0,7.0,7.0,7.0,7.0,7.0,7.0,7.0,7.0,7.0,3.5,3.5,3.5,3.5,3.5,3.5,3.5,3.5,3.5,3.5,3.5,3.5,3.5,3.5,3.5,3.5,3.5,3.5,3.5,3.5,3.5,3.5,3.5,3.5,7.0,7.0,7.0,7.0,7.0,7.0,7.0,7.0,7.0,7.0,7.0,7.0,7.0,7.0,7.0,7.0,7.0,7.0,7.0,7.0,7.0,7.0,7.0,7.0,3.5,3.5,3.5,3.5,3.5,3.5,3.5,3.5,3.5,3.5,3.5,3.5,3.5,3.5,3.5,3.5,3.5,3.5,3.5,3.5,3.5,3.5,3.5,3.5,7.0,7.0,7.0,7.0,7.0,7.0,7.0,7.0,7.0,7.0,7.0,7.0,7.0,7.0,7.0,7.0,7.0,7.0,7.0,7.0,7.0,7.0,7.0,7.0,3.5,3.5,3.5,3.5,3.5,3.5,3.5,3.5,3.5,3.5,3.5,3.5,3.5,3.5,3.5,3.5,3.5,3.5,3.5,3.5,3.5,3.5,3.5,3.5,7.0,7.0,7.0,7.0,7.0,7.0,7.0,7.0,7.0,7.0,7.0,7.0,7.0,7.0,7.0,7.0,7.0,7.0,7.0,7.0,7.0,7.0,7.0,7.0,3.5,3.5,3.5,3.5,3.5,3.5,3.5,3.5,3.5,3.5,3.5,3.5,3.5,3.5,3.5,3.5,3.5,3.5,3.5,3.5,3.5,3.5,3.5,3.5,7.0,7.0,7.0,7.0,7.0,7.0,7.0,7.0,7.0,7.0,7.0,7.0,7.0,7.0,7.0,7.0,7.0,7.0,7.0,7.0,7.0,7.0,7.0,7.0,3.5,3.5,3.5,3.5,3.5,3.5,3.5,3.5,3.5,3.5,3.5,3.5,3.5,3.5,3.5,3.5,3.5,3.5,3.5,3.5,3.5,3.5,3.5,3.5,7.0,7.0,7.0,7.0,7.0,7.0,7.0,7.0,7.0,7.0,7.0,7.0,7.0,7.0,7.0,7.0,7.0,7.0,7.0,7.0,7.0,7.0,7.0,7.0,3.5,3.5,3.5,3.5,3.5,3.5,3.5,3.5,3.5,3.5,3.5,3.5,3.5,3.5,3.5,3.5,3.5,3.5,3.5,3.5,3.5,3.5,3.5,3.5,7.0,7.0,7.0,7.0,7.0,7.0,7.0,7.0,7.0,7.0,7.0,7.0,7.0,7.0,7.0,7.0,7.0,7.0,7.0,7.0,7.0,7.0,7.0,7.0,3.5,3.5,3.5,3.5,3.5,3.5,3.5,3.5,3.5,3.5,3.5,3.5,3.5,3.5,3.5,3.5,3.5,3.5,3.5,3.5,3.5,3.5,3.5,3.5,7.0,7.0,7.0,7.0,7.0,7.0,7.0,7.0,7.0,7.0,7.0,7.0,7.0,7.0,7.0,7.0,7.0,7.0,7.0,7.0,7.0,7.0,7.0,7.0,3.5,3.5,3.5,3.5,3.5,3.5,3.5,3.5,3.5,3.5,3.5,3.5,3.5,3.5,3.5,3.5,3.5,3.5,3.5,3.5,3.5,3.5,3.5,3.5,7.0,7.0,7.0,7.0,7.0,7.0,7.0,7.0,7.0,7.0,7.0,7.0,7.0,7.0,7.0,7.0,7.0,7.0,7.0,7.0,7.0,7.0,7.0,7.0,3.5,3.5,3.5,3.5,3.5,3.5,3.5,3.5,3.5,3.5,3.5,3.5,3.5,3.5,3.5,3.5,3.5,3.5,3.5,3.5,3.5,3.5,3.5,3.5,7.0,7.0,7.0,7.0,7.0,7.0,7.0,7.0,7.0,7.0,7.0,7.0,7.0,7.0,7.0,7.0,7.0,7.0,7.0,7.0,7.0,7.0,7.0,7.0,3.5,3.5,3.5,3.5,3.5,3.5,3.5,3.5,3.5,3.5,3.5,3.5,3.5,3.5,3.5,3.5,3.5,3.5,3.5,3.5,3.5,3.5,3.5,3.5,7.0,7.0,7.0,7.0,7.0,7.0,7.0,7.0,7.0,7.0,7.0,7.0,7.0,7.0,7.0,7.0,7.0,7.0,7.0,7.0,7.0,7.0,7.0,7.0,3.5,3.5,3.5,3.5,3.5,3.5,3.5,3.5,3.5,3.5,3.5,3.5,3.5,3.5,3.5,3.5,3.5,3.5,3.5,3.5,3.5,3.5,3.5,3.5,7.0,7.0,7.0,7.0,7.0,7.0,7.0,7.0,7.0,7.0,7.0,7.0,7.0,7.0,7.0,7.0,7.0,7.0,7.0,7.0,7.0,7.0,7.0,7.0,3.5,3.5,3.5,3.5,3.5,3.5,3.5,3.5,3.5,3.5,3.5,3.5,3.5,3.5,3.5,3.5,3.5,3.5,3.5,3.5,3.5,3.5,3.5,3.5,7.0,7.0,7.0,7.0,7.0,7.0,7.0,7.0,7.0,7.0,7.0,7.0,7.0,7.0,7.0,7.0,7.0,7.0,7.0,7.0,7.0,7.0,7.0,7.0,3.5,3.5,3.5,3.5,3.5,3.5,3.5,3.5,3.5,3.5,3.5,3.5,3.5,3.5,3.5,3.5,3.5,3.5,3.5,3.5,3.5,3.5,3.5,3.5],\"yaxis\":\"y\",\"type\":\"scatter\"},{\"alignmentgroup\":\"True\",\"hovertemplate\":\"Heating Load=%{x}<extra></extra>\",\"legendgroup\":\"\",\"marker\":{\"color\":\"#1F77B4\",\"symbol\":\"circle\"},\"name\":\"\",\"notched\":true,\"offsetgroup\":\"\",\"showlegend\":false,\"x\":[15.55,15.55,15.55,15.55,20.84,21.46,20.71,19.68,19.5,19.95,19.34,18.31,17.05,17.41,16.95,15.98,28.52,29.9,29.63,28.75,24.77,23.93,24.77,23.93,6.07,6.05,6.01,6.04,6.37,6.4,6.37,6.4,6.85,6.79,6.77,6.81,7.18,7.1,7.1,7.1,10.85,10.54,10.77,10.56,8.6,8.49,8.45,8.5,24.58,24.63,24.63,24.59,29.03,29.87,29.14,28.09,26.28,26.91,26.37,25.27,23.53,24.03,23.54,22.58,35.56,37.12,36.9,35.94,32.96,32.12,32.94,32.21,10.36,10.43,10.36,10.39,10.71,10.8,10.7,10.75,11.11,11.13,11.09,11.16,11.68,11.69,11.7,11.69,15.41,15.2,15.42,15.21,12.96,12.97,12.93,13.02,24.29,24.31,24.13,24.25,28.88,29.68,28.83,27.9,26.48,27.02,26.33,25.36,23.75,24.23,23.67,22.79,35.65,37.26,36.97,36.03,33.16,32.4,33.12,32.41,10.42,10.46,10.32,10.45,10.64,10.72,10.55,10.68,11.45,11.46,11.32,11.49,11.45,11.42,11.33,11.43,15.41,15.18,15.34,15.19,12.88,13.0,12.97,13.04,24.28,24.4,24.11,24.35,28.07,29.01,29.62,29.05,25.41,26.47,26.89,26.46,22.93,23.84,24.17,23.87,35.78,35.48,36.97,36.7,32.52,33.28,32.33,33.24,10.39,10.34,10.35,10.38,10.77,10.68,10.68,10.7,11.22,11.16,11.1,11.14,11.59,11.6,11.53,11.61,15.16,15.36,15.12,15.36,12.68,12.63,12.71,12.73,24.38,24.23,24.04,24.32,29.06,28.05,28.86,29.79,26.44,25.37,26.33,27.03,23.8,22.8,23.59,24.24,36.86,35.89,35.45,37.1,33.08,32.38,33.09,32.31,10.08,10.15,10.07,10.14,10.66,10.68,10.53,10.72,11.18,11.22,11.07,11.2,11.44,11.42,11.33,11.43,15.4,15.19,15.32,15.16,12.85,13.04,13.0,13.0,24.35,24.33,24.03,24.26,29.83,29.08,28.03,29.02,27.03,26.45,25.36,26.45,24.37,23.89,22.89,23.86,37.03,36.71,36.77,35.48,32.31,33.21,32.46,33.27,10.47,10.37,10.34,10.39,10.78,10.7,10.67,13.69,11.21,11.14,11.11,11.16,11.38,11.34,11.22,11.34,15.16,15.37,15.12,15.36,12.59,12.74,12.8,12.62,28.15,28.15,28.37,28.41,32.68,33.48,32.84,32.0,29.54,30.05,29.6,28.66,26.84,27.27,26.97,26.19,38.67,40.03,39.86,39.04,36.96,36.13,36.91,36.43,12.43,12.5,12.41,12.45,12.57,12.65,12.57,12.63,12.78,12.93,12.73,12.72,13.17,13.18,13.17,13.18,17.5,17.35,17.52,17.37,15.09,15.12,15.08,15.16,28.67,28.57,28.18,28.6,32.46,33.27,32.33,31.66,29.34,29.87,29.27,28.4,25.74,25.98,25.38,24.94,38.57,40.19,39.97,38.98,36.95,36.28,36.86,36.45,12.35,12.45,12.16,12.3,12.33,12.29,12.2,12.49,12.85,12.87,12.73,12.95,13.05,12.93,12.77,13.0,17.14,16.84,17.02,17.11,14.34,14.66,14.6,14.6,28.67,28.56,28.17,28.63,31.63,32.4,32.68,32.29,28.4,29.4,29.43,29.07,24.7,25.48,25.37,25.17,39.04,38.35,39.81,39.83,35.99,36.59,35.64,36.52,11.8,12.03,11.98,11.69,12.41,12.28,12.1,12.19,12.34,12.46,12.31,12.12,12.97,13.01,12.74,12.84,16.83,16.93,16.66,16.86,13.91,14.34,13.95,13.99,28.7,28.55,28.15,28.62,32.67,31.69,32.07,33.28,29.47,28.42,29.08,29.88,25.66,24.96,25.43,26.0,40.0,38.84,38.33,40.12,36.95,36.45,36.81,36.26,12.32,12.3,12.18,12.43,12.36,12.49,12.17,12.28,12.91,12.95,12.67,12.86,12.95,13.0,12.86,12.92,16.99,16.69,16.56,16.62,14.33,14.61,14.61,14.65,28.69,28.58,28.15,28.61,33.13,32.31,31.53,32.46,29.71,29.09,28.31,29.39,25.7,25.17,24.6,25.49,39.89,39.83,39.01,38.65,35.69,36.64,36.06,36.7,12.12,11.67,11.64,12.02,12.27,12.19,12.25,12.27,12.47,12.12,12.18,12.47,12.93,12.82,12.78,13.02,16.73,16.86,16.76,16.92,13.68,13.99,14.16,13.86,32.26,32.26,32.49,32.53,36.47,37.24,36.66,35.96,31.89,32.39,32.09,31.29,29.22,29.91,29.53,28.65,41.4,42.62,42.5,41.67,40.78,39.97,40.71,40.43,14.52,14.61,14.5,14.55,14.51,14.6,14.5,14.58,14.51,14.7,14.42,14.42,15.23,15.23,15.23,15.23,19.52,19.36,19.48,19.42,15.09,17.17,17.14,17.14,32.82,32.71,32.24,32.72,35.84,36.57,36.06,35.69,32.48,32.74,32.13,31.64,28.95,29.49,28.64,28.01,41.64,43.1,42.74,41.92,40.78,40.15,40.57,40.42,14.54,14.45,14.18,14.5,14.7,14.66,14.4,14.71,14.75,14.71,14.33,14.62,15.34,15.29,15.09,15.3,19.2,18.88,18.9,19.12,16.76,17.23,17.26,17.15,32.82,32.69,32.23,32.75,34.24,34.95,35.05,34.29,31.28,32.12,32.05,31.84,28.67,29.67,29.47,28.91,41.26,41.3,42.49,42.08,39.32,39.84,38.89,39.68,13.97,14.22,14.1,13.78,14.07,14.03,13.94,13.86,14.32,14.56,14.33,14.08,15.16,15.18,14.72,14.9,18.48,18.71,18.48,18.46,16.47,16.35,16.55,16.74,32.85,32.67,32.21,32.74,36.45,35.73,35.4,36.57,32.38,31.66,32.15,32.75,28.93,28.05,28.64,29.52,42.77,41.73,41.32,42.96,40.68,40.4,40.6,40.11,14.37,14.48,14.32,14.44,14.6,14.7,14.47,14.66,14.54,14.62,14.53,14.71,15.34,15.29,15.09,15.3,19.06,19.13,19.0,18.84,16.44,16.9,16.94,16.77,32.84,32.72,32.21,32.73,35.67,35.01,34.72,35.24,32.31,31.81,31.12,32.06,30.0,29.5,29.06,29.92,42.11,41.96,41.09,40.79,38.82,39.72,39.31,39.86,14.41,14.19,14.17,14.39,12.43,12.63,12.76,12.42,14.12,14.28,14.37,14.21,14.96,14.92,14.92,15.16,17.69,18.19,18.16,17.88,16.54,16.44,16.48,16.64],\"xaxis\":\"x3\",\"yaxis\":\"y3\",\"type\":\"box\"},{\"alignmentgroup\":\"True\",\"hovertemplate\":\"Overall Height=%{y}<extra></extra>\",\"legendgroup\":\"\",\"marker\":{\"color\":\"#1F77B4\",\"symbol\":\"circle\"},\"name\":\"\",\"offsetgroup\":\"\",\"scalegroup\":\"y\",\"showlegend\":false,\"xaxis\":\"x2\",\"y\":[7.0,7.0,7.0,7.0,7.0,7.0,7.0,7.0,7.0,7.0,7.0,7.0,7.0,7.0,7.0,7.0,7.0,7.0,7.0,7.0,7.0,7.0,7.0,7.0,3.5,3.5,3.5,3.5,3.5,3.5,3.5,3.5,3.5,3.5,3.5,3.5,3.5,3.5,3.5,3.5,3.5,3.5,3.5,3.5,3.5,3.5,3.5,3.5,7.0,7.0,7.0,7.0,7.0,7.0,7.0,7.0,7.0,7.0,7.0,7.0,7.0,7.0,7.0,7.0,7.0,7.0,7.0,7.0,7.0,7.0,7.0,7.0,3.5,3.5,3.5,3.5,3.5,3.5,3.5,3.5,3.5,3.5,3.5,3.5,3.5,3.5,3.5,3.5,3.5,3.5,3.5,3.5,3.5,3.5,3.5,3.5,7.0,7.0,7.0,7.0,7.0,7.0,7.0,7.0,7.0,7.0,7.0,7.0,7.0,7.0,7.0,7.0,7.0,7.0,7.0,7.0,7.0,7.0,7.0,7.0,3.5,3.5,3.5,3.5,3.5,3.5,3.5,3.5,3.5,3.5,3.5,3.5,3.5,3.5,3.5,3.5,3.5,3.5,3.5,3.5,3.5,3.5,3.5,3.5,7.0,7.0,7.0,7.0,7.0,7.0,7.0,7.0,7.0,7.0,7.0,7.0,7.0,7.0,7.0,7.0,7.0,7.0,7.0,7.0,7.0,7.0,7.0,7.0,3.5,3.5,3.5,3.5,3.5,3.5,3.5,3.5,3.5,3.5,3.5,3.5,3.5,3.5,3.5,3.5,3.5,3.5,3.5,3.5,3.5,3.5,3.5,3.5,7.0,7.0,7.0,7.0,7.0,7.0,7.0,7.0,7.0,7.0,7.0,7.0,7.0,7.0,7.0,7.0,7.0,7.0,7.0,7.0,7.0,7.0,7.0,7.0,3.5,3.5,3.5,3.5,3.5,3.5,3.5,3.5,3.5,3.5,3.5,3.5,3.5,3.5,3.5,3.5,3.5,3.5,3.5,3.5,3.5,3.5,3.5,3.5,7.0,7.0,7.0,7.0,7.0,7.0,7.0,7.0,7.0,7.0,7.0,7.0,7.0,7.0,7.0,7.0,7.0,7.0,7.0,7.0,7.0,7.0,7.0,7.0,3.5,3.5,3.5,3.5,3.5,3.5,3.5,3.5,3.5,3.5,3.5,3.5,3.5,3.5,3.5,3.5,3.5,3.5,3.5,3.5,3.5,3.5,3.5,3.5,7.0,7.0,7.0,7.0,7.0,7.0,7.0,7.0,7.0,7.0,7.0,7.0,7.0,7.0,7.0,7.0,7.0,7.0,7.0,7.0,7.0,7.0,7.0,7.0,3.5,3.5,3.5,3.5,3.5,3.5,3.5,3.5,3.5,3.5,3.5,3.5,3.5,3.5,3.5,3.5,3.5,3.5,3.5,3.5,3.5,3.5,3.5,3.5,7.0,7.0,7.0,7.0,7.0,7.0,7.0,7.0,7.0,7.0,7.0,7.0,7.0,7.0,7.0,7.0,7.0,7.0,7.0,7.0,7.0,7.0,7.0,7.0,3.5,3.5,3.5,3.5,3.5,3.5,3.5,3.5,3.5,3.5,3.5,3.5,3.5,3.5,3.5,3.5,3.5,3.5,3.5,3.5,3.5,3.5,3.5,3.5,7.0,7.0,7.0,7.0,7.0,7.0,7.0,7.0,7.0,7.0,7.0,7.0,7.0,7.0,7.0,7.0,7.0,7.0,7.0,7.0,7.0,7.0,7.0,7.0,3.5,3.5,3.5,3.5,3.5,3.5,3.5,3.5,3.5,3.5,3.5,3.5,3.5,3.5,3.5,3.5,3.5,3.5,3.5,3.5,3.5,3.5,3.5,3.5,7.0,7.0,7.0,7.0,7.0,7.0,7.0,7.0,7.0,7.0,7.0,7.0,7.0,7.0,7.0,7.0,7.0,7.0,7.0,7.0,7.0,7.0,7.0,7.0,3.5,3.5,3.5,3.5,3.5,3.5,3.5,3.5,3.5,3.5,3.5,3.5,3.5,3.5,3.5,3.5,3.5,3.5,3.5,3.5,3.5,3.5,3.5,3.5,7.0,7.0,7.0,7.0,7.0,7.0,7.0,7.0,7.0,7.0,7.0,7.0,7.0,7.0,7.0,7.0,7.0,7.0,7.0,7.0,7.0,7.0,7.0,7.0,3.5,3.5,3.5,3.5,3.5,3.5,3.5,3.5,3.5,3.5,3.5,3.5,3.5,3.5,3.5,3.5,3.5,3.5,3.5,3.5,3.5,3.5,3.5,3.5,7.0,7.0,7.0,7.0,7.0,7.0,7.0,7.0,7.0,7.0,7.0,7.0,7.0,7.0,7.0,7.0,7.0,7.0,7.0,7.0,7.0,7.0,7.0,7.0,3.5,3.5,3.5,3.5,3.5,3.5,3.5,3.5,3.5,3.5,3.5,3.5,3.5,3.5,3.5,3.5,3.5,3.5,3.5,3.5,3.5,3.5,3.5,3.5,7.0,7.0,7.0,7.0,7.0,7.0,7.0,7.0,7.0,7.0,7.0,7.0,7.0,7.0,7.0,7.0,7.0,7.0,7.0,7.0,7.0,7.0,7.0,7.0,3.5,3.5,3.5,3.5,3.5,3.5,3.5,3.5,3.5,3.5,3.5,3.5,3.5,3.5,3.5,3.5,3.5,3.5,3.5,3.5,3.5,3.5,3.5,3.5,7.0,7.0,7.0,7.0,7.0,7.0,7.0,7.0,7.0,7.0,7.0,7.0,7.0,7.0,7.0,7.0,7.0,7.0,7.0,7.0,7.0,7.0,7.0,7.0,3.5,3.5,3.5,3.5,3.5,3.5,3.5,3.5,3.5,3.5,3.5,3.5,3.5,3.5,3.5,3.5,3.5,3.5,3.5,3.5,3.5,3.5,3.5,3.5,7.0,7.0,7.0,7.0,7.0,7.0,7.0,7.0,7.0,7.0,7.0,7.0,7.0,7.0,7.0,7.0,7.0,7.0,7.0,7.0,7.0,7.0,7.0,7.0,3.5,3.5,3.5,3.5,3.5,3.5,3.5,3.5,3.5,3.5,3.5,3.5,3.5,3.5,3.5,3.5,3.5,3.5,3.5,3.5,3.5,3.5,3.5,3.5,7.0,7.0,7.0,7.0,7.0,7.0,7.0,7.0,7.0,7.0,7.0,7.0,7.0,7.0,7.0,7.0,7.0,7.0,7.0,7.0,7.0,7.0,7.0,7.0,3.5,3.5,3.5,3.5,3.5,3.5,3.5,3.5,3.5,3.5,3.5,3.5,3.5,3.5,3.5,3.5,3.5,3.5,3.5,3.5,3.5,3.5,3.5,3.5],\"yaxis\":\"y2\",\"type\":\"violin\"},{\"hovertemplate\":\"<b>OLS trendline</b><br>Overall Height = 0.15436 * Heating Load + 1.80667<br>R<sup>2</sup>=0.791087<br><br>Heating Load=%{x}<br>Overall Height=%{y} <b>(trend)</b><extra></extra>\",\"legendgroup\":\"\",\"marker\":{\"color\":\"#1F77B4\",\"symbol\":\"circle\"},\"mode\":\"lines\",\"name\":\"\",\"showlegend\":false,\"x\":[6.01,6.04,6.05,6.07,6.37,6.37,6.4,6.4,6.77,6.79,6.81,6.85,7.1,7.1,7.1,7.18,8.45,8.49,8.5,8.6,10.07,10.08,10.14,10.15,10.32,10.34,10.34,10.35,10.36,10.36,10.37,10.38,10.39,10.39,10.39,10.42,10.43,10.45,10.46,10.47,10.53,10.54,10.55,10.56,10.64,10.66,10.67,10.68,10.68,10.68,10.68,10.7,10.7,10.7,10.71,10.72,10.72,10.75,10.77,10.77,10.78,10.8,10.85,11.07,11.09,11.1,11.11,11.11,11.13,11.14,11.14,11.16,11.16,11.16,11.18,11.2,11.21,11.22,11.22,11.22,11.32,11.33,11.33,11.34,11.34,11.38,11.42,11.42,11.43,11.43,11.44,11.45,11.45,11.46,11.49,11.53,11.59,11.6,11.61,11.64,11.67,11.68,11.69,11.69,11.69,11.7,11.8,11.98,12.02,12.03,12.1,12.12,12.12,12.12,12.16,12.17,12.18,12.18,12.19,12.19,12.2,12.25,12.27,12.27,12.28,12.28,12.29,12.3,12.3,12.31,12.32,12.33,12.34,12.35,12.36,12.41,12.41,12.42,12.43,12.43,12.43,12.45,12.45,12.46,12.47,12.47,12.49,12.49,12.5,12.57,12.57,12.59,12.62,12.63,12.63,12.63,12.65,12.67,12.68,12.71,12.72,12.73,12.73,12.73,12.74,12.74,12.76,12.77,12.78,12.78,12.8,12.82,12.84,12.85,12.85,12.86,12.86,12.87,12.88,12.91,12.92,12.93,12.93,12.93,12.93,12.95,12.95,12.95,12.96,12.97,12.97,12.97,13.0,13.0,13.0,13.0,13.0,13.01,13.02,13.02,13.04,13.04,13.05,13.17,13.17,13.18,13.18,13.68,13.69,13.78,13.86,13.86,13.91,13.94,13.95,13.97,13.99,13.99,14.03,14.07,14.08,14.1,14.12,14.16,14.17,14.18,14.19,14.21,14.22,14.28,14.32,14.32,14.33,14.33,14.33,14.34,14.34,14.37,14.37,14.39,14.4,14.41,14.42,14.42,14.44,14.45,14.47,14.48,14.5,14.5,14.5,14.51,14.51,14.52,14.53,14.54,14.54,14.55,14.56,14.58,14.6,14.6,14.6,14.6,14.61,14.61,14.61,14.62,14.62,14.65,14.66,14.66,14.66,14.7,14.7,14.7,14.71,14.71,14.71,14.72,14.75,14.9,14.92,14.92,14.96,15.08,15.09,15.09,15.09,15.09,15.12,15.12,15.12,15.16,15.16,15.16,15.16,15.16,15.16,15.18,15.18,15.19,15.19,15.2,15.21,15.23,15.23,15.23,15.23,15.29,15.29,15.3,15.3,15.32,15.34,15.34,15.34,15.36,15.36,15.36,15.37,15.4,15.41,15.41,15.42,15.55,15.55,15.55,15.55,15.98,16.35,16.44,16.44,16.47,16.48,16.54,16.55,16.56,16.62,16.64,16.66,16.69,16.73,16.74,16.76,16.76,16.77,16.83,16.84,16.86,16.86,16.9,16.92,16.93,16.94,16.95,16.99,17.02,17.05,17.11,17.14,17.14,17.14,17.15,17.17,17.23,17.26,17.35,17.37,17.41,17.5,17.52,17.69,17.88,18.16,18.19,18.31,18.46,18.48,18.48,18.71,18.84,18.88,18.9,19.0,19.06,19.12,19.13,19.2,19.34,19.36,19.42,19.48,19.5,19.52,19.68,19.95,20.71,20.84,21.46,22.58,22.79,22.8,22.89,22.93,23.53,23.54,23.59,23.67,23.75,23.8,23.84,23.86,23.87,23.89,23.93,23.93,24.03,24.03,24.04,24.11,24.13,24.17,24.23,24.23,24.24,24.25,24.26,24.28,24.29,24.31,24.32,24.33,24.35,24.35,24.37,24.38,24.4,24.58,24.59,24.6,24.63,24.63,24.7,24.77,24.77,24.94,24.96,25.17,25.17,25.27,25.36,25.36,25.37,25.37,25.38,25.41,25.43,25.48,25.49,25.66,25.7,25.74,25.98,26.0,26.19,26.28,26.33,26.33,26.37,26.44,26.45,26.45,26.46,26.47,26.48,26.84,26.89,26.91,26.97,27.02,27.03,27.03,27.27,27.9,28.01,28.03,28.05,28.05,28.07,28.09,28.15,28.15,28.15,28.15,28.17,28.18,28.31,28.37,28.4,28.4,28.41,28.42,28.52,28.55,28.56,28.57,28.58,28.6,28.61,28.62,28.63,28.64,28.64,28.65,28.66,28.67,28.67,28.67,28.69,28.7,28.75,28.83,28.86,28.88,28.91,28.93,28.95,29.01,29.02,29.03,29.05,29.06,29.06,29.07,29.08,29.08,29.09,29.14,29.22,29.27,29.34,29.39,29.4,29.43,29.47,29.47,29.49,29.5,29.52,29.53,29.54,29.6,29.62,29.63,29.67,29.68,29.71,29.79,29.83,29.87,29.87,29.88,29.9,29.91,29.92,30.0,30.05,31.12,31.28,31.29,31.53,31.63,31.64,31.66,31.66,31.69,31.81,31.84,31.89,32.0,32.05,32.06,32.07,32.09,32.12,32.12,32.13,32.15,32.21,32.21,32.21,32.23,32.24,32.26,32.26,32.29,32.31,32.31,32.31,32.31,32.33,32.33,32.38,32.38,32.39,32.4,32.4,32.41,32.46,32.46,32.46,32.48,32.49,32.52,32.53,32.67,32.67,32.68,32.68,32.69,32.71,32.72,32.72,32.73,32.74,32.74,32.75,32.75,32.82,32.82,32.84,32.84,32.85,32.94,32.96,33.08,33.09,33.12,33.13,33.16,33.21,33.24,33.27,33.27,33.28,33.28,33.48,34.24,34.29,34.72,34.95,35.01,35.05,35.24,35.4,35.45,35.48,35.48,35.56,35.64,35.65,35.67,35.69,35.69,35.73,35.78,35.84,35.89,35.94,35.96,35.99,36.03,36.06,36.06,36.13,36.26,36.28,36.43,36.45,36.45,36.45,36.47,36.52,36.57,36.57,36.59,36.64,36.66,36.7,36.7,36.71,36.77,36.81,36.86,36.86,36.9,36.91,36.95,36.95,36.96,36.97,36.97,37.03,37.1,37.12,37.24,37.26,38.33,38.35,38.57,38.65,38.67,38.82,38.84,38.89,38.98,39.01,39.04,39.04,39.31,39.32,39.68,39.72,39.81,39.83,39.83,39.84,39.86,39.86,39.89,39.97,39.97,40.0,40.03,40.11,40.12,40.15,40.19,40.4,40.42,40.43,40.57,40.6,40.68,40.71,40.78,40.78,40.79,41.09,41.26,41.3,41.32,41.4,41.64,41.67,41.73,41.92,41.96,42.08,42.11,42.49,42.5,42.62,42.74,42.77,42.96,43.1],\"xaxis\":\"x\",\"y\":[2.7343715477630717,2.7390023341039917,2.740545929550965,2.7436331204449114,2.7899409838541107,2.7899409838541107,2.794571770195031,2.794571770195031,2.8516848017330427,2.8547719926269894,2.857859183520936,2.864033565308829,2.902623451483162,2.902623451483162,2.902623451483162,2.914972215058948,3.111008836824558,3.1171832186124515,3.118726814059425,3.1341627685291575,3.3610712992342338,3.362614894681207,3.3718764673630472,3.3734200628100206,3.3996611854085668,3.402748376302513,3.402748376302513,3.4042919717494864,3.4058355671964597,3.4058355671964597,3.4073791626434327,3.4089227580904065,3.41046635353738,3.41046635353738,3.41046635353738,3.4150971398782994,3.416640735325273,3.4197279262192195,3.421271521666193,3.422815117113166,3.432076689795006,3.433620285241979,3.4351638806889526,3.436707476135926,3.4490562397117124,3.452143430605659,3.4536870260526324,3.455230621499606,3.455230621499606,3.455230621499606,3.455230621499606,3.458317812393552,3.458317812393552,3.458317812393552,3.459861407840526,3.461405003287499,3.461405003287499,3.4660357896284184,3.469122980522365,3.469122980522365,3.4706665759693385,3.473753766863285,3.481471744098152,3.5154308439315645,3.5185180348255107,3.520061630272484,3.5216052257194574,3.5216052257194574,3.524692416613404,3.5262360120603775,3.5262360120603775,3.5293232029543242,3.5293232029543242,3.5293232029543242,3.532410393848271,3.5354975847422176,3.537041180189191,3.5385847756361644,3.5385847756361644,3.5385847756361644,3.554020730105897,3.5555643255528704,3.5555643255528704,3.5571079209998437,3.5571079209998437,3.563282302787737,3.56945668457563,3.56945668457563,3.5710002800226035,3.5710002800226035,3.5725438754695764,3.5740874709165498,3.5740874709165498,3.5756310663635236,3.580261852704443,3.5864362344923366,3.5956978071741763,3.5972414026211497,3.5987849980681226,3.6034157844090426,3.6080465707499627,3.609590166196936,3.6111337616439094,3.6111337616439094,3.6111337616439094,3.612677357090883,3.628113311560616,3.6558980296061354,3.6620724113940284,3.6636160068410017,3.6744211749698152,3.6775083658637615,3.6775083658637615,3.6775083658637615,3.6836827476516545,3.685226343098628,3.686769938545601,3.686769938545601,3.6883135339925746,3.6883135339925746,3.689857129439548,3.6975751066744147,3.7006622975683614,3.7006622975683614,3.7022058930153343,3.7022058930153343,3.7037494884623077,3.7052930839092815,3.7052930839092815,3.7068366793562544,3.7083802748032277,3.709923870250201,3.711467465697174,3.7130110611441474,3.7145546565911207,3.7222726338259875,3.7222726338259875,3.723816229272961,3.725359824719934,3.725359824719934,3.725359824719934,3.7284470156138805,3.7284470156138805,3.7299906110608543,3.7315342065078276,3.7315342065078276,3.734621397401774,3.734621397401774,3.7361649928487473,3.7469701609775603,3.7469701609775603,3.750057351871507,3.754688138212427,3.7562317336594004,3.7562317336594004,3.7562317336594004,3.759318924553347,3.7624061154472934,3.7639497108942668,3.768580497235187,3.7701240926821598,3.771667688129133,3.771667688129133,3.771667688129133,3.7732112835761065,3.7732112835761065,3.776298474470053,3.7778420699170265,3.779385665364,3.779385665364,3.7824728562579466,3.7855600471518933,3.7886472380458396,3.790190833492813,3.790190833492813,3.791734428939786,3.791734428939786,3.793278024386759,3.794821619833733,3.7994524061746526,3.800996001621626,3.8025395970685993,3.8025395970685993,3.8025395970685993,3.8025395970685993,3.805626787962546,3.805626787962546,3.805626787962546,3.8071703834095194,3.8087139788564928,3.8087139788564928,3.8087139788564928,3.813344765197413,3.813344765197413,3.813344765197413,3.813344765197413,3.813344765197413,3.814888360644386,3.8164319560913587,3.8164319560913587,3.8195191469853054,3.8195191469853054,3.8210627424322787,3.839585887795959,3.839585887795959,3.8411294832429324,3.8411294832429324,3.9183092555915975,3.919852851038571,3.93374521006133,3.946093973637117,3.946093973637117,3.953811950871984,3.958442737212903,3.9599863326598763,3.963073523553823,3.9661607144477697,3.9661607144477697,3.972335096235663,3.9785094780235566,3.98005307347053,3.9831402643644758,3.9862274552584225,3.992401837046316,3.9939454324932893,3.9954890279402626,3.997032623387236,4.000119814281183,4.001663409728156,4.010924982409995,4.017099364197889,4.017099364197889,4.018642959644862,4.018642959644862,4.018642959644862,4.020186555091835,4.020186555091835,4.0248173414327555,4.0248173414327555,4.027904532326702,4.029448127773676,4.030991723220649,4.032535318667622,4.032535318667622,4.035622509561568,4.0371661050085415,4.040253295902488,4.0417968913494615,4.044884082243408,4.044884082243408,4.044884082243408,4.046427677690382,4.046427677690382,4.047971273137355,4.049514868584328,4.051058464031302,4.051058464031302,4.052602059478275,4.054145654925248,4.057232845819195,4.060320036713142,4.060320036713142,4.060320036713142,4.060320036713142,4.061863632160114,4.061863632160114,4.061863632160114,4.063407227607088,4.063407227607088,4.068038013948008,4.069581609394981,4.069581609394981,4.069581609394981,4.0757559911828745,4.0757559911828745,4.0757559911828745,4.077299586629848,4.077299586629848,4.077299586629848,4.078843182076821,4.083473968417741,4.106627900122341,4.109715091016287,4.109715091016287,4.115889472804181,4.13441261816786,4.135956213614834,4.135956213614834,4.135956213614834,4.135956213614834,4.140586999955754,4.140586999955754,4.140586999955754,4.146761381743646,4.146761381743646,4.146761381743646,4.146761381743646,4.146761381743646,4.146761381743646,4.149848572637593,4.149848572637593,4.151392168084566,4.151392168084566,4.15293576353154,4.154479358978513,4.15756654987246,4.15756654987246,4.15756654987246,4.15756654987246,4.1668281225543,4.1668281225543,4.168371718001273,4.168371718001273,4.17145890889522,4.174546099789166,4.174546099789166,4.174546099789166,4.177633290683112,4.177633290683112,4.177633290683112,4.179176886130086,4.183807672471006,4.185351267917979,4.185351267917979,4.1868948633649525,4.206961604175605,4.206961604175605,4.206961604175605,4.206961604175605,4.273336208395458,4.33044923993347,4.3443415989562295,4.3443415989562295,4.34897238529715,4.350515980744123,4.359777553425963,4.361321148872936,4.362864744319909,4.372126317001749,4.375213507895696,4.3783006987896425,4.3829314851305625,4.389105866918456,4.390649462365428,4.393736653259376,4.393736653259376,4.3952802487063485,4.404541821388189,4.406085416835162,4.409172607729109,4.409172607729109,4.415346989517001,4.418434180410949,4.419977775857921,4.4215213713048955,4.423064966751868,4.429239348539761,4.4338701348806815,4.438500921221602,4.447762493903441,4.452393280244361,4.452393280244361,4.452393280244361,4.453936875691334,4.457024066585281,4.466285639267121,4.470916425608041,4.4848087846308005,4.487895975524747,4.494070357312641,4.5079627163354,4.511049907229347,4.537291029827893,4.566619343320386,4.609840015835639,4.614470802176559,4.632993947540238,4.656147879244838,4.659235070138784,4.659235070138784,4.694737765419171,4.714804506229823,4.720978888017716,4.724066078911663,4.739502033381396,4.748763606063235,4.758025178745076,4.759568774192049,4.770373942320862,4.7919842785784885,4.795071469472435,4.804333042154275,4.813594614836115,4.816681805730061,4.819768996624008,4.844466523775581,4.88614360084386,5.003456854813831,5.023523595624485,5.119226513336829,5.292109203397839,5.3245247077842786,5.326068303231253,5.339960662254012,5.3461350440419055,5.438750770860304,5.440294366307277,5.4480123435421435,5.46036110711793,5.472709870693716,5.480427847928583,5.4866022297164765,5.489689420610422,5.4912330160573966,5.494320206951342,5.500494588739236,5.500494588739236,5.515930543208969,5.515930543208969,5.517474138655942,5.528279306784755,5.531366497678702,5.5375408794665955,5.546802452148436,5.546802452148436,5.548346047595408,5.549889643042381,5.551433238489356,5.5545204293833015,5.556064024830275,5.5591512157242216,5.560694811171195,5.562238406618168,5.565325597512115,5.565325597512115,5.568412788406062,5.569956383853034,5.573043574746981,5.6008282927925,5.602371888239474,5.603915483686448,5.608546270027367,5.608546270027367,5.619351438156181,5.630156606284993,5.630156606284993,5.65639772888354,5.659484919777486,5.691900424163926,5.691900424163926,5.707336378633659,5.721228737656419,5.721228737656419,5.722772333103392,5.722772333103392,5.724315928550365,5.728946714891285,5.732033905785232,5.739751883020098,5.741295478467071,5.7675366010656175,5.773710982853511,5.779885364641404,5.816931655368764,5.820018846262711,5.849347159755204,5.863239518777963,5.87095749601283,5.87095749601283,5.877131877800723,5.887937045929536,5.889480641376509,5.889480641376509,5.891024236823482,5.892567832270456,5.894111427717429,5.949680863808468,5.957398841043335,5.960486031937282,5.969747604619121,5.977465581853988,5.979009177300961,5.979009177300961,6.016055468028321,6.113301981187639,6.1302815311043455,6.133368721998292,6.136455912892238,6.136455912892238,6.139543103786185,6.142630294680131,6.151891867361971,6.151891867361971,6.151891867361971,6.151891867361971,6.154979058255918,6.156522653702891,6.176589394513544,6.1858509671953845,6.190481753536304,6.190481753536304,6.192025348983277,6.19356894443025,6.209004898899984,6.213635685240904,6.2151792806878765,6.21672287613485,6.218266471581823,6.22135366247577,6.222897257922743,6.224440853369717,6.22598444881669,6.227528044263663,6.227528044263663,6.229071639710637,6.23061523515761,6.232158830604583,6.232158830604583,6.232158830604583,6.23524602149853,6.236789616945503,6.244507594180369,6.256856357756156,6.261487144097076,6.264574334991022,6.269205121331942,6.272292312225889,6.275379503119836,6.284641075801676,6.286184671248649,6.2877282666956225,6.290815457589569,6.292359053036542,6.292359053036542,6.293902648483516,6.295446243930488,6.295446243930488,6.296989839377462,6.3047078166123285,6.3170565801881144,6.324774557422981,6.335579725551795,6.3432977027866615,6.344841298233634,6.349472084574554,6.3556464663624475,6.3556464663624475,6.358733657256394,6.3602772527033675,6.363364443597314,6.364908039044288,6.366451634491261,6.375713207173101,6.378800398067048,6.38034399351402,6.386518375301914,6.388061970748887,6.392692757089807,6.405041520665593,6.4112159024534865,6.41739028424138,6.41739028424138,6.418933879688353,6.4220210705823,6.423564666029273,6.425108261476247,6.437457025052033,6.445175002286899,6.610339715113043,6.635037242264616,6.636580837711589,6.673627128438949,6.689063082908682,6.690606678355655,6.693693869249602,6.693693869249602,6.698324655590522,6.716847800954201,6.721478587295121,6.729196564529988,6.746176114446694,6.75389409168156,6.755437687128534,6.756981282575508,6.760068473469454,6.7646992598103735,6.7646992598103735,6.766242855257348,6.7693300461512935,6.778591618833134,6.778591618833134,6.778591618833134,6.7816788097270795,6.783222405174054,6.7863095960679995,6.7863095960679995,6.79094038240892,6.794027573302867,6.794027573302867,6.794027573302867,6.794027573302867,6.797114764196813,6.797114764196813,6.80483274143168,6.80483274143168,6.806376336878653,6.8079199323256265,6.8079199323256265,6.809463527772599,6.817181505007467,6.817181505007467,6.817181505007467,6.8202686959014125,6.821812291348387,6.826443077689307,6.827986673136279,6.849597009393906,6.849597009393906,6.851140604840879,6.851140604840879,6.852684200287852,6.855771391181799,6.857314986628772,6.857314986628772,6.858858582075745,6.860402177522719,6.860402177522719,6.861945772969692,6.861945772969692,6.872750941098505,6.872750941098505,6.875838131992452,6.875838131992452,6.877381727439425,6.891274086462184,6.894361277356132,6.912884422719811,6.9144280181667845,6.919058804507704,6.920602399954678,6.925233186295597,6.932951163530464,6.937581949871384,6.942212736212304,6.942212736212304,6.943756331659277,6.943756331659277,6.974628240598743,7.091941494568715,7.099659471803581,7.166034076023434,7.20153677130382,7.210798343985659,7.216972725773552,7.246301039266045,7.270998566417618,7.278716543652485,7.283347329993404,7.283347329993404,7.295696093569191,7.308044857144978,7.30958845259195,7.312675643485898,7.315762834379844,7.315762834379844,7.321937216167736,7.329655193402604,7.338916766084444,7.34663474331931,7.354352720554176,7.3574399114481235,7.3620706977890435,7.368245079576937,7.372875865917857,7.372875865917857,7.38368103404667,7.403747774857322,7.406834965751269,7.4299888974558685,7.433076088349815,7.433076088349815,7.433076088349815,7.436163279243762,7.443881256478629,7.451599233713495,7.451599233713495,7.454686424607442,7.462404401842308,7.465491592736254,7.471665974524148,7.471665974524148,7.473209569971122,7.482471142652962,7.488645524440854,7.496363501675721,7.496363501675721,7.502537883463614,7.504081478910587,7.510255860698481,7.510255860698481,7.511799456145454,7.513343051592427,7.513343051592427,7.522604624274267,7.533409792403081,7.5364969832970266,7.555020128660707,7.558107319554653,7.723272032380796,7.726359223274744,7.760318323108156,7.772667086683942,7.77575427757789,7.798908209282489,7.801995400176436,7.809713377411302,7.823605736434061,7.828236522774981,7.832867309115901,7.832867309115901,7.874544386184181,7.876087981631154,7.931657417722193,7.937831799510086,7.951724158532846,7.954811349426793,7.954811349426793,7.956354944873766,7.959442135767713,7.959442135767713,7.964072922108633,7.976421685684419,7.976421685684419,7.981052472025339,7.985683258366259,7.998032021942045,7.999575617389018,8.004206403729938,8.010380785517832,8.04279628990427,8.045883480798217,8.04742707624519,8.069037412502817,8.073668198843738,8.086016962419523,8.090647748760443,8.101452916889256,8.101452916889256,8.10299651233623,8.149304375745428,8.175545498343975,8.181719880131867,8.184807071025816,8.1971558346016,8.234202125328961,8.238832911669881,8.24809448435172,8.277422797844213,8.283597179632107,8.302120324995785,8.306751111336705,8.365407738321691,8.366951333768665,8.385474479132345,8.403997624496025,8.408628410836945,8.437956724329437,8.459567060587064],\"yaxis\":\"y\",\"type\":\"scatter\"}],                        {\"template\":{\"data\":{\"barpolar\":[{\"marker\":{\"line\":{\"color\":\"white\",\"width\":0.5},\"pattern\":{\"fillmode\":\"overlay\",\"size\":10,\"solidity\":0.2}},\"type\":\"barpolar\"}],\"bar\":[{\"error_x\":{\"color\":\"rgb(36,36,36)\"},\"error_y\":{\"color\":\"rgb(36,36,36)\"},\"marker\":{\"line\":{\"color\":\"white\",\"width\":0.5},\"pattern\":{\"fillmode\":\"overlay\",\"size\":10,\"solidity\":0.2}},\"type\":\"bar\"}],\"carpet\":[{\"aaxis\":{\"endlinecolor\":\"rgb(36,36,36)\",\"gridcolor\":\"white\",\"linecolor\":\"white\",\"minorgridcolor\":\"white\",\"startlinecolor\":\"rgb(36,36,36)\"},\"baxis\":{\"endlinecolor\":\"rgb(36,36,36)\",\"gridcolor\":\"white\",\"linecolor\":\"white\",\"minorgridcolor\":\"white\",\"startlinecolor\":\"rgb(36,36,36)\"},\"type\":\"carpet\"}],\"choropleth\":[{\"colorbar\":{\"outlinewidth\":1,\"tickcolor\":\"rgb(36,36,36)\",\"ticks\":\"outside\"},\"type\":\"choropleth\"}],\"contourcarpet\":[{\"colorbar\":{\"outlinewidth\":1,\"tickcolor\":\"rgb(36,36,36)\",\"ticks\":\"outside\"},\"type\":\"contourcarpet\"}],\"contour\":[{\"colorbar\":{\"outlinewidth\":1,\"tickcolor\":\"rgb(36,36,36)\",\"ticks\":\"outside\"},\"colorscale\":[[0.0,\"#440154\"],[0.1111111111111111,\"#482878\"],[0.2222222222222222,\"#3e4989\"],[0.3333333333333333,\"#31688e\"],[0.4444444444444444,\"#26828e\"],[0.5555555555555556,\"#1f9e89\"],[0.6666666666666666,\"#35b779\"],[0.7777777777777778,\"#6ece58\"],[0.8888888888888888,\"#b5de2b\"],[1.0,\"#fde725\"]],\"type\":\"contour\"}],\"heatmapgl\":[{\"colorbar\":{\"outlinewidth\":1,\"tickcolor\":\"rgb(36,36,36)\",\"ticks\":\"outside\"},\"colorscale\":[[0.0,\"#440154\"],[0.1111111111111111,\"#482878\"],[0.2222222222222222,\"#3e4989\"],[0.3333333333333333,\"#31688e\"],[0.4444444444444444,\"#26828e\"],[0.5555555555555556,\"#1f9e89\"],[0.6666666666666666,\"#35b779\"],[0.7777777777777778,\"#6ece58\"],[0.8888888888888888,\"#b5de2b\"],[1.0,\"#fde725\"]],\"type\":\"heatmapgl\"}],\"heatmap\":[{\"colorbar\":{\"outlinewidth\":1,\"tickcolor\":\"rgb(36,36,36)\",\"ticks\":\"outside\"},\"colorscale\":[[0.0,\"#440154\"],[0.1111111111111111,\"#482878\"],[0.2222222222222222,\"#3e4989\"],[0.3333333333333333,\"#31688e\"],[0.4444444444444444,\"#26828e\"],[0.5555555555555556,\"#1f9e89\"],[0.6666666666666666,\"#35b779\"],[0.7777777777777778,\"#6ece58\"],[0.8888888888888888,\"#b5de2b\"],[1.0,\"#fde725\"]],\"type\":\"heatmap\"}],\"histogram2dcontour\":[{\"colorbar\":{\"outlinewidth\":1,\"tickcolor\":\"rgb(36,36,36)\",\"ticks\":\"outside\"},\"colorscale\":[[0.0,\"#440154\"],[0.1111111111111111,\"#482878\"],[0.2222222222222222,\"#3e4989\"],[0.3333333333333333,\"#31688e\"],[0.4444444444444444,\"#26828e\"],[0.5555555555555556,\"#1f9e89\"],[0.6666666666666666,\"#35b779\"],[0.7777777777777778,\"#6ece58\"],[0.8888888888888888,\"#b5de2b\"],[1.0,\"#fde725\"]],\"type\":\"histogram2dcontour\"}],\"histogram2d\":[{\"colorbar\":{\"outlinewidth\":1,\"tickcolor\":\"rgb(36,36,36)\",\"ticks\":\"outside\"},\"colorscale\":[[0.0,\"#440154\"],[0.1111111111111111,\"#482878\"],[0.2222222222222222,\"#3e4989\"],[0.3333333333333333,\"#31688e\"],[0.4444444444444444,\"#26828e\"],[0.5555555555555556,\"#1f9e89\"],[0.6666666666666666,\"#35b779\"],[0.7777777777777778,\"#6ece58\"],[0.8888888888888888,\"#b5de2b\"],[1.0,\"#fde725\"]],\"type\":\"histogram2d\"}],\"histogram\":[{\"marker\":{\"line\":{\"color\":\"white\",\"width\":0.6}},\"type\":\"histogram\"}],\"mesh3d\":[{\"colorbar\":{\"outlinewidth\":1,\"tickcolor\":\"rgb(36,36,36)\",\"ticks\":\"outside\"},\"type\":\"mesh3d\"}],\"parcoords\":[{\"line\":{\"colorbar\":{\"outlinewidth\":1,\"tickcolor\":\"rgb(36,36,36)\",\"ticks\":\"outside\"}},\"type\":\"parcoords\"}],\"pie\":[{\"automargin\":true,\"type\":\"pie\"}],\"scatter3d\":[{\"line\":{\"colorbar\":{\"outlinewidth\":1,\"tickcolor\":\"rgb(36,36,36)\",\"ticks\":\"outside\"}},\"marker\":{\"colorbar\":{\"outlinewidth\":1,\"tickcolor\":\"rgb(36,36,36)\",\"ticks\":\"outside\"}},\"type\":\"scatter3d\"}],\"scattercarpet\":[{\"marker\":{\"colorbar\":{\"outlinewidth\":1,\"tickcolor\":\"rgb(36,36,36)\",\"ticks\":\"outside\"}},\"type\":\"scattercarpet\"}],\"scattergeo\":[{\"marker\":{\"colorbar\":{\"outlinewidth\":1,\"tickcolor\":\"rgb(36,36,36)\",\"ticks\":\"outside\"}},\"type\":\"scattergeo\"}],\"scattergl\":[{\"marker\":{\"colorbar\":{\"outlinewidth\":1,\"tickcolor\":\"rgb(36,36,36)\",\"ticks\":\"outside\"}},\"type\":\"scattergl\"}],\"scattermapbox\":[{\"marker\":{\"colorbar\":{\"outlinewidth\":1,\"tickcolor\":\"rgb(36,36,36)\",\"ticks\":\"outside\"}},\"type\":\"scattermapbox\"}],\"scatterpolargl\":[{\"marker\":{\"colorbar\":{\"outlinewidth\":1,\"tickcolor\":\"rgb(36,36,36)\",\"ticks\":\"outside\"}},\"type\":\"scatterpolargl\"}],\"scatterpolar\":[{\"marker\":{\"colorbar\":{\"outlinewidth\":1,\"tickcolor\":\"rgb(36,36,36)\",\"ticks\":\"outside\"}},\"type\":\"scatterpolar\"}],\"scatter\":[{\"marker\":{\"colorbar\":{\"outlinewidth\":1,\"tickcolor\":\"rgb(36,36,36)\",\"ticks\":\"outside\"}},\"type\":\"scatter\"}],\"scatterternary\":[{\"marker\":{\"colorbar\":{\"outlinewidth\":1,\"tickcolor\":\"rgb(36,36,36)\",\"ticks\":\"outside\"}},\"type\":\"scatterternary\"}],\"surface\":[{\"colorbar\":{\"outlinewidth\":1,\"tickcolor\":\"rgb(36,36,36)\",\"ticks\":\"outside\"},\"colorscale\":[[0.0,\"#440154\"],[0.1111111111111111,\"#482878\"],[0.2222222222222222,\"#3e4989\"],[0.3333333333333333,\"#31688e\"],[0.4444444444444444,\"#26828e\"],[0.5555555555555556,\"#1f9e89\"],[0.6666666666666666,\"#35b779\"],[0.7777777777777778,\"#6ece58\"],[0.8888888888888888,\"#b5de2b\"],[1.0,\"#fde725\"]],\"type\":\"surface\"}],\"table\":[{\"cells\":{\"fill\":{\"color\":\"rgb(237,237,237)\"},\"line\":{\"color\":\"white\"}},\"header\":{\"fill\":{\"color\":\"rgb(217,217,217)\"},\"line\":{\"color\":\"white\"}},\"type\":\"table\"}]},\"layout\":{\"annotationdefaults\":{\"arrowhead\":0,\"arrowwidth\":1},\"autotypenumbers\":\"strict\",\"coloraxis\":{\"colorbar\":{\"outlinewidth\":1,\"tickcolor\":\"rgb(36,36,36)\",\"ticks\":\"outside\"}},\"colorscale\":{\"diverging\":[[0.0,\"rgb(103,0,31)\"],[0.1,\"rgb(178,24,43)\"],[0.2,\"rgb(214,96,77)\"],[0.3,\"rgb(244,165,130)\"],[0.4,\"rgb(253,219,199)\"],[0.5,\"rgb(247,247,247)\"],[0.6,\"rgb(209,229,240)\"],[0.7,\"rgb(146,197,222)\"],[0.8,\"rgb(67,147,195)\"],[0.9,\"rgb(33,102,172)\"],[1.0,\"rgb(5,48,97)\"]],\"sequential\":[[0.0,\"#440154\"],[0.1111111111111111,\"#482878\"],[0.2222222222222222,\"#3e4989\"],[0.3333333333333333,\"#31688e\"],[0.4444444444444444,\"#26828e\"],[0.5555555555555556,\"#1f9e89\"],[0.6666666666666666,\"#35b779\"],[0.7777777777777778,\"#6ece58\"],[0.8888888888888888,\"#b5de2b\"],[1.0,\"#fde725\"]],\"sequentialminus\":[[0.0,\"#440154\"],[0.1111111111111111,\"#482878\"],[0.2222222222222222,\"#3e4989\"],[0.3333333333333333,\"#31688e\"],[0.4444444444444444,\"#26828e\"],[0.5555555555555556,\"#1f9e89\"],[0.6666666666666666,\"#35b779\"],[0.7777777777777778,\"#6ece58\"],[0.8888888888888888,\"#b5de2b\"],[1.0,\"#fde725\"]]},\"colorway\":[\"#1F77B4\",\"#FF7F0E\",\"#2CA02C\",\"#D62728\",\"#9467BD\",\"#8C564B\",\"#E377C2\",\"#7F7F7F\",\"#BCBD22\",\"#17BECF\"],\"font\":{\"color\":\"rgb(36,36,36)\"},\"geo\":{\"bgcolor\":\"white\",\"lakecolor\":\"white\",\"landcolor\":\"white\",\"showlakes\":true,\"showland\":true,\"subunitcolor\":\"white\"},\"hoverlabel\":{\"align\":\"left\"},\"hovermode\":\"closest\",\"mapbox\":{\"style\":\"light\"},\"paper_bgcolor\":\"white\",\"plot_bgcolor\":\"white\",\"polar\":{\"angularaxis\":{\"gridcolor\":\"rgb(232,232,232)\",\"linecolor\":\"rgb(36,36,36)\",\"showgrid\":false,\"showline\":true,\"ticks\":\"outside\"},\"bgcolor\":\"white\",\"radialaxis\":{\"gridcolor\":\"rgb(232,232,232)\",\"linecolor\":\"rgb(36,36,36)\",\"showgrid\":false,\"showline\":true,\"ticks\":\"outside\"}},\"scene\":{\"xaxis\":{\"backgroundcolor\":\"white\",\"gridcolor\":\"rgb(232,232,232)\",\"gridwidth\":2,\"linecolor\":\"rgb(36,36,36)\",\"showbackground\":true,\"showgrid\":false,\"showline\":true,\"ticks\":\"outside\",\"zeroline\":false,\"zerolinecolor\":\"rgb(36,36,36)\"},\"yaxis\":{\"backgroundcolor\":\"white\",\"gridcolor\":\"rgb(232,232,232)\",\"gridwidth\":2,\"linecolor\":\"rgb(36,36,36)\",\"showbackground\":true,\"showgrid\":false,\"showline\":true,\"ticks\":\"outside\",\"zeroline\":false,\"zerolinecolor\":\"rgb(36,36,36)\"},\"zaxis\":{\"backgroundcolor\":\"white\",\"gridcolor\":\"rgb(232,232,232)\",\"gridwidth\":2,\"linecolor\":\"rgb(36,36,36)\",\"showbackground\":true,\"showgrid\":false,\"showline\":true,\"ticks\":\"outside\",\"zeroline\":false,\"zerolinecolor\":\"rgb(36,36,36)\"}},\"shapedefaults\":{\"fillcolor\":\"black\",\"line\":{\"width\":0},\"opacity\":0.3},\"ternary\":{\"aaxis\":{\"gridcolor\":\"rgb(232,232,232)\",\"linecolor\":\"rgb(36,36,36)\",\"showgrid\":false,\"showline\":true,\"ticks\":\"outside\"},\"baxis\":{\"gridcolor\":\"rgb(232,232,232)\",\"linecolor\":\"rgb(36,36,36)\",\"showgrid\":false,\"showline\":true,\"ticks\":\"outside\"},\"bgcolor\":\"white\",\"caxis\":{\"gridcolor\":\"rgb(232,232,232)\",\"linecolor\":\"rgb(36,36,36)\",\"showgrid\":false,\"showline\":true,\"ticks\":\"outside\"}},\"title\":{\"x\":0.05},\"xaxis\":{\"automargin\":true,\"gridcolor\":\"rgb(232,232,232)\",\"linecolor\":\"rgb(36,36,36)\",\"showgrid\":false,\"showline\":true,\"ticks\":\"outside\",\"title\":{\"standoff\":15},\"zeroline\":false,\"zerolinecolor\":\"rgb(36,36,36)\"},\"yaxis\":{\"automargin\":true,\"gridcolor\":\"rgb(232,232,232)\",\"linecolor\":\"rgb(36,36,36)\",\"showgrid\":false,\"showline\":true,\"ticks\":\"outside\",\"title\":{\"standoff\":15},\"zeroline\":false,\"zerolinecolor\":\"rgb(36,36,36)\"}}},\"xaxis\":{\"anchor\":\"y\",\"domain\":[0.0,0.8358],\"title\":{\"text\":\"Heating Load\"}},\"yaxis\":{\"anchor\":\"x\",\"domain\":[0.0,0.8316],\"title\":{\"text\":\"Overall Height\"}},\"xaxis2\":{\"anchor\":\"y2\",\"domain\":[0.8408,1.0],\"matches\":\"x2\",\"showticklabels\":false,\"showline\":false,\"ticks\":\"\"},\"yaxis2\":{\"anchor\":\"x2\",\"domain\":[0.0,0.8316],\"matches\":\"y\",\"showticklabels\":false},\"xaxis3\":{\"anchor\":\"y3\",\"domain\":[0.0,0.8358],\"matches\":\"x\",\"showticklabels\":false},\"yaxis3\":{\"anchor\":\"x3\",\"domain\":[0.8416,1.0],\"matches\":\"y3\",\"showticklabels\":false,\"showline\":false,\"ticks\":\"\"},\"xaxis4\":{\"anchor\":\"y4\",\"domain\":[0.8408,1.0],\"matches\":\"x2\",\"showticklabels\":false,\"showline\":false,\"ticks\":\"\"},\"yaxis4\":{\"anchor\":\"x4\",\"domain\":[0.8416,1.0],\"matches\":\"y3\",\"showticklabels\":false,\"showline\":false,\"ticks\":\"\"},\"legend\":{\"tracegroupgap\":0},\"margin\":{\"t\":60}},                        {\"responsive\": true}                    ).then(function(){\n",
              "                            \n",
              "var gd = document.getElementById('d7a94b9e-feba-41b8-8738-7c04fae3a32c');\n",
              "var x = new MutationObserver(function (mutations, observer) {{\n",
              "        var display = window.getComputedStyle(gd).display;\n",
              "        if (!display || display === 'none') {{\n",
              "            console.log([gd, 'removed!']);\n",
              "            Plotly.purge(gd);\n",
              "            observer.disconnect();\n",
              "        }}\n",
              "}});\n",
              "\n",
              "// Listen for the removal of the full notebook cells\n",
              "var notebookContainer = gd.closest('#notebook-container');\n",
              "if (notebookContainer) {{\n",
              "    x.observe(notebookContainer, {childList: true});\n",
              "}}\n",
              "\n",
              "// Listen for the clearing of the current output cell\n",
              "var outputEl = gd.closest('.output');\n",
              "if (outputEl) {{\n",
              "    x.observe(outputEl, {childList: true});\n",
              "}}\n",
              "\n",
              "                        })                };                            </script>        </div>\n",
              "</body>\n",
              "</html>"
            ]
          },
          "metadata": {}
        }
      ]
    },
    {
      "cell_type": "markdown",
      "source": [
        "명확한 상관관계를 찾기위해 상관관계 행렬 확인"
      ],
      "metadata": {
        "id": "D7Mh5riNmb4t"
      }
    },
    {
      "cell_type": "code",
      "source": [
        "import matplotlib.pyplot as plt\n",
        "import matplotlib.style as style\n",
        "import seaborn as sns\n",
        "style.use('ggplot')\n",
        "sns.set_style('whitegrid')\n",
        "\n",
        "plt.subplots(figsize = (12,7))\n",
        "## Plotting heatmap. # Generate a mask for the upper triangle (taken from seaborn example gallery)\n",
        "mask = np.zeros_like(data.corr(), dtype=np.bool)\n",
        "mask[np.triu_indices_from(mask)] = True\n",
        "sns.heatmap(data.corr(), cmap=sns.diverging_palette(20, 220, n=200), annot=True, mask=mask, center = 0, );\n",
        "plt.title(\"Heatmap of all the Features of Train data set\", fontsize = 25);"
      ],
      "metadata": {
        "trusted": true,
        "colab": {
          "base_uri": "https://localhost:8080/",
          "height": 569
        },
        "id": "dOlFq62Nmb4u",
        "outputId": "5de80405-3837-425e-ec01-c4eadd982631"
      },
      "execution_count": 9,
      "outputs": [
        {
          "output_type": "display_data",
          "data": {
            "text/plain": [
              "<Figure size 864x504 with 2 Axes>"
            ],
            "image/png": "[encoded data removed]"
          },
          "metadata": {}
        }
      ]
    },
    {
      "cell_type": "markdown",
      "source": [
        "### 데이터 분리작업"
      ],
      "metadata": {
        "id": "UDj89tcemb4u"
      }
    },
    {
      "cell_type": "code",
      "source": [
        "!pip install catboost "
      ],
      "metadata": {
        "colab": {
          "base_uri": "https://localhost:8080/"
        },
        "id": "pShJod0Kq51g",
        "outputId": "d8b65bb8-ec2c-4161-ea35-78db7c26ffe7"
      },
      "execution_count": 10,
      "outputs": [
        {
          "output_type": "stream",
          "name": "stdout",
          "text": [
            "Requirement already satisfied: catboost in /usr/local/lib/python3.7/dist-packages (1.0.5)\n",
            "Requirement already satisfied: six in /usr/local/lib/python3.7/dist-packages (from catboost) (1.15.0)\n",
            "Requirement already satisfied: scipy in /usr/local/lib/python3.7/dist-packages (from catboost) (1.4.1)\n",
            "Requirement already satisfied: matplotlib in /usr/local/lib/python3.7/dist-packages (from catboost) (3.2.2)\n",
            "Requirement already satisfied: numpy>=1.16.0 in /usr/local/lib/python3.7/dist-packages (from catboost) (1.21.6)\n",
            "Requirement already satisfied: plotly in /usr/local/lib/python3.7/dist-packages (from catboost) (5.5.0)\n",
            "Requirement already satisfied: graphviz in /usr/local/lib/python3.7/dist-packages (from catboost) (0.10.1)\n",
            "Requirement already satisfied: pandas>=0.24.0 in /usr/local/lib/python3.7/dist-packages (from catboost) (1.3.5)\n",
            "Requirement already satisfied: python-dateutil>=2.7.3 in /usr/local/lib/python3.7/dist-packages (from pandas>=0.24.0->catboost) (2.8.2)\n",
            "Requirement already satisfied: pytz>=2017.3 in /usr/local/lib/python3.7/dist-packages (from pandas>=0.24.0->catboost) (2022.1)\n",
            "Requirement already satisfied: cycler>=0.10 in /usr/local/lib/python3.7/dist-packages (from matplotlib->catboost) (0.11.0)\n",
            "Requirement already satisfied: kiwisolver>=1.0.1 in /usr/local/lib/python3.7/dist-packages (from matplotlib->catboost) (1.4.2)\n",
            "Requirement already satisfied: pyparsing!=2.0.4,!=2.1.2,!=2.1.6,>=2.0.1 in /usr/local/lib/python3.7/dist-packages (from matplotlib->catboost) (3.0.8)\n",
            "Requirement already satisfied: typing-extensions in /usr/local/lib/python3.7/dist-packages (from kiwisolver>=1.0.1->matplotlib->catboost) (4.2.0)\n",
            "Requirement already satisfied: tenacity>=6.2.0 in /usr/local/lib/python3.7/dist-packages (from plotly->catboost) (8.0.1)\n"
          ]
        }
      ]
    },
    {
      "cell_type": "code",
      "source": [
        "from scipy.stats import randint as sp_randint\n",
        "from catboost import CatBoostRegressor\n",
        "from sklearn.model_selection import GridSearchCV\n",
        "from keras.layers import Dense\n",
        "from keras.models import Sequential\n",
        "from sklearn.tree import DecisionTreeRegressor\n",
        "from sklearn.neighbors import KNeighborsRegressor\n",
        "from sklearn.neural_network import MLPRegressor\n",
        "from sklearn.ensemble import GradientBoostingRegressor,AdaBoostRegressor\n",
        "from sklearn.ensemble import BaggingRegressor, RandomForestRegressor\n",
        "from sklearn.model_selection import GridSearchCV\n",
        "from sklearn.model_selection import train_test_split\n",
        "from sklearn.multioutput import MultiOutputRegressor\n",
        "from sklearn.preprocessing import MinMaxScaler\n",
        "from sklearn.svm import SVC\n",
        "from sklearn.svm import SVR\n",
        "from sklearn.metrics import accuracy_score, f1_score\n",
        "from sklearn.metrics import r2_score\n",
        "from sklearn.metrics import roc_auc_score"
      ],
      "metadata": {
        "trusted": true,
        "id": "FfnOwUiYmb4u"
      },
      "execution_count": 11,
      "outputs": []
    },
    {
      "cell_type": "code",
      "source": [
        "X = data[['Relative Compactness', 'Surface Area', 'Wall Area', \n",
        "          'Roof Area', 'Overall Height', 'Orientation', \n",
        "          'Glazing Area', 'Glazing Area Distribution']]\n",
        "Y = data[['Heating Load', 'Cooling Load']]\n",
        "Y1= data[['Heating Load']]\n",
        "Y2= data[['Cooling Load']]"
      ],
      "metadata": {
        "trusted": true,
        "id": "BrHRJksfmb4v"
      },
      "execution_count": 12,
      "outputs": []
    },
    {
      "cell_type": "markdown",
      "source": [
        "- 데이터 세트를 훈련 및 테스트 세트로 분할.\n",
        "- 특징 스케일링 또는 데이터 정규화는 데이터의 독립 변수   \n",
        "  또는 특징의 범위를 정규화하는 데 사용되는 방법입니다.\n",
        "- 따라서 독립 변수에서 값이 많이 다를 때 모든 값이   \n",
        "  비교 가능한 범위에 유지되도록 특성 스케일링을 사용합니다."
      ],
      "metadata": {
        "id": "l7Iq9vYLmb4v"
      }
    },
    {
      "cell_type": "code",
      "source": [
        "X_train, X_test, y1_train, y1_test, y2_train, y2_test = train_test_split(\n",
        "    X, Y1, Y2, test_size=0.33, random_state = 20)\n",
        "\n",
        "MinMax = MinMaxScaler(feature_range= (0,1))\n",
        "X_train = MinMax.fit_transform(X_train)\n",
        "X_test = MinMax.transform(X_test)"
      ],
      "metadata": {
        "trusted": true,
        "id": "2g8DSdZUmb4v"
      },
      "execution_count": 13,
      "outputs": []
    },
    {
      "cell_type": "markdown",
      "source": [
        "# 모델링"
      ],
      "metadata": {
        "id": "gQsOd8BAmb4v"
      }
    },
    {
      "cell_type": "markdown",
      "source": [
        "각 모델의 결과를 저장할 DataFrame을 만듭니다."
      ],
      "metadata": {
        "id": "bpErSjoImb4v"
      }
    },
    {
      "cell_type": "code",
      "source": [
        "Acc = pd.DataFrame(index=None, columns=['model',\n",
        "                                        'train_Heating','test_Heating',\n",
        "                                        'train_Cooling','test_Cooling'])"
      ],
      "metadata": {
        "trusted": true,
        "id": "hWMnzAKUmb4v"
      },
      "execution_count": 14,
      "outputs": []
    },
    {
      "cell_type": "code",
      "source": [
        "regressors = [['SVR',SVR()],\n",
        "              ['DecisionTreeRegressor',DecisionTreeRegressor()],\n",
        "              ['KNeighborsRegressor', KNeighborsRegressor()],\n",
        "              ['RandomForestRegressor', RandomForestRegressor()],\n",
        "              ['MLPRegressor',MLPRegressor()],\n",
        "              ['AdaBoostRegressor',AdaBoostRegressor()],\n",
        "              ['GradientBoostingRegressor',GradientBoostingRegressor()]]"
      ],
      "metadata": {
        "trusted": true,
        "id": "6PJWK9lImb4w"
      },
      "execution_count": 15,
      "outputs": []
    },
    {
      "cell_type": "code",
      "source": [
        "for mod in regressors:\n",
        "    name = mod[0]\n",
        "    model = mod[1]\n",
        "    \n",
        "    model.fit(X_train, y1_train)\n",
        "    actr1 = r2_score(y1_train, model.predict(X_train))\n",
        "    acte1 = r2_score(y1_test, model.predict(X_test))\n",
        "    \n",
        "    model.fit(X_train, y2_train)\n",
        "    actr2 = r2_score(y2_train, model.predict(X_train))\n",
        "    acte2 = r2_score(y2_test, model.predict(X_test))\n",
        "    \n",
        "    Acc = Acc.append(pd.Series({'model':name, 'train_Heating':actr1,\n",
        "                                'test_Heating':acte1,'train_Cooling':actr2,\n",
        "                                'test_Cooling':acte2}),ignore_index=True )\n",
        "\n",
        "Acc.sort_values(by='test_Cooling')"
      ],
      "metadata": {
        "_kg_hide-output": false,
        "trusted": true,
        "colab": {
          "base_uri": "https://localhost:8080/",
          "height": 269
        },
        "id": "FkYDEwkMmb4w",
        "outputId": "529470f8-1250-4740-efcd-a35712f9a8f5"
      },
      "execution_count": 16,
      "outputs": [
        {
          "output_type": "execute_result",
          "data": {
            "text/plain": [
              "                       model  train_Heating  test_Heating  train_Cooling  \\\n",
              "4               MLPRegressor       0.878710      0.885380       0.802245   \n",
              "0                        SVR       0.930662      0.910593       0.892578   \n",
              "2        KNeighborsRegressor       0.945989      0.904490       0.926869   \n",
              "5          AdaBoostRegressor       0.969834      0.966828       0.933768   \n",
              "1      DecisionTreeRegressor       1.000000      0.995285       1.000000   \n",
              "3      RandomForestRegressor       0.999435      0.997283       0.995181   \n",
              "6  GradientBoostingRegressor       0.998173      0.997641       0.979423   \n",
              "\n",
              "   test_Cooling  \n",
              "4      0.825341  \n",
              "0      0.887385  \n",
              "2      0.888896  \n",
              "5      0.932878  \n",
              "1      0.948560  \n",
              "3      0.962109  \n",
              "6      0.976044  "
            ],
            "text/html": [
              "\n",
              "  <div id=\"df-52f7c8ab-3c69-4434-bbbe-2074267fd0bf\">\n",
              "    <div class=\"colab-df-container\">\n",
              "      <div>\n",
              "<style scoped>\n",
              "    .dataframe tbody tr th:only-of-type {\n",
              "        vertical-align: middle;\n",
              "    }\n",
              "\n",
              "    .dataframe tbody tr th {\n",
              "        vertical-align: top;\n",
              "    }\n",
              "\n",
              "    .dataframe thead th {\n",
              "        text-align: right;\n",
              "    }\n",
              "</style>\n",
              "<table border=\"1\" class=\"dataframe\">\n",
              "  <thead>\n",
              "    <tr style=\"text-align: right;\">\n",
              "      <th></th>\n",
              "      <th>model</th>\n",
              "      <th>train_Heating</th>\n",
              "      <th>test_Heating</th>\n",
              "      <th>train_Cooling</th>\n",
              "      <th>test_Cooling</th>\n",
              "    </tr>\n",
              "  </thead>\n",
              "  <tbody>\n",
              "    <tr>\n",
              "      <th>4</th>\n",
              "      <td>MLPRegressor</td>\n",
              "      <td>0.878710</td>\n",
              "      <td>0.885380</td>\n",
              "      <td>0.802245</td>\n",
              "      <td>0.825341</td>\n",
              "    </tr>\n",
              "    <tr>\n",
              "      <th>0</th>\n",
              "      <td>SVR</td>\n",
              "      <td>0.930662</td>\n",
              "      <td>0.910593</td>\n",
              "      <td>0.892578</td>\n",
              "      <td>0.887385</td>\n",
              "    </tr>\n",
              "    <tr>\n",
              "      <th>2</th>\n",
              "      <td>KNeighborsRegressor</td>\n",
              "      <td>0.945989</td>\n",
              "      <td>0.904490</td>\n",
              "      <td>0.926869</td>\n",
              "      <td>0.888896</td>\n",
              "    </tr>\n",
              "    <tr>\n",
              "      <th>5</th>\n",
              "      <td>AdaBoostRegressor</td>\n",
              "      <td>0.969834</td>\n",
              "      <td>0.966828</td>\n",
              "      <td>0.933768</td>\n",
              "      <td>0.932878</td>\n",
              "    </tr>\n",
              "    <tr>\n",
              "      <th>1</th>\n",
              "      <td>DecisionTreeRegressor</td>\n",
              "      <td>1.000000</td>\n",
              "      <td>0.995285</td>\n",
              "      <td>1.000000</td>\n",
              "      <td>0.948560</td>\n",
              "    </tr>\n",
              "    <tr>\n",
              "      <th>3</th>\n",
              "      <td>RandomForestRegressor</td>\n",
              "      <td>0.999435</td>\n",
              "      <td>0.997283</td>\n",
              "      <td>0.995181</td>\n",
              "      <td>0.962109</td>\n",
              "    </tr>\n",
              "    <tr>\n",
              "      <th>6</th>\n",
              "      <td>GradientBoostingRegressor</td>\n",
              "      <td>0.998173</td>\n",
              "      <td>0.997641</td>\n",
              "      <td>0.979423</td>\n",
              "      <td>0.976044</td>\n",
              "    </tr>\n",
              "  </tbody>\n",
              "</table>\n",
              "</div>\n",
              "      <button class=\"colab-df-convert\" onclick=\"convertToInteractive('df-52f7c8ab-3c69-4434-bbbe-2074267fd0bf')\"\n",
              "              title=\"Convert this dataframe to an interactive table.\"\n",
              "              style=\"display:none;\">\n",
              "        \n",
              "  <svg xmlns=\"http://www.w3.org/2000/svg\" height=\"24px\"viewBox=\"0 0 24 24\"\n",
              "       width=\"24px\">\n",
              "    <path d=\"M0 0h24v24H0V0z\" fill=\"none\"/>\n",
              "    <path d=\"M18.56 5.44l.94 2.06.94-2.06 2.06-.94-2.06-.94-.94-2.06-.94 2.06-2.06.94zm-11 1L8.5 8.5l.94-2.06 2.06-.94-2.06-.94L8.5 2.5l-.94 2.06-2.06.94zm10 10l.94 2.06.94-2.06 2.06-.94-2.06-.94-.94-2.06-.94 2.06-2.06.94z\"/><path d=\"M17.41 7.96l-1.37-1.37c-.4-.4-.92-.59-1.43-.59-.52 0-1.04.2-1.43.59L10.3 9.45l-7.72 7.72c-.78.78-.78 2.05 0 2.83L4 21.41c.39.39.9.59 1.41.59.51 0 1.02-.2 1.41-.59l7.78-7.78 2.81-2.81c.8-.78.8-2.07 0-2.86zM5.41 20L4 18.59l7.72-7.72 1.47 1.35L5.41 20z\"/>\n",
              "  </svg>\n",
              "      </button>\n",
              "      \n",
              "  <style>\n",
              "    .colab-df-container {\n",
              "      display:flex;\n",
              "      flex-wrap:wrap;\n",
              "      gap: 12px;\n",
              "    }\n",
              "\n",
              "    .colab-df-convert {\n",
              "      background-color: #E8F0FE;\n",
              "      border: none;\n",
              "      border-radius: 50%;\n",
              "      cursor: pointer;\n",
              "      display: none;\n",
              "      fill: #1967D2;\n",
              "      height: 32px;\n",
              "      padding: 0 0 0 0;\n",
              "      width: 32px;\n",
              "    }\n",
              "\n",
              "    .colab-df-convert:hover {\n",
              "      background-color: #E2EBFA;\n",
              "      box-shadow: 0px 1px 2px rgba(60, 64, 67, 0.3), 0px 1px 3px 1px rgba(60, 64, 67, 0.15);\n",
              "      fill: #174EA6;\n",
              "    }\n",
              "\n",
              "    [theme=dark] .colab-df-convert {\n",
              "      background-color: #3B4455;\n",
              "      fill: #D2E3FC;\n",
              "    }\n",
              "\n",
              "    [theme=dark] .colab-df-convert:hover {\n",
              "      background-color: #434B5C;\n",
              "      box-shadow: 0px 1px 3px 1px rgba(0, 0, 0, 0.15);\n",
              "      filter: drop-shadow(0px 1px 2px rgba(0, 0, 0, 0.3));\n",
              "      fill: #FFFFFF;\n",
              "    }\n",
              "  </style>\n",
              "\n",
              "      <script>\n",
              "        const buttonEl =\n",
              "          document.querySelector('#df-52f7c8ab-3c69-4434-bbbe-2074267fd0bf button.colab-df-convert');\n",
              "        buttonEl.style.display =\n",
              "          google.colab.kernel.accessAllowed ? 'block' : 'none';\n",
              "\n",
              "        async function convertToInteractive(key) {\n",
              "          const element = document.querySelector('#df-52f7c8ab-3c69-4434-bbbe-2074267fd0bf');\n",
              "          const dataTable =\n",
              "            await google.colab.kernel.invokeFunction('convertToInteractive',\n",
              "                                                     [key], {});\n",
              "          if (!dataTable) return;\n",
              "\n",
              "          const docLinkHtml = 'Like what you see? Visit the ' +\n",
              "            '<a target=\"_blank\" href=https://colab.research.google.com/notebooks/data_table.ipynb>data table notebook</a>'\n",
              "            + ' to learn more about interactive tables.';\n",
              "          element.innerHTML = '';\n",
              "          dataTable['output_type'] = 'display_data';\n",
              "          await google.colab.output.renderOutput(dataTable, element);\n",
              "          const docLink = document.createElement('div');\n",
              "          docLink.innerHTML = docLinkHtml;\n",
              "          element.appendChild(docLink);\n",
              "        }\n",
              "      </script>\n",
              "    </div>\n",
              "  </div>\n",
              "  "
            ]
          },
          "metadata": {},
          "execution_count": 16
        }
      ]
    },
    {
      "cell_type": "markdown",
      "source": [
        "# 모델 파라미터 튜닝\n",
        "- Boosting machine learning 알고리즘은 단순한 알고리즘보다   \n",
        "더 나은 정확도를 제공하기 때문에 많이 사용됩니다.\n",
        "- 알고리즘의 성능은 하이퍼파라미터에 따라 다릅니다.\n",
        "- 최적의 parameter는 더 높은 정확도를 달성하는 데 도움이 될 수 있습니다. \n",
        "- 수동으로 hyper parameter를 찾는 것은 지루하고 계산 비용이 많이 듭니다.\n",
        "-  하이퍼파라미터 튜닝의 자동화가 중요합니다.\n",
        "- RandomSearch, GridSearchCV, Bayesian optimization은 하이퍼파라미터를  \n",
        "  최적화하는 데 사용됩니다."
      ],
      "metadata": {
        "id": "v4m3HZyhmb4w"
      }
    },
    {
      "cell_type": "code",
      "source": [
        "param_grid = [{\"learning_rate\": [0.01, 0.02, 0.1], \n",
        "               \"n_estimators\":[150, 200, 250], \"max_depth\": [4, 5, 6], \n",
        "               \"min_samples_split\":[1, 2, 3], \"min_samples_leaf\":[2, 3], \n",
        "               \"subsample\":[1.0, 2.0]}]\n",
        "\n",
        "GBR = GradientBoostingRegressor()\n",
        "grid_search_GBR = GridSearchCV(GBR, param_grid, cv=10, \n",
        "                               scoring='neg_mean_squared_error')\n",
        "grid_search_GBR.fit(X_train, y2_train)\n",
        "\n",
        "print(\"R-Squared::{}\".format(grid_search_GBR.best_score_))\n",
        "print(\"Best Hyperparameters::\\n{}\".format(grid_search_GBR.best_params_))"
      ],
      "metadata": {
        "trusted": true,
        "id": "-BSV_EN5mb4y"
      },
      "execution_count": null,
      "outputs": []
    },
    {
      "cell_type": "markdown",
      "source": [
        "# A. Decision Tree Regressor parameters turning"
      ],
      "metadata": {
        "id": "FjMPdu9ou4sd"
      }
    },
    {
      "cell_type": "code",
      "source": [
        "DTR = DecisionTreeRegressor()\n",
        "param_grid = {\"criterion\": [\"mse\", \"mae\"],\"min_samples_split\": [14, 15, 16, 17],\n",
        "              \"max_depth\": [5, 6, 7],\"min_samples_leaf\": [4, 5, 6],\n",
        "              \"max_leaf_nodes\": [29, 30, 31, 32],}\n",
        "\n",
        "grid_cv_DTR = GridSearchCV(DTR, param_grid, cv=5)\n",
        "\n",
        "grid_cv_DTR.fit(X_train,y2_train)\n",
        "print(\"R-Squared::{}\".format(grid_cv_DTR.best_score_))\n",
        "print(\"Best Hyperparameters::\\n{}\".format(grid_cv_DTR.best_params_))"
      ],
      "metadata": {
        "id": "f9ZI5vkFu_Oy"
      },
      "execution_count": null,
      "outputs": []
    },
    {
      "cell_type": "code",
      "source": [
        "DTR = DecisionTreeRegressor()\n",
        "param_grid = {\"criterion\": [\"mse\", \"mae\"],\"min_samples_split\": [14, 15, 16, 17],\n",
        "              \"max_depth\": [5, 6, 7],\"min_samples_leaf\": [4, 5, 6],\n",
        "              \"max_leaf_nodes\": [29, 30, 31, 32],}\n",
        "\n",
        "grid_cv_DTR = GridSearchCV(DTR, param_grid, cv=5)\n",
        "\n",
        "grid_cv_DTR.fit(X_train,y2_train)\n",
        "print(\"R-Squared::{}\".format(grid_cv_DTR.best_score_))\n",
        "print(\"Best Hyperparameters::\\n{}\".format(grid_cv_DTR.best_params_))"
      ],
      "metadata": {
        "id": "qS6tfDcNu_LH"
      },
      "execution_count": null,
      "outputs": []
    },
    {
      "cell_type": "markdown",
      "source": [
        "# B. Tune Random Forests Parameters"
      ],
      "metadata": {
        "id": "8riF9tzKvJe5"
      }
    },
    {
      "cell_type": "code",
      "source": [
        "from sklearn.model_selection import GridSearchCV\n",
        "param_grid = [{'n_estimators': [350, 400, 450], 'max_features': [1, 2], \n",
        "               'max_depth': [85, 90, 95]}]\n",
        "\n",
        "RFR = RandomForestRegressor(n_jobs=-1)\n",
        "grid_search_RFR = GridSearchCV(RFR, param_grid, cv=10, \n",
        "                               scoring='neg_mean_squared_error')\n",
        "grid_search_RFR.fit(X_train, y2_train)\n",
        "\n",
        "print(\"R-Squared::{}\".format(grid_search_RFR.best_score_))\n",
        "print(\"Best Hyperparameters::\\n{}\".format(grid_search_RFR.best_params_))"
      ],
      "metadata": {
        "id": "4-IsgrSvu_IX"
      },
      "execution_count": null,
      "outputs": []
    },
    {
      "cell_type": "code",
      "source": [
        "RFR = RandomForestRegressor(n_estimators = 450, max_features = 1, max_depth= 90, bootstrap= True)\n",
        "\n",
        "RFR.fit(X_train,y1_train)\n",
        "print(\"R-Squared on train dataset={}\".format(RFR.score(X_test,y1_test)))\n",
        "\n",
        "RFR.fit(X_train,y2_train)   \n",
        "print(\"R-Squaredon test dataset={}\".format(RFR.score(X_test,y2_test)))"
      ],
      "metadata": {
        "id": "8hAmNJiAu_Fw"
      },
      "execution_count": null,
      "outputs": []
    },
    {
      "cell_type": "markdown",
      "source": [
        "# C. Gradient Boosting Regression - Hyperparameter Tuning"
      ],
      "metadata": {
        "id": "29mF-01avRWT"
      }
    },
    {
      "cell_type": "code",
      "source": [
        "GBR = GradientBoostingRegressor(learning_rate=0.1,n_estimators=250, \n",
        "                                max_depth=5, min_samples_split=3, \n",
        "                                min_samples_leaf=2, subsample=1.0)\n",
        "\n",
        "GBR.fit(X_train,y1_train)\n",
        "print(\"R-Squared on train dataset={}\".format(GBR.score(X_test,y1_test)))\n",
        "\n",
        "GBR.fit(X_train,y2_train)   \n",
        "print(\"R-Squaredon test dataset={}\".format(GBR.score(X_test,y2_test)))"
      ],
      "metadata": {
        "trusted": true,
        "id": "FbtYyrXgmb4y"
      },
      "execution_count": null,
      "outputs": []
    },
    {
      "cell_type": "markdown",
      "source": [
        "# D. CatBoostRegressor\n",
        "- CatBoost는 Yandex의 최근 오픈소스 기계학습 알고리즘입니다. \n",
        "- \"CatBoost\"라는 이름은 \"Category\"와 \"Boosting\"이라는 두 단어에서 유래했습니다."
      ],
      "metadata": {
        "id": "yXX_KsW2mb4y"
      }
    },
    {
      "cell_type": "code",
      "source": [
        "import warnings\n",
        "warnings.filterwarnings(\"ignore\")\n",
        "from sklearn import datasets\n",
        "from sklearn.model_selection import train_test_split\n",
        "from sklearn.model_selection import GridSearchCV\n",
        "from catboost import CatBoostRegressor\n",
        "\n",
        "model_CBR = CatBoostRegressor()\n",
        "parameters = {'depth':[8, 10],'iterations':[10000],'learning_rate':[0.02,0.03],\n",
        "              'border_count':[5],'random_state': [42, 45]}\n",
        "\n",
        "grid = GridSearchCV(estimator=model_CBR, param_grid = parameters, cv = 2, n_jobs=-1)\n",
        "grid.fit(X_train, y2_train)\n",
        "print(\" Results from Grid Search \" )\n",
        "print(\"\\n The best estimator across ALL searched params:\\n\", grid.best_estimator_)\n",
        "print(\"\\n The best score across ALL searched params:\\n\", grid.best_score_)\n",
        "print(\"\\n The best parameters across ALL searched params:\\n\", grid.best_params_)"
      ],
      "metadata": {
        "_kg_hide-output": true,
        "trusted": true,
        "id": "RgNxzGhNmb4z"
      },
      "execution_count": null,
      "outputs": []
    },
    {
      "cell_type": "markdown",
      "source": [
        "# E. MLPRegressor"
      ],
      "metadata": {
        "id": "Z3AoDtSnmb4z"
      }
    },
    {
      "cell_type": "code",
      "source": [
        "MLPR = MLPRegressor(hidden_layer_sizes = [180,100,20],activation ='relu', \n",
        "                    solver='lbfgs',max_iter = 10000,random_state = 0)\n",
        "MLPR.fit(X_train,y1_train)\n",
        "print(\"R-Squared on train dataset={}\".format(MLPR.score(X_test,y1_test)))\n",
        "\n",
        "MLPR.fit(X_train,y2_train)   \n",
        "print(\"R-Squaredon test dataset={}\".format(MLPR.score(X_test,y2_test)))"
      ],
      "metadata": {
        "trusted": true,
        "id": "NZWxbiKHmb4z"
      },
      "execution_count": null,
      "outputs": []
    },
    {
      "cell_type": "markdown",
      "source": [
        "모델 성능 Summary"
      ],
      "metadata": {
        "id": "HkBc1TkYmb4z"
      }
    },
    {
      "cell_type": "code",
      "source": [
        "Acc1 = pd.DataFrame(index=None, columns=['model','train_Heating','test_Heating',\n",
        "                                         'train_Cooling','test_Cooling'])"
      ],
      "metadata": {
        "trusted": true,
        "id": "e2qIoObqmb4z"
      },
      "execution_count": null,
      "outputs": []
    },
    {
      "cell_type": "code",
      "source": [
        "regressors1 = [['DecisionTreeRegressor',\n",
        "                DecisionTreeRegressor(criterion= 'mse', max_depth= 6, \n",
        "                                      max_leaf_nodes= 30, min_samples_leaf= 5, \n",
        "                                      min_samples_split= 17)],\n",
        "              ['RandomForestRegressor', \n",
        "               RandomForestRegressor(n_estimators = 450, max_features = 1, \n",
        "                                     max_depth= 90, bootstrap= True)],\n",
        "              ['MLPRegressor',\n",
        "               MLPRegressor(hidden_layer_sizes = [180,100,20],activation ='relu', \n",
        "                            solver='lbfgs',max_iter = 10000,random_state = 0)],\n",
        "              ['GradientBoostingRegressor',\n",
        "               GradientBoostingRegressor(learning_rate=0.1,n_estimators=250, \n",
        "                                         max_depth=5, min_samples_split=2, \n",
        "                                         min_samples_leaf=3, subsample=1.0)]]"
      ],
      "metadata": {
        "trusted": true,
        "id": "Yc7No48jmb40"
      },
      "execution_count": null,
      "outputs": []
    },
    {
      "cell_type": "code",
      "source": [
        "for mod in regressors1:\n",
        "    name = mod[0]\n",
        "    model = mod[1]\n",
        "    \n",
        "    model.fit(X_train,y1_train)\n",
        "    actr1 = r2_score(y1_train, model.predict(X_train))\n",
        "    acte1 = r2_score(y1_test, model.predict(X_test))\n",
        "    \n",
        "    model.fit(X_train,y2_train)\n",
        "    actr2 = r2_score(y2_train, model.predict(X_train))\n",
        "    acte2 = r2_score(y2_test, model.predict(X_test))\n",
        "    \n",
        "    Acc1 = Acc1.append(pd.Series({'model':name, 'train_Heating':actr1,\n",
        "                                  'test_Heating':acte1,'train_Cooling':actr2,\n",
        "                                  'test_Cooling':acte2}),ignore_index=True )\n",
        "Acc1.sort_values(by='test_Cooling')"
      ],
      "metadata": {
        "_kg_hide-output": false,
        "trusted": true,
        "id": "v3kVlIkEmb40"
      },
      "execution_count": null,
      "outputs": []
    },
    {
      "cell_type": "markdown",
      "source": [
        "# 3. 결론\n",
        "- 난방 및 냉방 부하를 예측하기 위해 다양한 모델을 사용하여 건물 에너지 성능을 예측 했습니다.\n",
        "- 모델에서 다양한 parameter를 조정하여 매우 좋은 예측 결과를 얻었습니다.\n",
        "- 난방 및 냉방 부하 모두에서 >99.5%, 실험 데이터 세트와 비교"
      ],
      "metadata": {
        "id": "ilBLVfGPmb40"
      }
    },
    {
      "cell_type": "code",
      "source": [
        "model = CatBoostRegressor(border_count= 5, depth= 8, iterations= 10000, \n",
        "                          learning_rate= 0.02, random_state= 45)\n",
        "\n",
        "model.fit(X_train,y1_train)\n",
        "actr1 = r2_score(y1_train, model.predict(X_train))\n",
        "acte1 = r2_score(y1_test, model.predict(X_test))\n",
        "y1_pred = model.predict(X_test)\n",
        "\n",
        "model.fit(X_train,y2_train)\n",
        "actr2 = r2_score(y2_train, model.predict(X_train))\n",
        "acte2 = r2_score(y2_test, model.predict(X_test))\n",
        "y2_pred = model.predict(X_test)"
      ],
      "metadata": {
        "_kg_hide-output": true,
        "trusted": true,
        "id": "VdcKacDQmb40"
      },
      "execution_count": null,
      "outputs": []
    },
    {
      "cell_type": "code",
      "source": [
        "print(\"CatBoostRegressor: R-Squared on train dataset={}\".format(actr1))\n",
        "print(\"CatBoostRegressor: R-Squared on test dataset={}\".format(acte1))\n",
        "print(\"CatBoostRegressor: R-Squared on train dataset={}\".format(actr2))\n",
        "print(\"CatBoostRegressor: R-Squared on test dataset={}\".format(acte2))"
      ],
      "metadata": {
        "trusted": true,
        "id": "Xa61pIYnmb40"
      },
      "execution_count": null,
      "outputs": []
    },
    {
      "cell_type": "code",
      "source": [
        "x_ax = range(len(y1_test))\n",
        "plt.figure(figsize=(20,10))\n",
        "plt.subplot(2,1,1)\n",
        "plt.plot(x_ax, y1_test, label=\"Actual Heating\")\n",
        "plt.plot(x_ax, y1_pred, label=\"Predicted Heating\")\n",
        "plt.title(\"Heating test and predicted data\")\n",
        "plt.xlabel('X-axis')\n",
        "plt.ylabel('Heating load (kW)')\n",
        "plt.legend(loc='best',fancybox=True, shadow=True)\n",
        "plt.grid(True)\n",
        "\n",
        "plt.subplot(2,1,2)\n",
        "plt.plot(x_ax, y2_test, label=\"Actual Cooling\")\n",
        "plt.plot(x_ax, y2_pred, label=\"Predicted Cooling\")\n",
        "plt.title(\"Coolong test and predicted data\")\n",
        "plt.xlabel('X-axis')\n",
        "plt.ylabel('Cooling load (kW)')\n",
        "plt.legend(loc='best',fancybox=True, shadow=True)\n",
        "plt.grid(True)\n",
        "\n",
        "plt.show()"
      ],
      "metadata": {
        "trusted": true,
        "id": "CDYPK_BUmb40"
      },
      "execution_count": null,
      "outputs": []
    },
    {
      "cell_type": "code",
      "source": [
        "def AAD(y1_test, y1_pred):\n",
        "    AAD =[]\n",
        "    for i in range(len(y1_pred)):\n",
        "        AAD.append((y1_pred[i] - y1_test.values[i])/y1_test.values[i]*100)\n",
        "    return AAD\n",
        "\n",
        "x_ax = range(len(y1_test))\n",
        "plt.figure(figsize=(20,10))\n",
        "plt.subplot(2,1,1)\n",
        "plt.plot(x_ax, AAD(y1_test, y1_pred), label=\"Relative deviation obtained on Heating load\")\n",
        "plt.title(\"Heating load\")\n",
        "plt.xlabel('X-axis')\n",
        "plt.ylabel('Error (%)')\n",
        "plt.legend(loc='best',fancybox=True, shadow=True)\n",
        "plt.grid(True)\n",
        "\n",
        "plt.subplot(2,1,2)\n",
        "plt.plot(x_ax, AAD(y2_test, y2_pred), label=\"Relative deviation obtained on Cooling load\")\n",
        "plt.title(\"Cooling load\")\n",
        "plt.xlabel('X-axis')\n",
        "plt.ylabel('Error (%)')\n",
        "plt.legend(loc='best',fancybox=True, shadow=True)\n",
        "plt.grid(True)\n",
        "\n",
        "plt.show()"
      ],
      "metadata": {
        "trusted": true,
        "id": "lrJpMuEsmb40"
      },
      "execution_count": null,
      "outputs": []
    }
  ]
}