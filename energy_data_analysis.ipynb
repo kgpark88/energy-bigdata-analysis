{
  "nbformat": 4,
  "nbformat_minor": 0,
  "metadata": {
    "colab": {
      "name": "energy_data_analysis.ipynb",
      "provenance": [],
      "collapsed_sections": [],
      "include_colab_link": true
    },
    "kernelspec": {
      "name": "python3",
      "display_name": "Python 3"
    }
  },
  "cells": [
    {
      "cell_type": "markdown",
      "metadata": {
        "id": "view-in-github",
        "colab_type": "text"
      },
      "source": [
        "<a href=\"https://colab.research.google.com/github/kgpark88/energy-bigdata-analysis/blob/main/energy_data_analysis.ipynb\" target=\"_parent\"><img src=\"https://colab.research.google.com/assets/colab-badge.svg\" alt=\"Open In Colab\"/></a>"
      ]
    },
    {
      "cell_type": "markdown",
      "metadata": {
        "id": "49sno4m8lpmx"
      },
      "source": [
        "# 에너지 데이터 분석"
      ]
    },
    {
      "cell_type": "markdown",
      "metadata": {
        "id": "c43cY1Mvl9if"
      },
      "source": [
        "## 1. 넘파이(Numpy)\n",
        "NumPy(Numerical Python)는 데이터 분석을 포함해 수학과 과학연산을 위한 파이썬 기본 패키지로 고성능의 다차원 배열 객체와 다양한 객체에 대해 고속 연산을 가능하게 합니다.\n"
      ]
    },
    {
      "cell_type": "markdown",
      "metadata": {
        "id": "IYYl34Pomgfe"
      },
      "source": [
        "Numpy 라이브러리 임포트"
      ]
    },
    {
      "cell_type": "code",
      "metadata": {
        "id": "9Q3J7h6Iljbx"
      },
      "source": [
        "import numpy as np"
      ],
      "execution_count": 1,
      "outputs": []
    },
    {
      "cell_type": "markdown",
      "metadata": {
        "id": "j4CalkxxmpEe"
      },
      "source": [
        "파이썬 리스트(list) 정의"
      ]
    },
    {
      "cell_type": "code",
      "metadata": {
        "id": "HhnUUYjqloxZ"
      },
      "source": [
        "lst = [1, 2, 3, 4, 5, 6, 7, 8, 9, 10]"
      ],
      "execution_count": 2,
      "outputs": []
    },
    {
      "cell_type": "markdown",
      "metadata": {
        "id": "gIb1rhCnmvbN"
      },
      "source": [
        "리스트(list)를 Numpy array 로 변환"
      ]
    },
    {
      "cell_type": "code",
      "metadata": {
        "id": "SuXZQe3kOCCr",
        "outputId": "e80f669d-7e1e-475e-e839-b60369d5b95c",
        "colab": {
          "base_uri": "https://localhost:8080/"
        }
      },
      "source": [
        "arr = np.array(lst)\n",
        "arr"
      ],
      "execution_count": 3,
      "outputs": [
        {
          "output_type": "execute_result",
          "data": {
            "text/plain": [
              "array([ 1,  2,  3,  4,  5,  6,  7,  8,  9, 10])"
            ]
          },
          "metadata": {},
          "execution_count": 3
        }
      ]
    },
    {
      "cell_type": "markdown",
      "metadata": {
        "id": "MH_vs7j_nGlj"
      },
      "source": [
        "통계 계산 및 출력"
      ]
    },
    {
      "cell_type": "code",
      "metadata": {
        "id": "QBam-CXbniQz",
        "outputId": "b3774103-1dde-4757-eead-e97bc4600882",
        "colab": {
          "base_uri": "https://localhost:8080/"
        }
      },
      "source": [
        "np.median(arr)"
      ],
      "execution_count": 4,
      "outputs": [
        {
          "output_type": "execute_result",
          "data": {
            "text/plain": [
              "5.5"
            ]
          },
          "metadata": {},
          "execution_count": 4
        }
      ]
    },
    {
      "cell_type": "code",
      "metadata": {
        "id": "5KPWHWhflo32",
        "outputId": "39071a5c-faaf-4c5b-eb8e-f308d8f97b99",
        "colab": {
          "base_uri": "https://localhost:8080/"
        }
      },
      "source": [
        "print('Mean:', arr.mean())\n",
        "print('Median:', np.median(arr))\n",
        "print('Range (Max - min):', np.ptp(arr))\n",
        "print('Standard deviation:', arr.std())\n",
        "print('80th percentile:', np.percentile(arr, 80))\n",
        "print('0.2-quantile:', np.quantile(arr, 0.2))"
      ],
      "execution_count": 5,
      "outputs": [
        {
          "output_type": "stream",
          "name": "stdout",
          "text": [
            "Mean: 5.5\n",
            "Median: 5.5\n",
            "Range (Max - min): 9\n",
            "Standard deviation: 2.8722813232690143\n",
            "80th percentile: 8.2\n",
            "0.2-quantile: 2.8\n"
          ]
        }
      ]
    },
    {
      "cell_type": "markdown",
      "metadata": {
        "id": "n1qx_qQUTone"
      },
      "source": [
        "# 2. 판다스(Pandas)\n",
        "Pandas는 데이타 분석을 위해 널리 사용되는 파이썬 라이브러리 패키지입니다. \n",
        "데이터프레임 자료구조를 사용하여, 데이터 분석에 있어 높은 수준의 성능을 발휘합니다. \n"
      ]
    },
    {
      "cell_type": "code",
      "metadata": {
        "id": "VILvamkylo6_"
      },
      "source": [
        "import numpy as np\n",
        "import pandas as pd\n",
        "import matplotlib.pyplot as plt"
      ],
      "execution_count": 6,
      "outputs": []
    },
    {
      "cell_type": "markdown",
      "metadata": {
        "id": "e1-GzhCoUXo1"
      },
      "source": [
        "datetime 인덱스와 레이블이 있는 열을 가지고 있는 numpy 배열을 전달하여 데이터프레임을 만듭니다."
      ]
    },
    {
      "cell_type": "code",
      "metadata": {
        "id": "y9W-W3UNlpA8"
      },
      "source": [
        "dates = pd.date_range('20220501', periods=31)"
      ],
      "execution_count": 7,
      "outputs": []
    },
    {
      "cell_type": "code",
      "metadata": {
        "id": "sRcEdFbDlpEP",
        "outputId": "85f9fec1-bddd-4cc7-f0a0-918a0392c575",
        "colab": {
          "base_uri": "https://localhost:8080/"
        }
      },
      "source": [
        "dates"
      ],
      "execution_count": 8,
      "outputs": [
        {
          "output_type": "execute_result",
          "data": {
            "text/plain": [
              "DatetimeIndex(['2022-05-01', '2022-05-02', '2022-05-03', '2022-05-04',\n",
              "               '2022-05-05', '2022-05-06', '2022-05-07', '2022-05-08',\n",
              "               '2022-05-09', '2022-05-10', '2022-05-11', '2022-05-12',\n",
              "               '2022-05-13', '2022-05-14', '2022-05-15', '2022-05-16',\n",
              "               '2022-05-17', '2022-05-18', '2022-05-19', '2022-05-20',\n",
              "               '2022-05-21', '2022-05-22', '2022-05-23', '2022-05-24',\n",
              "               '2022-05-25', '2022-05-26', '2022-05-27', '2022-05-28',\n",
              "               '2022-05-29', '2022-05-30', '2022-05-31'],\n",
              "              dtype='datetime64[ns]', freq='D')"
            ]
          },
          "metadata": {},
          "execution_count": 8
        }
      ]
    },
    {
      "cell_type": "code",
      "metadata": {
        "id": "o-fV-CZlbNGH"
      },
      "source": [
        "data = np.random.randint(0,100,(31, 3))"
      ],
      "execution_count": 9,
      "outputs": []
    },
    {
      "cell_type": "code",
      "metadata": {
        "id": "Gm88fktLlpHL"
      },
      "source": [
        "df = pd.DataFrame(data=data, index=dates, columns=['power_usage','gas_usage','water_usage'])"
      ],
      "execution_count": 10,
      "outputs": []
    },
    {
      "cell_type": "code",
      "metadata": {
        "id": "Im9h8f-MlpKq",
        "outputId": "b3f5ead4-67aa-40eb-fc83-fa342bf8f1a1",
        "colab": {
          "base_uri": "https://localhost:8080/",
          "height": 206
        }
      },
      "source": [
        "df.head()"
      ],
      "execution_count": 11,
      "outputs": [
        {
          "output_type": "execute_result",
          "data": {
            "text/plain": [
              "            power_usage  gas_usage  water_usage\n",
              "2022-05-01           82         87           82\n",
              "2022-05-02           82         87           85\n",
              "2022-05-03           59         26            7\n",
              "2022-05-04           88         51           58\n",
              "2022-05-05           61         37           48"
            ],
            "text/html": [
              "\n",
              "  <div id=\"df-25140229-fa72-499a-b2b9-30abacea978f\">\n",
              "    <div class=\"colab-df-container\">\n",
              "      <div>\n",
              "<style scoped>\n",
              "    .dataframe tbody tr th:only-of-type {\n",
              "        vertical-align: middle;\n",
              "    }\n",
              "\n",
              "    .dataframe tbody tr th {\n",
              "        vertical-align: top;\n",
              "    }\n",
              "\n",
              "    .dataframe thead th {\n",
              "        text-align: right;\n",
              "    }\n",
              "</style>\n",
              "<table border=\"1\" class=\"dataframe\">\n",
              "  <thead>\n",
              "    <tr style=\"text-align: right;\">\n",
              "      <th></th>\n",
              "      <th>power_usage</th>\n",
              "      <th>gas_usage</th>\n",
              "      <th>water_usage</th>\n",
              "    </tr>\n",
              "  </thead>\n",
              "  <tbody>\n",
              "    <tr>\n",
              "      <th>2022-05-01</th>\n",
              "      <td>82</td>\n",
              "      <td>87</td>\n",
              "      <td>82</td>\n",
              "    </tr>\n",
              "    <tr>\n",
              "      <th>2022-05-02</th>\n",
              "      <td>82</td>\n",
              "      <td>87</td>\n",
              "      <td>85</td>\n",
              "    </tr>\n",
              "    <tr>\n",
              "      <th>2022-05-03</th>\n",
              "      <td>59</td>\n",
              "      <td>26</td>\n",
              "      <td>7</td>\n",
              "    </tr>\n",
              "    <tr>\n",
              "      <th>2022-05-04</th>\n",
              "      <td>88</td>\n",
              "      <td>51</td>\n",
              "      <td>58</td>\n",
              "    </tr>\n",
              "    <tr>\n",
              "      <th>2022-05-05</th>\n",
              "      <td>61</td>\n",
              "      <td>37</td>\n",
              "      <td>48</td>\n",
              "    </tr>\n",
              "  </tbody>\n",
              "</table>\n",
              "</div>\n",
              "      <button class=\"colab-df-convert\" onclick=\"convertToInteractive('df-25140229-fa72-499a-b2b9-30abacea978f')\"\n",
              "              title=\"Convert this dataframe to an interactive table.\"\n",
              "              style=\"display:none;\">\n",
              "        \n",
              "  <svg xmlns=\"http://www.w3.org/2000/svg\" height=\"24px\"viewBox=\"0 0 24 24\"\n",
              "       width=\"24px\">\n",
              "    <path d=\"M0 0h24v24H0V0z\" fill=\"none\"/>\n",
              "    <path d=\"M18.56 5.44l.94 2.06.94-2.06 2.06-.94-2.06-.94-.94-2.06-.94 2.06-2.06.94zm-11 1L8.5 8.5l.94-2.06 2.06-.94-2.06-.94L8.5 2.5l-.94 2.06-2.06.94zm10 10l.94 2.06.94-2.06 2.06-.94-2.06-.94-.94-2.06-.94 2.06-2.06.94z\"/><path d=\"M17.41 7.96l-1.37-1.37c-.4-.4-.92-.59-1.43-.59-.52 0-1.04.2-1.43.59L10.3 9.45l-7.72 7.72c-.78.78-.78 2.05 0 2.83L4 21.41c.39.39.9.59 1.41.59.51 0 1.02-.2 1.41-.59l7.78-7.78 2.81-2.81c.8-.78.8-2.07 0-2.86zM5.41 20L4 18.59l7.72-7.72 1.47 1.35L5.41 20z\"/>\n",
              "  </svg>\n",
              "      </button>\n",
              "      \n",
              "  <style>\n",
              "    .colab-df-container {\n",
              "      display:flex;\n",
              "      flex-wrap:wrap;\n",
              "      gap: 12px;\n",
              "    }\n",
              "\n",
              "    .colab-df-convert {\n",
              "      background-color: #E8F0FE;\n",
              "      border: none;\n",
              "      border-radius: 50%;\n",
              "      cursor: pointer;\n",
              "      display: none;\n",
              "      fill: #1967D2;\n",
              "      height: 32px;\n",
              "      padding: 0 0 0 0;\n",
              "      width: 32px;\n",
              "    }\n",
              "\n",
              "    .colab-df-convert:hover {\n",
              "      background-color: #E2EBFA;\n",
              "      box-shadow: 0px 1px 2px rgba(60, 64, 67, 0.3), 0px 1px 3px 1px rgba(60, 64, 67, 0.15);\n",
              "      fill: #174EA6;\n",
              "    }\n",
              "\n",
              "    [theme=dark] .colab-df-convert {\n",
              "      background-color: #3B4455;\n",
              "      fill: #D2E3FC;\n",
              "    }\n",
              "\n",
              "    [theme=dark] .colab-df-convert:hover {\n",
              "      background-color: #434B5C;\n",
              "      box-shadow: 0px 1px 3px 1px rgba(0, 0, 0, 0.15);\n",
              "      filter: drop-shadow(0px 1px 2px rgba(0, 0, 0, 0.3));\n",
              "      fill: #FFFFFF;\n",
              "    }\n",
              "  </style>\n",
              "\n",
              "      <script>\n",
              "        const buttonEl =\n",
              "          document.querySelector('#df-25140229-fa72-499a-b2b9-30abacea978f button.colab-df-convert');\n",
              "        buttonEl.style.display =\n",
              "          google.colab.kernel.accessAllowed ? 'block' : 'none';\n",
              "\n",
              "        async function convertToInteractive(key) {\n",
              "          const element = document.querySelector('#df-25140229-fa72-499a-b2b9-30abacea978f');\n",
              "          const dataTable =\n",
              "            await google.colab.kernel.invokeFunction('convertToInteractive',\n",
              "                                                     [key], {});\n",
              "          if (!dataTable) return;\n",
              "\n",
              "          const docLinkHtml = 'Like what you see? Visit the ' +\n",
              "            '<a target=\"_blank\" href=https://colab.research.google.com/notebooks/data_table.ipynb>data table notebook</a>'\n",
              "            + ' to learn more about interactive tables.';\n",
              "          element.innerHTML = '';\n",
              "          dataTable['output_type'] = 'display_data';\n",
              "          await google.colab.output.renderOutput(dataTable, element);\n",
              "          const docLink = document.createElement('div');\n",
              "          docLink.innerHTML = docLinkHtml;\n",
              "          element.appendChild(docLink);\n",
              "        }\n",
              "      </script>\n",
              "    </div>\n",
              "  </div>\n",
              "  "
            ]
          },
          "metadata": {},
          "execution_count": 11
        }
      ]
    },
    {
      "cell_type": "code",
      "metadata": {
        "id": "RTkEPX81eTI7",
        "outputId": "48356523-6f25-453a-815e-d2764aa72336",
        "colab": {
          "base_uri": "https://localhost:8080/",
          "height": 206
        }
      },
      "source": [
        "df.tail()"
      ],
      "execution_count": 12,
      "outputs": [
        {
          "output_type": "execute_result",
          "data": {
            "text/plain": [
              "            power_usage  gas_usage  water_usage\n",
              "2022-05-27           37         60           21\n",
              "2022-05-28           50         91           86\n",
              "2022-05-29           71         62           81\n",
              "2022-05-30           78          2           87\n",
              "2022-05-31           43         24           87"
            ],
            "text/html": [
              "\n",
              "  <div id=\"df-a4d23949-c7fb-4d50-a49f-76bc7106e53e\">\n",
              "    <div class=\"colab-df-container\">\n",
              "      <div>\n",
              "<style scoped>\n",
              "    .dataframe tbody tr th:only-of-type {\n",
              "        vertical-align: middle;\n",
              "    }\n",
              "\n",
              "    .dataframe tbody tr th {\n",
              "        vertical-align: top;\n",
              "    }\n",
              "\n",
              "    .dataframe thead th {\n",
              "        text-align: right;\n",
              "    }\n",
              "</style>\n",
              "<table border=\"1\" class=\"dataframe\">\n",
              "  <thead>\n",
              "    <tr style=\"text-align: right;\">\n",
              "      <th></th>\n",
              "      <th>power_usage</th>\n",
              "      <th>gas_usage</th>\n",
              "      <th>water_usage</th>\n",
              "    </tr>\n",
              "  </thead>\n",
              "  <tbody>\n",
              "    <tr>\n",
              "      <th>2022-05-27</th>\n",
              "      <td>37</td>\n",
              "      <td>60</td>\n",
              "      <td>21</td>\n",
              "    </tr>\n",
              "    <tr>\n",
              "      <th>2022-05-28</th>\n",
              "      <td>50</td>\n",
              "      <td>91</td>\n",
              "      <td>86</td>\n",
              "    </tr>\n",
              "    <tr>\n",
              "      <th>2022-05-29</th>\n",
              "      <td>71</td>\n",
              "      <td>62</td>\n",
              "      <td>81</td>\n",
              "    </tr>\n",
              "    <tr>\n",
              "      <th>2022-05-30</th>\n",
              "      <td>78</td>\n",
              "      <td>2</td>\n",
              "      <td>87</td>\n",
              "    </tr>\n",
              "    <tr>\n",
              "      <th>2022-05-31</th>\n",
              "      <td>43</td>\n",
              "      <td>24</td>\n",
              "      <td>87</td>\n",
              "    </tr>\n",
              "  </tbody>\n",
              "</table>\n",
              "</div>\n",
              "      <button class=\"colab-df-convert\" onclick=\"convertToInteractive('df-a4d23949-c7fb-4d50-a49f-76bc7106e53e')\"\n",
              "              title=\"Convert this dataframe to an interactive table.\"\n",
              "              style=\"display:none;\">\n",
              "        \n",
              "  <svg xmlns=\"http://www.w3.org/2000/svg\" height=\"24px\"viewBox=\"0 0 24 24\"\n",
              "       width=\"24px\">\n",
              "    <path d=\"M0 0h24v24H0V0z\" fill=\"none\"/>\n",
              "    <path d=\"M18.56 5.44l.94 2.06.94-2.06 2.06-.94-2.06-.94-.94-2.06-.94 2.06-2.06.94zm-11 1L8.5 8.5l.94-2.06 2.06-.94-2.06-.94L8.5 2.5l-.94 2.06-2.06.94zm10 10l.94 2.06.94-2.06 2.06-.94-2.06-.94-.94-2.06-.94 2.06-2.06.94z\"/><path d=\"M17.41 7.96l-1.37-1.37c-.4-.4-.92-.59-1.43-.59-.52 0-1.04.2-1.43.59L10.3 9.45l-7.72 7.72c-.78.78-.78 2.05 0 2.83L4 21.41c.39.39.9.59 1.41.59.51 0 1.02-.2 1.41-.59l7.78-7.78 2.81-2.81c.8-.78.8-2.07 0-2.86zM5.41 20L4 18.59l7.72-7.72 1.47 1.35L5.41 20z\"/>\n",
              "  </svg>\n",
              "      </button>\n",
              "      \n",
              "  <style>\n",
              "    .colab-df-container {\n",
              "      display:flex;\n",
              "      flex-wrap:wrap;\n",
              "      gap: 12px;\n",
              "    }\n",
              "\n",
              "    .colab-df-convert {\n",
              "      background-color: #E8F0FE;\n",
              "      border: none;\n",
              "      border-radius: 50%;\n",
              "      cursor: pointer;\n",
              "      display: none;\n",
              "      fill: #1967D2;\n",
              "      height: 32px;\n",
              "      padding: 0 0 0 0;\n",
              "      width: 32px;\n",
              "    }\n",
              "\n",
              "    .colab-df-convert:hover {\n",
              "      background-color: #E2EBFA;\n",
              "      box-shadow: 0px 1px 2px rgba(60, 64, 67, 0.3), 0px 1px 3px 1px rgba(60, 64, 67, 0.15);\n",
              "      fill: #174EA6;\n",
              "    }\n",
              "\n",
              "    [theme=dark] .colab-df-convert {\n",
              "      background-color: #3B4455;\n",
              "      fill: #D2E3FC;\n",
              "    }\n",
              "\n",
              "    [theme=dark] .colab-df-convert:hover {\n",
              "      background-color: #434B5C;\n",
              "      box-shadow: 0px 1px 3px 1px rgba(0, 0, 0, 0.15);\n",
              "      filter: drop-shadow(0px 1px 2px rgba(0, 0, 0, 0.3));\n",
              "      fill: #FFFFFF;\n",
              "    }\n",
              "  </style>\n",
              "\n",
              "      <script>\n",
              "        const buttonEl =\n",
              "          document.querySelector('#df-a4d23949-c7fb-4d50-a49f-76bc7106e53e button.colab-df-convert');\n",
              "        buttonEl.style.display =\n",
              "          google.colab.kernel.accessAllowed ? 'block' : 'none';\n",
              "\n",
              "        async function convertToInteractive(key) {\n",
              "          const element = document.querySelector('#df-a4d23949-c7fb-4d50-a49f-76bc7106e53e');\n",
              "          const dataTable =\n",
              "            await google.colab.kernel.invokeFunction('convertToInteractive',\n",
              "                                                     [key], {});\n",
              "          if (!dataTable) return;\n",
              "\n",
              "          const docLinkHtml = 'Like what you see? Visit the ' +\n",
              "            '<a target=\"_blank\" href=https://colab.research.google.com/notebooks/data_table.ipynb>data table notebook</a>'\n",
              "            + ' to learn more about interactive tables.';\n",
              "          element.innerHTML = '';\n",
              "          dataTable['output_type'] = 'display_data';\n",
              "          await google.colab.output.renderOutput(dataTable, element);\n",
              "          const docLink = document.createElement('div');\n",
              "          docLink.innerHTML = docLinkHtml;\n",
              "          element.appendChild(docLink);\n",
              "        }\n",
              "      </script>\n",
              "    </div>\n",
              "  </div>\n",
              "  "
            ]
          },
          "metadata": {},
          "execution_count": 12
        }
      ]
    },
    {
      "cell_type": "code",
      "metadata": {
        "id": "k-Qlt7OakNFD",
        "outputId": "d9e732ba-7d27-43c5-985c-93a7853eadf9",
        "colab": {
          "base_uri": "https://localhost:8080/",
          "height": 1000
        }
      },
      "source": [
        "df"
      ],
      "execution_count": 13,
      "outputs": [
        {
          "output_type": "execute_result",
          "data": {
            "text/plain": [
              "            power_usage  gas_usage  water_usage\n",
              "2022-05-01           82         87           82\n",
              "2022-05-02           82         87           85\n",
              "2022-05-03           59         26            7\n",
              "2022-05-04           88         51           58\n",
              "2022-05-05           61         37           48\n",
              "2022-05-06           80         30           87\n",
              "2022-05-07           47         17           97\n",
              "2022-05-08           69         35            5\n",
              "2022-05-09           49          6           67\n",
              "2022-05-10           92         42           45\n",
              "2022-05-11           72         14           92\n",
              "2022-05-12           84         11           69\n",
              "2022-05-13           92         71           36\n",
              "2022-05-14           74         64           14\n",
              "2022-05-15           12         93           79\n",
              "2022-05-16           15         99           40\n",
              "2022-05-17           82         77           77\n",
              "2022-05-18           69         94           31\n",
              "2022-05-19           52         49           84\n",
              "2022-05-20           14         44           79\n",
              "2022-05-21           97         76           37\n",
              "2022-05-22           76         47           37\n",
              "2022-05-23            7         40           67\n",
              "2022-05-24           95         95           60\n",
              "2022-05-25           50         66           44\n",
              "2022-05-26           13         26           81\n",
              "2022-05-27           37         60           21\n",
              "2022-05-28           50         91           86\n",
              "2022-05-29           71         62           81\n",
              "2022-05-30           78          2           87\n",
              "2022-05-31           43         24           87"
            ],
            "text/html": [
              "\n",
              "  <div id=\"df-039aa50c-7c1b-4f98-bfa5-92a4e80e331b\">\n",
              "    <div class=\"colab-df-container\">\n",
              "      <div>\n",
              "<style scoped>\n",
              "    .dataframe tbody tr th:only-of-type {\n",
              "        vertical-align: middle;\n",
              "    }\n",
              "\n",
              "    .dataframe tbody tr th {\n",
              "        vertical-align: top;\n",
              "    }\n",
              "\n",
              "    .dataframe thead th {\n",
              "        text-align: right;\n",
              "    }\n",
              "</style>\n",
              "<table border=\"1\" class=\"dataframe\">\n",
              "  <thead>\n",
              "    <tr style=\"text-align: right;\">\n",
              "      <th></th>\n",
              "      <th>power_usage</th>\n",
              "      <th>gas_usage</th>\n",
              "      <th>water_usage</th>\n",
              "    </tr>\n",
              "  </thead>\n",
              "  <tbody>\n",
              "    <tr>\n",
              "      <th>2022-05-01</th>\n",
              "      <td>82</td>\n",
              "      <td>87</td>\n",
              "      <td>82</td>\n",
              "    </tr>\n",
              "    <tr>\n",
              "      <th>2022-05-02</th>\n",
              "      <td>82</td>\n",
              "      <td>87</td>\n",
              "      <td>85</td>\n",
              "    </tr>\n",
              "    <tr>\n",
              "      <th>2022-05-03</th>\n",
              "      <td>59</td>\n",
              "      <td>26</td>\n",
              "      <td>7</td>\n",
              "    </tr>\n",
              "    <tr>\n",
              "      <th>2022-05-04</th>\n",
              "      <td>88</td>\n",
              "      <td>51</td>\n",
              "      <td>58</td>\n",
              "    </tr>\n",
              "    <tr>\n",
              "      <th>2022-05-05</th>\n",
              "      <td>61</td>\n",
              "      <td>37</td>\n",
              "      <td>48</td>\n",
              "    </tr>\n",
              "    <tr>\n",
              "      <th>2022-05-06</th>\n",
              "      <td>80</td>\n",
              "      <td>30</td>\n",
              "      <td>87</td>\n",
              "    </tr>\n",
              "    <tr>\n",
              "      <th>2022-05-07</th>\n",
              "      <td>47</td>\n",
              "      <td>17</td>\n",
              "      <td>97</td>\n",
              "    </tr>\n",
              "    <tr>\n",
              "      <th>2022-05-08</th>\n",
              "      <td>69</td>\n",
              "      <td>35</td>\n",
              "      <td>5</td>\n",
              "    </tr>\n",
              "    <tr>\n",
              "      <th>2022-05-09</th>\n",
              "      <td>49</td>\n",
              "      <td>6</td>\n",
              "      <td>67</td>\n",
              "    </tr>\n",
              "    <tr>\n",
              "      <th>2022-05-10</th>\n",
              "      <td>92</td>\n",
              "      <td>42</td>\n",
              "      <td>45</td>\n",
              "    </tr>\n",
              "    <tr>\n",
              "      <th>2022-05-11</th>\n",
              "      <td>72</td>\n",
              "      <td>14</td>\n",
              "      <td>92</td>\n",
              "    </tr>\n",
              "    <tr>\n",
              "      <th>2022-05-12</th>\n",
              "      <td>84</td>\n",
              "      <td>11</td>\n",
              "      <td>69</td>\n",
              "    </tr>\n",
              "    <tr>\n",
              "      <th>2022-05-13</th>\n",
              "      <td>92</td>\n",
              "      <td>71</td>\n",
              "      <td>36</td>\n",
              "    </tr>\n",
              "    <tr>\n",
              "      <th>2022-05-14</th>\n",
              "      <td>74</td>\n",
              "      <td>64</td>\n",
              "      <td>14</td>\n",
              "    </tr>\n",
              "    <tr>\n",
              "      <th>2022-05-15</th>\n",
              "      <td>12</td>\n",
              "      <td>93</td>\n",
              "      <td>79</td>\n",
              "    </tr>\n",
              "    <tr>\n",
              "      <th>2022-05-16</th>\n",
              "      <td>15</td>\n",
              "      <td>99</td>\n",
              "      <td>40</td>\n",
              "    </tr>\n",
              "    <tr>\n",
              "      <th>2022-05-17</th>\n",
              "      <td>82</td>\n",
              "      <td>77</td>\n",
              "      <td>77</td>\n",
              "    </tr>\n",
              "    <tr>\n",
              "      <th>2022-05-18</th>\n",
              "      <td>69</td>\n",
              "      <td>94</td>\n",
              "      <td>31</td>\n",
              "    </tr>\n",
              "    <tr>\n",
              "      <th>2022-05-19</th>\n",
              "      <td>52</td>\n",
              "      <td>49</td>\n",
              "      <td>84</td>\n",
              "    </tr>\n",
              "    <tr>\n",
              "      <th>2022-05-20</th>\n",
              "      <td>14</td>\n",
              "      <td>44</td>\n",
              "      <td>79</td>\n",
              "    </tr>\n",
              "    <tr>\n",
              "      <th>2022-05-21</th>\n",
              "      <td>97</td>\n",
              "      <td>76</td>\n",
              "      <td>37</td>\n",
              "    </tr>\n",
              "    <tr>\n",
              "      <th>2022-05-22</th>\n",
              "      <td>76</td>\n",
              "      <td>47</td>\n",
              "      <td>37</td>\n",
              "    </tr>\n",
              "    <tr>\n",
              "      <th>2022-05-23</th>\n",
              "      <td>7</td>\n",
              "      <td>40</td>\n",
              "      <td>67</td>\n",
              "    </tr>\n",
              "    <tr>\n",
              "      <th>2022-05-24</th>\n",
              "      <td>95</td>\n",
              "      <td>95</td>\n",
              "      <td>60</td>\n",
              "    </tr>\n",
              "    <tr>\n",
              "      <th>2022-05-25</th>\n",
              "      <td>50</td>\n",
              "      <td>66</td>\n",
              "      <td>44</td>\n",
              "    </tr>\n",
              "    <tr>\n",
              "      <th>2022-05-26</th>\n",
              "      <td>13</td>\n",
              "      <td>26</td>\n",
              "      <td>81</td>\n",
              "    </tr>\n",
              "    <tr>\n",
              "      <th>2022-05-27</th>\n",
              "      <td>37</td>\n",
              "      <td>60</td>\n",
              "      <td>21</td>\n",
              "    </tr>\n",
              "    <tr>\n",
              "      <th>2022-05-28</th>\n",
              "      <td>50</td>\n",
              "      <td>91</td>\n",
              "      <td>86</td>\n",
              "    </tr>\n",
              "    <tr>\n",
              "      <th>2022-05-29</th>\n",
              "      <td>71</td>\n",
              "      <td>62</td>\n",
              "      <td>81</td>\n",
              "    </tr>\n",
              "    <tr>\n",
              "      <th>2022-05-30</th>\n",
              "      <td>78</td>\n",
              "      <td>2</td>\n",
              "      <td>87</td>\n",
              "    </tr>\n",
              "    <tr>\n",
              "      <th>2022-05-31</th>\n",
              "      <td>43</td>\n",
              "      <td>24</td>\n",
              "      <td>87</td>\n",
              "    </tr>\n",
              "  </tbody>\n",
              "</table>\n",
              "</div>\n",
              "      <button class=\"colab-df-convert\" onclick=\"convertToInteractive('df-039aa50c-7c1b-4f98-bfa5-92a4e80e331b')\"\n",
              "              title=\"Convert this dataframe to an interactive table.\"\n",
              "              style=\"display:none;\">\n",
              "        \n",
              "  <svg xmlns=\"http://www.w3.org/2000/svg\" height=\"24px\"viewBox=\"0 0 24 24\"\n",
              "       width=\"24px\">\n",
              "    <path d=\"M0 0h24v24H0V0z\" fill=\"none\"/>\n",
              "    <path d=\"M18.56 5.44l.94 2.06.94-2.06 2.06-.94-2.06-.94-.94-2.06-.94 2.06-2.06.94zm-11 1L8.5 8.5l.94-2.06 2.06-.94-2.06-.94L8.5 2.5l-.94 2.06-2.06.94zm10 10l.94 2.06.94-2.06 2.06-.94-2.06-.94-.94-2.06-.94 2.06-2.06.94z\"/><path d=\"M17.41 7.96l-1.37-1.37c-.4-.4-.92-.59-1.43-.59-.52 0-1.04.2-1.43.59L10.3 9.45l-7.72 7.72c-.78.78-.78 2.05 0 2.83L4 21.41c.39.39.9.59 1.41.59.51 0 1.02-.2 1.41-.59l7.78-7.78 2.81-2.81c.8-.78.8-2.07 0-2.86zM5.41 20L4 18.59l7.72-7.72 1.47 1.35L5.41 20z\"/>\n",
              "  </svg>\n",
              "      </button>\n",
              "      \n",
              "  <style>\n",
              "    .colab-df-container {\n",
              "      display:flex;\n",
              "      flex-wrap:wrap;\n",
              "      gap: 12px;\n",
              "    }\n",
              "\n",
              "    .colab-df-convert {\n",
              "      background-color: #E8F0FE;\n",
              "      border: none;\n",
              "      border-radius: 50%;\n",
              "      cursor: pointer;\n",
              "      display: none;\n",
              "      fill: #1967D2;\n",
              "      height: 32px;\n",
              "      padding: 0 0 0 0;\n",
              "      width: 32px;\n",
              "    }\n",
              "\n",
              "    .colab-df-convert:hover {\n",
              "      background-color: #E2EBFA;\n",
              "      box-shadow: 0px 1px 2px rgba(60, 64, 67, 0.3), 0px 1px 3px 1px rgba(60, 64, 67, 0.15);\n",
              "      fill: #174EA6;\n",
              "    }\n",
              "\n",
              "    [theme=dark] .colab-df-convert {\n",
              "      background-color: #3B4455;\n",
              "      fill: #D2E3FC;\n",
              "    }\n",
              "\n",
              "    [theme=dark] .colab-df-convert:hover {\n",
              "      background-color: #434B5C;\n",
              "      box-shadow: 0px 1px 3px 1px rgba(0, 0, 0, 0.15);\n",
              "      filter: drop-shadow(0px 1px 2px rgba(0, 0, 0, 0.3));\n",
              "      fill: #FFFFFF;\n",
              "    }\n",
              "  </style>\n",
              "\n",
              "      <script>\n",
              "        const buttonEl =\n",
              "          document.querySelector('#df-039aa50c-7c1b-4f98-bfa5-92a4e80e331b button.colab-df-convert');\n",
              "        buttonEl.style.display =\n",
              "          google.colab.kernel.accessAllowed ? 'block' : 'none';\n",
              "\n",
              "        async function convertToInteractive(key) {\n",
              "          const element = document.querySelector('#df-039aa50c-7c1b-4f98-bfa5-92a4e80e331b');\n",
              "          const dataTable =\n",
              "            await google.colab.kernel.invokeFunction('convertToInteractive',\n",
              "                                                     [key], {});\n",
              "          if (!dataTable) return;\n",
              "\n",
              "          const docLinkHtml = 'Like what you see? Visit the ' +\n",
              "            '<a target=\"_blank\" href=https://colab.research.google.com/notebooks/data_table.ipynb>data table notebook</a>'\n",
              "            + ' to learn more about interactive tables.';\n",
              "          element.innerHTML = '';\n",
              "          dataTable['output_type'] = 'display_data';\n",
              "          await google.colab.output.renderOutput(dataTable, element);\n",
              "          const docLink = document.createElement('div');\n",
              "          docLink.innerHTML = docLinkHtml;\n",
              "          element.appendChild(docLink);\n",
              "        }\n",
              "      </script>\n",
              "    </div>\n",
              "  </div>\n",
              "  "
            ]
          },
          "metadata": {},
          "execution_count": 13
        }
      ]
    },
    {
      "cell_type": "markdown",
      "metadata": {
        "id": "cAAb5VXhVRv_"
      },
      "source": [
        "인덱스 (index), 열 (column) 그리고 numpy 데이터에 대한 세부 정보를 봅니다."
      ]
    },
    {
      "cell_type": "code",
      "metadata": {
        "id": "z2kmyBlZVVIv",
        "outputId": "48c38f0b-bbd3-495e-ee41-5c1ad013ad7a",
        "colab": {
          "base_uri": "https://localhost:8080/"
        }
      },
      "source": [
        "df.index"
      ],
      "execution_count": 14,
      "outputs": [
        {
          "output_type": "execute_result",
          "data": {
            "text/plain": [
              "DatetimeIndex(['2022-05-01', '2022-05-02', '2022-05-03', '2022-05-04',\n",
              "               '2022-05-05', '2022-05-06', '2022-05-07', '2022-05-08',\n",
              "               '2022-05-09', '2022-05-10', '2022-05-11', '2022-05-12',\n",
              "               '2022-05-13', '2022-05-14', '2022-05-15', '2022-05-16',\n",
              "               '2022-05-17', '2022-05-18', '2022-05-19', '2022-05-20',\n",
              "               '2022-05-21', '2022-05-22', '2022-05-23', '2022-05-24',\n",
              "               '2022-05-25', '2022-05-26', '2022-05-27', '2022-05-28',\n",
              "               '2022-05-29', '2022-05-30', '2022-05-31'],\n",
              "              dtype='datetime64[ns]', freq='D')"
            ]
          },
          "metadata": {},
          "execution_count": 14
        }
      ]
    },
    {
      "cell_type": "code",
      "metadata": {
        "id": "1hxcdAkWVVOi",
        "outputId": "a4235e59-cba9-49dd-f74e-8c42c13da48f",
        "colab": {
          "base_uri": "https://localhost:8080/"
        }
      },
      "source": [
        "df.columns"
      ],
      "execution_count": 15,
      "outputs": [
        {
          "output_type": "execute_result",
          "data": {
            "text/plain": [
              "Index(['power_usage', 'gas_usage', 'water_usage'], dtype='object')"
            ]
          },
          "metadata": {},
          "execution_count": 15
        }
      ]
    },
    {
      "cell_type": "code",
      "metadata": {
        "id": "z_KrOy5CVVUn",
        "outputId": "c716f0a9-0637-4cbf-fd5e-41af3a680a7d",
        "colab": {
          "base_uri": "https://localhost:8080/"
        }
      },
      "source": [
        "df.values"
      ],
      "execution_count": 16,
      "outputs": [
        {
          "output_type": "execute_result",
          "data": {
            "text/plain": [
              "array([[82, 87, 82],\n",
              "       [82, 87, 85],\n",
              "       [59, 26,  7],\n",
              "       [88, 51, 58],\n",
              "       [61, 37, 48],\n",
              "       [80, 30, 87],\n",
              "       [47, 17, 97],\n",
              "       [69, 35,  5],\n",
              "       [49,  6, 67],\n",
              "       [92, 42, 45],\n",
              "       [72, 14, 92],\n",
              "       [84, 11, 69],\n",
              "       [92, 71, 36],\n",
              "       [74, 64, 14],\n",
              "       [12, 93, 79],\n",
              "       [15, 99, 40],\n",
              "       [82, 77, 77],\n",
              "       [69, 94, 31],\n",
              "       [52, 49, 84],\n",
              "       [14, 44, 79],\n",
              "       [97, 76, 37],\n",
              "       [76, 47, 37],\n",
              "       [ 7, 40, 67],\n",
              "       [95, 95, 60],\n",
              "       [50, 66, 44],\n",
              "       [13, 26, 81],\n",
              "       [37, 60, 21],\n",
              "       [50, 91, 86],\n",
              "       [71, 62, 81],\n",
              "       [78,  2, 87],\n",
              "       [43, 24, 87]])"
            ]
          },
          "metadata": {},
          "execution_count": 16
        }
      ]
    },
    {
      "cell_type": "code",
      "metadata": {
        "id": "8V2yxOZVVVi1",
        "outputId": "a62049d1-4090-437a-cc9c-dfef217f9a39",
        "colab": {
          "base_uri": "https://localhost:8080/"
        }
      },
      "source": [
        "df.info()"
      ],
      "execution_count": 17,
      "outputs": [
        {
          "output_type": "stream",
          "name": "stdout",
          "text": [
            "<class 'pandas.core.frame.DataFrame'>\n",
            "DatetimeIndex: 31 entries, 2022-05-01 to 2022-05-31\n",
            "Freq: D\n",
            "Data columns (total 3 columns):\n",
            " #   Column       Non-Null Count  Dtype\n",
            "---  ------       --------------  -----\n",
            " 0   power_usage  31 non-null     int64\n",
            " 1   gas_usage    31 non-null     int64\n",
            " 2   water_usage  31 non-null     int64\n",
            "dtypes: int64(3)\n",
            "memory usage: 992.0 bytes\n"
          ]
        }
      ]
    },
    {
      "cell_type": "code",
      "metadata": {
        "id": "MroNIqRTaJed",
        "outputId": "2c6579cd-9a73-42c2-ac0e-77cb9e89ac3d",
        "colab": {
          "base_uri": "https://localhost:8080/"
        }
      },
      "source": [
        "df.dtypes"
      ],
      "execution_count": 18,
      "outputs": [
        {
          "output_type": "execute_result",
          "data": {
            "text/plain": [
              "power_usage    int64\n",
              "gas_usage      int64\n",
              "water_usage    int64\n",
              "dtype: object"
            ]
          },
          "metadata": {},
          "execution_count": 18
        }
      ]
    },
    {
      "cell_type": "markdown",
      "metadata": {
        "id": "CHVqTFiQerCx"
      },
      "source": [
        "Null 데이터 확인"
      ]
    },
    {
      "cell_type": "code",
      "metadata": {
        "id": "yn6z878HevIx",
        "outputId": "86fe4a3a-1fbe-4e79-b73d-d2bbcbc81719",
        "colab": {
          "base_uri": "https://localhost:8080/"
        }
      },
      "source": [
        "df.isnull().sum()"
      ],
      "execution_count": 19,
      "outputs": [
        {
          "output_type": "execute_result",
          "data": {
            "text/plain": [
              "power_usage    0\n",
              "gas_usage      0\n",
              "water_usage    0\n",
              "dtype: int64"
            ]
          },
          "metadata": {},
          "execution_count": 19
        }
      ]
    },
    {
      "cell_type": "code",
      "metadata": {
        "id": "GY4VKb_8VVb9",
        "outputId": "5df92c43-3dae-4fb3-99cf-b176df801853",
        "colab": {
          "base_uri": "https://localhost:8080/",
          "height": 300
        }
      },
      "source": [
        "df.describe()"
      ],
      "execution_count": 20,
      "outputs": [
        {
          "output_type": "execute_result",
          "data": {
            "text/plain": [
              "       power_usage  gas_usage  water_usage\n",
              "count    31.000000  31.000000    31.000000\n",
              "mean     61.032258  52.354839    60.322581\n",
              "std      26.994424  29.427366    27.070756\n",
              "min       7.000000   2.000000     5.000000\n",
              "25%      48.000000  28.000000    38.500000\n",
              "50%      69.000000  49.000000    67.000000\n",
              "75%      82.000000  76.500000    83.000000\n",
              "max      97.000000  99.000000    97.000000"
            ],
            "text/html": [
              "\n",
              "  <div id=\"df-f54da084-4345-4df6-b5b0-df7f85338ef3\">\n",
              "    <div class=\"colab-df-container\">\n",
              "      <div>\n",
              "<style scoped>\n",
              "    .dataframe tbody tr th:only-of-type {\n",
              "        vertical-align: middle;\n",
              "    }\n",
              "\n",
              "    .dataframe tbody tr th {\n",
              "        vertical-align: top;\n",
              "    }\n",
              "\n",
              "    .dataframe thead th {\n",
              "        text-align: right;\n",
              "    }\n",
              "</style>\n",
              "<table border=\"1\" class=\"dataframe\">\n",
              "  <thead>\n",
              "    <tr style=\"text-align: right;\">\n",
              "      <th></th>\n",
              "      <th>power_usage</th>\n",
              "      <th>gas_usage</th>\n",
              "      <th>water_usage</th>\n",
              "    </tr>\n",
              "  </thead>\n",
              "  <tbody>\n",
              "    <tr>\n",
              "      <th>count</th>\n",
              "      <td>31.000000</td>\n",
              "      <td>31.000000</td>\n",
              "      <td>31.000000</td>\n",
              "    </tr>\n",
              "    <tr>\n",
              "      <th>mean</th>\n",
              "      <td>61.032258</td>\n",
              "      <td>52.354839</td>\n",
              "      <td>60.322581</td>\n",
              "    </tr>\n",
              "    <tr>\n",
              "      <th>std</th>\n",
              "      <td>26.994424</td>\n",
              "      <td>29.427366</td>\n",
              "      <td>27.070756</td>\n",
              "    </tr>\n",
              "    <tr>\n",
              "      <th>min</th>\n",
              "      <td>7.000000</td>\n",
              "      <td>2.000000</td>\n",
              "      <td>5.000000</td>\n",
              "    </tr>\n",
              "    <tr>\n",
              "      <th>25%</th>\n",
              "      <td>48.000000</td>\n",
              "      <td>28.000000</td>\n",
              "      <td>38.500000</td>\n",
              "    </tr>\n",
              "    <tr>\n",
              "      <th>50%</th>\n",
              "      <td>69.000000</td>\n",
              "      <td>49.000000</td>\n",
              "      <td>67.000000</td>\n",
              "    </tr>\n",
              "    <tr>\n",
              "      <th>75%</th>\n",
              "      <td>82.000000</td>\n",
              "      <td>76.500000</td>\n",
              "      <td>83.000000</td>\n",
              "    </tr>\n",
              "    <tr>\n",
              "      <th>max</th>\n",
              "      <td>97.000000</td>\n",
              "      <td>99.000000</td>\n",
              "      <td>97.000000</td>\n",
              "    </tr>\n",
              "  </tbody>\n",
              "</table>\n",
              "</div>\n",
              "      <button class=\"colab-df-convert\" onclick=\"convertToInteractive('df-f54da084-4345-4df6-b5b0-df7f85338ef3')\"\n",
              "              title=\"Convert this dataframe to an interactive table.\"\n",
              "              style=\"display:none;\">\n",
              "        \n",
              "  <svg xmlns=\"http://www.w3.org/2000/svg\" height=\"24px\"viewBox=\"0 0 24 24\"\n",
              "       width=\"24px\">\n",
              "    <path d=\"M0 0h24v24H0V0z\" fill=\"none\"/>\n",
              "    <path d=\"M18.56 5.44l.94 2.06.94-2.06 2.06-.94-2.06-.94-.94-2.06-.94 2.06-2.06.94zm-11 1L8.5 8.5l.94-2.06 2.06-.94-2.06-.94L8.5 2.5l-.94 2.06-2.06.94zm10 10l.94 2.06.94-2.06 2.06-.94-2.06-.94-.94-2.06-.94 2.06-2.06.94z\"/><path d=\"M17.41 7.96l-1.37-1.37c-.4-.4-.92-.59-1.43-.59-.52 0-1.04.2-1.43.59L10.3 9.45l-7.72 7.72c-.78.78-.78 2.05 0 2.83L4 21.41c.39.39.9.59 1.41.59.51 0 1.02-.2 1.41-.59l7.78-7.78 2.81-2.81c.8-.78.8-2.07 0-2.86zM5.41 20L4 18.59l7.72-7.72 1.47 1.35L5.41 20z\"/>\n",
              "  </svg>\n",
              "      </button>\n",
              "      \n",
              "  <style>\n",
              "    .colab-df-container {\n",
              "      display:flex;\n",
              "      flex-wrap:wrap;\n",
              "      gap: 12px;\n",
              "    }\n",
              "\n",
              "    .colab-df-convert {\n",
              "      background-color: #E8F0FE;\n",
              "      border: none;\n",
              "      border-radius: 50%;\n",
              "      cursor: pointer;\n",
              "      display: none;\n",
              "      fill: #1967D2;\n",
              "      height: 32px;\n",
              "      padding: 0 0 0 0;\n",
              "      width: 32px;\n",
              "    }\n",
              "\n",
              "    .colab-df-convert:hover {\n",
              "      background-color: #E2EBFA;\n",
              "      box-shadow: 0px 1px 2px rgba(60, 64, 67, 0.3), 0px 1px 3px 1px rgba(60, 64, 67, 0.15);\n",
              "      fill: #174EA6;\n",
              "    }\n",
              "\n",
              "    [theme=dark] .colab-df-convert {\n",
              "      background-color: #3B4455;\n",
              "      fill: #D2E3FC;\n",
              "    }\n",
              "\n",
              "    [theme=dark] .colab-df-convert:hover {\n",
              "      background-color: #434B5C;\n",
              "      box-shadow: 0px 1px 3px 1px rgba(0, 0, 0, 0.15);\n",
              "      filter: drop-shadow(0px 1px 2px rgba(0, 0, 0, 0.3));\n",
              "      fill: #FFFFFF;\n",
              "    }\n",
              "  </style>\n",
              "\n",
              "      <script>\n",
              "        const buttonEl =\n",
              "          document.querySelector('#df-f54da084-4345-4df6-b5b0-df7f85338ef3 button.colab-df-convert');\n",
              "        buttonEl.style.display =\n",
              "          google.colab.kernel.accessAllowed ? 'block' : 'none';\n",
              "\n",
              "        async function convertToInteractive(key) {\n",
              "          const element = document.querySelector('#df-f54da084-4345-4df6-b5b0-df7f85338ef3');\n",
              "          const dataTable =\n",
              "            await google.colab.kernel.invokeFunction('convertToInteractive',\n",
              "                                                     [key], {});\n",
              "          if (!dataTable) return;\n",
              "\n",
              "          const docLinkHtml = 'Like what you see? Visit the ' +\n",
              "            '<a target=\"_blank\" href=https://colab.research.google.com/notebooks/data_table.ipynb>data table notebook</a>'\n",
              "            + ' to learn more about interactive tables.';\n",
              "          element.innerHTML = '';\n",
              "          dataTable['output_type'] = 'display_data';\n",
              "          await google.colab.output.renderOutput(dataTable, element);\n",
              "          const docLink = document.createElement('div');\n",
              "          docLink.innerHTML = docLinkHtml;\n",
              "          element.appendChild(docLink);\n",
              "        }\n",
              "      </script>\n",
              "    </div>\n",
              "  </div>\n",
              "  "
            ]
          },
          "metadata": {},
          "execution_count": 20
        }
      ]
    },
    {
      "cell_type": "code",
      "metadata": {
        "id": "Tk2Fnb_3VVpQ",
        "outputId": "a80c355d-0621-482f-ffe9-f44da58a2857",
        "colab": {
          "base_uri": "https://localhost:8080/",
          "height": 143
        }
      },
      "source": [
        "df.describe().transpose()"
      ],
      "execution_count": 21,
      "outputs": [
        {
          "output_type": "execute_result",
          "data": {
            "text/plain": [
              "             count       mean        std  min   25%   50%   75%   max\n",
              "power_usage   31.0  61.032258  26.994424  7.0  48.0  69.0  82.0  97.0\n",
              "gas_usage     31.0  52.354839  29.427366  2.0  28.0  49.0  76.5  99.0\n",
              "water_usage   31.0  60.322581  27.070756  5.0  38.5  67.0  83.0  97.0"
            ],
            "text/html": [
              "\n",
              "  <div id=\"df-0f3d6ac2-bcb9-49d4-acfd-7d8515bf8d37\">\n",
              "    <div class=\"colab-df-container\">\n",
              "      <div>\n",
              "<style scoped>\n",
              "    .dataframe tbody tr th:only-of-type {\n",
              "        vertical-align: middle;\n",
              "    }\n",
              "\n",
              "    .dataframe tbody tr th {\n",
              "        vertical-align: top;\n",
              "    }\n",
              "\n",
              "    .dataframe thead th {\n",
              "        text-align: right;\n",
              "    }\n",
              "</style>\n",
              "<table border=\"1\" class=\"dataframe\">\n",
              "  <thead>\n",
              "    <tr style=\"text-align: right;\">\n",
              "      <th></th>\n",
              "      <th>count</th>\n",
              "      <th>mean</th>\n",
              "      <th>std</th>\n",
              "      <th>min</th>\n",
              "      <th>25%</th>\n",
              "      <th>50%</th>\n",
              "      <th>75%</th>\n",
              "      <th>max</th>\n",
              "    </tr>\n",
              "  </thead>\n",
              "  <tbody>\n",
              "    <tr>\n",
              "      <th>power_usage</th>\n",
              "      <td>31.0</td>\n",
              "      <td>61.032258</td>\n",
              "      <td>26.994424</td>\n",
              "      <td>7.0</td>\n",
              "      <td>48.0</td>\n",
              "      <td>69.0</td>\n",
              "      <td>82.0</td>\n",
              "      <td>97.0</td>\n",
              "    </tr>\n",
              "    <tr>\n",
              "      <th>gas_usage</th>\n",
              "      <td>31.0</td>\n",
              "      <td>52.354839</td>\n",
              "      <td>29.427366</td>\n",
              "      <td>2.0</td>\n",
              "      <td>28.0</td>\n",
              "      <td>49.0</td>\n",
              "      <td>76.5</td>\n",
              "      <td>99.0</td>\n",
              "    </tr>\n",
              "    <tr>\n",
              "      <th>water_usage</th>\n",
              "      <td>31.0</td>\n",
              "      <td>60.322581</td>\n",
              "      <td>27.070756</td>\n",
              "      <td>5.0</td>\n",
              "      <td>38.5</td>\n",
              "      <td>67.0</td>\n",
              "      <td>83.0</td>\n",
              "      <td>97.0</td>\n",
              "    </tr>\n",
              "  </tbody>\n",
              "</table>\n",
              "</div>\n",
              "      <button class=\"colab-df-convert\" onclick=\"convertToInteractive('df-0f3d6ac2-bcb9-49d4-acfd-7d8515bf8d37')\"\n",
              "              title=\"Convert this dataframe to an interactive table.\"\n",
              "              style=\"display:none;\">\n",
              "        \n",
              "  <svg xmlns=\"http://www.w3.org/2000/svg\" height=\"24px\"viewBox=\"0 0 24 24\"\n",
              "       width=\"24px\">\n",
              "    <path d=\"M0 0h24v24H0V0z\" fill=\"none\"/>\n",
              "    <path d=\"M18.56 5.44l.94 2.06.94-2.06 2.06-.94-2.06-.94-.94-2.06-.94 2.06-2.06.94zm-11 1L8.5 8.5l.94-2.06 2.06-.94-2.06-.94L8.5 2.5l-.94 2.06-2.06.94zm10 10l.94 2.06.94-2.06 2.06-.94-2.06-.94-.94-2.06-.94 2.06-2.06.94z\"/><path d=\"M17.41 7.96l-1.37-1.37c-.4-.4-.92-.59-1.43-.59-.52 0-1.04.2-1.43.59L10.3 9.45l-7.72 7.72c-.78.78-.78 2.05 0 2.83L4 21.41c.39.39.9.59 1.41.59.51 0 1.02-.2 1.41-.59l7.78-7.78 2.81-2.81c.8-.78.8-2.07 0-2.86zM5.41 20L4 18.59l7.72-7.72 1.47 1.35L5.41 20z\"/>\n",
              "  </svg>\n",
              "      </button>\n",
              "      \n",
              "  <style>\n",
              "    .colab-df-container {\n",
              "      display:flex;\n",
              "      flex-wrap:wrap;\n",
              "      gap: 12px;\n",
              "    }\n",
              "\n",
              "    .colab-df-convert {\n",
              "      background-color: #E8F0FE;\n",
              "      border: none;\n",
              "      border-radius: 50%;\n",
              "      cursor: pointer;\n",
              "      display: none;\n",
              "      fill: #1967D2;\n",
              "      height: 32px;\n",
              "      padding: 0 0 0 0;\n",
              "      width: 32px;\n",
              "    }\n",
              "\n",
              "    .colab-df-convert:hover {\n",
              "      background-color: #E2EBFA;\n",
              "      box-shadow: 0px 1px 2px rgba(60, 64, 67, 0.3), 0px 1px 3px 1px rgba(60, 64, 67, 0.15);\n",
              "      fill: #174EA6;\n",
              "    }\n",
              "\n",
              "    [theme=dark] .colab-df-convert {\n",
              "      background-color: #3B4455;\n",
              "      fill: #D2E3FC;\n",
              "    }\n",
              "\n",
              "    [theme=dark] .colab-df-convert:hover {\n",
              "      background-color: #434B5C;\n",
              "      box-shadow: 0px 1px 3px 1px rgba(0, 0, 0, 0.15);\n",
              "      filter: drop-shadow(0px 1px 2px rgba(0, 0, 0, 0.3));\n",
              "      fill: #FFFFFF;\n",
              "    }\n",
              "  </style>\n",
              "\n",
              "      <script>\n",
              "        const buttonEl =\n",
              "          document.querySelector('#df-0f3d6ac2-bcb9-49d4-acfd-7d8515bf8d37 button.colab-df-convert');\n",
              "        buttonEl.style.display =\n",
              "          google.colab.kernel.accessAllowed ? 'block' : 'none';\n",
              "\n",
              "        async function convertToInteractive(key) {\n",
              "          const element = document.querySelector('#df-0f3d6ac2-bcb9-49d4-acfd-7d8515bf8d37');\n",
              "          const dataTable =\n",
              "            await google.colab.kernel.invokeFunction('convertToInteractive',\n",
              "                                                     [key], {});\n",
              "          if (!dataTable) return;\n",
              "\n",
              "          const docLinkHtml = 'Like what you see? Visit the ' +\n",
              "            '<a target=\"_blank\" href=https://colab.research.google.com/notebooks/data_table.ipynb>data table notebook</a>'\n",
              "            + ' to learn more about interactive tables.';\n",
              "          element.innerHTML = '';\n",
              "          dataTable['output_type'] = 'display_data';\n",
              "          await google.colab.output.renderOutput(dataTable, element);\n",
              "          const docLink = document.createElement('div');\n",
              "          docLink.innerHTML = docLinkHtml;\n",
              "          element.appendChild(docLink);\n",
              "        }\n",
              "      </script>\n",
              "    </div>\n",
              "  </div>\n",
              "  "
            ]
          },
          "metadata": {},
          "execution_count": 21
        }
      ]
    },
    {
      "cell_type": "markdown",
      "metadata": {
        "id": "uaj_PRn4aRsZ"
      },
      "source": [
        "Column(열) 선택"
      ]
    },
    {
      "cell_type": "code",
      "metadata": {
        "id": "WimBdDbUVVsE",
        "outputId": "08acfea7-cff8-45d4-8e1d-1e42b283d225",
        "colab": {
          "base_uri": "https://localhost:8080/"
        }
      },
      "source": [
        "df['power_usage']"
      ],
      "execution_count": 22,
      "outputs": [
        {
          "output_type": "execute_result",
          "data": {
            "text/plain": [
              "2022-05-01    82\n",
              "2022-05-02    82\n",
              "2022-05-03    59\n",
              "2022-05-04    88\n",
              "2022-05-05    61\n",
              "2022-05-06    80\n",
              "2022-05-07    47\n",
              "2022-05-08    69\n",
              "2022-05-09    49\n",
              "2022-05-10    92\n",
              "2022-05-11    72\n",
              "2022-05-12    84\n",
              "2022-05-13    92\n",
              "2022-05-14    74\n",
              "2022-05-15    12\n",
              "2022-05-16    15\n",
              "2022-05-17    82\n",
              "2022-05-18    69\n",
              "2022-05-19    52\n",
              "2022-05-20    14\n",
              "2022-05-21    97\n",
              "2022-05-22    76\n",
              "2022-05-23     7\n",
              "2022-05-24    95\n",
              "2022-05-25    50\n",
              "2022-05-26    13\n",
              "2022-05-27    37\n",
              "2022-05-28    50\n",
              "2022-05-29    71\n",
              "2022-05-30    78\n",
              "2022-05-31    43\n",
              "Freq: D, Name: power_usage, dtype: int64"
            ]
          },
          "metadata": {},
          "execution_count": 22
        }
      ]
    },
    {
      "cell_type": "code",
      "metadata": {
        "id": "XR4UP1GSVVmR",
        "outputId": "05bd2d6e-889e-4ee9-f794-74b10d111a48",
        "colab": {
          "base_uri": "https://localhost:8080/",
          "height": 1000
        }
      },
      "source": [
        "df[['power_usage', 'gas_usage']]"
      ],
      "execution_count": 23,
      "outputs": [
        {
          "output_type": "execute_result",
          "data": {
            "text/plain": [
              "            power_usage  gas_usage\n",
              "2022-05-01           82         87\n",
              "2022-05-02           82         87\n",
              "2022-05-03           59         26\n",
              "2022-05-04           88         51\n",
              "2022-05-05           61         37\n",
              "2022-05-06           80         30\n",
              "2022-05-07           47         17\n",
              "2022-05-08           69         35\n",
              "2022-05-09           49          6\n",
              "2022-05-10           92         42\n",
              "2022-05-11           72         14\n",
              "2022-05-12           84         11\n",
              "2022-05-13           92         71\n",
              "2022-05-14           74         64\n",
              "2022-05-15           12         93\n",
              "2022-05-16           15         99\n",
              "2022-05-17           82         77\n",
              "2022-05-18           69         94\n",
              "2022-05-19           52         49\n",
              "2022-05-20           14         44\n",
              "2022-05-21           97         76\n",
              "2022-05-22           76         47\n",
              "2022-05-23            7         40\n",
              "2022-05-24           95         95\n",
              "2022-05-25           50         66\n",
              "2022-05-26           13         26\n",
              "2022-05-27           37         60\n",
              "2022-05-28           50         91\n",
              "2022-05-29           71         62\n",
              "2022-05-30           78          2\n",
              "2022-05-31           43         24"
            ],
            "text/html": [
              "\n",
              "  <div id=\"df-090a9473-449d-4c65-824a-92640ae0d643\">\n",
              "    <div class=\"colab-df-container\">\n",
              "      <div>\n",
              "<style scoped>\n",
              "    .dataframe tbody tr th:only-of-type {\n",
              "        vertical-align: middle;\n",
              "    }\n",
              "\n",
              "    .dataframe tbody tr th {\n",
              "        vertical-align: top;\n",
              "    }\n",
              "\n",
              "    .dataframe thead th {\n",
              "        text-align: right;\n",
              "    }\n",
              "</style>\n",
              "<table border=\"1\" class=\"dataframe\">\n",
              "  <thead>\n",
              "    <tr style=\"text-align: right;\">\n",
              "      <th></th>\n",
              "      <th>power_usage</th>\n",
              "      <th>gas_usage</th>\n",
              "    </tr>\n",
              "  </thead>\n",
              "  <tbody>\n",
              "    <tr>\n",
              "      <th>2022-05-01</th>\n",
              "      <td>82</td>\n",
              "      <td>87</td>\n",
              "    </tr>\n",
              "    <tr>\n",
              "      <th>2022-05-02</th>\n",
              "      <td>82</td>\n",
              "      <td>87</td>\n",
              "    </tr>\n",
              "    <tr>\n",
              "      <th>2022-05-03</th>\n",
              "      <td>59</td>\n",
              "      <td>26</td>\n",
              "    </tr>\n",
              "    <tr>\n",
              "      <th>2022-05-04</th>\n",
              "      <td>88</td>\n",
              "      <td>51</td>\n",
              "    </tr>\n",
              "    <tr>\n",
              "      <th>2022-05-05</th>\n",
              "      <td>61</td>\n",
              "      <td>37</td>\n",
              "    </tr>\n",
              "    <tr>\n",
              "      <th>2022-05-06</th>\n",
              "      <td>80</td>\n",
              "      <td>30</td>\n",
              "    </tr>\n",
              "    <tr>\n",
              "      <th>2022-05-07</th>\n",
              "      <td>47</td>\n",
              "      <td>17</td>\n",
              "    </tr>\n",
              "    <tr>\n",
              "      <th>2022-05-08</th>\n",
              "      <td>69</td>\n",
              "      <td>35</td>\n",
              "    </tr>\n",
              "    <tr>\n",
              "      <th>2022-05-09</th>\n",
              "      <td>49</td>\n",
              "      <td>6</td>\n",
              "    </tr>\n",
              "    <tr>\n",
              "      <th>2022-05-10</th>\n",
              "      <td>92</td>\n",
              "      <td>42</td>\n",
              "    </tr>\n",
              "    <tr>\n",
              "      <th>2022-05-11</th>\n",
              "      <td>72</td>\n",
              "      <td>14</td>\n",
              "    </tr>\n",
              "    <tr>\n",
              "      <th>2022-05-12</th>\n",
              "      <td>84</td>\n",
              "      <td>11</td>\n",
              "    </tr>\n",
              "    <tr>\n",
              "      <th>2022-05-13</th>\n",
              "      <td>92</td>\n",
              "      <td>71</td>\n",
              "    </tr>\n",
              "    <tr>\n",
              "      <th>2022-05-14</th>\n",
              "      <td>74</td>\n",
              "      <td>64</td>\n",
              "    </tr>\n",
              "    <tr>\n",
              "      <th>2022-05-15</th>\n",
              "      <td>12</td>\n",
              "      <td>93</td>\n",
              "    </tr>\n",
              "    <tr>\n",
              "      <th>2022-05-16</th>\n",
              "      <td>15</td>\n",
              "      <td>99</td>\n",
              "    </tr>\n",
              "    <tr>\n",
              "      <th>2022-05-17</th>\n",
              "      <td>82</td>\n",
              "      <td>77</td>\n",
              "    </tr>\n",
              "    <tr>\n",
              "      <th>2022-05-18</th>\n",
              "      <td>69</td>\n",
              "      <td>94</td>\n",
              "    </tr>\n",
              "    <tr>\n",
              "      <th>2022-05-19</th>\n",
              "      <td>52</td>\n",
              "      <td>49</td>\n",
              "    </tr>\n",
              "    <tr>\n",
              "      <th>2022-05-20</th>\n",
              "      <td>14</td>\n",
              "      <td>44</td>\n",
              "    </tr>\n",
              "    <tr>\n",
              "      <th>2022-05-21</th>\n",
              "      <td>97</td>\n",
              "      <td>76</td>\n",
              "    </tr>\n",
              "    <tr>\n",
              "      <th>2022-05-22</th>\n",
              "      <td>76</td>\n",
              "      <td>47</td>\n",
              "    </tr>\n",
              "    <tr>\n",
              "      <th>2022-05-23</th>\n",
              "      <td>7</td>\n",
              "      <td>40</td>\n",
              "    </tr>\n",
              "    <tr>\n",
              "      <th>2022-05-24</th>\n",
              "      <td>95</td>\n",
              "      <td>95</td>\n",
              "    </tr>\n",
              "    <tr>\n",
              "      <th>2022-05-25</th>\n",
              "      <td>50</td>\n",
              "      <td>66</td>\n",
              "    </tr>\n",
              "    <tr>\n",
              "      <th>2022-05-26</th>\n",
              "      <td>13</td>\n",
              "      <td>26</td>\n",
              "    </tr>\n",
              "    <tr>\n",
              "      <th>2022-05-27</th>\n",
              "      <td>37</td>\n",
              "      <td>60</td>\n",
              "    </tr>\n",
              "    <tr>\n",
              "      <th>2022-05-28</th>\n",
              "      <td>50</td>\n",
              "      <td>91</td>\n",
              "    </tr>\n",
              "    <tr>\n",
              "      <th>2022-05-29</th>\n",
              "      <td>71</td>\n",
              "      <td>62</td>\n",
              "    </tr>\n",
              "    <tr>\n",
              "      <th>2022-05-30</th>\n",
              "      <td>78</td>\n",
              "      <td>2</td>\n",
              "    </tr>\n",
              "    <tr>\n",
              "      <th>2022-05-31</th>\n",
              "      <td>43</td>\n",
              "      <td>24</td>\n",
              "    </tr>\n",
              "  </tbody>\n",
              "</table>\n",
              "</div>\n",
              "      <button class=\"colab-df-convert\" onclick=\"convertToInteractive('df-090a9473-449d-4c65-824a-92640ae0d643')\"\n",
              "              title=\"Convert this dataframe to an interactive table.\"\n",
              "              style=\"display:none;\">\n",
              "        \n",
              "  <svg xmlns=\"http://www.w3.org/2000/svg\" height=\"24px\"viewBox=\"0 0 24 24\"\n",
              "       width=\"24px\">\n",
              "    <path d=\"M0 0h24v24H0V0z\" fill=\"none\"/>\n",
              "    <path d=\"M18.56 5.44l.94 2.06.94-2.06 2.06-.94-2.06-.94-.94-2.06-.94 2.06-2.06.94zm-11 1L8.5 8.5l.94-2.06 2.06-.94-2.06-.94L8.5 2.5l-.94 2.06-2.06.94zm10 10l.94 2.06.94-2.06 2.06-.94-2.06-.94-.94-2.06-.94 2.06-2.06.94z\"/><path d=\"M17.41 7.96l-1.37-1.37c-.4-.4-.92-.59-1.43-.59-.52 0-1.04.2-1.43.59L10.3 9.45l-7.72 7.72c-.78.78-.78 2.05 0 2.83L4 21.41c.39.39.9.59 1.41.59.51 0 1.02-.2 1.41-.59l7.78-7.78 2.81-2.81c.8-.78.8-2.07 0-2.86zM5.41 20L4 18.59l7.72-7.72 1.47 1.35L5.41 20z\"/>\n",
              "  </svg>\n",
              "      </button>\n",
              "      \n",
              "  <style>\n",
              "    .colab-df-container {\n",
              "      display:flex;\n",
              "      flex-wrap:wrap;\n",
              "      gap: 12px;\n",
              "    }\n",
              "\n",
              "    .colab-df-convert {\n",
              "      background-color: #E8F0FE;\n",
              "      border: none;\n",
              "      border-radius: 50%;\n",
              "      cursor: pointer;\n",
              "      display: none;\n",
              "      fill: #1967D2;\n",
              "      height: 32px;\n",
              "      padding: 0 0 0 0;\n",
              "      width: 32px;\n",
              "    }\n",
              "\n",
              "    .colab-df-convert:hover {\n",
              "      background-color: #E2EBFA;\n",
              "      box-shadow: 0px 1px 2px rgba(60, 64, 67, 0.3), 0px 1px 3px 1px rgba(60, 64, 67, 0.15);\n",
              "      fill: #174EA6;\n",
              "    }\n",
              "\n",
              "    [theme=dark] .colab-df-convert {\n",
              "      background-color: #3B4455;\n",
              "      fill: #D2E3FC;\n",
              "    }\n",
              "\n",
              "    [theme=dark] .colab-df-convert:hover {\n",
              "      background-color: #434B5C;\n",
              "      box-shadow: 0px 1px 3px 1px rgba(0, 0, 0, 0.15);\n",
              "      filter: drop-shadow(0px 1px 2px rgba(0, 0, 0, 0.3));\n",
              "      fill: #FFFFFF;\n",
              "    }\n",
              "  </style>\n",
              "\n",
              "      <script>\n",
              "        const buttonEl =\n",
              "          document.querySelector('#df-090a9473-449d-4c65-824a-92640ae0d643 button.colab-df-convert');\n",
              "        buttonEl.style.display =\n",
              "          google.colab.kernel.accessAllowed ? 'block' : 'none';\n",
              "\n",
              "        async function convertToInteractive(key) {\n",
              "          const element = document.querySelector('#df-090a9473-449d-4c65-824a-92640ae0d643');\n",
              "          const dataTable =\n",
              "            await google.colab.kernel.invokeFunction('convertToInteractive',\n",
              "                                                     [key], {});\n",
              "          if (!dataTable) return;\n",
              "\n",
              "          const docLinkHtml = 'Like what you see? Visit the ' +\n",
              "            '<a target=\"_blank\" href=https://colab.research.google.com/notebooks/data_table.ipynb>data table notebook</a>'\n",
              "            + ' to learn more about interactive tables.';\n",
              "          element.innerHTML = '';\n",
              "          dataTable['output_type'] = 'display_data';\n",
              "          await google.colab.output.renderOutput(dataTable, element);\n",
              "          const docLink = document.createElement('div');\n",
              "          docLink.innerHTML = docLinkHtml;\n",
              "          element.appendChild(docLink);\n",
              "        }\n",
              "      </script>\n",
              "    </div>\n",
              "  </div>\n",
              "  "
            ]
          },
          "metadata": {},
          "execution_count": 23
        }
      ]
    },
    {
      "cell_type": "code",
      "metadata": {
        "id": "xZ45AtfQnGzE",
        "outputId": "d79e624a-e977-4fe8-8c5a-64110e3fe47d",
        "colab": {
          "base_uri": "https://localhost:8080/",
          "height": 143
        }
      },
      "source": [
        "df.corr()"
      ],
      "execution_count": 24,
      "outputs": [
        {
          "output_type": "execute_result",
          "data": {
            "text/plain": [
              "             power_usage  gas_usage  water_usage\n",
              "power_usage     1.000000   0.053528    -0.149768\n",
              "gas_usage       0.053528   1.000000    -0.174928\n",
              "water_usage    -0.149768  -0.174928     1.000000"
            ],
            "text/html": [
              "\n",
              "  <div id=\"df-7a8c61fd-37f7-4390-9269-4433bed465a9\">\n",
              "    <div class=\"colab-df-container\">\n",
              "      <div>\n",
              "<style scoped>\n",
              "    .dataframe tbody tr th:only-of-type {\n",
              "        vertical-align: middle;\n",
              "    }\n",
              "\n",
              "    .dataframe tbody tr th {\n",
              "        vertical-align: top;\n",
              "    }\n",
              "\n",
              "    .dataframe thead th {\n",
              "        text-align: right;\n",
              "    }\n",
              "</style>\n",
              "<table border=\"1\" class=\"dataframe\">\n",
              "  <thead>\n",
              "    <tr style=\"text-align: right;\">\n",
              "      <th></th>\n",
              "      <th>power_usage</th>\n",
              "      <th>gas_usage</th>\n",
              "      <th>water_usage</th>\n",
              "    </tr>\n",
              "  </thead>\n",
              "  <tbody>\n",
              "    <tr>\n",
              "      <th>power_usage</th>\n",
              "      <td>1.000000</td>\n",
              "      <td>0.053528</td>\n",
              "      <td>-0.149768</td>\n",
              "    </tr>\n",
              "    <tr>\n",
              "      <th>gas_usage</th>\n",
              "      <td>0.053528</td>\n",
              "      <td>1.000000</td>\n",
              "      <td>-0.174928</td>\n",
              "    </tr>\n",
              "    <tr>\n",
              "      <th>water_usage</th>\n",
              "      <td>-0.149768</td>\n",
              "      <td>-0.174928</td>\n",
              "      <td>1.000000</td>\n",
              "    </tr>\n",
              "  </tbody>\n",
              "</table>\n",
              "</div>\n",
              "      <button class=\"colab-df-convert\" onclick=\"convertToInteractive('df-7a8c61fd-37f7-4390-9269-4433bed465a9')\"\n",
              "              title=\"Convert this dataframe to an interactive table.\"\n",
              "              style=\"display:none;\">\n",
              "        \n",
              "  <svg xmlns=\"http://www.w3.org/2000/svg\" height=\"24px\"viewBox=\"0 0 24 24\"\n",
              "       width=\"24px\">\n",
              "    <path d=\"M0 0h24v24H0V0z\" fill=\"none\"/>\n",
              "    <path d=\"M18.56 5.44l.94 2.06.94-2.06 2.06-.94-2.06-.94-.94-2.06-.94 2.06-2.06.94zm-11 1L8.5 8.5l.94-2.06 2.06-.94-2.06-.94L8.5 2.5l-.94 2.06-2.06.94zm10 10l.94 2.06.94-2.06 2.06-.94-2.06-.94-.94-2.06-.94 2.06-2.06.94z\"/><path d=\"M17.41 7.96l-1.37-1.37c-.4-.4-.92-.59-1.43-.59-.52 0-1.04.2-1.43.59L10.3 9.45l-7.72 7.72c-.78.78-.78 2.05 0 2.83L4 21.41c.39.39.9.59 1.41.59.51 0 1.02-.2 1.41-.59l7.78-7.78 2.81-2.81c.8-.78.8-2.07 0-2.86zM5.41 20L4 18.59l7.72-7.72 1.47 1.35L5.41 20z\"/>\n",
              "  </svg>\n",
              "      </button>\n",
              "      \n",
              "  <style>\n",
              "    .colab-df-container {\n",
              "      display:flex;\n",
              "      flex-wrap:wrap;\n",
              "      gap: 12px;\n",
              "    }\n",
              "\n",
              "    .colab-df-convert {\n",
              "      background-color: #E8F0FE;\n",
              "      border: none;\n",
              "      border-radius: 50%;\n",
              "      cursor: pointer;\n",
              "      display: none;\n",
              "      fill: #1967D2;\n",
              "      height: 32px;\n",
              "      padding: 0 0 0 0;\n",
              "      width: 32px;\n",
              "    }\n",
              "\n",
              "    .colab-df-convert:hover {\n",
              "      background-color: #E2EBFA;\n",
              "      box-shadow: 0px 1px 2px rgba(60, 64, 67, 0.3), 0px 1px 3px 1px rgba(60, 64, 67, 0.15);\n",
              "      fill: #174EA6;\n",
              "    }\n",
              "\n",
              "    [theme=dark] .colab-df-convert {\n",
              "      background-color: #3B4455;\n",
              "      fill: #D2E3FC;\n",
              "    }\n",
              "\n",
              "    [theme=dark] .colab-df-convert:hover {\n",
              "      background-color: #434B5C;\n",
              "      box-shadow: 0px 1px 3px 1px rgba(0, 0, 0, 0.15);\n",
              "      filter: drop-shadow(0px 1px 2px rgba(0, 0, 0, 0.3));\n",
              "      fill: #FFFFFF;\n",
              "    }\n",
              "  </style>\n",
              "\n",
              "      <script>\n",
              "        const buttonEl =\n",
              "          document.querySelector('#df-7a8c61fd-37f7-4390-9269-4433bed465a9 button.colab-df-convert');\n",
              "        buttonEl.style.display =\n",
              "          google.colab.kernel.accessAllowed ? 'block' : 'none';\n",
              "\n",
              "        async function convertToInteractive(key) {\n",
              "          const element = document.querySelector('#df-7a8c61fd-37f7-4390-9269-4433bed465a9');\n",
              "          const dataTable =\n",
              "            await google.colab.kernel.invokeFunction('convertToInteractive',\n",
              "                                                     [key], {});\n",
              "          if (!dataTable) return;\n",
              "\n",
              "          const docLinkHtml = 'Like what you see? Visit the ' +\n",
              "            '<a target=\"_blank\" href=https://colab.research.google.com/notebooks/data_table.ipynb>data table notebook</a>'\n",
              "            + ' to learn more about interactive tables.';\n",
              "          element.innerHTML = '';\n",
              "          dataTable['output_type'] = 'display_data';\n",
              "          await google.colab.output.renderOutput(dataTable, element);\n",
              "          const docLink = document.createElement('div');\n",
              "          docLink.innerHTML = docLinkHtml;\n",
              "          element.appendChild(docLink);\n",
              "        }\n",
              "      </script>\n",
              "    </div>\n",
              "  </div>\n",
              "  "
            ]
          },
          "metadata": {},
          "execution_count": 24
        }
      ]
    },
    {
      "cell_type": "markdown",
      "metadata": {
        "id": "ld-LPX3haZZC"
      },
      "source": [
        "새 컬럼 생성하기"
      ]
    },
    {
      "cell_type": "code",
      "metadata": {
        "id": "SRuHvJ5AVVYN"
      },
      "source": [
        "df['energy_usage'] = df['power_usage'] + df['gas_usage']"
      ],
      "execution_count": 25,
      "outputs": []
    },
    {
      "cell_type": "code",
      "metadata": {
        "id": "Hc7TjJd4i0Vm"
      },
      "source": [
        "df['date'] = pd.to_datetime(df.index, format='%Y-%m-%d')"
      ],
      "execution_count": 26,
      "outputs": []
    },
    {
      "cell_type": "code",
      "metadata": {
        "id": "bjtKNrE4jJe9"
      },
      "source": [
        "df['day_of_week'] = df['date'].dt.day_name()"
      ],
      "execution_count": 27,
      "outputs": []
    },
    {
      "cell_type": "code",
      "metadata": {
        "id": "H6nasertVVRp",
        "outputId": "e696f0a9-9fcf-4431-bf7d-ec3f413b3878",
        "colab": {
          "base_uri": "https://localhost:8080/"
        }
      },
      "source": [
        "print(df)"
      ],
      "execution_count": 28,
      "outputs": [
        {
          "output_type": "stream",
          "name": "stdout",
          "text": [
            "            power_usage  gas_usage  water_usage  energy_usage       date  \\\n",
            "2022-05-01           82         87           82           169 2022-05-01   \n",
            "2022-05-02           82         87           85           169 2022-05-02   \n",
            "2022-05-03           59         26            7            85 2022-05-03   \n",
            "2022-05-04           88         51           58           139 2022-05-04   \n",
            "2022-05-05           61         37           48            98 2022-05-05   \n",
            "2022-05-06           80         30           87           110 2022-05-06   \n",
            "2022-05-07           47         17           97            64 2022-05-07   \n",
            "2022-05-08           69         35            5           104 2022-05-08   \n",
            "2022-05-09           49          6           67            55 2022-05-09   \n",
            "2022-05-10           92         42           45           134 2022-05-10   \n",
            "2022-05-11           72         14           92            86 2022-05-11   \n",
            "2022-05-12           84         11           69            95 2022-05-12   \n",
            "2022-05-13           92         71           36           163 2022-05-13   \n",
            "2022-05-14           74         64           14           138 2022-05-14   \n",
            "2022-05-15           12         93           79           105 2022-05-15   \n",
            "2022-05-16           15         99           40           114 2022-05-16   \n",
            "2022-05-17           82         77           77           159 2022-05-17   \n",
            "2022-05-18           69         94           31           163 2022-05-18   \n",
            "2022-05-19           52         49           84           101 2022-05-19   \n",
            "2022-05-20           14         44           79            58 2022-05-20   \n",
            "2022-05-21           97         76           37           173 2022-05-21   \n",
            "2022-05-22           76         47           37           123 2022-05-22   \n",
            "2022-05-23            7         40           67            47 2022-05-23   \n",
            "2022-05-24           95         95           60           190 2022-05-24   \n",
            "2022-05-25           50         66           44           116 2022-05-25   \n",
            "2022-05-26           13         26           81            39 2022-05-26   \n",
            "2022-05-27           37         60           21            97 2022-05-27   \n",
            "2022-05-28           50         91           86           141 2022-05-28   \n",
            "2022-05-29           71         62           81           133 2022-05-29   \n",
            "2022-05-30           78          2           87            80 2022-05-30   \n",
            "2022-05-31           43         24           87            67 2022-05-31   \n",
            "\n",
            "           day_of_week  \n",
            "2022-05-01      Sunday  \n",
            "2022-05-02      Monday  \n",
            "2022-05-03     Tuesday  \n",
            "2022-05-04   Wednesday  \n",
            "2022-05-05    Thursday  \n",
            "2022-05-06      Friday  \n",
            "2022-05-07    Saturday  \n",
            "2022-05-08      Sunday  \n",
            "2022-05-09      Monday  \n",
            "2022-05-10     Tuesday  \n",
            "2022-05-11   Wednesday  \n",
            "2022-05-12    Thursday  \n",
            "2022-05-13      Friday  \n",
            "2022-05-14    Saturday  \n",
            "2022-05-15      Sunday  \n",
            "2022-05-16      Monday  \n",
            "2022-05-17     Tuesday  \n",
            "2022-05-18   Wednesday  \n",
            "2022-05-19    Thursday  \n",
            "2022-05-20      Friday  \n",
            "2022-05-21    Saturday  \n",
            "2022-05-22      Sunday  \n",
            "2022-05-23      Monday  \n",
            "2022-05-24     Tuesday  \n",
            "2022-05-25   Wednesday  \n",
            "2022-05-26    Thursday  \n",
            "2022-05-27      Friday  \n",
            "2022-05-28    Saturday  \n",
            "2022-05-29      Sunday  \n",
            "2022-05-30      Monday  \n",
            "2022-05-31     Tuesday  \n"
          ]
        }
      ]
    },
    {
      "cell_type": "markdown",
      "metadata": {
        "id": "NiBruufFajw7"
      },
      "source": [
        "컬럼 삭제하기"
      ]
    },
    {
      "cell_type": "code",
      "metadata": {
        "id": "lsLxNqOHagdE"
      },
      "source": [
        "df = df.drop('energy_usage', axis=1)"
      ],
      "execution_count": 29,
      "outputs": []
    },
    {
      "cell_type": "markdown",
      "metadata": {
        "id": "qYO5ncvJdTm2"
      },
      "source": [
        "상관 관계 확인"
      ]
    },
    {
      "cell_type": "code",
      "metadata": {
        "id": "XwZ9LX1mdR2R",
        "outputId": "155780ac-237e-4143-f443-b139a38ad5d9",
        "colab": {
          "base_uri": "https://localhost:8080/",
          "height": 143
        }
      },
      "source": [
        "df.corr()"
      ],
      "execution_count": 30,
      "outputs": [
        {
          "output_type": "execute_result",
          "data": {
            "text/plain": [
              "             power_usage  gas_usage  water_usage\n",
              "power_usage     1.000000   0.053528    -0.149768\n",
              "gas_usage       0.053528   1.000000    -0.174928\n",
              "water_usage    -0.149768  -0.174928     1.000000"
            ],
            "text/html": [
              "\n",
              "  <div id=\"df-249f866a-a3a9-493a-90ad-1910f2b0c504\">\n",
              "    <div class=\"colab-df-container\">\n",
              "      <div>\n",
              "<style scoped>\n",
              "    .dataframe tbody tr th:only-of-type {\n",
              "        vertical-align: middle;\n",
              "    }\n",
              "\n",
              "    .dataframe tbody tr th {\n",
              "        vertical-align: top;\n",
              "    }\n",
              "\n",
              "    .dataframe thead th {\n",
              "        text-align: right;\n",
              "    }\n",
              "</style>\n",
              "<table border=\"1\" class=\"dataframe\">\n",
              "  <thead>\n",
              "    <tr style=\"text-align: right;\">\n",
              "      <th></th>\n",
              "      <th>power_usage</th>\n",
              "      <th>gas_usage</th>\n",
              "      <th>water_usage</th>\n",
              "    </tr>\n",
              "  </thead>\n",
              "  <tbody>\n",
              "    <tr>\n",
              "      <th>power_usage</th>\n",
              "      <td>1.000000</td>\n",
              "      <td>0.053528</td>\n",
              "      <td>-0.149768</td>\n",
              "    </tr>\n",
              "    <tr>\n",
              "      <th>gas_usage</th>\n",
              "      <td>0.053528</td>\n",
              "      <td>1.000000</td>\n",
              "      <td>-0.174928</td>\n",
              "    </tr>\n",
              "    <tr>\n",
              "      <th>water_usage</th>\n",
              "      <td>-0.149768</td>\n",
              "      <td>-0.174928</td>\n",
              "      <td>1.000000</td>\n",
              "    </tr>\n",
              "  </tbody>\n",
              "</table>\n",
              "</div>\n",
              "      <button class=\"colab-df-convert\" onclick=\"convertToInteractive('df-249f866a-a3a9-493a-90ad-1910f2b0c504')\"\n",
              "              title=\"Convert this dataframe to an interactive table.\"\n",
              "              style=\"display:none;\">\n",
              "        \n",
              "  <svg xmlns=\"http://www.w3.org/2000/svg\" height=\"24px\"viewBox=\"0 0 24 24\"\n",
              "       width=\"24px\">\n",
              "    <path d=\"M0 0h24v24H0V0z\" fill=\"none\"/>\n",
              "    <path d=\"M18.56 5.44l.94 2.06.94-2.06 2.06-.94-2.06-.94-.94-2.06-.94 2.06-2.06.94zm-11 1L8.5 8.5l.94-2.06 2.06-.94-2.06-.94L8.5 2.5l-.94 2.06-2.06.94zm10 10l.94 2.06.94-2.06 2.06-.94-2.06-.94-.94-2.06-.94 2.06-2.06.94z\"/><path d=\"M17.41 7.96l-1.37-1.37c-.4-.4-.92-.59-1.43-.59-.52 0-1.04.2-1.43.59L10.3 9.45l-7.72 7.72c-.78.78-.78 2.05 0 2.83L4 21.41c.39.39.9.59 1.41.59.51 0 1.02-.2 1.41-.59l7.78-7.78 2.81-2.81c.8-.78.8-2.07 0-2.86zM5.41 20L4 18.59l7.72-7.72 1.47 1.35L5.41 20z\"/>\n",
              "  </svg>\n",
              "      </button>\n",
              "      \n",
              "  <style>\n",
              "    .colab-df-container {\n",
              "      display:flex;\n",
              "      flex-wrap:wrap;\n",
              "      gap: 12px;\n",
              "    }\n",
              "\n",
              "    .colab-df-convert {\n",
              "      background-color: #E8F0FE;\n",
              "      border: none;\n",
              "      border-radius: 50%;\n",
              "      cursor: pointer;\n",
              "      display: none;\n",
              "      fill: #1967D2;\n",
              "      height: 32px;\n",
              "      padding: 0 0 0 0;\n",
              "      width: 32px;\n",
              "    }\n",
              "\n",
              "    .colab-df-convert:hover {\n",
              "      background-color: #E2EBFA;\n",
              "      box-shadow: 0px 1px 2px rgba(60, 64, 67, 0.3), 0px 1px 3px 1px rgba(60, 64, 67, 0.15);\n",
              "      fill: #174EA6;\n",
              "    }\n",
              "\n",
              "    [theme=dark] .colab-df-convert {\n",
              "      background-color: #3B4455;\n",
              "      fill: #D2E3FC;\n",
              "    }\n",
              "\n",
              "    [theme=dark] .colab-df-convert:hover {\n",
              "      background-color: #434B5C;\n",
              "      box-shadow: 0px 1px 3px 1px rgba(0, 0, 0, 0.15);\n",
              "      filter: drop-shadow(0px 1px 2px rgba(0, 0, 0, 0.3));\n",
              "      fill: #FFFFFF;\n",
              "    }\n",
              "  </style>\n",
              "\n",
              "      <script>\n",
              "        const buttonEl =\n",
              "          document.querySelector('#df-249f866a-a3a9-493a-90ad-1910f2b0c504 button.colab-df-convert');\n",
              "        buttonEl.style.display =\n",
              "          google.colab.kernel.accessAllowed ? 'block' : 'none';\n",
              "\n",
              "        async function convertToInteractive(key) {\n",
              "          const element = document.querySelector('#df-249f866a-a3a9-493a-90ad-1910f2b0c504');\n",
              "          const dataTable =\n",
              "            await google.colab.kernel.invokeFunction('convertToInteractive',\n",
              "                                                     [key], {});\n",
              "          if (!dataTable) return;\n",
              "\n",
              "          const docLinkHtml = 'Like what you see? Visit the ' +\n",
              "            '<a target=\"_blank\" href=https://colab.research.google.com/notebooks/data_table.ipynb>data table notebook</a>'\n",
              "            + ' to learn more about interactive tables.';\n",
              "          element.innerHTML = '';\n",
              "          dataTable['output_type'] = 'display_data';\n",
              "          await google.colab.output.renderOutput(dataTable, element);\n",
              "          const docLink = document.createElement('div');\n",
              "          docLink.innerHTML = docLinkHtml;\n",
              "          element.appendChild(docLink);\n",
              "        }\n",
              "      </script>\n",
              "    </div>\n",
              "  </div>\n",
              "  "
            ]
          },
          "metadata": {},
          "execution_count": 30
        }
      ]
    },
    {
      "cell_type": "markdown",
      "metadata": {
        "id": "MeO31qUxoWwG"
      },
      "source": [
        "파일에서 데이터 로드"
      ]
    },
    {
      "cell_type": "code",
      "metadata": {
        "id": "fS8E3SQ4odWa",
        "outputId": "7722568a-6778-4dee-e09c-d32ed58983cf",
        "colab": {
          "base_uri": "https://localhost:8080/",
          "height": 227
        }
      },
      "source": [
        "df_energy = pd.read_csv(\n",
        "'https://raw.githubusercontent.com/kgpark88/ems/master/data.csv')\n",
        "df_energy.plot(title='POWER USAGE',  figsize=(10, 3), ylim=(0,2000) )\n",
        "plt.show()"
      ],
      "execution_count": 31,
      "outputs": [
        {
          "output_type": "display_data",
          "data": {
            "text/plain": [
              "<Figure size 720x216 with 1 Axes>"
            ],
            "image/png": "[encoded data removed]"
          },
          "metadata": {
            "needs_background": "light"
          }
        }
      ]
    },
    {
      "cell_type": "markdown",
      "metadata": {
        "id": "mqVz56k7fVUW"
      },
      "source": [
        "# 맷플롯립(Matplotlib)\n",
        "파이썬에서 데이터를 차트나 플롯(Plot)으로 그려주는 라이브러리 패키지로서   \n",
        "가장 많이 사용되는 데이타 시각화(Data Visualization) 패키지입니다."
      ]
    },
    {
      "cell_type": "code",
      "metadata": {
        "id": "k2FklGNXdSSc"
      },
      "source": [
        "import numpy as np\n",
        "import matplotlib.pyplot as plt"
      ],
      "execution_count": 32,
      "outputs": []
    },
    {
      "cell_type": "markdown",
      "metadata": {
        "id": "WXE_WzS7gycC"
      },
      "source": [
        "그래프 스타일"
      ]
    },
    {
      "cell_type": "code",
      "metadata": {
        "id": "T6VbBLMugvMm",
        "outputId": "ab0b18e1-0c11-4a9d-971b-274fdf933380",
        "colab": {
          "base_uri": "https://localhost:8080/",
          "height": 269
        }
      },
      "source": [
        "plt.plot([1, 2, 3, 4], [1, 4, 9, 16], 'ro-')\n",
        "plt.axis([0, 6, 0, 20])\n",
        "plt.show()"
      ],
      "execution_count": 33,
      "outputs": [
        {
          "output_type": "display_data",
          "data": {
            "text/plain": [
              "<Figure size 432x288 with 1 Axes>"
            ],
            "image/png": "[encoded data removed]"
          },
          "metadata": {
            "needs_background": "light"
          }
        }
      ]
    },
    {
      "cell_type": "code",
      "metadata": {
        "id": "vnhe5uqwdSYj",
        "outputId": "becd3250-d341-471d-86f0-6205f27e46fb",
        "colab": {
          "base_uri": "https://localhost:8080/",
          "height": 265
        }
      },
      "source": [
        "plt.plot(df['power_usage'], 'ro-', df['gas_usage'], 'gs--',  df['water_usage'], 'b^-')\n",
        "plt.show()"
      ],
      "execution_count": 34,
      "outputs": [
        {
          "output_type": "display_data",
          "data": {
            "text/plain": [
              "<Figure size 432x288 with 1 Axes>"
            ],
            "image/png": "[encoded data removed]"
          },
          "metadata": {
            "needs_background": "light"
          }
        }
      ]
    },
    {
      "cell_type": "markdown",
      "metadata": {
        "id": "0gCbOSAchWz5"
      },
      "source": [
        "스캐터 플롯"
      ]
    },
    {
      "cell_type": "code",
      "metadata": {
        "id": "_JsgW5A3dSey",
        "outputId": "d4c67f09-059c-45ef-e296-dc409d6d6e61",
        "colab": {
          "base_uri": "https://localhost:8080/",
          "height": 279
        }
      },
      "source": [
        "data = {'a': np.arange(50),\n",
        "        'c': np.random.randint(0, 50, 50),\n",
        "        'd': np.random.randn(50)}\n",
        "data['b'] = data['a'] + 10 * np.random.randn(50)\n",
        "data['d'] = np.abs(data['d']) * 100\n",
        "\n",
        "plt.scatter('a', 'b', c='c', s='d', data=data)\n",
        "plt.xlabel('entry a')\n",
        "plt.ylabel('entry b')\n",
        "plt.show()\n"
      ],
      "execution_count": 35,
      "outputs": [
        {
          "output_type": "display_data",
          "data": {
            "text/plain": [
              "<Figure size 432x288 with 1 Axes>"
            ],
            "image/png": "[encoded data removed]"
          },
          "metadata": {
            "needs_background": "light"
          }
        }
      ]
    },
    {
      "cell_type": "markdown",
      "metadata": {
        "id": "3fmm6awrghqn"
      },
      "source": [
        "카테고리 플롯"
      ]
    },
    {
      "cell_type": "code",
      "metadata": {
        "id": "az_DljQ8dSlD",
        "outputId": "c3ff3043-cd97-47a0-8b1c-9a907af0a645",
        "colab": {
          "base_uri": "https://localhost:8080/",
          "height": 233
        }
      },
      "source": [
        "names = ['group_a', 'group_b', 'group_c']\n",
        "values = [1, 10, 100]\n",
        "\n",
        "plt.figure(figsize=(9, 3))\n",
        "plt.subplot(131)\n",
        "plt.bar(names, values)\n",
        "plt.subplot(132)\n",
        "plt.scatter(names, values)\n",
        "plt.subplot(133)\n",
        "plt.plot(names, values)\n",
        "\n",
        "plt.suptitle('Categorical Plotting')\n",
        "plt.show()\n"
      ],
      "execution_count": 36,
      "outputs": [
        {
          "output_type": "display_data",
          "data": {
            "text/plain": [
              "<Figure size 648x216 with 3 Axes>"
            ],
            "image/png": "[encoded data removed]"
          },
          "metadata": {
            "needs_background": "light"
          }
        }
      ]
    },
    {
      "cell_type": "markdown",
      "metadata": {
        "id": "Jg6NIRIjjssQ"
      },
      "source": [
        "# 씨본(Seaborn) \n",
        "Matplotlib을 기반으로 다양한 색상 테마와  통계용 차트 등의 기능을 추가한 시각화 패키지입니다. \n"
      ]
    },
    {
      "cell_type": "code",
      "metadata": {
        "id": "bQs7gHBMvspX"
      },
      "source": [
        "import seaborn as sns"
      ],
      "execution_count": 37,
      "outputs": []
    },
    {
      "cell_type": "markdown",
      "metadata": {
        "id": "ea1uA8bDkNo1"
      },
      "source": [
        "카운트 플롯"
      ]
    },
    {
      "cell_type": "code",
      "metadata": {
        "id": "qxBlchmeVVF3",
        "outputId": "90d714be-afa5-4049-d2ca-1b10b61adb40",
        "colab": {
          "base_uri": "https://localhost:8080/",
          "height": 352
        }
      },
      "source": [
        "sns.distplot(df['power_usage'])"
      ],
      "execution_count": 38,
      "outputs": [
        {
          "output_type": "stream",
          "name": "stderr",
          "text": [
            "/usr/local/lib/python3.7/dist-packages/seaborn/distributions.py:2619: FutureWarning: `distplot` is a deprecated function and will be removed in a future version. Please adapt your code to use either `displot` (a figure-level function with similar flexibility) or `histplot` (an axes-level function for histograms).\n",
            "  warnings.warn(msg, FutureWarning)\n"
          ]
        },
        {
          "output_type": "execute_result",
          "data": {
            "text/plain": [
              "<matplotlib.axes._subplots.AxesSubplot at 0x7f06961727d0>"
            ]
          },
          "metadata": {},
          "execution_count": 38
        },
        {
          "output_type": "display_data",
          "data": {
            "text/plain": [
              "<Figure size 432x288 with 1 Axes>"
            ],
            "image/png": "[encoded data removed]"
          },
          "metadata": {
            "needs_background": "light"
          }
        }
      ]
    },
    {
      "cell_type": "code",
      "metadata": {
        "id": "SN6nOgEYdSrr"
      },
      "source": [
        "import seaborn as sns"
      ],
      "execution_count": 39,
      "outputs": []
    },
    {
      "cell_type": "code",
      "metadata": {
        "id": "_XZAur3NdSx3",
        "outputId": "34185799-c560-413c-998f-32ce143caa0c",
        "colab": {
          "base_uri": "https://localhost:8080/",
          "height": 288
        }
      },
      "source": [
        "sns.heatmap(df.corr(), annot=True)"
      ],
      "execution_count": 40,
      "outputs": [
        {
          "output_type": "execute_result",
          "data": {
            "text/plain": [
              "<matplotlib.axes._subplots.AxesSubplot at 0x7f0694090490>"
            ]
          },
          "metadata": {},
          "execution_count": 40
        },
        {
          "output_type": "display_data",
          "data": {
            "text/plain": [
              "<Figure size 432x288 with 2 Axes>"
            ],
            "image/png": "[encoded data removed]"
          },
          "metadata": {
            "needs_background": "light"
          }
        }
      ]
    },
    {
      "cell_type": "markdown",
      "metadata": {
        "id": "cn0JpiKZdEvR"
      },
      "source": [
        "카운트 플롯"
      ]
    },
    {
      "cell_type": "code",
      "metadata": {
        "id": "nD3aIJ1Bp9oH",
        "outputId": "72e97a19-6eb6-446e-9b5f-39be8884733e",
        "colab": {
          "base_uri": "https://localhost:8080/",
          "height": 298
        }
      },
      "source": [
        "sns.countplot(x='day_of_week', data=df)"
      ],
      "execution_count": 41,
      "outputs": [
        {
          "output_type": "execute_result",
          "data": {
            "text/plain": [
              "<matplotlib.axes._subplots.AxesSubplot at 0x7f0694030150>"
            ]
          },
          "metadata": {},
          "execution_count": 41
        },
        {
          "output_type": "display_data",
          "data": {
            "text/plain": [
              "<Figure size 432x288 with 1 Axes>"
            ],
            "image/png": "[encoded data removed]"
          },
          "metadata": {
            "needs_background": "light"
          }
        }
      ]
    },
    {
      "cell_type": "code",
      "metadata": {
        "id": "9BUjaZFAt9C6"
      },
      "source": [
        ""
      ],
      "execution_count": 41,
      "outputs": []
    },
    {
      "cell_type": "markdown",
      "metadata": {
        "id": "ekxNNugbqku2"
      },
      "source": [
        "박스 플롯"
      ]
    },
    {
      "cell_type": "code",
      "metadata": {
        "id": "g8urTaOIqjNt",
        "outputId": "1189e572-193c-4640-ee72-44b647e8860a",
        "colab": {
          "base_uri": "https://localhost:8080/",
          "height": 299
        }
      },
      "source": [
        "sns.boxplot(x='day_of_week', y='power_usage', data=df)"
      ],
      "execution_count": 42,
      "outputs": [
        {
          "output_type": "execute_result",
          "data": {
            "text/plain": [
              "<matplotlib.axes._subplots.AxesSubplot at 0x7f069177d890>"
            ]
          },
          "metadata": {},
          "execution_count": 42
        },
        {
          "output_type": "display_data",
          "data": {
            "text/plain": [
              "<Figure size 432x288 with 1 Axes>"
            ],
            "image/png": "[encoded data removed]"
          },
          "metadata": {
            "needs_background": "light"
          }
        }
      ]
    },
    {
      "cell_type": "markdown",
      "metadata": {
        "id": "fOyaM0o4Ur7a"
      },
      "source": [
        "# 5.전력사용량 분석"
      ]
    },
    {
      "cell_type": "code",
      "metadata": {
        "id": "eBJpzMQKnsH4",
        "outputId": "d241405c-f1da-44b6-b099-f620082f9396",
        "colab": {
          "base_uri": "https://localhost:8080/",
          "height": 227
        }
      },
      "source": [
        "import pandas as pd\n",
        "import matplotlib.pyplot as plt\n",
        "\n",
        "# df = pd.read_csv('data.csv')  \n",
        "df = pd.read_csv('https://raw.githubusercontent.com/kgpark88/ems/master/data.csv')\n",
        "df.plot(title='POWER USAGE',  figsize=(10, 3), ylim=(0,2000) )\n",
        "plt.show()"
      ],
      "execution_count": 43,
      "outputs": [
        {
          "output_type": "display_data",
          "data": {
            "text/plain": [
              "<Figure size 720x216 with 1 Axes>"
            ],
            "image/png": "[encoded data removed]"
          },
          "metadata": {
            "needs_background": "light"
          }
        }
      ]
    },
    {
      "cell_type": "markdown",
      "metadata": {
        "id": "IcEN1WyypN5O"
      },
      "source": [
        "# 6. 선형회귀  \n",
        "종속 변수 y와 한 개 이상의 독립 변수 X와의 선형 상관 관계를 모델링 하는 회귀분석 기법"
      ]
    },
    {
      "cell_type": "code",
      "metadata": {
        "id": "08um8dWdpTHK",
        "outputId": "c9877c2b-b092-48d4-b309-4dc8856d3309",
        "colab": {
          "base_uri": "https://localhost:8080/",
          "height": 368
        }
      },
      "source": [
        "import numpy as np\n",
        "from scipy import stats\n",
        "import matplotlib.pyplot as plt\n",
        "\n",
        "# 생산량\n",
        "output = [110, 125, 140, 145, 160, 166, 179, 190, 200, 215, 230, 250]\n",
        "# 전력사용량\n",
        "power_usage = [98, 115, 120, 136, 140, 156, 160, 177, 185, 195, 210, 225]\n",
        "# p-value   : 유의 확률, 일반적으로 0.05 미만일 때 유의미\n",
        "slope, intercept, r_value, p_value, stderr = stats.linregress(output, power_usage)\n",
        "\n",
        "# 생산량 134개일 때 전기사용량 예측\n",
        "product = 134\n",
        "print(\"기울기(slope) : \", slope)\n",
        "print(\"절편(intercept) : \", intercept)\n",
        "print(\"상관계수(r_value) : \", r_value)\n",
        "print(\"유의확률(p_value) : \", p_value )\n",
        "print(\"{}개 => 예측량 {}kWh\".format(\n",
        "    product, product*slope + intercept))\n",
        "\n",
        "plt.scatter(output, power_usage) \n",
        "x = np.arange(0, 300)\n",
        "y = [(slope*num + intercept) for num in x]\n",
        "plt.plot(x, y, 'b', lw=1) \n",
        "plt.xlabel(\"Output(EA)\")\n",
        "plt.ylabel(\"Power Usage(kWh)\")\n",
        "plt.show()"
      ],
      "execution_count": 44,
      "outputs": [
        {
          "output_type": "stream",
          "name": "stdout",
          "text": [
            "기울기(slope) :  0.9200457304535211\n",
            "절편(intercept) :  -2.024707604744151\n",
            "상관계수(r_value) :  0.9950415352828844\n",
            "유의확률(p_value) :  2.3409613797567155e-11\n",
            "134개 => 예측량 121.26142027602768kWh\n"
          ]
        },
        {
          "output_type": "display_data",
          "data": {
            "text/plain": [
              "<Figure size 432x288 with 1 Axes>"
            ],
            "image/png": "[encoded data removed]"
          },
          "metadata": {
            "needs_background": "light"
          }
        }
      ]
    },
    {
      "cell_type": "code",
      "metadata": {
        "id": "i3LqNviSr41K"
      },
      "source": [
        ""
      ],
      "execution_count": 44,
      "outputs": []
    }
  ]
}