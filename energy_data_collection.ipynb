{
  "cells": [
    {
      "cell_type": "markdown",
      "metadata": {
        "id": "view-in-github",
        "colab_type": "text"
      },
      "source": [
        "<a href=\"https://colab.research.google.com/github/kgpark88/energy-bigdata-analysis/blob/main/energy_data_collection.ipynb\" target=\"_parent\"><img src=\"https://colab.research.google.com/assets/colab-badge.svg\" alt=\"Open In Colab\"/></a>"
      ]
    },
    {
      "cell_type": "markdown",
      "metadata": {
        "id": "gUiIxrat-niy"
      },
      "source": [
        "# DB 테이블 생성 및 데이터 저장"
      ]
    },
    {
      "cell_type": "code",
      "execution_count": 1,
      "metadata": {
        "id": "1fbkSRig7v46"
      },
      "outputs": [],
      "source": [
        "import sqlite3\n",
        "\n",
        "# 데이터베이스 생성 및 접속\n",
        "con = sqlite3.connect(\"bems.db\")\n",
        "cursor = con.cursor()\n",
        "\n",
        "# energy 테이블 생성\n",
        "cursor.executescript(\"\"\"\n",
        "    DROP TABLE IF EXISTS energy;\n",
        "    CREATE TABLE energy( date_time text, b_code text, usage real, \n",
        "    peak real, unit_price real, temp real, rh real ); \"\"\")\n",
        "\n",
        "# energy 테이블에 데이터 추가(insert)\n",
        "cursor.execute(\"INSERT INTO  energy VALUES('202205131000', 'SGBD', 424.8, 1699.2, 100, 7, 50)\")\n",
        "cursor.execute(\"INSERT INTO  energy VALUES('202205131015', 'SGBD', 434.8, 1799.2, 100, 8, 52)\")\n",
        "cursor.execute(\"INSERT INTO  energy VALUES('202205131030', 'SGBD', 444.8, 1899.2, 100, 9, 55)\")\n",
        "cursor.execute(\"INSERT INTO  energy VALUES('202205131045', 'SGBD', 454.8, 1799.2, 100, 8, 59)\")\n",
        "con.commit()\n",
        "con.close()"
      ]
    },
    {
      "cell_type": "markdown",
      "metadata": {
        "id": "gyVfiX-k-8np"
      },
      "source": [
        "# 데이터 조회"
      ]
    },
    {
      "cell_type": "code",
      "execution_count": 2,
      "metadata": {
        "colab": {
          "base_uri": "https://localhost:8080/"
        },
        "id": "jVtyDaDD-NQN",
        "outputId": "2f433bdd-f027-4e1c-a42f-59648dc4669d"
      },
      "outputs": [
        {
          "output_type": "stream",
          "name": "stdout",
          "text": [
            "('202205131000', 'SGBD', 424.8, 1699.2, 100.0, 7.0, 50.0)\n",
            "('202205131015', 'SGBD', 434.8, 1799.2, 100.0, 8.0, 52.0)\n",
            "('202205131030', 'SGBD', 444.8, 1899.2, 100.0, 9.0, 55.0)\n",
            "('202205131045', 'SGBD', 454.8, 1799.2, 100.0, 8.0, 59.0)\n"
          ]
        }
      ],
      "source": [
        "con = sqlite3.connect(\"bems.db\")\n",
        "with con:\n",
        "    cursor = con.cursor()\n",
        "    cursor.execute(\"SELECT * FROM energy\")\n",
        "    rows = cursor.fetchall()\n",
        "    for row in rows:\n",
        "        print(row)\n",
        "con.close()"
      ]
    },
    {
      "cell_type": "markdown",
      "metadata": {
        "id": "unFAzutZ_47_"
      },
      "source": [
        "# 파일 데이터를 DB에 저장"
      ]
    },
    {
      "cell_type": "code",
      "execution_count": 4,
      "metadata": {
        "id": "kP9q_Py28NA7"
      },
      "outputs": [],
      "source": [
        "import sqlite3\n",
        "import csv\n",
        "\n",
        "con = sqlite3.connect(\"bems.db\")\n",
        "cursor = con.cursor()\n",
        "\n",
        "reader = csv.reader(open('data.csv', 'r'), delimiter=',')\n",
        "\n",
        "# csv 헤더 스킵\n",
        "next(reader)\n",
        "\n",
        "for row in reader:\n",
        "    to_db = [ row[0], row[1], row[2], row[3] ]\n",
        "    cursor.execute(\"INSERT INTO energy (date_time, b_code, usage, peak ) VALUES (?, ?, ?,?);\", to_db)\n",
        "\n",
        "con.commit()\n",
        "con.close()"
      ]
    },
    {
      "cell_type": "markdown",
      "metadata": {
        "id": "CNudSLm5AuPE"
      },
      "source": [
        "# 데이터 선택 조회"
      ]
    },
    {
      "cell_type": "code",
      "execution_count": 5,
      "metadata": {
        "colab": {
          "base_uri": "https://localhost:8080/"
        },
        "id": "K71L_uD1AyQx",
        "outputId": "b95a70f9-75e8-4797-fb20-063ff0527584"
      },
      "outputs": [
        {
          "output_type": "stream",
          "name": "stdout",
          "text": [
            "('202201071500', 398.88, 1595.52)\n",
            "('202201071515', 400.5, 1602.0)\n",
            "('202201071530', 397.26, 1589.04)\n",
            "('202201071545', 391.86, 1567.44)\n"
          ]
        }
      ],
      "source": [
        "import sqlite3\n",
        "\n",
        "con = sqlite3.connect(\"bems.db\")\n",
        "with con:\n",
        "    cursor = con.cursor()\n",
        "    # 2022년 01월 07일 15시 데이터만 조회\n",
        "    cursor.execute(\" SELECT date_time, usage, peak FROM energy \\\n",
        "                     WHERE b_code ='SGBD' AND date_time LIKE '2022010715%' \")\n",
        "    rows = cursor.fetchall()\n",
        "    for row in rows:\n",
        "        print(row)\n",
        "con.close()"
      ]
    },
    {
      "cell_type": "markdown",
      "metadata": {
        "id": "SeH_pVvbBZhp"
      },
      "source": [
        "# 웹스크래핑으로 데이터 수집"
      ]
    },
    {
      "cell_type": "code",
      "execution_count": 6,
      "metadata": {
        "colab": {
          "base_uri": "https://localhost:8080/"
        },
        "id": "owzgMZchBZCM",
        "outputId": "b9955d38-ecd9-49ea-e960-315c20b86f40"
      },
      "outputs": [
        {
          "output_type": "stream",
          "name": "stdout",
          "text": [
            "서울특별시 송파구 방이1동  동네 예보\n",
            "데이터 소스 : http://www.kma.go.kr/wid/queryDFSRSS.jsp?zone=1171056100\n",
            "시간: 21, 온도: 26.0, 습도: 85\n",
            "시간: 24, 온도: 24.0, 습도: 90\n",
            "시간:  3, 온도: 24.0, 습도: 90\n",
            "시간:  6, 온도: 24.0, 습도: 90\n",
            "시간:  9, 온도: 26.0, 습도: 80\n",
            "시간: 12, 온도: 28.0, 습도: 70\n",
            "시간: 15, 온도: 29.0, 습도: 65\n",
            "시간: 18, 온도: 28.0, 습도: 70\n",
            "시간: 21, 온도: 26.0, 습도: 75\n",
            "시간: 24, 온도: 25.0, 습도: 75\n",
            "시간:  3, 온도: 24.0, 습도: 80\n",
            "시간:  6, 온도: 23.0, 습도: 80\n",
            "시간:  9, 온도: 26.0, 습도: 70\n",
            "시간: 12, 온도: 26.0, 습도: 55\n",
            "시간: 15, 온도: 25.0, 습도: 55\n",
            "시간: 18, 온도: 22.0, 습도: 55\n",
            "시간: 21, 온도: 20.0, 습도: 60\n",
            "시간: 24, 온도: 18.0, 습도: 70\n"
          ]
        }
      ],
      "source": [
        "from urllib.request import urlopen\n",
        "from bs4 import BeautifulSoup\n",
        "\n",
        "# 동네예보 : 서울특별시 송파구 방이1동\n",
        "data_name = \"서울특별시 송파구 방이1동\"\n",
        "data_code = \"1171056100\"\n",
        "japi = \"http://www.kma.go.kr/wid/queryDFSRSS.jsp?zone=\" + data_code\n",
        "response = urlopen(japi)\n",
        "weather = BeautifulSoup(response, \"html.parser\")\n",
        "print(data_name, \" 동네 예보\")\n",
        "print(\"데이터 소스 :\", japi)\n",
        "\n",
        "for data in weather.findAll('data'):\n",
        "    hour = data.hour.string\n",
        "    temp = data.temp.string\n",
        "    reh = data.reh.string\n",
        "    print(\"시간: %02s, 온도: %04s, 습도: %02s\" % (hour, temp, reh ))"
      ]
    },
    {
      "cell_type": "markdown",
      "metadata": {
        "id": "RwRJJwmEBt4l"
      },
      "source": [
        "# 오픈 API로 데이터 수집 : 동네예보 데이터\n",
        "- https://www.data.go.kr/\n",
        "- [동네예보] 검색 -> [기상청_동네예보 통보문 조회서비스] 클릭 -> [육상예보조회] 선택 -> [활용신청]\n",
        "- 발효번호(기상청 오픈API 활용가이드 참고) : 0 - 오늘오전, 1 - 오늘오후, 2 - 내일오전, 3 - 내일오후"
      ]
    },
    {
      "cell_type": "code",
      "execution_count": null,
      "metadata": {
        "id": "KMeX8yayBOKc"
      },
      "outputs": [],
      "source": [
        "import requests\n",
        "from datetime import date\n",
        "\n",
        "sky_code = ['맑음', '구름조금', '구름많음', '흐림']\n",
        "today = date.today()\n",
        "today_str = today.strftime('%Y%m%d') \n",
        "\n",
        "ServiceKey ='QqiDVQP+iIwG/AU9zwmIsaEVq7DfdKcI6FYlymT+ueUUsC7c8GNXPCFou0EO711JRKEyPRaEyTe0PoC7XErvXg=='\n",
        "\n",
        "url = 'http://apis.data.go.kr/1360000/VilageFcstMsgService/getLandFcst'\n",
        "params ={'serviceKey' : ServiceKey , 'pageNo' : '1', 'numOfRows' : '10', \n",
        "         'dataType' : 'JSON', 'regId' : '11B10101' }\n",
        "response = requests.get(url, params=params)\n",
        "print(f'응답 내용 : {response.content}\\n')\n",
        "\n",
        "if response.status_code == 200:\n",
        "    json_data = response.json()\n",
        "    response_data = json_data['response']\n",
        "    result_msg = response_data['header']['resultMsg']\n",
        "\n",
        "    if result_msg == 'NORMAL_SERVICE':\n",
        "        body_data = response_data['body']\n",
        "        for d in body_data['items']['item']:\n",
        "            announce_time = d['announceTime']\n",
        "            print(f\"발표시간 : {d['announceTime']}, 발효번호 : {d['numEf']}, 예상기온 : {d['ta']}℃, 날씨 : {d['wf']}\")\n",
        "    else:\n",
        "        print(result_msg)"
      ]
    },
    {
      "cell_type": "code",
      "source": [],
      "metadata": {
        "id": "1bqWxdSskqen"
      },
      "execution_count": null,
      "outputs": []
    }
  ],
  "metadata": {
    "colab": {
      "collapsed_sections": [],
      "name": "energy_data_collection.ipynb",
      "provenance": [],
      "include_colab_link": true
    },
    "kernelspec": {
      "display_name": "Python 3",
      "language": "python",
      "name": "python3"
    },
    "language_info": {
      "codemirror_mode": {
        "name": "ipython",
        "version": 3
      },
      "file_extension": ".py",
      "mimetype": "text/x-python",
      "name": "python",
      "nbconvert_exporter": "python",
      "pygments_lexer": "ipython3",
      "version": "3.8.7"
    }
  },
  "nbformat": 4,
  "nbformat_minor": 0
}