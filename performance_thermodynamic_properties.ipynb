{
  "cells": [
    {
      "cell_type": "markdown",
      "id": "frozen-panic",
      "metadata": {
        "id": "frozen-panic"
      },
      "source": [
        "참고 : http://www.pyromat.org/doc_intro.html  "
      ]
    },
    {
      "cell_type": "markdown",
      "id": "white-constant",
      "metadata": {
        "id": "white-constant"
      },
      "source": [
        "- cp : Isobaric specific heat  \n",
        "- cv : Isochoric specific heat  \n",
        "- d : Density  \n",
        "- e : Internal energy  \n",
        "- gam : Specific heat ratio  \n",
        "- h : Enthalpy  \n",
        "- mw : Molecular weight  \n",
        "- R : Ideal gas constant\n",
        "- s : Entropy"
      ]
    },
    {
      "cell_type": "markdown",
      "source": [
        "### PYroMat 설치\n"
      ],
      "metadata": {
        "id": "EYGFoQKumg5F"
      },
      "id": "EYGFoQKumg5F"
    },
    {
      "cell_type": "code",
      "execution_count": null,
      "id": "attractive-utilization",
      "metadata": {
        "id": "attractive-utilization"
      },
      "outputs": [],
      "source": [
        "!pip install pyromat"
      ]
    },
    {
      "cell_type": "markdown",
      "id": "strange-investment",
      "metadata": {
        "id": "strange-investment"
      },
      "source": [
        "### 라이브러리 임포트"
      ]
    },
    {
      "cell_type": "code",
      "execution_count": 2,
      "id": "discrete-approval",
      "metadata": {
        "id": "discrete-approval"
      },
      "outputs": [],
      "source": [
        "import numpy as np\n",
        "import pyromat as pm"
      ]
    },
    {
      "cell_type": "markdown",
      "id": "objective-columbus",
      "metadata": {
        "id": "objective-columbus"
      },
      "source": [
        "### 상태량 구하기"
      ]
    },
    {
      "cell_type": "code",
      "execution_count": 3,
      "id": "industrial-ending",
      "metadata": {
        "id": "industrial-ending"
      },
      "outputs": [],
      "source": [
        "N2 = pm.get('ig.N2')\n",
        "O2 = pm.get('ig.O2')\n",
        "CO2 = pm.get('ig.CO2')"
      ]
    },
    {
      "cell_type": "code",
      "execution_count": 4,
      "id": "opponent-flashing",
      "metadata": {
        "colab": {
          "base_uri": "https://localhost:8080/"
        },
        "id": "opponent-flashing",
        "outputId": "d50a876e-a620-4432-b608-07245d70ca1a"
      },
      "outputs": [
        {
          "output_type": "execute_result",
          "data": {
            "text/plain": [
              "28.01348"
            ]
          },
          "metadata": {},
          "execution_count": 4
        }
      ],
      "source": [
        "N2.mw()"
      ]
    },
    {
      "cell_type": "code",
      "execution_count": 5,
      "id": "bizarre-basket",
      "metadata": {
        "colab": {
          "base_uri": "https://localhost:8080/"
        },
        "id": "bizarre-basket",
        "outputId": "8df965e9-dcfd-42a3-c633-d25d6e4bfa36"
      },
      "outputs": [
        {
          "output_type": "execute_result",
          "data": {
            "text/plain": [
              "array([1.62779576e-07])"
            ]
          },
          "metadata": {},
          "execution_count": 5
        }
      ],
      "source": [
        "N2.h()"
      ]
    },
    {
      "cell_type": "code",
      "execution_count": 6,
      "id": "headed-substance",
      "metadata": {
        "colab": {
          "base_uri": "https://localhost:8080/"
        },
        "id": "headed-substance",
        "outputId": "6817e20f-b75b-468c-c4df-8d4aa9a280f4"
      },
      "outputs": [
        {
          "output_type": "execute_result",
          "data": {
            "text/plain": [
              "array([6.83596655])"
            ]
          },
          "metadata": {},
          "execution_count": 6
        }
      ],
      "source": [
        "N2.s()"
      ]
    },
    {
      "cell_type": "code",
      "execution_count": 7,
      "id": "indirect-albany",
      "metadata": {
        "colab": {
          "base_uri": "https://localhost:8080/"
        },
        "id": "indirect-albany",
        "outputId": "61d4830b-dcdd-4c67-d054-955803a3c475"
      },
      "outputs": [
        {
          "output_type": "execute_result",
          "data": {
            "text/plain": [
              "(101,)"
            ]
          },
          "metadata": {},
          "execution_count": 7
        }
      ],
      "source": [
        "O2 = pm.get('ig.O2')\n",
        "T = np.linspace(300.,2000.,101)\n",
        "h = O2.h(T) \n",
        "h.shape "
      ]
    },
    {
      "cell_type": "code",
      "execution_count": 8,
      "id": "missing-colorado",
      "metadata": {
        "colab": {
          "base_uri": "https://localhost:8080/"
        },
        "id": "missing-colorado",
        "outputId": "2e681c88-9f10-4e71-b298-5c3164e486a4"
      },
      "outputs": [
        {
          "output_type": "execute_result",
          "data": {
            "text/plain": [
              "array([207.43528961])"
            ]
          },
          "metadata": {},
          "execution_count": 8
        }
      ],
      "source": [
        "N2.h(T=496.5, p=3.)"
      ]
    },
    {
      "cell_type": "code",
      "execution_count": 9,
      "id": "floral-assurance",
      "metadata": {
        "colab": {
          "base_uri": "https://localhost:8080/"
        },
        "id": "floral-assurance",
        "outputId": "1b2a177c-8f9a-4dbe-acf0-148a5605dd5e"
      },
      "outputs": [
        {
          "output_type": "execute_result",
          "data": {
            "text/plain": [
              "array([207.43528961])"
            ]
          },
          "metadata": {},
          "execution_count": 9
        }
      ],
      "source": [
        "N2.h(T=496.5, d=2.0358)"
      ]
    },
    {
      "cell_type": "code",
      "execution_count": 10,
      "id": "powerful-carry",
      "metadata": {
        "colab": {
          "base_uri": "https://localhost:8080/"
        },
        "id": "powerful-carry",
        "outputId": "b725572e-060a-4159-8df8-c04495de2ca4"
      },
      "outputs": [
        {
          "output_type": "execute_result",
          "data": {
            "text/plain": [
              "(101,)"
            ]
          },
          "metadata": {},
          "execution_count": 10
        }
      ],
      "source": [
        "p = np.linspace(1.,100.,101)\n",
        "s = O2.s(T, p)\n",
        "s.shape"
      ]
    },
    {
      "cell_type": "code",
      "execution_count": 11,
      "id": "piano-message",
      "metadata": {
        "colab": {
          "base_uri": "https://localhost:8080/"
        },
        "id": "piano-message",
        "outputId": "5f767a93-ddcb-44e3-e796-7b0b1335bd3a"
      },
      "outputs": [
        {
          "output_type": "execute_result",
          "data": {
            "text/plain": [
              "(101, 101)"
            ]
          },
          "metadata": {},
          "execution_count": 11
        }
      ],
      "source": [
        "T = T.reshape((T.size, 1))\n",
        "s = O2.s(T,p)\n",
        "s.shape"
      ]
    },
    {
      "cell_type": "markdown",
      "id": "conscious-sleeping",
      "metadata": {
        "id": "conscious-sleeping"
      },
      "source": [
        "### 단위 설정"
      ]
    },
    {
      "cell_type": "code",
      "execution_count": 12,
      "id": "interracial-attitude",
      "metadata": {
        "colab": {
          "base_uri": "https://localhost:8080/"
        },
        "id": "interracial-attitude",
        "outputId": "6b64dcac-718a-4ab8-ce83-335aaf943a29"
      },
      "outputs": [
        {
          "output_type": "execute_result",
          "data": {
            "text/plain": [
              "array([6.58052814])"
            ]
          },
          "metadata": {},
          "execution_count": 12
        }
      ],
      "source": [
        "N2.s(T=700.,p=50.)"
      ]
    },
    {
      "cell_type": "code",
      "execution_count": null,
      "id": "inclusive-narrative",
      "metadata": {
        "id": "inclusive-narrative"
      },
      "outputs": [],
      "source": [
        "pm.config"
      ]
    },
    {
      "cell_type": "code",
      "execution_count": 14,
      "id": "arranged-colors",
      "metadata": {
        "colab": {
          "base_uri": "https://localhost:8080/"
        },
        "id": "arranged-colors",
        "outputId": "d9f5561b-6aa6-4054-f1ba-e85c423b9166"
      },
      "outputs": [
        {
          "output_type": "execute_result",
          "data": {
            "text/plain": [
              "array([6.58052814])"
            ]
          },
          "metadata": {},
          "execution_count": 14
        }
      ],
      "source": [
        "pm.config['unit_temperature'] = 'F'\n",
        "N2.s(T=800.33,p=50.)*1.8    # 800.33F == 700K"
      ]
    },
    {
      "cell_type": "markdown",
      "id": "occupied-governor",
      "metadata": {
        "id": "occupied-governor"
      },
      "source": [
        "### Array 사용"
      ]
    },
    {
      "cell_type": "code",
      "execution_count": 15,
      "id": "sunrise-democrat",
      "metadata": {
        "colab": {
          "base_uri": "https://localhost:8080/"
        },
        "id": "sunrise-democrat",
        "outputId": "09975eff-1a1c-48da-b0fc-438df41c662e"
      },
      "outputs": [
        {
          "output_type": "execute_result",
          "data": {
            "text/plain": [
              "array([129.15974148, 187.49542387, 246.24154332, 305.50230768,\n",
              "       365.37227009, 425.93101813, 487.23786287])"
            ]
          },
          "metadata": {},
          "execution_count": 15
        }
      ],
      "source": [
        "import numpy as np\n",
        "\n",
        "T = np.arange(300., 1000.,100.)\n",
        "N2.h(T)"
      ]
    },
    {
      "cell_type": "code",
      "execution_count": 16,
      "id": "peripheral-panic",
      "metadata": {
        "colab": {
          "base_uri": "https://localhost:8080/"
        },
        "id": "peripheral-panic",
        "outputId": "a524ab0b-031f-48ca-ddcc-ce17ed64fdbc"
      },
      "outputs": [
        {
          "output_type": "execute_result",
          "data": {
            "text/plain": [
              "array([3.52762685, 3.55765278, 3.58636348])"
            ]
          },
          "metadata": {},
          "execution_count": 16
        }
      ],
      "source": [
        "T = np.array([500., 550., 600.])\n",
        "p = 40.5\n",
        "N2.s(T,p)"
      ]
    },
    {
      "cell_type": "code",
      "execution_count": 17,
      "id": "spoken-mambo",
      "metadata": {
        "colab": {
          "base_uri": "https://localhost:8080/",
          "height": 265
        },
        "id": "spoken-mambo",
        "outputId": "5554d087-e6c1-4429-abdb-f34d880b55dc"
      },
      "outputs": [
        {
          "output_type": "display_data",
          "data": {
            "text/plain": [
              "<Figure size 432x288 with 1 Axes>"
            ],
            "image/png": "[encoded data removed]"
          },
          "metadata": {
            "needs_background": "light"
          }
        }
      ],
      "source": [
        "import matplotlib.pyplot as plt\n",
        "\n",
        "T = np.linspace(300.,5000.,201)\n",
        "air = pm.get('ig.air')\n",
        "plt.plot(T, air.cp(T))\n",
        "plt.show()"
      ]
    },
    {
      "cell_type": "markdown",
      "id": "foreign-socket",
      "metadata": {
        "id": "foreign-socket"
      },
      "source": [
        "### PYroMat 라이브 모듈\n",
        "http://www.pyromat.org/live/index.html"
      ]
    }
  ],
  "metadata": {
    "kernelspec": {
      "display_name": "Python 3",
      "language": "python",
      "name": "python3"
    },
    "language_info": {
      "codemirror_mode": {
        "name": "ipython",
        "version": 3
      },
      "file_extension": ".py",
      "mimetype": "text/x-python",
      "name": "python",
      "nbconvert_exporter": "python",
      "pygments_lexer": "ipython3",
      "version": "3.8.7"
    },
    "colab": {
      "name": "performance_thermodynamic_properties.ipynb",
      "provenance": [],
      "collapsed_sections": []
    }
  },
  "nbformat": 4,
  "nbformat_minor": 5
}