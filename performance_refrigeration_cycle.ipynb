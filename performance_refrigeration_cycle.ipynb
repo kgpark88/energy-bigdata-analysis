{
  "cells": [
    {
      "cell_type": "markdown",
      "metadata": {
        "id": "view-in-github",
        "colab_type": "text"
      },
      "source": [
        "<a href=\"https://colab.research.google.com/github/kgpark88/energy-bigdata-analysis/blob/main/performance_refrigeration_cycle.ipynb\" target=\"_parent\"><img src=\"https://colab.research.google.com/assets/colab-badge.svg\" alt=\"Open In Colab\"/></a>"
      ]
    },
    {
      "cell_type": "markdown",
      "id": "tired-preview",
      "metadata": {
        "id": "tired-preview"
      },
      "source": [
        "source\n",
        "- https://www.youtube.com/watch?v=_WjbQQMMdPI\n",
        "- https://github.com/adriaan90/refrigeration-cycle/blob/master/Ideal%20refrigeration%20cycle.py"
      ]
    },
    {
      "cell_type": "code",
      "source": [
        "!pip install pyromat"
      ],
      "metadata": {
        "id": "8INK4xUIr7_U",
        "outputId": "f79b123d-53e0-42d7-ade7-e96e2ff1bf2e",
        "colab": {
          "base_uri": "https://localhost:8080/"
        }
      },
      "id": "8INK4xUIr7_U",
      "execution_count": null,
      "outputs": [
        {
          "output_type": "stream",
          "name": "stdout",
          "text": [
            "Collecting pyromat\n",
            "  Downloading PYroMat-2.1.10.tar.gz (630 kB)\n",
            "\u001b[K     |████████████████████████████████| 630 kB 5.4 MB/s \n",
            "\u001b[?25hRequirement already satisfied: numpy>=1.7 in /usr/local/lib/python3.7/dist-packages (from pyromat) (1.21.6)\n",
            "Building wheels for collected packages: pyromat\n",
            "  Building wheel for pyromat (setup.py) ... \u001b[?25l\u001b[?25hdone\n",
            "  Created wheel for pyromat: filename=PYroMat-2.1.10-py3-none-any.whl size=1277399 sha256=a716dae715d0f1bb65119d8c430caa5daca8b0f9157e8b0ac75e6b8ff81d6905\n",
            "  Stored in directory: /root/.cache/pip/wheels/90/8c/97/4a3e8a71ec5c154f013db233c1d2fc8ed08bc9721fbc9a51a4\n",
            "Successfully built pyromat\n"
          ]
        }
      ]
    },
    {
      "cell_type": "code",
      "execution_count": null,
      "id": "environmental-search",
      "metadata": {
        "id": "environmental-search"
      },
      "outputs": [],
      "source": [
        "# Consider an ideal refrigeration cycle that uses R134a as the working fluid.\n",
        "# The temperature of the refrigerant in the evaporator is −20C, and in the condenser it is 40C.\n",
        "# The refrigerant is circulated at the rate of 0.03 kg/s.\n",
        "# Determine the COP and the capacity of the plant in rate of refrigeration.\n",
        "\n",
        "import pyromat as pm\n",
        "pm.config[\"unit_pressure\"] = \"kPa\"\n",
        "pm.config[\"def_p\"] = 100"
      ]
    },
    {
      "cell_type": "code",
      "execution_count": null,
      "id": "aerial-swedish",
      "metadata": {
        "id": "aerial-swedish"
      },
      "outputs": [],
      "source": [
        "mp_R134a = pm.get(\"mp.C2H2F4\")\n",
        "\n",
        "m_dot = 0.03 #kg/s <-- given\n",
        "T1 = -20 + 273.15 # K <--given\n",
        "T3 = 40 + 273.15 # K <--given\n",
        "\n",
        "h1 = mp_R134a.hs(T=T1)[1]\n",
        "s1 = mp_R134a.ss(T=T1)[1]\n",
        "p_g = mp_R134a.ps(T=T3)"
      ]
    },
    {
      "cell_type": "code",
      "execution_count": null,
      "id": "blank-theorem",
      "metadata": {
        "id": "blank-theorem"
      },
      "outputs": [],
      "source": [
        "print(f\"Enthalpy after evaporator: {round(float(h1),1)} kJ/kg\")\n",
        "print(f\"Entropy after evaporator: {round(float(s1),4)} kJ/kg\")\n",
        "print(f\"Vapour pressure: {round(float(p_g),1)} kPa\")"
      ]
    },
    {
      "cell_type": "code",
      "execution_count": null,
      "id": "adaptive-hazard",
      "metadata": {
        "id": "adaptive-hazard"
      },
      "outputs": [],
      "source": [
        "s2 = s1\n",
        "T2 = mp_R134a.T_s(s=s2, p=p_g)\n",
        "h2 = mp_R134a.h(T=T2, p=p_g)\n",
        "print(f\"Enthalpy after compressor: {round(float(h2),1)} kJ/kg\")\n",
        "print(f\"Temperature after compressor: {round(float(T2),1)} K\")\n",
        "w_c = h2 - h1\n",
        "print(f\"Work done by compressor: {round(float(w_c),1)} kJ/kg\")\n"
      ]
    },
    {
      "cell_type": "code",
      "execution_count": null,
      "id": "detected-specific",
      "metadata": {
        "id": "detected-specific"
      },
      "outputs": [],
      "source": [
        "s2 = s1\n",
        "T2 = mp_R134a.T_s(s=s2, p=p_g)\n",
        "h2 = mp_R134a.h(T=T2, p=p_g)\n",
        "print(f\"Enthalpy after compressor: {round(float(h2),1)} kJ/kg\")\n",
        "print(f\"Temperature after compressor: {round(float(T2),1)} K\")\n",
        "w_c = h2-h1\n",
        "print(f\"Work done by compressor: {round(float(w_c),1)} kJ/kg\")\n"
      ]
    },
    {
      "cell_type": "code",
      "execution_count": null,
      "id": "active-disclosure",
      "metadata": {
        "id": "active-disclosure"
      },
      "outputs": [],
      "source": [
        "h3 = mp_R134a.hs(p=p_g)[0]\n",
        "s3 = mp_R134a.ss(p=p_g)[0]\n",
        "\n",
        "h4 = h3\n",
        "q_L = h1 - h4\n",
        "print(f\"Heat added by the evaporator: {round(float(q_L),1)} kJ/kg\")\n",
        "\n",
        "beta = q_L/w_c\n",
        "print(f\"Coefficient of performance: {round(float(beta),3)}\")\n",
        "print(f\"Refrigeration capacity is: {q_L*m_dot} kW\")"
      ]
    },
    {
      "cell_type": "code",
      "execution_count": null,
      "id": "personalized-hamilton",
      "metadata": {
        "id": "personalized-hamilton"
      },
      "outputs": [],
      "source": [
        "# The system can also be used as a heat pump, \n",
        "# in which case it is desired to maintain a\n",
        "# space at a temperature T_3 above that of the ambient T_1.\n",
        "\n",
        "q_H = h2 - h3\n",
        "print(f\"Heat ejected by the condenser: {round(float(q_H),1)} kJ/kg\")\n",
        "\n",
        "beta = q_H/w_c\n",
        "print(f\"Coefficient of performance: {round(float(beta),3)}\")\n"
      ]
    }
  ],
  "metadata": {
    "kernelspec": {
      "display_name": "Python 3",
      "language": "python",
      "name": "python3"
    },
    "language_info": {
      "codemirror_mode": {
        "name": "ipython",
        "version": 3
      },
      "file_extension": ".py",
      "mimetype": "text/x-python",
      "name": "python",
      "nbconvert_exporter": "python",
      "pygments_lexer": "ipython3",
      "version": "3.8.7"
    },
    "colab": {
      "name": "performance_refrigeration_cycle.ipynb",
      "provenance": [],
      "collapsed_sections": [],
      "include_colab_link": true
    }
  },
  "nbformat": 4,
  "nbformat_minor": 5
}