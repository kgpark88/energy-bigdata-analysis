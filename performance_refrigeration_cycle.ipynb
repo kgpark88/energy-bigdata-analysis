{
  "cells": [
    {
      "cell_type": "markdown",
      "id": "tired-preview",
      "metadata": {
        "id": "tired-preview"
      },
      "source": [
        "source\n",
        "- https://www.youtube.com/watch?v=_WjbQQMMdPI\n",
        "- https://github.com/adriaan90/refrigeration-cycle/blob/master/Ideal%20refrigeration%20cycle.py"
      ]
    },
    {
      "cell_type": "code",
      "source": [
        "!pip install pyromat"
      ],
      "metadata": {
        "id": "8INK4xUIr7_U"
      },
      "id": "8INK4xUIr7_U",
      "execution_count": null,
      "outputs": []
    },
    {
      "cell_type": "code",
      "execution_count": 2,
      "id": "environmental-search",
      "metadata": {
        "id": "environmental-search"
      },
      "outputs": [],
      "source": [
        "# Consider an ideal refrigeration cycle that uses R134a as the working fluid.\n",
        "# The temperature of the refrigerant in the evaporator is −20C, and in the condenser it is 40C.\n",
        "# The refrigerant is circulated at the rate of 0.03 kg/s.\n",
        "# Determine the COP and the capacity of the plant in rate of refrigeration.\n",
        "\n",
        "import pyromat as pm\n",
        "pm.config[\"unit_pressure\"] = \"kPa\"\n",
        "pm.config[\"def_p\"] = 100"
      ]
    },
    {
      "cell_type": "code",
      "execution_count": 3,
      "id": "aerial-swedish",
      "metadata": {
        "id": "aerial-swedish"
      },
      "outputs": [],
      "source": [
        "mp_R134a = pm.get(\"mp.C2H2F4\")\n",
        "\n",
        "m_dot = 0.03 #kg/s <-- given\n",
        "T1 = -20 + 273.15 # K <--given\n",
        "T3 = 40 + 273.15 # K <--given\n",
        "\n",
        "h1 = mp_R134a.hs(T=T1)[1]\n",
        "s1 = mp_R134a.ss(T=T1)[1]\n",
        "p_g = mp_R134a.ps(T=T3)"
      ]
    },
    {
      "cell_type": "code",
      "execution_count": 4,
      "id": "blank-theorem",
      "metadata": {
        "colab": {
          "base_uri": "https://localhost:8080/"
        },
        "id": "blank-theorem",
        "outputId": "4cd6f214-832a-436f-80a8-084c452dc398"
      },
      "outputs": [
        {
          "output_type": "stream",
          "name": "stdout",
          "text": [
            "Enthalpy after evaporator: 386.6 kJ/kg\n",
            "Entropy after evaporator: 1.7413 kJ/kg\n",
            "Vapour pressure: 1017.2 kPa\n"
          ]
        }
      ],
      "source": [
        "print(f\"Enthalpy after evaporator: {round(float(h1),1)} kJ/kg\")\n",
        "print(f\"Entropy after evaporator: {round(float(s1),4)} kJ/kg\")\n",
        "print(f\"Vapour pressure: {round(float(p_g),1)} kPa\")"
      ]
    },
    {
      "cell_type": "code",
      "execution_count": 5,
      "id": "adaptive-hazard",
      "metadata": {
        "colab": {
          "base_uri": "https://localhost:8080/"
        },
        "id": "adaptive-hazard",
        "outputId": "d272a45c-3f10-4ce1-f94d-db92702a064c"
      },
      "outputs": [
        {
          "output_type": "stream",
          "name": "stdout",
          "text": [
            "Enthalpy after compressor: 429.0 kJ/kg\n",
            "Temperature after compressor: 321.8 K\n",
            "Work done by compressor: 42.5 kJ/kg\n"
          ]
        }
      ],
      "source": [
        "s2 = s1\n",
        "T2 = mp_R134a.T_s(s=s2, p=p_g)\n",
        "h2 = mp_R134a.h(T=T2, p=p_g)\n",
        "print(f\"Enthalpy after compressor: {round(float(h2),1)} kJ/kg\")\n",
        "print(f\"Temperature after compressor: {round(float(T2),1)} K\")\n",
        "w_c = h2 - h1\n",
        "print(f\"Work done by compressor: {round(float(w_c),1)} kJ/kg\")\n"
      ]
    },
    {
      "cell_type": "code",
      "execution_count": 6,
      "id": "detected-specific",
      "metadata": {
        "colab": {
          "base_uri": "https://localhost:8080/"
        },
        "id": "detected-specific",
        "outputId": "e263a016-88df-4a0e-fa4e-f6d160e433a4"
      },
      "outputs": [
        {
          "output_type": "stream",
          "name": "stdout",
          "text": [
            "Enthalpy after compressor: 429.0 kJ/kg\n",
            "Temperature after compressor: 321.8 K\n",
            "Work done by compressor: 42.5 kJ/kg\n"
          ]
        }
      ],
      "source": [
        "s2 = s1\n",
        "T2 = mp_R134a.T_s(s=s2, p=p_g)\n",
        "h2 = mp_R134a.h(T=T2, p=p_g)\n",
        "print(f\"Enthalpy after compressor: {round(float(h2),1)} kJ/kg\")\n",
        "print(f\"Temperature after compressor: {round(float(T2),1)} K\")\n",
        "w_c = h2-h1\n",
        "print(f\"Work done by compressor: {round(float(w_c),1)} kJ/kg\")\n"
      ]
    },
    {
      "cell_type": "code",
      "execution_count": 7,
      "id": "active-disclosure",
      "metadata": {
        "colab": {
          "base_uri": "https://localhost:8080/"
        },
        "id": "active-disclosure",
        "outputId": "91209ded-fa3a-43dd-8344-6c2de53bf1dd"
      },
      "outputs": [
        {
          "output_type": "stream",
          "name": "stdout",
          "text": [
            "Heat added by the evaporator: 130.1 kJ/kg\n",
            "Coefficient of performance: 3.063\n",
            "Refrigeration capacity is: [3.90431487] kW\n"
          ]
        }
      ],
      "source": [
        "h3 = mp_R134a.hs(p=p_g)[0]\n",
        "s3 = mp_R134a.ss(p=p_g)[0]\n",
        "\n",
        "h4 = h3\n",
        "q_L = h1 - h4\n",
        "print(f\"Heat added by the evaporator: {round(float(q_L),1)} kJ/kg\")\n",
        "\n",
        "beta = q_L/w_c\n",
        "print(f\"Coefficient of performance: {round(float(beta),3)}\")\n",
        "print(f\"Refrigeration capacity is: {q_L*m_dot} kW\")"
      ]
    },
    {
      "cell_type": "code",
      "execution_count": 8,
      "id": "personalized-hamilton",
      "metadata": {
        "colab": {
          "base_uri": "https://localhost:8080/"
        },
        "id": "personalized-hamilton",
        "outputId": "1ae0af7b-ce2c-4269-b0f2-96e2a3f631f5"
      },
      "outputs": [
        {
          "output_type": "stream",
          "name": "stdout",
          "text": [
            "Heat ejected by the condenser: 172.6 kJ/kg\n",
            "Coefficient of performance: 4.063\n"
          ]
        }
      ],
      "source": [
        "# The system can also be used as a heat pump, \n",
        "# in which case it is desired to maintain a\n",
        "# space at a temperature T_3 above that of the ambient T_1.\n",
        "\n",
        "q_H = h2 - h3\n",
        "print(f\"Heat ejected by the condenser: {round(float(q_H),1)} kJ/kg\")\n",
        "\n",
        "beta = q_H/w_c\n",
        "print(f\"Coefficient of performance: {round(float(beta),3)}\")\n"
      ]
    }
  ],
  "metadata": {
    "kernelspec": {
      "display_name": "Python 3",
      "language": "python",
      "name": "python3"
    },
    "language_info": {
      "codemirror_mode": {
        "name": "ipython",
        "version": 3
      },
      "file_extension": ".py",
      "mimetype": "text/x-python",
      "name": "python",
      "nbconvert_exporter": "python",
      "pygments_lexer": "ipython3",
      "version": "3.8.7"
    },
    "colab": {
      "name": "performance_refrigeration_cycle.ipynb",
      "provenance": [],
      "collapsed_sections": []
    }
  },
  "nbformat": 4,
  "nbformat_minor": 5
}