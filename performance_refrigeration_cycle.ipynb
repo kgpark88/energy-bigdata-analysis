{
  "cells": [
    {
      "cell_type": "markdown",
      "metadata": {
        "id": "view-in-github",
        "colab_type": "text"
      },
      "source": [
        "<a href=\"https://colab.research.google.com/github/kgpark88/energy-bigdata-analysis/blob/main/performance_refrigeration_cycle.ipynb\" target=\"_parent\"><img src=\"https://colab.research.google.com/assets/colab-badge.svg\" alt=\"Open In Colab\"/></a>"
      ]
    },
    {
      "cell_type": "markdown",
      "id": "tired-preview",
      "metadata": {
        "id": "tired-preview"
      },
      "source": [
        "source\n",
        "- https://www.youtube.com/watch?v=_WjbQQMMdPI\n",
        "- https://github.com/adriaan90/refrigeration-cycle/blob/master/Ideal%20refrigeration%20cycle.py"
      ]
    },
    {
      "cell_type": "code",
      "source": [
        "!pip install pyromat"
      ],
      "metadata": {
        "id": "8INK4xUIr7_U",
        "outputId": "d422a24c-1b45-451a-ce92-fe2db204cec2",
        "colab": {
          "base_uri": "https://localhost:8080/"
        }
      },
      "id": "8INK4xUIr7_U",
      "execution_count": 1,
      "outputs": [
        {
          "output_type": "stream",
          "name": "stdout",
          "text": [
            "Collecting pyromat\n",
            "  Downloading PYroMat-2.1.10.tar.gz (630 kB)\n",
            "\u001b[?25l\r\u001b[K     |▌                               | 10 kB 16.8 MB/s eta 0:00:01\r\u001b[K     |█                               | 20 kB 20.9 MB/s eta 0:00:01\r\u001b[K     |█▋                              | 30 kB 25.6 MB/s eta 0:00:01\r\u001b[K     |██                              | 40 kB 28.5 MB/s eta 0:00:01\r\u001b[K     |██▋                             | 51 kB 30.9 MB/s eta 0:00:01\r\u001b[K     |███▏                            | 61 kB 34.0 MB/s eta 0:00:01\r\u001b[K     |███▋                            | 71 kB 34.8 MB/s eta 0:00:01\r\u001b[K     |████▏                           | 81 kB 34.8 MB/s eta 0:00:01\r\u001b[K     |████▊                           | 92 kB 36.7 MB/s eta 0:00:01\r\u001b[K     |█████▏                          | 102 kB 25.0 MB/s eta 0:00:01\r\u001b[K     |█████▊                          | 112 kB 25.0 MB/s eta 0:00:01\r\u001b[K     |██████▎                         | 122 kB 25.0 MB/s eta 0:00:01\r\u001b[K     |██████▊                         | 133 kB 25.0 MB/s eta 0:00:01\r\u001b[K     |███████▎                        | 143 kB 25.0 MB/s eta 0:00:01\r\u001b[K     |███████▉                        | 153 kB 25.0 MB/s eta 0:00:01\r\u001b[K     |████████▎                       | 163 kB 25.0 MB/s eta 0:00:01\r\u001b[K     |████████▉                       | 174 kB 25.0 MB/s eta 0:00:01\r\u001b[K     |█████████▍                      | 184 kB 25.0 MB/s eta 0:00:01\r\u001b[K     |█████████▉                      | 194 kB 25.0 MB/s eta 0:00:01\r\u001b[K     |██████████▍                     | 204 kB 25.0 MB/s eta 0:00:01\r\u001b[K     |███████████                     | 215 kB 25.0 MB/s eta 0:00:01\r\u001b[K     |███████████▍                    | 225 kB 25.0 MB/s eta 0:00:01\r\u001b[K     |████████████                    | 235 kB 25.0 MB/s eta 0:00:01\r\u001b[K     |████████████▌                   | 245 kB 25.0 MB/s eta 0:00:01\r\u001b[K     |█████████████                   | 256 kB 25.0 MB/s eta 0:00:01\r\u001b[K     |█████████████▌                  | 266 kB 25.0 MB/s eta 0:00:01\r\u001b[K     |██████████████                  | 276 kB 25.0 MB/s eta 0:00:01\r\u001b[K     |██████████████▋                 | 286 kB 25.0 MB/s eta 0:00:01\r\u001b[K     |███████████████                 | 296 kB 25.0 MB/s eta 0:00:01\r\u001b[K     |███████████████▋                | 307 kB 25.0 MB/s eta 0:00:01\r\u001b[K     |████████████████▏               | 317 kB 25.0 MB/s eta 0:00:01\r\u001b[K     |████████████████▋               | 327 kB 25.0 MB/s eta 0:00:01\r\u001b[K     |█████████████████▏              | 337 kB 25.0 MB/s eta 0:00:01\r\u001b[K     |█████████████████▊              | 348 kB 25.0 MB/s eta 0:00:01\r\u001b[K     |██████████████████▏             | 358 kB 25.0 MB/s eta 0:00:01\r\u001b[K     |██████████████████▊             | 368 kB 25.0 MB/s eta 0:00:01\r\u001b[K     |███████████████████▎            | 378 kB 25.0 MB/s eta 0:00:01\r\u001b[K     |███████████████████▊            | 389 kB 25.0 MB/s eta 0:00:01\r\u001b[K     |████████████████████▎           | 399 kB 25.0 MB/s eta 0:00:01\r\u001b[K     |████████████████████▉           | 409 kB 25.0 MB/s eta 0:00:01\r\u001b[K     |█████████████████████▎          | 419 kB 25.0 MB/s eta 0:00:01\r\u001b[K     |█████████████████████▉          | 430 kB 25.0 MB/s eta 0:00:01\r\u001b[K     |██████████████████████▍         | 440 kB 25.0 MB/s eta 0:00:01\r\u001b[K     |██████████████████████▉         | 450 kB 25.0 MB/s eta 0:00:01\r\u001b[K     |███████████████████████▍        | 460 kB 25.0 MB/s eta 0:00:01\r\u001b[K     |████████████████████████        | 471 kB 25.0 MB/s eta 0:00:01\r\u001b[K     |████████████████████████▍       | 481 kB 25.0 MB/s eta 0:00:01\r\u001b[K     |█████████████████████████       | 491 kB 25.0 MB/s eta 0:00:01\r\u001b[K     |█████████████████████████▌      | 501 kB 25.0 MB/s eta 0:00:01\r\u001b[K     |██████████████████████████      | 512 kB 25.0 MB/s eta 0:00:01\r\u001b[K     |██████████████████████████▌     | 522 kB 25.0 MB/s eta 0:00:01\r\u001b[K     |███████████████████████████     | 532 kB 25.0 MB/s eta 0:00:01\r\u001b[K     |███████████████████████████▋    | 542 kB 25.0 MB/s eta 0:00:01\r\u001b[K     |████████████████████████████    | 552 kB 25.0 MB/s eta 0:00:01\r\u001b[K     |████████████████████████████▋   | 563 kB 25.0 MB/s eta 0:00:01\r\u001b[K     |█████████████████████████████▏  | 573 kB 25.0 MB/s eta 0:00:01\r\u001b[K     |█████████████████████████████▋  | 583 kB 25.0 MB/s eta 0:00:01\r\u001b[K     |██████████████████████████████▏ | 593 kB 25.0 MB/s eta 0:00:01\r\u001b[K     |██████████████████████████████▊ | 604 kB 25.0 MB/s eta 0:00:01\r\u001b[K     |███████████████████████████████▏| 614 kB 25.0 MB/s eta 0:00:01\r\u001b[K     |███████████████████████████████▊| 624 kB 25.0 MB/s eta 0:00:01\r\u001b[K     |████████████████████████████████| 630 kB 25.0 MB/s \n",
            "\u001b[?25hRequirement already satisfied: numpy>=1.7 in /usr/local/lib/python3.7/dist-packages (from pyromat) (1.21.6)\n",
            "Building wheels for collected packages: pyromat\n",
            "  Building wheel for pyromat (setup.py) ... \u001b[?25l\u001b[?25hdone\n",
            "  Created wheel for pyromat: filename=PYroMat-2.1.10-py3-none-any.whl size=1277399 sha256=8b8909e517b0e5e79ff36cda49c239fc959faaca9a944deebdad3117b1258349\n",
            "  Stored in directory: /root/.cache/pip/wheels/90/8c/97/4a3e8a71ec5c154f013db233c1d2fc8ed08bc9721fbc9a51a4\n",
            "Successfully built pyromat\n",
            "Installing collected packages: pyromat\n",
            "Successfully installed pyromat-2.1.10\n"
          ]
        }
      ]
    },
    {
      "cell_type": "code",
      "execution_count": 2,
      "id": "environmental-search",
      "metadata": {
        "id": "environmental-search"
      },
      "outputs": [],
      "source": [
        "# Consider an ideal refrigeration cycle that uses R134a as the working fluid.\n",
        "# The temperature of the refrigerant in the evaporator is −20C, and in the condenser it is 40C.\n",
        "# The refrigerant is circulated at the rate of 0.03 kg/s.\n",
        "# Determine the COP and the capacity of the plant in rate of refrigeration.\n",
        "\n",
        "import pyromat as pm\n",
        "pm.config[\"unit_pressure\"] = \"kPa\"\n",
        "pm.config[\"def_p\"] = 100"
      ]
    },
    {
      "cell_type": "code",
      "source": [
        "help(mp_R134a)"
      ],
      "metadata": {
        "id": "SWaEQfLc8ReF"
      },
      "id": "SWaEQfLc8ReF",
      "execution_count": null,
      "outputs": []
    },
    {
      "cell_type": "code",
      "execution_count": 3,
      "id": "aerial-swedish",
      "metadata": {
        "id": "aerial-swedish"
      },
      "outputs": [],
      "source": [
        "mp_R134a = pm.get(\"mp.C2H2F4\")\n",
        "\n",
        "m_dot = 0.03 #kg/s <-- given\n",
        "T1 = -20 + 273.15 # K <--given\n",
        "T3 = 40 + 273.15 # K <--given\n",
        "\n",
        "h1 = mp_R134a.hs(T=T1)[1]\n",
        "s1 = mp_R134a.ss(T=T1)[1]\n",
        "p_g = mp_R134a.ps(T=T3)"
      ]
    },
    {
      "cell_type": "code",
      "execution_count": 6,
      "id": "blank-theorem",
      "metadata": {
        "id": "blank-theorem",
        "colab": {
          "base_uri": "https://localhost:8080/"
        },
        "outputId": "05344a09-2b63-4b8f-d684-1ef334eee222"
      },
      "outputs": [
        {
          "output_type": "stream",
          "name": "stdout",
          "text": [
            "Enthalpy after evaporator: 386.6 kJ/kg\n",
            "Entropy after evaporator: 1.7413 kJ/kg\n",
            "Vapour pressure: 1017.2 kPa\n"
          ]
        }
      ],
      "source": [
        "print(f\"Enthalpy after evaporator: {round(float(h1),1)} kJ/kg\")\n",
        "print(f\"Entropy after evaporator: {round(float(s1),4)} kJ/kg\")\n",
        "print(f\"Vapour pressure: {round(float(p_g),1)} kPa\")"
      ]
    },
    {
      "cell_type": "code",
      "execution_count": 8,
      "id": "adaptive-hazard",
      "metadata": {
        "id": "adaptive-hazard",
        "colab": {
          "base_uri": "https://localhost:8080/"
        },
        "outputId": "889fb8c7-a68c-4a5c-806f-0eb305ffd481"
      },
      "outputs": [
        {
          "output_type": "stream",
          "name": "stdout",
          "text": [
            "Enthalpy after compressor: 429.0 kJ/kg\n",
            "Temperature after compressor: 321.8 K\n",
            "Work done by compressor: 42.5 kJ/kg\n"
          ]
        }
      ],
      "source": [
        "s2 = s1\n",
        "T2 = mp_R134a.T_s(s=s2, p=p_g)\n",
        "h2 = mp_R134a.h(T=T2, p=p_g)\n",
        "print(f\"Enthalpy after compressor: {round(float(h2),1)} kJ/kg\")\n",
        "print(f\"Temperature after compressor: {round(float(T2),1)} K\")\n",
        "\n",
        "w_c = h2 - h1\n",
        "print(f\"Work done by compressor: {round(float(w_c),1)} kJ/kg\")\n"
      ]
    },
    {
      "cell_type": "code",
      "execution_count": 9,
      "id": "active-disclosure",
      "metadata": {
        "id": "active-disclosure",
        "colab": {
          "base_uri": "https://localhost:8080/"
        },
        "outputId": "45061840-4691-48b6-8489-4f9815eac170"
      },
      "outputs": [
        {
          "output_type": "stream",
          "name": "stdout",
          "text": [
            "Heat added by the evaporator: 130.1 kJ/kg\n",
            "Coefficient of performance: 3.063\n",
            "Refrigeration capacity is: [3.90431487] kW\n"
          ]
        }
      ],
      "source": [
        "h3 = mp_R134a.hs(p=p_g)[0]\n",
        "s3 = mp_R134a.ss(p=p_g)[0]\n",
        "\n",
        "h4 = h3\n",
        "\n",
        "q_L = h1 - h4\n",
        "print(f\"Heat added by the evaporator: {round(float(q_L),1)} kJ/kg\")\n",
        "\n",
        "beta = q_L/w_c\n",
        "print(f\"Coefficient of performance: {round(float(beta),3)}\")\n",
        "print(f\"Refrigeration capacity is: {q_L*m_dot} kW\")"
      ]
    },
    {
      "cell_type": "code",
      "execution_count": 10,
      "id": "personalized-hamilton",
      "metadata": {
        "id": "personalized-hamilton",
        "colab": {
          "base_uri": "https://localhost:8080/"
        },
        "outputId": "d0b6c4cf-8448-4ce4-f159-d90d56f8a181"
      },
      "outputs": [
        {
          "output_type": "stream",
          "name": "stdout",
          "text": [
            "Heat ejected by the condenser: 172.6 kJ/kg\n",
            "Coefficient of performance: 4.063\n"
          ]
        }
      ],
      "source": [
        "# The system can also be used as a heat pump, \n",
        "# in which case it is desired to maintain a\n",
        "# space at a temperature T_3 above that of the ambient T_1.\n",
        "\n",
        "q_H = h2 - h3\n",
        "print(f\"Heat ejected by the condenser: {round(float(q_H),1)} kJ/kg\")\n",
        "\n",
        "beta = q_H/w_c\n",
        "print(f\"Coefficient of performance: {round(float(beta),3)}\")\n"
      ]
    },
    {
      "cell_type": "code",
      "source": [
        ""
      ],
      "metadata": {
        "id": "u17csyHG9FNw"
      },
      "id": "u17csyHG9FNw",
      "execution_count": null,
      "outputs": []
    }
  ],
  "metadata": {
    "kernelspec": {
      "display_name": "Python 3",
      "language": "python",
      "name": "python3"
    },
    "language_info": {
      "codemirror_mode": {
        "name": "ipython",
        "version": 3
      },
      "file_extension": ".py",
      "mimetype": "text/x-python",
      "name": "python",
      "nbconvert_exporter": "python",
      "pygments_lexer": "ipython3",
      "version": "3.8.7"
    },
    "colab": {
      "name": "performance_refrigeration_cycle.ipynb",
      "provenance": [],
      "collapsed_sections": [],
      "include_colab_link": true
    }
  },
  "nbformat": 4,
  "nbformat_minor": 5
}