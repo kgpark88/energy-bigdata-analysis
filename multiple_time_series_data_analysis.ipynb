{
  "metadata": {
    "kernelspec": {
      "language": "python",
      "display_name": "Python 3",
      "name": "python3"
    },
    "language_info": {
      "pygments_lexer": "ipython3",
      "nbconvert_exporter": "python",
      "version": "3.6.4",
      "file_extension": ".py",
      "codemirror_mode": {
        "name": "ipython",
        "version": 3
      },
      "name": "python",
      "mimetype": "text/x-python"
    },
    "colab": {
      "name": "multiple_time_series_data_analysis.ipynb",
      "provenance": [],
      "collapsed_sections": [],
      "toc_visible": true
    }
  },
  "nbformat_minor": 0,
  "nbformat": 4,
  "cells": [
    {
      "cell_type": "markdown",
      "metadata": {
        "id": "view-in-github"
      },
      "source": [
        "<a href=\"https://colab.research.google.com/github/kgpark88/energy-bigdata-analysis/blob/main/energy_data_exploration.ipynb\" target=\"_parent\"><img src=\"https://colab.research.google.com/assets/colab-badge.svg\" alt=\"Open In Colab\"/></a>"
      ]
    },
    {
      "cell_type": "markdown",
      "source": [
        "# 시계열 데이터 분석\n",
        "- Source : https://towardsdatascience.com/8-visualizations-with-python-to-handle-multiple-time-series-data-19b5b2e66dd0\n",
        "- 시계열 그래프는 긴 시퀀스로 데이터를 표현하는 데 유용한 그래프입니다. \n",
        "- 타임라인을 나타내는 X축과 값을 나타내는 Y축으로 구성되어 있습니다. \n",
        "- 시계열 그래프는 추세 및 계절 효과와 같은 통찰력 정보를 추출하는 데 도움이 될 수 있습니다."
      ],
      "metadata": {
        "id": "ULD9LsiC5Uy8"
      }
    },
    {
      "cell_type": "markdown",
      "source": [
        "### kaggle 패키지 설치"
      ],
      "metadata": {
        "id": "ec1z112Z8FVu"
      }
    },
    {
      "cell_type": "code",
      "source": [
        "!pip install kaggle"
      ],
      "metadata": {
        "id": "1tBpZJ4-8D5L"
      },
      "execution_count": null,
      "outputs": []
    },
    {
      "cell_type": "markdown",
      "source": [
        "### kaggle API Key 업로드\n"
      ],
      "metadata": {
        "id": "XdYZfRPj8DyV"
      }
    },
    {
      "cell_type": "code",
      "source": [
        "from google.colab import files\n",
        "\n",
        "files.upload()\n",
        "\n",
        "!mkdir ~/.kaggle\n",
        "!cp kaggle.json ~/.kaggle/\n",
        "!chmod 600 ~/.kaggle/kaggle.json"
      ],
      "metadata": {
        "id": "D068duDz8Drg"
      },
      "execution_count": null,
      "outputs": []
    },
    {
      "cell_type": "markdown",
      "source": [
        "### 라이브러리 임포트"
      ],
      "metadata": {
        "id": "VyHQXvUgK-KF"
      }
    },
    {
      "cell_type": "code",
      "source": [
        "import numpy as np\n",
        "import pandas as pd\n",
        "import matplotlib.pyplot as plt\n",
        "import seaborn as sns\n",
        "import matplotlib.ticker as ticker"
      ],
      "metadata": {
        "id": "IZp8QhJGK8Z9"
      },
      "execution_count": null,
      "outputs": []
    },
    {
      "cell_type": "markdown",
      "source": [
        "### 데이터셋 다운로드\n",
        "- https://www.kaggle.com/datasets/bappekim/air-pollution-in-seoul\n",
        "- 2017년부터 2019년까지의 서울시 25개 구 대기오염 정보(SO2, NO2, CO, O3, PM10, PM2.5)\n",
        "- PM2.5 : 직경이 2.5μm보다 작은 미세 입자"
      ],
      "metadata": {
        "id": "vnn5FY4A8Dhi"
      }
    },
    {
      "cell_type": "code",
      "source": [
        "!kaggle datasets download -d bappekim/air-pollution-in-seoul"
      ],
      "metadata": {
        "id": "1uGzgOwC8DWl"
      },
      "execution_count": null,
      "outputs": []
    },
    {
      "cell_type": "code",
      "source": [
        "!ls -lt"
      ],
      "metadata": {
        "id": "lBJKAJ_-yIU6"
      },
      "execution_count": null,
      "outputs": []
    },
    {
      "cell_type": "code",
      "source": [
        "!unzip air-pollution-in-seoul.zip"
      ],
      "metadata": {
        "id": "3QsSCFj28mrV"
      },
      "execution_count": null,
      "outputs": []
    },
    {
      "cell_type": "code",
      "source": [
        "!ls -lt AirPollutionSeoul"
      ],
      "metadata": {
        "id": "S-DwmeUDyTKW"
      },
      "execution_count": null,
      "outputs": []
    },
    {
      "cell_type": "markdown",
      "source": [
        "Pandas로 Measurement_summary.csv 데이터를 읽기"
      ],
      "metadata": {
        "id": "PkH_rSXdzIRQ"
      }
    },
    {
      "cell_type": "code",
      "source": [
        "df = pd.read_csv('./AirPollutionSeoul/Measurement_summary.csv')\n",
        "df.head()"
      ],
      "metadata": {
        "_uuid": "8f2839f25d086af736a60e9eeb907d3b93b6e0e5",
        "_cell_guid": "b1076dfc-b9ad-4769-8c92-a6c4dae69d19",
        "_kg_hide-input": true,
        "trusted": true,
        "id": "3PO9ctlt4rZc"
      },
      "execution_count": null,
      "outputs": []
    },
    {
      "cell_type": "code",
      "source": [
        "df.info()"
      ],
      "metadata": {
        "id": "b8Udb_CzzV43"
      },
      "execution_count": null,
      "outputs": []
    },
    {
      "cell_type": "markdown",
      "source": [
        "### 데이터 전처리"
      ],
      "metadata": {
        "id": "uCCVwfpvzyYq"
      }
    },
    {
      "cell_type": "markdown",
      "source": [
        "District 컬럼 생성"
      ],
      "metadata": {
        "id": "3A-VjObQznws"
      }
    },
    {
      "cell_type": "code",
      "source": [
        "df['Station code'].nunique()"
      ],
      "metadata": {
        "id": "IHwYeWECzfVB"
      },
      "execution_count": null,
      "outputs": []
    },
    {
      "cell_type": "code",
      "source": [
        "list_scode = list(set(df['Station code']))\n",
        "print(list_scode)"
      ],
      "metadata": {
        "id": "lSJpykTszioH"
      },
      "execution_count": null,
      "outputs": []
    },
    {
      "cell_type": "code",
      "source": [
        "# Address : 19, Jong-ro 35ga-gil, Jongno-gu, Seoul, Republic of Korea\n",
        "list_add = list(df['Address'])\n",
        "District = [i.split(', ')[2] for i in list_add]\n",
        "df['District'] = District"
      ],
      "metadata": {
        "_uuid": "d629ff2d2480ee46fbb7e2d37f6b5fab8052498a",
        "_cell_guid": "79c7e3d0-c299-4dcb-8224-4455121ee9b0",
        "_kg_hide-input": true,
        "trusted": true,
        "id": "736y3VFE4rZd"
      },
      "execution_count": null,
      "outputs": []
    },
    {
      "cell_type": "code",
      "source": [
        "list_district = list(set(District))"
      ],
      "metadata": {
        "id": "7rlBu2Agz7_D"
      },
      "execution_count": null,
      "outputs": []
    },
    {
      "cell_type": "markdown",
      "source": [
        "일부 그래프에 적용하기 위해 YM(Year-Month), Year, Month 컬럼을 생성열을 생성  \n",
        "쉽게 시각화할 수 있도록 평균 월별 DataFrame으로 그룹화"
      ],
      "metadata": {
        "id": "HYR9ITLE4rZe"
      }
    },
    {
      "cell_type": "code",
      "source": [
        "# Measurement date : 2017-01-01 00:00\n",
        "list_YM = [i.split(\" \")[0][:-3] for i in  list(df['Measurement date'])]"
      ],
      "metadata": {
        "id": "Cft6D_Q30mNh"
      },
      "execution_count": null,
      "outputs": []
    },
    {
      "cell_type": "code",
      "source": [
        "list_YM = [i.split(\" \")[0][:-3] for i in  list(df['Measurement date'])]\n",
        "list_Year = [i.split(\" \")[0][0:4] for i in  list(df['Measurement date'])]\n",
        "list_Month = [i.split(\" \")[0][5:7] for i in  list(df['Measurement date'])]\n",
        "\n",
        "df['YM'] = list_YM\n",
        "df['Year'] = list_Year\n",
        "df['Month'] = list_Month\n",
        "\n",
        "#create a monthly dataframe\n",
        "df_monthly = df.groupby(['Station code', 'District', 'YM', 'Year', 'Month']).mean()\n",
        "df_monthly = df_monthly[['SO2', 'NO2', 'O3', 'CO', 'PM10', 'PM2.5']].reset_index()\n",
        "\n",
        "df_monthly.head()"
      ],
      "metadata": {
        "_kg_hide-input": true,
        "trusted": true,
        "id": "39kFLEKe4rZe"
      },
      "execution_count": null,
      "outputs": []
    },
    {
      "cell_type": "markdown",
      "source": [
        "###  시계열 데이터 플로팅의 문제점 : Overlapping Plots"
      ],
      "metadata": {
        "id": "eEV8Bzp62WKu"
      }
    },
    {
      "cell_type": "code",
      "source": [
        "sns.set_style('darkgrid')\n",
        "sns.set(rc={'figure.figsize':(14,8)})\n",
        "\n",
        "ax = sns.lineplot(data=df_monthly, x ='YM', y = 'PM2.5',\n",
        "                  hue='District', palette='viridis',\n",
        "                  legend='full', lw=3)\n",
        "\n",
        "ax.xaxis.set_major_locator(ticker.MultipleLocator(4))\n",
        "plt.legend(bbox_to_anchor=(1, 1))\n",
        "plt.ylabel('PM2.5 (µg/m3)')\n",
        "plt.xlabel('Year-Month')\n",
        "plt.show()"
      ],
      "metadata": {
        "_kg_hide-input": true,
        "trusted": true,
        "id": "IWpQXfpP4rZe"
      },
      "execution_count": null,
      "outputs": []
    },
    {
      "cell_type": "markdown",
      "source": [
        "- 겹치는 Graph Line은 읽기 어렵습니다. \n",
        "- 2017년에는 많은 관측소의 PM2.5 양이 같은 방향으로 갔음을 알 수 있습니다. \n",
        "- 하지만 2018년과 2019년에는  Graph Line이 임의적으로 보이고 구분이 어렵습니다."
      ],
      "metadata": {
        "id": "5SvSvx_p3EWy"
      }
    },
    {
      "cell_type": "markdown",
      "source": [
        "### 시각화 아이디어\n"
      ],
      "metadata": {
        "id": "pGlusjG44rZf"
      }
    },
    {
      "cell_type": "markdown",
      "source": [
        "#### 1. Interactive Chart\n",
        "- Plotly는 Interactive Chart를 만들기 위한 그래프 라이브러리입니다.  \n",
        "- Interactive Chart는 겹치는 선이 있는 영역을 확대하는 데 도움이 됩니다."
      ],
      "metadata": {
        "id": "HghMzEUe_0Oq"
      }
    },
    {
      "cell_type": "code",
      "source": [
        "import plotly.graph_objects as go\n",
        "\n",
        "#extract color palette, the palette can be changed\n",
        "pal = list(sns.color_palette(palette='viridis', n_colors=len(list_scode)).as_hex())\n",
        "\n",
        "fig = go.Figure()\n",
        "for d,p in zip(list_district, pal):\n",
        "    fig.add_trace(go.Scatter(x = df_monthly[df_monthly['District']==d]['YM'],\n",
        "                             y = df_monthly[df_monthly['District']==d]['PM2.5'],\n",
        "                             name = d,\n",
        "                             line_color = p, \n",
        "                             fill=None))   #tozeroy \n",
        "\n",
        "fig.show()"
      ],
      "metadata": {
        "_kg_hide-input": true,
        "trusted": true,
        "id": "_oeuMVBc4rZf"
      },
      "execution_count": null,
      "outputs": []
    },
    {
      "cell_type": "markdown",
      "source": [
        " Interactive Area Chart"
      ],
      "metadata": {
        "id": "t-9MnGzy5Het"
      }
    },
    {
      "cell_type": "code",
      "source": [
        "fig = go.Figure()\n",
        "for d,p in zip(list_district, pal):\n",
        "    fig.add_trace(go.Scatter(x = df_monthly[df_monthly['District']==d]['YM'],\n",
        "                             y = df_monthly[df_monthly['District']==d]['PM2.5'],\n",
        "                             name = d,\n",
        "                             line_color = p, \n",
        "                             fill='tozeroy'))   #tozeroy \n",
        "\n",
        "fig.show()"
      ],
      "metadata": {
        "_kg_hide-input": true,
        "trusted": true,
        "id": "RS4RARcd4rZg"
      },
      "execution_count": null,
      "outputs": []
    },
    {
      "cell_type": "markdown",
      "source": [
        "#### 2. Small Multiple Time Series와 하나씩 비교.\n",
        "- Seaborn 라이브러리를 사용하면 작은 다중 시계열을 수행할 수 있습니다. \n",
        "- 이 플롯의 이면에 있는 아이디어는 각 라인을 다른 라인의 실루엣과 비교하면서 하나씩 플롯하는 것입니다."
      ],
      "metadata": {
        "id": "mfgLI2a95heR"
      }
    },
    {
      "cell_type": "code",
      "source": [
        "g = sns.relplot(data = df_monthly, x = \"YM\", y = \"PM2.5\",\n",
        "                col = \"District\", hue = \"District\",\n",
        "                kind = \"line\", palette = \"Spectral\",   \n",
        "                linewidth = 4, zorder = 5,\n",
        "                col_wrap = 5, height = 3, aspect = 1.5, legend = False\n",
        "               )\n",
        "\n",
        "#add text and silhouettes\n",
        "for time, ax in g.axes_dict.items():\n",
        "    ax.text(.1, .85, time,\n",
        "            transform = ax.transAxes, fontweight=\"bold\"\n",
        "           )\n",
        "    sns.lineplot(data = df_monthly, x = \"YM\", y = \"PM2.5\", units=\"District\",\n",
        "                 estimator = None, color= \".7\", linewidth=1, ax=ax\n",
        "                )\n",
        "\n",
        "ax.set_xticks('')\n",
        "g.set_titles(\"\")\n",
        "g.set_axis_labels(\"\", \"PM2.5\")\n",
        "g.tight_layout()"
      ],
      "metadata": {
        "_kg_hide-input": true,
        "trusted": true,
        "id": "OrgVRZ_o4rZg"
      },
      "execution_count": null,
      "outputs": []
    },
    {
      "cell_type": "markdown",
      "source": [
        "#### 3. Facet Grid로 관점(point of view) 변경\n",
        "- Seaborn의 FacetGrid를 사용하여 다중 플롯 그리드를 만들 수 있습니다. \n",
        "- 이 경우 '월' 및 '연도' 속성은 각각 행과 열로 설정됩니다. \n",
        "- 다른 관점에서 값은 수직으로 월간, 수평으로 연간 비교가 동시에 가능합니다."
      ],
      "metadata": {
        "id": "yKwURFfU55LM"
      }
    },
    {
      "cell_type": "code",
      "source": [
        "g = sns.FacetGrid(df_monthly, col=\"Year\", row=\"Month\", height=4.2, aspect=1.9)\n",
        "g = g.map(sns.barplot, 'District', 'PM2.5', palette='viridis', ci=None, order = list_district)\n",
        "\n",
        "g.set_xticklabels(rotation = 90)\n",
        "plt.show()"
      ],
      "metadata": {
        "_kg_hide-input": true,
        "trusted": true,
        "id": "rt-_TpfB4rZg"
      },
      "execution_count": null,
      "outputs": []
    },
    {
      "cell_type": "markdown",
      "source": [
        "#### 4. Heat Map 사용\n",
        "- 히트맵은 데이터를 색상으로 값을 표시하는 2차원 차트로 나타냅니다. \n",
        "- 시계열 데이터를 처리하기 위해 세로로 그룹을 설정하고 가로로 타임라인을 설정할 수 있습니다. \n",
        "- 색상의 차이는 그룹을 구별하는 데 도움이 됩니다."
      ],
      "metadata": {
        "id": "ralh3Dr_4rZg"
      }
    },
    {
      "cell_type": "markdown",
      "source": [
        "Pivot the DataFrame"
      ],
      "metadata": {
        "id": "7fwgN_Rs63Ef"
      }
    },
    {
      "cell_type": "code",
      "source": [
        "df_pivot = pd.pivot_table(df_monthly,\n",
        "                          values='PM2.5',\n",
        "                          index='District',\n",
        "                          columns='YM')\n",
        "df_pivot"
      ],
      "metadata": {
        "id": "-q5Ldpps62q6"
      },
      "execution_count": null,
      "outputs": []
    },
    {
      "cell_type": "code",
      "source": [
        "plt.figure(figsize = (40,19))\n",
        "plt.title('Average Monthly PM2.5 (mircrogram/m3)')\n",
        "\n",
        "sns.heatmap(df_pivot, annot=True, cmap='RdYlBu_r', fmt= '.4g',)\n",
        "plt.xlabel('Year-Month')\n",
        "plt.ylabel('District')\n",
        "plt.show()"
      ],
      "metadata": {
        "_kg_hide-input": true,
        "trusted": true,
        "id": "s8g8oOiA4rZh"
      },
      "execution_count": null,
      "outputs": []
    },
    {
      "cell_type": "markdown",
      "source": [
        "#### 5. Radar chart 각도 사용하기\n",
        "- 인터랙티브 Radar Chart를 생성하기 위해 Plotly의 산점도에 각도 축을 설정할 수 있습니다. \n",
        "- 매월은 원의 변수로 선택됩니다. 예로 2019년 25개 지역의 평균 월간 PM2.5를 비교하는 레이더 차트를 생성합니다."
      ],
      "metadata": {
        "id": "DcgL-mJR4rZh"
      }
    },
    {
      "cell_type": "code",
      "source": [
        "df_19 = df_monthly[df_monthly['Year']=='2019']"
      ],
      "metadata": {
        "_kg_hide-input": true,
        "trusted": true,
        "id": "N_KhlXDU4rZh"
      },
      "execution_count": null,
      "outputs": []
    },
    {
      "cell_type": "code",
      "source": [
        "import plotly.graph_objects as go\n",
        "\n",
        "#extract color palette, the palette name can be changed\n",
        "pal = list(sns.color_palette(palette='viridis', n_colors=len(list_scode)).as_hex())\n",
        "\n",
        "months = list(reversed([str(i) for i in list(range(1,13))])) + ['12']\n",
        "list_PM = [[list(df_19[df_19['District']==i]['PM2.5'])[int(n)-1] for n in months] for i in list_district]\n",
        "\n",
        "fig = go.Figure()\n",
        "for pm,d,c in zip(list_PM, list_district, pal):\n",
        "    fig.add_trace(go.Scatterpolar(r = pm, theta=months, fill= None,\n",
        "                                  name=str(d), marker = dict(color = c)))\n",
        "\n",
        "fig.update_layout(polar = dict(radialaxis = dict(visible = True, range=[0, 70]),\n",
        "                               angularaxis = dict(rotation=90)),\n",
        "                  showlegend=True, width=720, height=720,\n",
        "                  font = dict(size=14))\n",
        "\n",
        "fig.show()"
      ],
      "metadata": {
        "_kg_hide-input": true,
        "trusted": true,
        "id": "Y6tAMdRJ4rZi"
      },
      "execution_count": null,
      "outputs": []
    },
    {
      "cell_type": "markdown",
      "source": [
        "#### 6. Radial Plot\n",
        "- Radial Plot은 직교 좌표 대신 극좌표를 사용하는 막대 차트를 기반으로 합니다. - 이 차트 유형은 서로 멀리 떨어져 있는 범주를 비교할 때 불편하지만 주의를 끌기에 탁월한 선택입니다. 인포그래픽에서 사용할 수 있습니다.\n",
        "- 아래 예는 2019년 1월 25개 지역의 평균 PM2.5를 보여주는 방사형 플롯의 예를 보여줍니다."
      ],
      "metadata": {
        "id": "7cKgJTUU4rZi"
      }
    },
    {
      "cell_type": "code",
      "source": [
        "#set color palette, lower and max values \n",
        "pal = list(sns.color_palette(palette='CMRmap_r', n_colors=len(list_district)).as_hex())\n",
        "lowerLimit = 0\n",
        "max_v = df_19['PM2.5'].max()\n",
        "\n",
        "def radial_plot(input_df, column_name, title):\n",
        "    input_df.reset_index(inplace=True, drop=True)\n",
        "    plt.figure(figsize=(12,12))\n",
        "    ax = plt.subplot(111, polar=True)\n",
        "    plt.axis()\n",
        "    \n",
        "    heights = input_df[column_name]\n",
        "    width = 2*np.pi / len(input_df.index)\n",
        "\n",
        "    indexes = list(range(1, len(input_df.index)+1))\n",
        "    angles = [element * width for element in indexes]\n",
        "\n",
        "    bars = ax.bar(x=angles, height=heights, width=width, bottom=lowerLimit,\n",
        "                  linewidth=1, edgecolor=\"white\", color=pal)\n",
        "    \n",
        "    labelPadding = 2\n",
        "\n",
        "    for bar, angle, height, label in zip(bars, angles, heights, list_district):\n",
        "        rotation = np.rad2deg(angle)\n",
        "        alignment = \"\"\n",
        "      \n",
        "        if angle >= np.pi/2 and angle < 3*np.pi/2:\n",
        "            alignment = \"right\"\n",
        "            rotation = rotation + 180\n",
        "        else: \n",
        "            alignment = \"left\"\n",
        "\n",
        "        ax.text(x=angle, y=lowerLimit + bar.get_height() + labelPadding,\n",
        "                s=label, ha=alignment, va='center', rotation=rotation, \n",
        "                rotation_mode=\"anchor\")\n",
        "    \n",
        "        ax.set_thetagrids([], labels=[])\n",
        "        plt.title(\"Average PM2.5 // \" + title)\n",
        "    return ax"
      ],
      "metadata": {
        "id": "56kN_FGe8lwd"
      },
      "execution_count": null,
      "outputs": []
    },
    {
      "cell_type": "code",
      "source": [
        "keep_sname = []\n",
        "order = range(len(listdf_monthly19))\n",
        "\n",
        "for i in order:\n",
        "    radial_plot(listdf_monthly19[i], 'PM2.5', list_YM19[i])\n",
        "    keep_sname.append('rad_bar_' + str(i) + '.png')\n",
        "    plt.savefig('rad_bar_' + str(i) + '.png')\n",
        "    plt.show()"
      ],
      "metadata": {
        "_kg_hide-input": true,
        "trusted": true,
        "id": "vx19j_Di4rZi"
      },
      "execution_count": null,
      "outputs": []
    },
    {
      "cell_type": "markdown",
      "source": [
        "#### 8. Ridge plot : 중첩 밀도 표시\n",
        "- 릿지 플롯은 축을 타임라인으로 설정하여 여러 시계열 데이터와 함께 사용할 수 있습니다.\n",
        "- 다음 예는 2019년 한 지역의 PM2.5 밀도가 있는 Ridge 플롯의 예를 보여줍니다."
      ],
      "metadata": {
        "id": "iS37lgKuABBT"
      }
    },
    {
      "cell_type": "code",
      "source": [
        "#change color scale for 12 months\n",
        "pal = list(sns.color_palette(palette='viridis', n_colors=len(list_month19)).as_hex())\n",
        "\n",
        "def kde_ridge(df_input, col_name, time, title):\n",
        "    sns.set_theme(style=\"white\", rc={\"axes.facecolor\": (0, 0, 0, 0)})\n",
        "\n",
        "    # Initialize the FacetGrid object\n",
        "    g = sns.FacetGrid(df_input, row= time, hue=time, aspect=15, height=0.65, palette=pal)\n",
        "\n",
        "    # Draw the densities in a few steps\n",
        "    g.map(sns.kdeplot, col_name,\n",
        "          bw_adjust=.5, clip_on=False,fill=True, alpha=1, linewidth=1.5)\n",
        "\n",
        "    g.map(sns.kdeplot, col_name, clip_on=False, color=\"w\", lw=2, bw_adjust=.5)\n",
        "\n",
        "    # passing color=None to refline() uses the hue mapping\n",
        "    g.map(plt.axhline, y=0, linewidth=2, linestyle=\"-\", color=None, clip_on=False)\n",
        "    \n",
        "    def label(x, color, label):\n",
        "        ax = plt.gca()\n",
        "        ax.text(0, .2, label, fontweight=\"bold\", color=color,ha=\"left\", va=\"center\", transform=ax.transAxes)\n",
        "    \n",
        "    g.map(label, time)\n",
        "\n",
        "    # Set the subplots to overlap\n",
        "    g.fig.subplots_adjust(hspace=-.25)\n",
        "\n",
        "    # Remove axes details that don't play well with overlap\n",
        "    g.set_titles(\"\")\n",
        "    g.set(yticks=[], ylabel=\"\", xlabel= title + ' PM2.5')\n",
        "    g.despine(bottom=True, left=True)\n",
        "\n",
        "    return g"
      ],
      "metadata": {
        "id": "LOnJRoS7Uq3B"
      },
      "execution_count": null,
      "outputs": []
    },
    {
      "cell_type": "code",
      "source": [
        "#use hourly data\n",
        "df_hour19 = df[df['Year']=='2019'] \n",
        "df_hd19 = [df_hour19[df_hour19['District']==i] for i in list_district]\n",
        "\n",
        "keep_sname = []\n",
        "order = range(len(list_district))\n",
        "for i in order:\n",
        "    kde_ridge(df_hd19[i], 'PM2.5', 'YM', list_district[i])\n",
        "    keep_sname.append('kde_' + str(i) + '.png')\n",
        "    plt.savefig('kde_' + str(i) + '.png')\n",
        "    plt.show()"
      ],
      "metadata": {
        "id": "pc5uso86AQ3D"
      },
      "execution_count": null,
      "outputs": []
    },
    {
      "cell_type": "code",
      "source": [
        ""
      ],
      "metadata": {
        "id": "1Na0xCalAgy6"
      },
      "execution_count": null,
      "outputs": []
    }
  ]
}